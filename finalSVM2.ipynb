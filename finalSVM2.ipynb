{
  "cells": [
    {
      "cell_type": "markdown",
      "metadata": {
        "id": "8FaoW2-BXzTR"
      },
      "source": [
        "# Support Vector Machine with SDAE"
      ]
    },
    {
      "cell_type": "code",
      "execution_count": 1,
      "metadata": {
        "colab": {
          "base_uri": "https://localhost:8080/"
        },
        "id": "Q2V0zUN2adLl",
        "outputId": "b181cad5-0150-48dd-974a-20c1d6a22dc9",
        "scrolled": true
      },
      "outputs": [
        {
          "output_type": "stream",
          "name": "stdout",
          "text": [
            "Mounted at /content/drive\n"
          ]
        }
      ],
      "source": [
        "from google.colab import drive\n",
        "drive.mount('/content/drive')"
      ]
    },
    {
      "cell_type": "code",
      "execution_count": 2,
      "metadata": {
        "id": "NHYa0fZ7ajgl"
      },
      "outputs": [],
      "source": [
        "import os\n",
        "import numpy as np\n",
        "import pandas as pd\n",
        "\n",
        "# Classifier\n",
        "from sklearn.svm import SVC\n",
        "\n",
        "# Character N-gram feature extractor\n",
        "from sklearn.feature_extraction.text import CountVectorizer\n",
        "\n",
        "# Util\n",
        "from data_io import get_book\n",
        "import torch\n",
        "from sklearn import metrics\n",
        "from sklearn.preprocessing import LabelEncoder\n",
        "\n",
        "# Keras \n",
        "import keras\n",
        "from keras.layers import Input, Dense\n",
        "from keras.models import Model\n",
        "from keras.optimizers import Adam\n",
        "\n",
        "# Plotting\n",
        "import matplotlib.pyplot as plt\n",
        "\n",
        "import tensorflow as tf"
      ]
    },
    {
      "cell_type": "markdown",
      "metadata": {
        "id": "lNb80DPAauyM"
      },
      "source": [
        "**Create the training, test and validation sets**\n"
      ]
    },
    {
      "cell_type": "code",
      "execution_count": 3,
      "metadata": {
        "id": "wMzy7Auiaq5L"
      },
      "outputs": [],
      "source": [
        "train_data = pd.concat(pd.read_csv(\"train.csv\", chunksize = 100))\n",
        "test_data = pd.concat(pd.read_csv(\"test.csv\", chunksize = 100))\n",
        "val_data = pd.concat(pd.read_csv(\"val.csv\", chunksize = 100))\n",
        "\n",
        "cv = CountVectorizer(analyzer='char', ngram_range=(1, 5), dtype=np.float32, max_features=10000)\n",
        "X_train, X_test, X_val = cv.fit_transform(train_data.text.tolist()), cv.transform(test_data.text.tolist()), cv.transform(val_data.text.tolist())  \n",
        "Y_train, Y_test, Y_val = train_data.author.tolist(), test_data.author.tolist(), val_data.author.tolist()"
      ]
    },
    {
      "cell_type": "markdown",
      "metadata": {
        "id": "_47vJnX8axRC"
      },
      "source": [
        "**Turn labelled data into numbers**"
      ]
    },
    {
      "cell_type": "code",
      "execution_count": 4,
      "metadata": {
        "id": "PLf_7b2Jawm3",
        "colab": {
          "base_uri": "https://localhost:8080/"
        },
        "outputId": "b002bb01-5dcd-4066-8cdb-5b7fc4a03e45"
      },
      "outputs": [
        {
          "output_type": "stream",
          "name": "stdout",
          "text": [
            "[25  5 29  5 13  5 25  0  3 25  5 29  8  3 25 25 25 25 25 25 11 25 15 15\n",
            " 13 13 25 25  3 29 13 13 24 24 24 24 24 24 24 24 13 13 29 23 17 20 13 24\n",
            " 24 24 24 24 24 24 24 24 24 25 13 11 13 13 20 13 24 24 24 24 24 24 24 27\n",
            " 11 11 13  7  7  8 24 24 24  7  7  5  5  5 15 13 11 13  7 13 23 25  7 13\n",
            "  7  7 15  7 27  7  7  7  7 14 28 28  7  7  7  7  7  7  7  7  5  5  7  7\n",
            "  7 27 11 28 28 28 28 28 28 28 28 28 28 28 28 28 28 28 28 28 28 28 28 11\n",
            " 27 27 27 27 27 27 27 11 28  4 29  4  4  5 11 29 20  3 17 17 17 17 17 17\n",
            " 17 17 17 17 17 17 17 17 17 17 17 17 17 17 17 17 17 17 17 17 17 17 17  0\n",
            "  7 18 18 18 18 18 18 18 18 18 18 18 18 18 18 18 18 18 18 18 18 18 18 18\n",
            " 18 18 18 18 18 18 13 26 23 11  5 29 12 12  5 25  5 23  4  4  4  4  4  4\n",
            "  4  4  4  4  4  4  4  4  4  4  4  4  4  4  4  4  4 11 27 13  0 27 20 27\n",
            " 28 27 28 27 27 27 23 15 15 15 23 22 22 22 22 22 22 22 22 22 22 22 22 22\n",
            " 22 22 22 22 22 22 22 22 22 22 22 22 22 22 22 22  7 23 23 11 16 23 23 23\n",
            " 23 23 23 29  9 27 27  1 15 27 27 27 15 27 16 14 14 14 14 14 14 14 14 14\n",
            " 14 14 14 14 14 14 14 14 14 14 14 14 14 14 14 14 14  8  5 23  7 27 27 27\n",
            " 15 27 26  9 15 15 15  2 15 15 12 15 15 15 15 15  8  8  8  8  8  8  8  8\n",
            "  8  8  8  8  8  8  8  8  8  8  8  8  8 15 15  5 15 14 14 14  5 20 15 16\n",
            " 19 15 29  3 15  3 20 20  9 29  5  9 23 29 29 29 13  7 11 15  5 11 11 23\n",
            " 20 26  8 29 11  9 13 23 25 11 21 13 13 21  0 23  0  8 20 28 26 11  3 22\n",
            " 20 20 20  7 20 20  5  9 29  9 13  9  4  0 15 21 15  9 15  9 29 20 21  9\n",
            " 25 16  9  9  0 20  9  9 23 11  0  6  6  6  6  6  6  6  6  6  6  6  6  6\n",
            " 10 10 10 10 10 10 10 10 10 10 10 10 10 10 10 10 10 10 10 10  0  1  1  1\n",
            "  1  1  1  1  1  1  1  1  1  1  1  1  1  1  1  1  1  5 10  3  3 11 11 13\n",
            " 13 13  2 11 26 26 16  9  5  0  0  3 24 26 10  5  0  6 29 10  1  1  1  1\n",
            "  1  1  1  1  1 21  6 26 21 21 21 21  3 21 21 21 21  0  0 26 21 21 16 21\n",
            "  3 11 25 25 21 16 21  0 23  5 26 26 26 16 21  0 21  0 29  6 20 21 20 20\n",
            "  9 23  3 16 16 16 19 13 25 27 16 28  4 18 16 20 29 26  9 29 25  3 11 25\n",
            " 25 25 25 25 25 26  3 26 11 11 13 20 25 12 25 12 12 12 12 12 12 12 12  5\n",
            " 12  9 12 12 12 12  3 12 12 20 26 29 20 20  6  7 26 26  6 10 10 10 10 10\n",
            "  6  6 10  6  5  6  6  5 12 12 20 29 12 12 21  9  9 12 12 29 20  6  8 12\n",
            " 12 29  6 20 12 12 26 12 29 26  9  9 26  6  6  6  9 16  8  5 21  5  9 16\n",
            " 20 29  9 16  3 19 26 21  6  6 10  5 16 16  4  2 16 19  5 26 23 11 29  4\n",
            "  9 16 16 16 16 16 16 16 16 16 16 19 23  2 23 29 21 21  3 26  2 20 16 23\n",
            " 19 11 11  2  2 21 19 26 19 19 19 19  2 19  2  2  2 23 23 19 24  3 21  2\n",
            "  2 19  2  8  2  0  0  3 28 26 28 26 11  2  2  2 19 21  0  3  3  2 29  2\n",
            " 19 19  3  3  9  2  3 19 13 19 19 19 19  0  0  2  2  0  2  2 26  2  2  2\n",
            " 19 28  0  0  3 26  2 19 19  2 21  0 19 19 19 19  3 20  3 26  3 19  3  9\n",
            "  0 25  0  0  9  0 29]\n"
          ]
        }
      ],
      "source": [
        "Encoder = LabelEncoder()\n",
        "Y_train = Encoder.fit_transform(Y_train)\n",
        "Y_test = Encoder.transform(Y_test)\n",
        "Y_val = Encoder.transform(Y_val)\n",
        "\n",
        "print(np.array(Y_train))"
      ]
    },
    {
      "cell_type": "markdown",
      "metadata": {
        "id": "VxWiB2Mfa44I"
      },
      "source": [
        "**Just seeing the distribution of data**"
      ]
    },
    {
      "cell_type": "code",
      "execution_count": 5,
      "metadata": {
        "id": "L6WHsJcEa7ye",
        "colab": {
          "base_uri": "https://localhost:8080/"
        },
        "outputId": "d568d28f-ee05-4cbb-c3b9-46e8d8315c82"
      },
      "outputs": [
        {
          "output_type": "stream",
          "name": "stdout",
          "text": [
            "(895, 10000)\n",
            "75207\n",
            "total occurrences of length 1 char n-gram\n",
            "160679\n",
            "total amount of length 1 char n-gram\n",
            "27\n",
            "total occurrences of length 2 char n-gram\n",
            "2207052\n",
            "total amount of length 2 char n-gram\n",
            "391\n",
            "total occurrences of length 3 char n-gram\n",
            "11417695\n",
            "total amount of length 3 char n-gram\n",
            "2117\n",
            "total occurrences of length 4 char n-gram\n",
            "19609110\n",
            "total amount of length 4 char n-gram\n",
            "3906\n",
            "total occurrences of length 5 char n-gram\n",
            "16600464\n",
            "total amount of length 5 char n-gram\n",
            "3559\n"
          ]
        }
      ],
      "source": [
        "print(X_train.shape)\n",
        "# print(cv.vocabulary_)\n",
        "print(len(train_data.text.tolist()[1].split(\" \")))\n",
        "\n",
        "one_ngram_occurrences = [cv.vocabulary_[ngram] for ngram in cv.vocabulary_ if len(ngram) == 1]\n",
        "print(\"total occurrences of length 1 char n-gram\")\n",
        "print(sum(one_ngram_occurrences))\n",
        "print(\"total amount of length 1 char n-gram\")\n",
        "print(len(one_ngram_occurrences))\n",
        "\n",
        "two_ngram_occurrences = [cv.vocabulary_[ngram] for ngram in cv.vocabulary_ if len(ngram) == 2]\n",
        "print(\"total occurrences of length 2 char n-gram\")\n",
        "print(sum(two_ngram_occurrences))\n",
        "print(\"total amount of length 2 char n-gram\")\n",
        "print(len(two_ngram_occurrences))\n",
        "\n",
        "three_ngram_occurrences = [cv.vocabulary_[ngram] for ngram in cv.vocabulary_ if len(ngram) == 3]\n",
        "print(\"total occurrences of length 3 char n-gram\")\n",
        "print(sum(three_ngram_occurrences))\n",
        "print(\"total amount of length 3 char n-gram\")\n",
        "print(len(three_ngram_occurrences))\n",
        "\n",
        "four_ngram_occurrences = [cv.vocabulary_[ngram] for ngram in cv.vocabulary_ if len(ngram) == 4]\n",
        "print(\"total occurrences of length 4 char n-gram\")\n",
        "print(sum(four_ngram_occurrences))\n",
        "print(\"total amount of length 4 char n-gram\")\n",
        "print(len(four_ngram_occurrences))\n",
        "\n",
        "five_ngram_occurrences = [cv.vocabulary_[ngram] for ngram in cv.vocabulary_ if len(ngram) == 5]\n",
        "print(\"total occurrences of length 5 char n-gram\")\n",
        "print(sum(five_ngram_occurrences))\n",
        "print(\"total amount of length 5 char n-gram\")\n",
        "print(len(five_ngram_occurrences))"
      ]
    },
    {
      "cell_type": "markdown",
      "metadata": {
        "id": "f0JCcruLa-pf"
      },
      "source": [
        "**Scale the data using min max normalizer**"
      ]
    },
    {
      "cell_type": "code",
      "execution_count": 6,
      "metadata": {
        "id": "SSuP6NGnbBFH",
        "colab": {
          "base_uri": "https://localhost:8080/"
        },
        "outputId": "3502a6c0-46ab-4ce2-b2f2-b16517402285"
      },
      "outputs": [
        {
          "output_type": "stream",
          "name": "stdout",
          "text": [
            "[[0.04055664 0.04499426 0.04561904 ... 0.01246106 0.01247077 0.00453858]\n",
            " [0.04528183 0.04553762 0.05003038 ... 0.02959501 0.02961808 0.05143721]\n",
            " [0.02596131 0.02751357 0.02739256 ... 0.0046729  0.00467654 0.01361573]\n",
            " ...\n",
            " [0.03505723 0.04051569 0.03605674 ... 0.00311526 0.00311769 0.01512859]\n",
            " [0.03016631 0.02756297 0.02950577 ... 0.02258567 0.02260327 0.00907716]\n",
            " [0.01331787 0.01468159 0.01183401 ... 0.00155763 0.00155885 0.00605144]]\n"
          ]
        }
      ],
      "source": [
        "from sklearn.preprocessing import MinMaxScaler\n",
        "\n",
        "X_train, X_test, X_val = X_train.toarray(), X_test.toarray(), X_val.toarray()\n",
        "\n",
        "scaler = MinMaxScaler()\n",
        "scaler.fit(X_train)\n",
        "X_train_scaled = scaler.transform(X_train)\n",
        "X_test_scaled = scaler.transform(X_test)\n",
        "X_val_scaled = scaler.transform(X_val)\n",
        "\n",
        "print(X_train_scaled)"
      ]
    },
    {
      "cell_type": "markdown",
      "metadata": {
        "id": "b0tZkm7ebFoz"
      },
      "source": [
        "**First, just apply SVM on the raw input without encoding with autoencoders**"
      ]
    },
    {
      "cell_type": "code",
      "execution_count": 7,
      "metadata": {
        "id": "M-ao1sPybDNk",
        "colab": {
          "base_uri": "https://localhost:8080/"
        },
        "outputId": "b14529d4-e70d-4036-b011-f64f9fc2daee"
      },
      "outputs": [
        {
          "output_type": "stream",
          "name": "stdout",
          "text": [
            "[ 3 11  5 25 13 25  4  3 25 25 25  3 29 11 15 29 25  5 13 13  3 24 24 24\n",
            " 13 13 13 13 29 11 14 23 11 24 24 24 13 24 24 24 24 24 29 20 20 11  5  7\n",
            "  7 24 24  7  5  5 13 13  7  7  7 19  7  7 11  7  7 28 28  7  7 27 28 28\n",
            " 28 28 28 28 28 28 28 28 28 27 27  5  4  9  4  4 29  4  4 29 23  5 17 17\n",
            " 17 17 17 17 17 17 17 17 17 17 17 18 18 18 18 18 18 18 18 18 18 18 18 18\n",
            " 18 18 23 26 12 12  3  4  4  4  4  4  4 27 27 27 15 26 27  0 23 15 15 15\n",
            " 23 16 22 22 22 22 22 22 22 22 22 22 22 22 22 22 22 26 29 23 26 13  0 23\n",
            " 23 23  9 23 23 23 27 27 27 27 27 29  9 12 27 14 14 14 14 14 14 14 14 14\n",
            " 14 14 14  8  8 27 27 15 15 14  9  5 20 15 15 15 15  8  8  8  8  8  8  8\n",
            "  8  8  9 14 20 20 19  3 20  5 20 15 25 13  0  5 29 29  9  7 29  5 20  4\n",
            " 15 21  7 16 26 16 21 11 11 20 11 20 20  9 15 26  0  9  6  6 26  6  6 10\n",
            " 10 10  6  1  1  1  1  1  1  1  1  1  1  1 21 11 13  3 23 16 24 10 10 10\n",
            " 10  1 21  1  6 10  1  6 10 10 21 21 21 10 21 16  1 21 21 10  6 21 16  3\n",
            "  6 25 25 19 16  0  0  9  0 26 21 26  0 19 11 28 16 16  2  0  8 25 26 29\n",
            " 20 19 25 25 25 25  8 26 26 12 12 12  3  8 12 12 12  6  6  6 11 12  9  6\n",
            " 15 26 10 10  6 12  9 12 25 12  3 12  7 16  6 10  5  5 20  8 20  3 19 16\n",
            "  4 16 16 16  3  2 11 11 29  9  9 19 23  2  2 17  5 16 24  2  2  2 19 13\n",
            "  2  2  2  3 23 26 21 11  2 26 19  0 28 21 19 29 19 19 19  9  9  0  0  2\n",
            "  3  3  2 19  0 21  0 19 20 13  2  0  2 29]\n",
            "############################################\n",
            "[ 3  2  5  1 13 25  4  3  8 25 25  3 29 11 15 29 25  5 13 13  3 24 24 24\n",
            "  8 13 13 13 29 11 23 23 11 24 24 24 13 24 24 24 24 24 29 20 20 11  5  7\n",
            "  7 24 24  7  8  8 13 13  7 13  7 19  7  7  8  7 28 28 28  7  8  2 28 19\n",
            " 19 28  8 28  8 28  8 28 28 27 27  5  4  9  4  4  8  4  4 29 23  8 17 17\n",
            "  2 17 17 17 17 17 17 17 17 17 20  8 18 18 18 18 18 18 18 18 18 18 18 18\n",
            " 18 18 23 26 12 12  3  4  4  4  4  4  4 27 27 27 15 26 27  8 23 15 15 15\n",
            " 23 16 22 22 22 22 22 22 22 22 25  8 22 22 22 22 22 26 29 14 26 13  1 23\n",
            " 23 23  9 23 23 23 27 27  8  8 27 29  9  8  8  8  8  8  8  2 14 14 14 14\n",
            "  8 14 14  9  8 27  8 15 15 14  9  5 20 15 15  4 15  8  8  8  8  8  8  8\n",
            "  8  8  9 14 20 20 19  3 20  5 20 15 25 13  0  5 29 29  9  7 29 20 20  4\n",
            " 15 21  8 16 26 16 21 23 11 20  2 20 20  9 15 26  0  9  6  6 26  6  9 10\n",
            " 14 10  6  1  1  1  1  1  1  1  1  1  1  1  8  8  8  3 23 16 24 10 10 10\n",
            " 10  1 21  1 27 10  1  6 10 10 21 21 27 10 21 16  1 21 21  1  6  8 16  3\n",
            "  6 25 25 23 16  0  0  9  0 26  0 26  0 19 11 28  0 16  2  0  8 25 26 29\n",
            "  4 19 25 12  2  2 24 26 26 12 12 12  3  8 12 12 12  6  6  1 11 12  9  6\n",
            " 15 21 20 10  6 12  9 12  8 12  3 12  7 16  6 10  8  5 22 14 20  3 19 16\n",
            " 23 16 16 16  3  2 11 11  2  9  9 19 23  2  2  8 11 16 24  2  2  2 19 22\n",
            "  2  2  2  3 23 26  0  8  2 26 19  0 28 21 19 29 19 19 19  9  9  0  0  2\n",
            "  3  3  2 19  0 21  0 22 20 27  2  0  2  8]\n",
            "SVM Accuracy Score on test ->  82.51121076233184\n",
            "SVM Accuracy Score on training ->  93.29608938547486\n",
            "SVM Accuracy Score on validation ->  85.13513513513513\n"
          ]
        }
      ],
      "source": [
        "svm = SVC(kernel='linear', C=1)\n",
        "svm.fit(X_train_scaled, Y_train)\n",
        "\n",
        "preds = svm.predict(X_test_scaled)\n",
        "\n",
        "print(Y_test)\n",
        "print(\"############################################\")\n",
        "print(preds)\n",
        "print(\"SVM Accuracy Score on test -> \", metrics.accuracy_score(preds, Y_test)*100)\n",
        "\n",
        "print(\"SVM Accuracy Score on training -> \", metrics.accuracy_score(svm.predict(X_train_scaled), Y_train)*100)\n",
        "\n",
        "print(\"SVM Accuracy Score on validation -> \", metrics.accuracy_score(svm.predict(X_val_scaled), Y_val)*100)"
      ]
    },
    {
      "cell_type": "markdown",
      "metadata": {
        "id": "etDUqknUbUV4"
      },
      "source": [
        "**Code for the stacked denoising autoencoders**\n",
        "=="
      ]
    },
    {
      "cell_type": "markdown",
      "metadata": {
        "id": "m-JrxPuFbYpO"
      },
      "source": [
        "**Class for tying weights in a denoising auto encoder**"
      ]
    },
    {
      "cell_type": "code",
      "execution_count": 8,
      "metadata": {
        "id": "cd5qb5cpbdhj"
      },
      "outputs": [],
      "source": [
        "# Code referenced from https://medium.com/@lmayrandprovencher/building-an-autoencoder-with-tied-weights-in-keras-c4a559c529a2\n",
        "\n",
        "class DenseTranspose(keras.layers.Layer):\n",
        "    def __init__(self, dense, activation=None, **kwargs):\n",
        "        self.dense = dense\n",
        "        self.activation = keras.activations.get(activation)\n",
        "        super().__init__(**kwargs)\n",
        "\n",
        "    def build(self, batch_input_shape):\n",
        "        self.biases = self.add_weight(name=\"bias\",\n",
        "                                      shape=[self.dense.input_shape[-1]],\n",
        "                                      initializer=\"zeros\")\n",
        "        super().build(batch_input_shape)\n",
        "  \n",
        "    def call(self, inputs):\n",
        "        z = tf.matmul(inputs, self.dense.weights[0], transpose_b=True)\n",
        "        return self.activation(z + self.biases)"
      ]
    },
    {
      "cell_type": "markdown",
      "metadata": {
        "id": "qwOQSUXsbils"
      },
      "source": [
        "**Class for construction of a denoising autoencoder**"
      ]
    },
    {
      "cell_type": "code",
      "execution_count": 30,
      "metadata": {
        "id": "0AZWA6N9bmWk"
      },
      "outputs": [],
      "source": [
        "np.random.seed(55)\n",
        "class DenoisingAutoEncoder:\n",
        "    def __init__(self, layers, corruption, activate_encoder, activate_decoder):\n",
        "        self.layers = layers\n",
        "        self.corruption = corruption\n",
        "        self.activate_encoder = activate_encoder\n",
        "        self.activate_decoder = activate_decoder\n",
        "        self.history = None\n",
        "  \n",
        "    def forward(self, X_train, X_val, epochs, batch_size):\n",
        "        # Step 1, Add binomial noise\n",
        "        X_train_noisy = self.inject_noise(X_train)\n",
        "\n",
        "        # Step 2, Encode X_train_noisy using sigmoid\n",
        "        encoder_input = Input(shape = (X_train_noisy.shape[1], ))\n",
        "        encoder = Dense(self.layers[0], activation=self.activate_encoder)\n",
        "        final_encoder = encoder(encoder_input)\n",
        "\n",
        "        # Step 3, Decode X_train_noisy using sigmoid\n",
        "        # Tie the weights between the encoder and decoder layers\n",
        "        decoder = DenseTranspose(encoder, activation=self.activate_decoder)\n",
        "        final_decoder = decoder(final_encoder)\n",
        "\n",
        "        # Step 4, cross entropy loss for normalised data and adam optimizer (Not sure what optimizer the paper uses)\n",
        "        autoencoder = Model(encoder_input, final_decoder)\n",
        "        autoencoder.compile(loss = 'binary_crossentropy', optimizer = 'adam')\n",
        "\n",
        "        # Train it\n",
        "        self.history = autoencoder.fit(X_train_noisy, X_train, batch_size = batch_size, epochs = epochs, validation_data=(X_val, X_val))\n",
        "        autoencoder.summary()\n",
        "\n",
        "        # Get the model that maps input to its encoded representation\n",
        "        encoder_model = Model(encoder_input, final_encoder)\n",
        "\n",
        "        # Return the (encoding model, encoding function)\n",
        "        return (encoder_model, encoder)\n",
        "\n",
        "    def inject_noise(self, x):\n",
        "        # inject binomial noise since this model assumes you are normalising input \n",
        "        # with min max normalisation\n",
        "        mask = np.random.choice([0, 1], size=x.shape, p=[self.corruption, 1-self.corruption])\n",
        "        X_noisy = x * mask\n",
        "        return X_noisy"
      ]
    },
    {
      "cell_type": "markdown",
      "metadata": {
        "id": "Q0YQwys_b2oH"
      },
      "source": [
        "**Class for construction of a stacked denoising autoencoder**"
      ]
    },
    {
      "cell_type": "code",
      "source": [
        "# For picking the best model while fine-tuning\n",
        "from tensorflow.keras.callbacks import ModelCheckpoint"
      ],
      "metadata": {
        "id": "43IDvyzkjTwi"
      },
      "execution_count": 45,
      "outputs": []
    },
    {
      "cell_type": "code",
      "execution_count": 46,
      "metadata": {
        "id": "DxyEtio8b7g7"
      },
      "outputs": [],
      "source": [
        "class StackedDenoisingAutoEncoder():\n",
        "  def __init__(self, layers, corruption, activate_encoder, activate_decoder):\n",
        "    self.layers = layers\n",
        "    self.corruption = corruption\n",
        "    self.activate_encoder = activate_encoder\n",
        "    self.activate_decoder = activate_decoder\n",
        "    self.encoding_funcs = []\n",
        "    self.encoder_layers = []\n",
        "    self.history = None\n",
        "  \n",
        "  def pretrain(self, X_train, X_val, epochs, batch_size):\n",
        "    # self.layers contains the units each denoising autoencoder should take in\n",
        "    learnt_input = X_train\n",
        "    encoded_validation = X_val\n",
        "    for layer in self.layers:\n",
        "      autoencoder = DenoisingAutoEncoder([layer], self.corruption, self.activate_encoder, self.activate_decoder)\n",
        "      (encoding_function, encoder) = autoencoder.forward(learnt_input, encoded_validation, epochs, batch_size)\n",
        "      learnt_input = encoding_function.predict(learnt_input)\n",
        "      encoded_validation = encoding_function.predict(encoded_validation)\n",
        "\n",
        "      self.encoding_funcs.append(encoding_function)\n",
        "      self.encoder_layers.append(encoder)\n",
        "\n",
        "    self.history = autoencoder.history\n",
        "\n",
        "  def finetune(self, X_train, Y_train, X_val, Y_val, epochs, batch_size):\n",
        "    encoder_input = Input(shape = (X_train.shape[1], ))\n",
        "\n",
        "    final_encoder = encoder_input\n",
        "    for encoder in self.encoder_layers:\n",
        "      final_encoder = encoder(final_encoder)\n",
        "\n",
        "    # Define the logistic regression layer\n",
        "    lr_layer = Dense(Y_train.shape[1], activation='softmax')\n",
        "    predictions = lr_layer(final_encoder)\n",
        "\n",
        "    # Create the fine-tuned model\n",
        "    fine_tuned_model = Model(inputs=encoder_input, outputs=predictions)\n",
        "    fine_tuned_model.compile(loss='categorical_crossentropy', optimizer='adam')\n",
        "\n",
        "    # Select best model\n",
        "    checkpointer = ModelCheckpoint(filepath=\"weights.hdf5\", verbose=1, save_best_only=True)\n",
        "    self.history = fine_tuned_model.fit(X_train, Y_train, epochs=epochs, batch_size=batch_size, validation_data=(X_val, Y_val), callbacks=[checkpointer])\n",
        "    fine_tuned_model.load_weights('weights.hdf5')\n",
        "\n",
        "    fine_tuned_encoder = Model(inputs=encoder_input, outputs=final_encoder)\n",
        "    return (fine_tuned_model, fine_tuned_encoder)\n",
        "\n",
        "    \n",
        "    predicted = model.predict(X_test_mat)\n",
        "\n",
        "  def encode(self, X):\n",
        "    encoded_representation = X\n",
        "    for func in self.encoder_layers:\n",
        "      encoded_representation = func.predict(encoded_representation)\n",
        "    return encoded_representation"
      ]
    },
    {
      "cell_type": "markdown",
      "metadata": {
        "id": "rEd-jwpqgoHZ"
      },
      "source": [
        "**Pretraining and Finetuning**\n",
        "=="
      ]
    },
    {
      "cell_type": "markdown",
      "metadata": {
        "id": "H1w5tdUiddbT"
      },
      "source": [
        "**Pretrain the denoising autoencoder**"
      ]
    },
    {
      "cell_type": "code",
      "execution_count": 47,
      "metadata": {
        "id": "UgJDtaVYdb71",
        "colab": {
          "base_uri": "https://localhost:8080/"
        },
        "outputId": "34577e16-c735-41d6-d4ec-3db4417cc11a"
      },
      "outputs": [
        {
          "output_type": "stream",
          "name": "stdout",
          "text": [
            "Epoch 1/20\n",
            "895/895 [==============================] - 5s 5ms/step - loss: 0.2438 - val_loss: 0.2184\n",
            "Epoch 2/20\n",
            "895/895 [==============================] - 4s 5ms/step - loss: 0.1723 - val_loss: 0.1710\n",
            "Epoch 3/20\n",
            "895/895 [==============================] - 5s 5ms/step - loss: 0.1575 - val_loss: 0.1589\n",
            "Epoch 4/20\n",
            "895/895 [==============================] - 4s 5ms/step - loss: 0.1540 - val_loss: 0.1540\n",
            "Epoch 5/20\n",
            "895/895 [==============================] - 4s 5ms/step - loss: 0.1528 - val_loss: 0.1517\n",
            "Epoch 6/20\n",
            "895/895 [==============================] - 4s 5ms/step - loss: 0.1523 - val_loss: 0.1510\n",
            "Epoch 7/20\n",
            "895/895 [==============================] - 4s 5ms/step - loss: 0.1521 - val_loss: 0.1503\n",
            "Epoch 8/20\n",
            "895/895 [==============================] - 4s 5ms/step - loss: 0.1517 - val_loss: 0.1503\n",
            "Epoch 9/20\n",
            "895/895 [==============================] - 4s 5ms/step - loss: 0.1515 - val_loss: 0.1501\n",
            "Epoch 10/20\n",
            "895/895 [==============================] - 4s 5ms/step - loss: 0.1513 - val_loss: 0.1499\n",
            "Epoch 11/20\n",
            "895/895 [==============================] - 4s 5ms/step - loss: 0.1512 - val_loss: 0.1496\n",
            "Epoch 12/20\n",
            "895/895 [==============================] - 4s 5ms/step - loss: 0.1510 - val_loss: 0.1496\n",
            "Epoch 13/20\n",
            "895/895 [==============================] - 5s 5ms/step - loss: 0.1509 - val_loss: 0.1500\n",
            "Epoch 14/20\n",
            "895/895 [==============================] - 4s 5ms/step - loss: 0.1507 - val_loss: 0.1500\n",
            "Epoch 15/20\n",
            "895/895 [==============================] - 6s 7ms/step - loss: 0.1507 - val_loss: 0.1494\n",
            "Epoch 16/20\n",
            "895/895 [==============================] - 4s 5ms/step - loss: 0.1506 - val_loss: 0.1492\n",
            "Epoch 17/20\n",
            "895/895 [==============================] - 4s 5ms/step - loss: 0.1506 - val_loss: 0.1489\n",
            "Epoch 18/20\n",
            "895/895 [==============================] - 4s 5ms/step - loss: 0.1505 - val_loss: 0.1494\n",
            "Epoch 19/20\n",
            "895/895 [==============================] - 4s 5ms/step - loss: 0.1504 - val_loss: 0.1495\n",
            "Epoch 20/20\n",
            "895/895 [==============================] - 4s 5ms/step - loss: 0.1503 - val_loss: 0.1487\n",
            "Model: \"model_16\"\n",
            "_________________________________________________________________\n",
            " Layer (type)                Output Shape              Param #   \n",
            "=================================================================\n",
            " input_10 (InputLayer)       [(None, 10000)]           0         \n",
            "                                                                 \n",
            " dense_9 (Dense)             (None, 1000)              10001000  \n",
            "                                                                 \n",
            " dense_transpose_5 (DenseTra  (None, 10000)            10011000  \n",
            " nspose)                                                         \n",
            "                                                                 \n",
            "=================================================================\n",
            "Total params: 10,011,000\n",
            "Trainable params: 10,011,000\n",
            "Non-trainable params: 0\n",
            "_________________________________________________________________\n",
            "28/28 [==============================] - 0s 3ms/step\n",
            "5/5 [==============================] - 0s 3ms/step\n"
          ]
        }
      ],
      "source": [
        "# The \"stacked\" auto encoder will only contain 1 denoising auto encoder that will \n",
        "# transform the original input into 1000 units. Noise corruption is 0.3 and it uses \n",
        "# sigmoid activation for both encoder and decoder\n",
        "stacked_auto_encoder = StackedDenoisingAutoEncoder([1000], 0.3, 'sigmoid', 'sigmoid')\n",
        "stacked_auto_encoder.pretrain(X_train_scaled, X_val_scaled, 20, 1)"
      ]
    },
    {
      "cell_type": "code",
      "execution_count": 48,
      "metadata": {
        "id": "TTpWFszPXzTh"
      },
      "outputs": [],
      "source": [
        "def plot_loss(history):\n",
        "    # summarize history for loss\n",
        "    # https://machinelearningmastery.com/display-deep-learning-model-training-history-in-keras/\n",
        "    plt.plot(stacked_auto_encoder.history.history['loss'])\n",
        "    plt.plot(stacked_auto_encoder.history.history['val_loss'])\n",
        "    plt.title('model loss')\n",
        "    plt.ylabel('loss')\n",
        "    plt.xlabel('epoch')\n",
        "    plt.legend(['train', 'val'], loc='upper left')\n",
        "    plt.show()"
      ]
    },
    {
      "cell_type": "code",
      "execution_count": 49,
      "metadata": {
        "colab": {
          "base_uri": "https://localhost:8080/",
          "height": 472
        },
        "id": "tQH06IyBXzTh",
        "outputId": "e0893d00-cb8d-44be-93ab-8bb9fa29543c"
      },
      "outputs": [
        {
          "output_type": "display_data",
          "data": {
            "text/plain": [
              "<Figure size 640x480 with 1 Axes>"
            ],
            "image/png": "[encoded data removed]"
          },
          "metadata": {}
        }
      ],
      "source": [
        "plot_loss(stacked_auto_encoder.history.history)"
      ]
    },
    {
      "cell_type": "markdown",
      "metadata": {
        "id": "9u0Oipi3d4Vl"
      },
      "source": [
        "**Finetune the model by adding logistic regression layer**"
      ]
    },
    {
      "cell_type": "code",
      "execution_count": 50,
      "metadata": {
        "id": "Et_S-qdugNC_"
      },
      "outputs": [],
      "source": [
        "# Create a 1 hot encoded Y_train\n",
        "def create_one_hot(arr):\n",
        "    out_arr = []\n",
        "    for item in arr:\n",
        "        max_arr = max(arr)\n",
        "        one_hot_encoded = [0] * (max_arr+1)\n",
        "        one_hot_encoded[item] = 1\n",
        "        out_arr.append(one_hot_encoded)\n",
        "    return np.array(out_arr)\n",
        "\n",
        "Y_train_hot_encoded = create_one_hot(Y_train)\n",
        "Y_val_hot_encoded = create_one_hot(Y_val)"
      ]
    },
    {
      "cell_type": "code",
      "execution_count": 51,
      "metadata": {
        "id": "zJlNeXIId30_",
        "colab": {
          "base_uri": "https://localhost:8080/"
        },
        "outputId": "539de9bb-8a99-49fe-b71d-8e19cc386b86"
      },
      "outputs": [
        {
          "output_type": "stream",
          "name": "stdout",
          "text": [
            "Epoch 1/30\n",
            "888/895 [============================>.] - ETA: 0s - loss: 2.6943\n",
            "Epoch 1: val_loss improved from inf to 1.64612, saving model to weights.hdf5\n",
            "895/895 [==============================] - 5s 4ms/step - loss: 2.6881 - val_loss: 1.6461\n",
            "Epoch 2/30\n",
            "889/895 [============================>.] - ETA: 0s - loss: 1.2190\n",
            "Epoch 2: val_loss improved from 1.64612 to 0.97232, saving model to weights.hdf5\n",
            "895/895 [==============================] - 5s 5ms/step - loss: 1.2208 - val_loss: 0.9723\n",
            "Epoch 3/30\n",
            "892/895 [============================>.] - ETA: 0s - loss: 0.6950\n",
            "Epoch 3: val_loss improved from 0.97232 to 0.67236, saving model to weights.hdf5\n",
            "895/895 [==============================] - 4s 4ms/step - loss: 0.6929 - val_loss: 0.6724\n",
            "Epoch 4/30\n",
            "888/895 [============================>.] - ETA: 0s - loss: 0.4787\n",
            "Epoch 4: val_loss improved from 0.67236 to 0.33752, saving model to weights.hdf5\n",
            "895/895 [==============================] - 4s 4ms/step - loss: 0.4755 - val_loss: 0.3375\n",
            "Epoch 5/30\n",
            "895/895 [==============================] - ETA: 0s - loss: 0.3306\n",
            "Epoch 5: val_loss did not improve from 0.33752\n",
            "895/895 [==============================] - 4s 4ms/step - loss: 0.3306 - val_loss: 0.3912\n",
            "Epoch 6/30\n",
            "881/895 [============================>.] - ETA: 0s - loss: 0.2568\n",
            "Epoch 6: val_loss did not improve from 0.33752\n",
            "895/895 [==============================] - 4s 4ms/step - loss: 0.2539 - val_loss: 0.4478\n",
            "Epoch 7/30\n",
            "890/895 [============================>.] - ETA: 0s - loss: 0.2652\n",
            "Epoch 7: val_loss did not improve from 0.33752\n",
            "895/895 [==============================] - 3s 4ms/step - loss: 0.2638 - val_loss: 0.3506\n",
            "Epoch 8/30\n",
            "882/895 [============================>.] - ETA: 0s - loss: 0.1748\n",
            "Epoch 8: val_loss improved from 0.33752 to 0.24649, saving model to weights.hdf5\n",
            "895/895 [==============================] - 4s 4ms/step - loss: 0.1872 - val_loss: 0.2465\n",
            "Epoch 9/30\n",
            "886/895 [============================>.] - ETA: 0s - loss: 0.1153\n",
            "Epoch 9: val_loss did not improve from 0.24649\n",
            "895/895 [==============================] - 4s 5ms/step - loss: 0.1145 - val_loss: 0.3610\n",
            "Epoch 10/30\n",
            "882/895 [============================>.] - ETA: 0s - loss: 0.1314\n",
            "Epoch 10: val_loss improved from 0.24649 to 0.24048, saving model to weights.hdf5\n",
            "895/895 [==============================] - 4s 4ms/step - loss: 0.1366 - val_loss: 0.2405\n",
            "Epoch 11/30\n",
            "892/895 [============================>.] - ETA: 0s - loss: 0.1052\n",
            "Epoch 11: val_loss improved from 0.24048 to 0.12640, saving model to weights.hdf5\n",
            "895/895 [==============================] - 4s 4ms/step - loss: 0.1049 - val_loss: 0.1264\n",
            "Epoch 12/30\n",
            "884/895 [============================>.] - ETA: 0s - loss: 0.0501\n",
            "Epoch 12: val_loss did not improve from 0.12640\n",
            "895/895 [==============================] - 4s 5ms/step - loss: 0.0495 - val_loss: 0.1307\n",
            "Epoch 13/30\n",
            "892/895 [============================>.] - ETA: 0s - loss: 0.1711\n",
            "Epoch 13: val_loss did not improve from 0.12640\n",
            "895/895 [==============================] - 4s 4ms/step - loss: 0.1707 - val_loss: 0.2011\n",
            "Epoch 14/30\n",
            "887/895 [============================>.] - ETA: 0s - loss: 0.1104\n",
            "Epoch 14: val_loss did not improve from 0.12640\n",
            "895/895 [==============================] - 4s 4ms/step - loss: 0.1095 - val_loss: 0.1396\n",
            "Epoch 15/30\n",
            "889/895 [============================>.] - ETA: 0s - loss: 0.0341\n",
            "Epoch 15: val_loss improved from 0.12640 to 0.09894, saving model to weights.hdf5\n",
            "895/895 [==============================] - 4s 4ms/step - loss: 0.0338 - val_loss: 0.0989\n",
            "Epoch 16/30\n",
            "884/895 [============================>.] - ETA: 0s - loss: 0.1076\n",
            "Epoch 16: val_loss did not improve from 0.09894\n",
            "895/895 [==============================] - 5s 5ms/step - loss: 0.1063 - val_loss: 0.1132\n",
            "Epoch 17/30\n",
            "889/895 [============================>.] - ETA: 0s - loss: 0.0335\n",
            "Epoch 17: val_loss improved from 0.09894 to 0.08640, saving model to weights.hdf5\n",
            "895/895 [==============================] - 4s 4ms/step - loss: 0.0335 - val_loss: 0.0864\n",
            "Epoch 18/30\n",
            "884/895 [============================>.] - ETA: 0s - loss: 0.0441\n",
            "Epoch 18: val_loss did not improve from 0.08640\n",
            "895/895 [==============================] - 3s 4ms/step - loss: 0.0436 - val_loss: 0.1197\n",
            "Epoch 19/30\n",
            "893/895 [============================>.] - ETA: 0s - loss: 0.0647\n",
            "Epoch 19: val_loss did not improve from 0.08640\n",
            "895/895 [==============================] - 4s 4ms/step - loss: 0.0646 - val_loss: 0.1446\n",
            "Epoch 20/30\n",
            "884/895 [============================>.] - ETA: 0s - loss: 0.0272\n",
            "Epoch 20: val_loss did not improve from 0.08640\n",
            "895/895 [==============================] - 4s 4ms/step - loss: 0.0269 - val_loss: 0.1177\n",
            "Epoch 21/30\n",
            "885/895 [============================>.] - ETA: 0s - loss: 0.0917\n",
            "Epoch 21: val_loss did not improve from 0.08640\n",
            "895/895 [==============================] - 4s 4ms/step - loss: 0.0907 - val_loss: 0.1178\n",
            "Epoch 22/30\n",
            "892/895 [============================>.] - ETA: 0s - loss: 0.0295\n",
            "Epoch 22: val_loss did not improve from 0.08640\n",
            "895/895 [==============================] - 4s 4ms/step - loss: 0.0294 - val_loss: 0.1389\n",
            "Epoch 23/30\n",
            "889/895 [============================>.] - ETA: 0s - loss: 0.0277\n",
            "Epoch 23: val_loss did not improve from 0.08640\n",
            "895/895 [==============================] - 4s 5ms/step - loss: 0.0275 - val_loss: 0.1160\n",
            "Epoch 24/30\n",
            "884/895 [============================>.] - ETA: 0s - loss: 0.0313\n",
            "Epoch 24: val_loss did not improve from 0.08640\n",
            "895/895 [==============================] - 4s 4ms/step - loss: 0.0309 - val_loss: 0.1243\n",
            "Epoch 25/30\n",
            "882/895 [============================>.] - ETA: 0s - loss: 0.0838\n",
            "Epoch 25: val_loss did not improve from 0.08640\n",
            "895/895 [==============================] - 3s 4ms/step - loss: 0.0827 - val_loss: 0.1413\n",
            "Epoch 26/30\n",
            "894/895 [============================>.] - ETA: 0s - loss: 0.0246\n",
            "Epoch 26: val_loss did not improve from 0.08640\n",
            "895/895 [==============================] - 3s 4ms/step - loss: 0.0246 - val_loss: 0.1082\n",
            "Epoch 27/30\n",
            "893/895 [============================>.] - ETA: 0s - loss: 0.0267\n",
            "Epoch 27: val_loss did not improve from 0.08640\n",
            "895/895 [==============================] - 4s 5ms/step - loss: 0.0266 - val_loss: 0.1354\n",
            "Epoch 28/30\n",
            "883/895 [============================>.] - ETA: 0s - loss: 0.0208\n",
            "Epoch 28: val_loss did not improve from 0.08640\n",
            "895/895 [==============================] - 3s 4ms/step - loss: 0.0250 - val_loss: 0.1853\n",
            "Epoch 29/30\n",
            "893/895 [============================>.] - ETA: 0s - loss: 0.0989\n",
            "Epoch 29: val_loss did not improve from 0.08640\n",
            "895/895 [==============================] - 3s 4ms/step - loss: 0.0987 - val_loss: 0.1257\n",
            "Epoch 30/30\n",
            "890/895 [============================>.] - ETA: 0s - loss: 0.0188\n",
            "Epoch 30: val_loss improved from 0.08640 to 0.08483, saving model to weights.hdf5\n",
            "895/895 [==============================] - 5s 5ms/step - loss: 0.0187 - val_loss: 0.0848\n"
          ]
        }
      ],
      "source": [
        "fine_tuned_model, fine_tuned_encoder = stacked_auto_encoder.finetune(X_train_scaled, Y_train_hot_encoded, X_val_scaled, Y_val_hot_encoded, 30, 1) "
      ]
    },
    {
      "cell_type": "code",
      "execution_count": 52,
      "metadata": {
        "colab": {
          "base_uri": "https://localhost:8080/",
          "height": 472
        },
        "id": "6hezINYwXzTi",
        "outputId": "16ca8046-8ff5-42a2-b93d-d08efe83c523"
      },
      "outputs": [
        {
          "output_type": "display_data",
          "data": {
            "text/plain": [
              "<Figure size 640x480 with 1 Axes>"
            ],
            "image/png": "[encoded data removed]"
          },
          "metadata": {}
        }
      ],
      "source": [
        "plot_loss(stacked_auto_encoder.history.history)"
      ]
    },
    {
      "cell_type": "markdown",
      "metadata": {
        "id": "vmWX_fDvgF_R"
      },
      "source": [
        "**Now feed the encoded representation into linear SVM**"
      ]
    },
    {
      "cell_type": "code",
      "execution_count": 53,
      "metadata": {
        "id": "3GWVbI8nc9H6",
        "scrolled": true,
        "colab": {
          "base_uri": "https://localhost:8080/"
        },
        "outputId": "1694c02f-f20f-4fa1-c94b-ea05162faec1"
      },
      "outputs": [
        {
          "output_type": "stream",
          "name": "stdout",
          "text": [
            "28/28 [==============================] - 0s 2ms/step\n",
            "14/14 [==============================] - 0s 2ms/step\n",
            "[ 3 11  5 25 13 25  4  3 25 25 25  3 29 11 15 29 25  5 13 13  3 24 24 24\n",
            " 13 13 13 13 29 11 14 23 11 24 24 24 13 24 24 24 24 24 29 20 20 11  5  7\n",
            "  7 24 24  7  5  5 13 13  7  7  7 19  7  7 11  7  7 28 28  7  7 27 28 28\n",
            " 28 28 28 28 28 28 28 28 28 27 27  5  4  9  4  4 29  4  4 29 23  5 17 17\n",
            " 17 17 17 17 17 17 17 17 17 17 17 18 18 18 18 18 18 18 18 18 18 18 18 18\n",
            " 18 18 23 26 12 12  3  4  4  4  4  4  4 27 27 27 15 26 27  0 23 15 15 15\n",
            " 23 16 22 22 22 22 22 22 22 22 22 22 22 22 22 22 22 26 29 23 26 13  0 23\n",
            " 23 23  9 23 23 23 27 27 27 27 27 29  9 12 27 14 14 14 14 14 14 14 14 14\n",
            " 14 14 14  8  8 27 27 15 15 14  9  5 20 15 15 15 15  8  8  8  8  8  8  8\n",
            "  8  8  9 14 20 20 19  3 20  5 20 15 25 13  0  5 29 29  9  7 29  5 20  4\n",
            " 15 21  7 16 26 16 21 11 11 20 11 20 20  9 15 26  0  9  6  6 26  6  6 10\n",
            " 10 10  6  1  1  1  1  1  1  1  1  1  1  1 21 11 13  3 23 16 24 10 10 10\n",
            " 10  1 21  1  6 10  1  6 10 10 21 21 21 10 21 16  1 21 21 10  6 21 16  3\n",
            "  6 25 25 19 16  0  0  9  0 26 21 26  0 19 11 28 16 16  2  0  8 25 26 29\n",
            " 20 19 25 25 25 25  8 26 26 12 12 12  3  8 12 12 12  6  6  6 11 12  9  6\n",
            " 15 26 10 10  6 12  9 12 25 12  3 12  7 16  6 10  5  5 20  8 20  3 19 16\n",
            "  4 16 16 16  3  2 11 11 29  9  9 19 23  2  2 17  5 16 24  2  2  2 19 13\n",
            "  2  2  2  3 23 26 21 11  2 26 19  0 28 21 19 29 19 19 19  9  9  0  0  2\n",
            "  3  3  2 19  0 21  0 19 20 13  2  0  2 29]\n",
            "########################\n",
            "[ 3 11  5  1 13 25  4  3 25 25 25  3 29 11 15 29 25  5 13 13  3 24 24 24\n",
            " 13 13 13 13 29 11 14 23 11 24 24 24 13 24 24 24 24 24 29 20 20 11  5  7\n",
            "  7 24 24  7  5  5 13 13  7  7  7 19  7  7 11  7  7 28 28  7  7 27 28 28\n",
            " 28 28 28 28 28 28 28 28 28 27 27  5  4  9  4  4  3  4  4 29 23  5 17 17\n",
            " 17 17 17 17 17 17 17 17 17 17 17 18 18 18 18 18 18 18 18 18 18 18 18 18\n",
            " 18 18 23 26 12 12  3  4  4  4  4  4  4 27 27 27 15 26 27 11 23 15 15 15\n",
            " 23 16 22 22 22 22 22 22 22 22 17 25 22 22 22 22 22 26 29 23 26 13  0 23\n",
            " 23 23  9 23 23 23 27 27 27 27 27 29  9  8 27 14 14 14 14 14 14 14 14 14\n",
            " 14 14 14  8  8 27 27 15 15 14  9  5 20 15 15 15 15  8  8  8  8  8  8  8\n",
            "  8  8  9 14 20 20 19  3 20  5 20 15 25 13  0  5 29 29  9  7 29  5 20  4\n",
            " 15 21  7 16 26 16 21 11 11 20 11 20 20  9 15 26  0  9  6  6 26  6  6 10\n",
            " 10 10  6  1  1  1  1  1  1  1  1  1  1  1 21 11 25  3 23 16 24 10 10 10\n",
            " 10  1 21  1  6 10  1  6 10 10 21 21 21 10 21 16  1 21 21 10  6 21 16  3\n",
            "  6 25 25 19 16  0  0  9  0 26 21 26  0 19 11 28 16 16  2  0  8 25 26 29\n",
            " 20 19 25 25 25 25 24 26 26 12 12 12  3  8 12 12 12  6  6  6 11 12  9  6\n",
            " 15 26 23 10  6 12  9 12  7 12  3 12  7 16  6 10 25  5 22 15 20  3 19 16\n",
            "  4 15 16 16  3  2 11 11 29  9  9 19 23  2  2 17 11 16 24  2  2  2 19 13\n",
            "  2  2  2  3 23 26 21 11  2 26 19  0 28 21 19 29 19 19 19  9  9  0  0  2\n",
            "  3  3  2 19  0 21  0 19 20 13  2  0  2 27]\n",
            "SVM Accuracy Score ->  96.41255605381166\n",
            "SVM Accuracy Score on training ->  99.88826815642457\n",
            "5/5 [==============================] - 0s 2ms/step\n",
            "SVM Accuracy Score on validation ->  98.64864864864865\n"
          ]
        }
      ],
      "source": [
        "X_train_encoded = fine_tuned_encoder.predict(X_train_scaled)\n",
        "\n",
        "# Fit to encoded data\n",
        "svm_autoencoder = SVC(kernel='linear', C=1)\n",
        "svm_autoencoder.fit(X_train_encoded, Y_train)\n",
        "\n",
        "# Encode the test data and use SVM to predict its labels\n",
        "X_test_encoded = fine_tuned_encoder.predict(X_test_scaled)\n",
        "predicted = svm_autoencoder.predict(X_test_encoded)\n",
        "\n",
        "print(Y_test)\n",
        "print(\"########################\")\n",
        "print(predicted)\n",
        "\n",
        "print(\"SVM Accuracy Score -> \", metrics.accuracy_score(predicted, Y_test)*100)\n",
        "\n",
        "predicted_train = svm_autoencoder.predict(X_train_encoded)\n",
        "print(\"SVM Accuracy Score on training -> \", metrics.accuracy_score(predicted_train, Y_train)*100)\n",
        "\n",
        "X_val_encoded = fine_tuned_encoder.predict(X_val_scaled)\n",
        "predicted_val = svm_autoencoder.predict(X_val_encoded)\n",
        "print(\"SVM Accuracy Score on validation -> \", metrics.accuracy_score(predicted_val, Y_val)*100)"
      ]
    },
    {
      "cell_type": "code",
      "execution_count": 54,
      "metadata": {
        "scrolled": false,
        "colab": {
          "base_uri": "https://localhost:8080/"
        },
        "id": "aYeWjSfmXzTi",
        "outputId": "87420a00-bfa9-4c07-af1a-70780ce18357"
      },
      "outputs": [
        {
          "output_type": "stream",
          "name": "stdout",
          "text": [
            "              precision    recall  f1-score   support\n",
            "\n",
            "           0       1.00      0.93      0.97        15\n",
            "           1       0.94      1.00      0.97        15\n",
            "           2       1.00      1.00      1.00        15\n",
            "           3       0.94      1.00      0.97        15\n",
            "           4       1.00      1.00      1.00        14\n",
            "           5       1.00      0.86      0.92        14\n",
            "           6       1.00      1.00      1.00        15\n",
            "           7       0.94      1.00      0.97        15\n",
            "           8       0.93      0.87      0.90        15\n",
            "           9       1.00      1.00      1.00        15\n",
            "          10       1.00      0.93      0.97        15\n",
            "          11       0.88      1.00      0.94        15\n",
            "          12       1.00      0.93      0.96        14\n",
            "          13       1.00      0.93      0.97        15\n",
            "          14       1.00      1.00      1.00        15\n",
            "          15       0.88      1.00      0.94        15\n",
            "          16       1.00      0.93      0.97        15\n",
            "          17       0.93      1.00      0.97        14\n",
            "          18       1.00      1.00      1.00        15\n",
            "          19       1.00      1.00      1.00        15\n",
            "          20       1.00      0.93      0.97        15\n",
            "          21       1.00      1.00      1.00        15\n",
            "          22       0.93      0.87      0.90        15\n",
            "          23       0.94      1.00      0.97        15\n",
            "          24       0.94      1.00      0.97        15\n",
            "          25       0.81      0.87      0.84        15\n",
            "          26       1.00      1.00      1.00        15\n",
            "          27       0.94      1.00      0.97        15\n",
            "          28       1.00      1.00      1.00        15\n",
            "          29       1.00      0.87      0.93        15\n",
            "\n",
            "    accuracy                           0.96       446\n",
            "   macro avg       0.97      0.96      0.96       446\n",
            "weighted avg       0.97      0.96      0.96       446\n",
            "\n"
          ]
        }
      ],
      "source": [
        "print(metrics.classification_report(Y_test, predicted))"
      ]
    },
    {
      "cell_type": "code",
      "execution_count": 55,
      "metadata": {
        "colab": {
          "base_uri": "https://localhost:8080/"
        },
        "id": "MsEBlYMPXzTj",
        "outputId": "6bfe52ba-522e-4a9b-a277-9459c2b50ed8"
      },
      "outputs": [
        {
          "output_type": "stream",
          "name": "stdout",
          "text": [
            "0.9628874557936343\n"
          ]
        }
      ],
      "source": [
        "print(metrics.cohen_kappa_score(Y_test, predicted))"
      ]
    },
    {
      "cell_type": "code",
      "execution_count": 56,
      "metadata": {
        "colab": {
          "base_uri": "https://localhost:8080/"
        },
        "id": "oHwn3TW-XzTj",
        "outputId": "26ef6c55-fe91-4ade-8874-7cbe137d614b"
      },
      "outputs": [
        {
          "output_type": "stream",
          "name": "stdout",
          "text": [
            "0.9629675904557704\n"
          ]
        }
      ],
      "source": [
        "print(metrics.matthews_corrcoef(Y_test, predicted))"
      ]
    }
  ],
  "metadata": {
    "accelerator": "GPU",
    "colab": {
      "gpuType": "T4",
      "provenance": []
    },
    "gpuClass": "standard",
    "kernelspec": {
      "display_name": "Python 3 (ipykernel)",
      "language": "python",
      "name": "python3"
    },
    "language_info": {
      "codemirror_mode": {
        "name": "ipython",
        "version": 3
      },
      "file_extension": ".py",
      "mimetype": "text/x-python",
      "name": "python",
      "nbconvert_exporter": "python",
      "pygments_lexer": "ipython3",
      "version": "3.8.10"
    }
  },
  "nbformat": 4,
  "nbformat_minor": 0
}