{
 "cells": [
  {
   "cell_type": "markdown",
   "metadata": {
    "id": "8FaoW2-BXzTR"
   },
   "source": [
    "# Support Vector Machine with SDAE"
   ]
  },
  {
   "cell_type": "markdown",
   "metadata": {},
   "source": [
    "## 1. Imports"
   ]
  },
  {
   "cell_type": "code",
   "execution_count": 1,
   "metadata": {
    "colab": {
     "base_uri": "https://localhost:8080/"
    },
    "id": "Q2V0zUN2adLl",
    "outputId": "b181cad5-0150-48dd-974a-20c1d6a22dc9",
    "scrolled": true
   },
   "outputs": [],
   "source": [
    "# from google.colab import drive\n",
    "# drive.mount('/content/drive')"
   ]
  },
  {
   "cell_type": "code",
   "execution_count": 2,
   "metadata": {
    "id": "NHYa0fZ7ajgl"
   },
   "outputs": [
    {
     "name": "stderr",
     "output_type": "stream",
     "text": [
      "2023-04-13 12:33:20.776499: I tensorflow/core/platform/cpu_feature_guard.cc:193] This TensorFlow binary is optimized with oneAPI Deep Neural Network Library (oneDNN) to use the following CPU instructions in performance-critical operations:  AVX2 AVX512F AVX512_VNNI FMA\n",
      "To enable them in other operations, rebuild TensorFlow with the appropriate compiler flags.\n",
      "2023-04-13 12:33:20.879505: I tensorflow/core/util/util.cc:169] oneDNN custom operations are on. You may see slightly different numerical results due to floating-point round-off errors from different computation orders. To turn them off, set the environment variable `TF_ENABLE_ONEDNN_OPTS=0`.\n",
      "2023-04-13 12:33:20.902474: E tensorflow/stream_executor/cuda/cuda_blas.cc:2981] Unable to register cuBLAS factory: Attempting to register factory for plugin cuBLAS when one has already been registered\n",
      "2023-04-13 12:33:21.327881: W tensorflow/stream_executor/platform/default/dso_loader.cc:64] Could not load dynamic library 'libnvinfer.so.7'; dlerror: libnvinfer.so.7: cannot open shared object file: No such file or directory\n",
      "2023-04-13 12:33:21.327960: W tensorflow/stream_executor/platform/default/dso_loader.cc:64] Could not load dynamic library 'libnvinfer_plugin.so.7'; dlerror: libnvinfer_plugin.so.7: cannot open shared object file: No such file or directory\n",
      "2023-04-13 12:33:21.327966: W tensorflow/compiler/tf2tensorrt/utils/py_utils.cc:38] TF-TRT Warning: Cannot dlopen some TensorRT libraries. If you would like to use Nvidia GPU with TensorRT, please make sure the missing libraries mentioned above are installed properly.\n"
     ]
    }
   ],
   "source": [
    "import os\n",
    "import numpy as np\n",
    "import pandas as pd\n",
    "\n",
    "# Classifier\n",
    "from sklearn.svm import SVC\n",
    "\n",
    "# Character N-gram feature extractor\n",
    "from sklearn.feature_extraction.text import CountVectorizer\n",
    "\n",
    "# Util\n",
    "from data_io import get_book\n",
    "import torch\n",
    "from sklearn import metrics\n",
    "from sklearn.preprocessing import LabelEncoder\n",
    "\n",
    "# Keras \n",
    "import keras\n",
    "from keras.layers import Input, Dense\n",
    "from keras.models import Model\n",
    "from keras.optimizers import Adam\n",
    "\n",
    "# Plotting\n",
    "import matplotlib.pyplot as plt\n",
    "\n",
    "import tensorflow as tf"
   ]
  },
  {
   "cell_type": "markdown",
   "metadata": {
    "id": "lNb80DPAauyM"
   },
   "source": [
    "## 2. Create the training, test and validation sets"
   ]
  },
  {
   "cell_type": "code",
   "execution_count": 3,
   "metadata": {},
   "outputs": [],
   "source": [
    "train_data = pd.concat(pd.read_csv(\"train.csv\", chunksize = 100))"
   ]
  },
  {
   "cell_type": "code",
   "execution_count": 4,
   "metadata": {
    "id": "wMzy7Auiaq5L",
    "scrolled": true
   },
   "outputs": [],
   "source": [
    "train_data = pd.concat(pd.read_csv(\"train.csv\", chunksize = 100))\n",
    "# test_data = pd.concat(pd.read_csv(\"test.csv\", chunksize = 100))\n",
    "# val_data = pd.concat(pd.read_csv(\"val.csv\", chunksize = 100))\n",
    "\n",
    "train_data = train_data.iloc[0:3]\n",
    "test_data = train_data.iloc[0:1]\n",
    "val_data = train_data.iloc[1:2]\n",
    "\n",
    "cv = CountVectorizer(analyzer='char', ngram_range=(1, 5), dtype=np.float32, max_features=10000)\n",
    "X_train, X_test, X_val = cv.fit_transform(train_data.text.tolist()), cv.transform(test_data.text.tolist()), cv.transform(val_data.text.tolist())  \n",
    "Y_train, Y_test, Y_val = train_data.author.tolist(), test_data.author.tolist(), val_data.author.tolist()"
   ]
  },
  {
   "cell_type": "markdown",
   "metadata": {
    "id": "_47vJnX8axRC"
   },
   "source": [
    "**Convert labelled data into numbers**"
   ]
  },
  {
   "cell_type": "code",
   "execution_count": 5,
   "metadata": {
    "colab": {
     "base_uri": "https://localhost:8080/"
    },
    "id": "PLf_7b2Jawm3",
    "outputId": "b002bb01-5dcd-4066-8cdb-5b7fc4a03e45"
   },
   "outputs": [
    {
     "name": "stdout",
     "output_type": "stream",
     "text": [
      "[0 2 1]\n"
     ]
    }
   ],
   "source": [
    "Encoder = LabelEncoder()\n",
    "Y_train = Encoder.fit_transform(Y_train)\n",
    "Y_test = Encoder.transform(Y_test)\n",
    "Y_val = Encoder.transform(Y_val)\n",
    "\n",
    "print(np.array(Y_train))"
   ]
  },
  {
   "cell_type": "markdown",
   "metadata": {
    "id": "VxWiB2Mfa44I"
   },
   "source": [
    "**Distribution of Training Data**"
   ]
  },
  {
   "cell_type": "code",
   "execution_count": 6,
   "metadata": {
    "colab": {
     "base_uri": "https://localhost:8080/"
    },
    "id": "L6WHsJcEa7ye",
    "outputId": "d568d28f-ee05-4cbb-c3b9-46e8d8315c82"
   },
   "outputs": [
    {
     "name": "stdout",
     "output_type": "stream",
     "text": [
      "(3, 10000)\n",
      "22448\n",
      "total occurrences of length 1 char n-gram\n",
      "160589\n",
      "total amount of length 1 char n-gram\n",
      "27\n",
      "total occurrences of length 2 char n-gram\n",
      "2072474\n",
      "total amount of length 2 char n-gram\n",
      "365\n",
      "total occurrences of length 3 char n-gram\n",
      "10683903\n",
      "total amount of length 3 char n-gram\n",
      "1976\n",
      "total occurrences of length 4 char n-gram\n",
      "19119360\n",
      "total amount of length 4 char n-gram\n",
      "3808\n",
      "total occurrences of length 5 char n-gram\n",
      "17958674\n",
      "total amount of length 5 char n-gram\n",
      "3824\n"
     ]
    }
   ],
   "source": [
    "print(X_train.shape)\n",
    "# print(cv.vocabulary_)\n",
    "print(len(train_data.text.tolist()[1].split(\" \")))\n",
    "\n",
    "one_ngram_occurrences = [cv.vocabulary_[ngram] for ngram in cv.vocabulary_ if len(ngram) == 1]\n",
    "print(\"total occurrences of length 1 char n-gram\")\n",
    "print(sum(one_ngram_occurrences))\n",
    "print(\"total amount of length 1 char n-gram\")\n",
    "print(len(one_ngram_occurrences))\n",
    "\n",
    "two_ngram_occurrences = [cv.vocabulary_[ngram] for ngram in cv.vocabulary_ if len(ngram) == 2]\n",
    "print(\"total occurrences of length 2 char n-gram\")\n",
    "print(sum(two_ngram_occurrences))\n",
    "print(\"total amount of length 2 char n-gram\")\n",
    "print(len(two_ngram_occurrences))\n",
    "\n",
    "three_ngram_occurrences = [cv.vocabulary_[ngram] for ngram in cv.vocabulary_ if len(ngram) == 3]\n",
    "print(\"total occurrences of length 3 char n-gram\")\n",
    "print(sum(three_ngram_occurrences))\n",
    "print(\"total amount of length 3 char n-gram\")\n",
    "print(len(three_ngram_occurrences))\n",
    "\n",
    "four_ngram_occurrences = [cv.vocabulary_[ngram] for ngram in cv.vocabulary_ if len(ngram) == 4]\n",
    "print(\"total occurrences of length 4 char n-gram\")\n",
    "print(sum(four_ngram_occurrences))\n",
    "print(\"total amount of length 4 char n-gram\")\n",
    "print(len(four_ngram_occurrences))\n",
    "\n",
    "five_ngram_occurrences = [cv.vocabulary_[ngram] for ngram in cv.vocabulary_ if len(ngram) == 5]\n",
    "print(\"total occurrences of length 5 char n-gram\")\n",
    "print(sum(five_ngram_occurrences))\n",
    "print(\"total amount of length 5 char n-gram\")\n",
    "print(len(five_ngram_occurrences))"
   ]
  },
  {
   "cell_type": "markdown",
   "metadata": {
    "id": "f0JCcruLa-pf"
   },
   "source": [
    "**Data Normalization using MinMax Scaler**"
   ]
  },
  {
   "cell_type": "code",
   "execution_count": 7,
   "metadata": {
    "colab": {
     "base_uri": "https://localhost:8080/"
    },
    "id": "SSuP6NGnbBFH",
    "outputId": "3502a6c0-46ab-4ce2-b2f2-b16517402285"
   },
   "outputs": [
    {
     "name": "stdout",
     "output_type": "stream",
     "text": [
      "[[0.99999994 1.         1.         ... 0.6478873  0.67164177 0.5294118 ]\n",
      " [0.         0.         0.         ... 0.         0.         0.        ]\n",
      " [0.65674055 0.58286643 0.80767155 ... 0.99999994 1.         1.        ]]\n"
     ]
    }
   ],
   "source": [
    "from sklearn.preprocessing import MinMaxScaler\n",
    "\n",
    "X_train, X_test, X_val = X_train.toarray(), X_test.toarray(), X_val.toarray()\n",
    "\n",
    "scaler = MinMaxScaler()\n",
    "scaler.fit(X_train)\n",
    "X_train_scaled = scaler.transform(X_train)\n",
    "X_test_scaled = scaler.transform(X_test)\n",
    "X_val_scaled = scaler.transform(X_val)\n",
    "\n",
    "print(X_train_scaled)"
   ]
  },
  {
   "cell_type": "markdown",
   "metadata": {
    "id": "b0tZkm7ebFoz"
   },
   "source": [
    "## 3. SVM without SDAE"
   ]
  },
  {
   "cell_type": "code",
   "execution_count": 8,
   "metadata": {},
   "outputs": [],
   "source": [
    "model_names = ['Raw SVM', '1-layer SDAE SVM', '2-layers SDAE SVM', '3-layers SDAE SVM']\n",
    "predicted_arr = []"
   ]
  },
  {
   "cell_type": "code",
   "execution_count": 9,
   "metadata": {
    "colab": {
     "base_uri": "https://localhost:8080/"
    },
    "id": "M-ao1sPybDNk",
    "outputId": "b14529d4-e70d-4036-b011-f64f9fc2daee"
   },
   "outputs": [
    {
     "name": "stdout",
     "output_type": "stream",
     "text": [
      "SVM Accuracy Score on test ->  100.0\n",
      "SVM Accuracy Score on training ->  100.0\n",
      "SVM Accuracy Score on validation ->  100.0\n"
     ]
    }
   ],
   "source": [
    "svm = SVC(kernel='linear', C=1)\n",
    "svm.fit(X_train_scaled, Y_train)\n",
    "preds = svm.predict(X_test_scaled)\n",
    "\n",
    "# print(Y_test)\n",
    "# print(\"############################################\")\n",
    "# print(preds)\n",
    "print(\"SVM Accuracy Score on test -> \", metrics.accuracy_score(preds, Y_test)*100)\n",
    "print(\"SVM Accuracy Score on training -> \", metrics.accuracy_score(svm.predict(X_train_scaled), Y_train)*100)\n",
    "print(\"SVM Accuracy Score on validation -> \", metrics.accuracy_score(svm.predict(X_val_scaled), Y_val)*100)\n",
    "\n",
    "predicted_arr.append(preds)"
   ]
  },
  {
   "cell_type": "markdown",
   "metadata": {
    "id": "etDUqknUbUV4"
   },
   "source": [
    "## 4. SVM with SDAE"
   ]
  },
  {
   "cell_type": "markdown",
   "metadata": {
    "id": "m-JrxPuFbYpO"
   },
   "source": [
    "### 4.1 Class for tying weights in a denoising auto encoder"
   ]
  },
  {
   "cell_type": "code",
   "execution_count": 10,
   "metadata": {
    "id": "cd5qb5cpbdhj"
   },
   "outputs": [],
   "source": [
    "# Code referenced from https://medium.com/@lmayrandprovencher/building-an-autoencoder-with-tied-weights-in-keras-c4a559c529a2\n",
    "\n",
    "class DenseTranspose(keras.layers.Layer):\n",
    "    def __init__(self, dense, activation=None, **kwargs):\n",
    "        self.dense = dense\n",
    "        self.activation = keras.activations.get(activation)\n",
    "        super().__init__(**kwargs)\n",
    "\n",
    "    def build(self, batch_input_shape):\n",
    "        self.biases = self.add_weight(name=\"bias\",\n",
    "                                      shape=[self.dense.input_shape[-1]],\n",
    "                                      initializer=\"zeros\")\n",
    "        super().build(batch_input_shape)\n",
    "  \n",
    "    def call(self, inputs):\n",
    "        z = tf.matmul(inputs, self.dense.weights[0], transpose_b=True)\n",
    "        return self.activation(z + self.biases)"
   ]
  },
  {
   "cell_type": "markdown",
   "metadata": {
    "id": "qwOQSUXsbils"
   },
   "source": [
    "### 4.2 Class for construction of a denoising autoencoder"
   ]
  },
  {
   "cell_type": "code",
   "execution_count": 11,
   "metadata": {
    "id": "0AZWA6N9bmWk"
   },
   "outputs": [],
   "source": [
    "np.random.seed(55)\n",
    "class DenoisingAutoEncoder:\n",
    "    def __init__(self, layers, corruption, activate_encoder, activate_decoder):\n",
    "        self.layers = layers\n",
    "        self.corruption = corruption\n",
    "        self.activate_encoder = activate_encoder\n",
    "        self.activate_decoder = activate_decoder\n",
    "        self.history = None\n",
    "  \n",
    "    def forward(self, X_train, X_val, epochs, batch_size):\n",
    "        # Step 1, Add binomial noise\n",
    "        X_train_noisy = self.inject_noise(X_train)\n",
    "\n",
    "        # Step 2, Encode X_train_noisy using sigmoid\n",
    "        encoder_input = Input(shape = (X_train_noisy.shape[1], ))\n",
    "        encoder = Dense(self.layers[0], activation=self.activate_encoder)\n",
    "        final_encoder = encoder(encoder_input)\n",
    "\n",
    "        # Step 3, Decode X_train_noisy using sigmoid\n",
    "        # Tie the weights between the encoder and decoder layers\n",
    "        decoder = DenseTranspose(encoder, activation=self.activate_decoder)\n",
    "        final_decoder = decoder(final_encoder)\n",
    "\n",
    "        # Step 4, cross entropy loss for normalised data and adam optimizer (Not sure what optimizer the paper uses)\n",
    "        autoencoder = Model(encoder_input, final_decoder)\n",
    "        autoencoder.compile(loss = 'binary_crossentropy', optimizer = 'adam')\n",
    "\n",
    "        # Train it\n",
    "        self.history = autoencoder.fit(X_train_noisy, X_train, batch_size = batch_size, epochs = epochs, validation_data=(X_val, X_val))\n",
    "        autoencoder.summary()\n",
    "\n",
    "        # Get the model that maps input to its encoded representation\n",
    "        encoder_model = Model(encoder_input, final_encoder)\n",
    "\n",
    "        # Return the (encoding model, encoding function)\n",
    "        return (encoder_model, encoder)\n",
    "\n",
    "    def inject_noise(self, x):\n",
    "        # inject binomial noise since this model assumes you are normalising input \n",
    "        # with min max normalisation\n",
    "        mask = np.random.choice([0, 1], size=x.shape, p=[self.corruption, 1-self.corruption])\n",
    "        X_noisy = x * mask\n",
    "        return X_noisy"
   ]
  },
  {
   "cell_type": "markdown",
   "metadata": {
    "id": "Q0YQwys_b2oH"
   },
   "source": [
    "### 4.3 Class for construction of a stacked denoising autoencoder"
   ]
  },
  {
   "cell_type": "code",
   "execution_count": 12,
   "metadata": {
    "id": "43IDvyzkjTwi"
   },
   "outputs": [],
   "source": [
    "# For picking the best model while fine-tuning\n",
    "from tensorflow.keras.callbacks import ModelCheckpoint"
   ]
  },
  {
   "cell_type": "code",
   "execution_count": 13,
   "metadata": {
    "id": "DxyEtio8b7g7"
   },
   "outputs": [],
   "source": [
    "class StackedDenoisingAutoEncoder():\n",
    "    def __init__(self, layers, corruption, activate_encoder, activate_decoder):\n",
    "        self.layers = layers\n",
    "        self.corruption = corruption\n",
    "        self.activate_encoder = activate_encoder\n",
    "        self.activate_decoder = activate_decoder\n",
    "        self.encoding_funcs = []\n",
    "        self.encoder_layers = []\n",
    "        self.history = None\n",
    "  \n",
    "    def pretrain(self, X_train, X_val, epochs, batch_size):\n",
    "        # self.layers contains the units each denoising autoencoder should take in\n",
    "        learnt_input = X_train\n",
    "        encoded_validation = X_val\n",
    "        for layer in self.layers:\n",
    "            autoencoder = DenoisingAutoEncoder([layer], self.corruption, self.activate_encoder, self.activate_decoder)\n",
    "            (encoding_function, encoder) = autoencoder.forward(learnt_input, encoded_validation, epochs, batch_size)\n",
    "            learnt_input = encoding_function.predict(learnt_input)\n",
    "            encoded_validation = encoding_function.predict(encoded_validation)\n",
    "\n",
    "            self.encoding_funcs.append(encoding_function)\n",
    "            self.encoder_layers.append(encoder)\n",
    "\n",
    "        self.history = autoencoder.history\n",
    "\n",
    "    def finetune(self, X_train, Y_train, X_val, Y_val, epochs, batch_size):\n",
    "        encoder_input = Input(shape = (X_train.shape[1], ))\n",
    "\n",
    "        final_encoder = encoder_input\n",
    "        for encoder in self.encoder_layers:\n",
    "            final_encoder = encoder(final_encoder)\n",
    "\n",
    "        # Define the logistic regression layer\n",
    "        lr_layer = Dense(Y_train.shape[1], activation='softmax')\n",
    "        predictions = lr_layer(final_encoder)\n",
    "\n",
    "        # Create the fine-tuned model\n",
    "        fine_tuned_model = Model(inputs=encoder_input, outputs=predictions)\n",
    "        fine_tuned_model.compile(loss='categorical_crossentropy', optimizer='adam')\n",
    "\n",
    "        # Select best model\n",
    "        checkpointer = ModelCheckpoint(filepath=\"weights.hdf5\", verbose=1, save_best_only=True)\n",
    "        self.history = fine_tuned_model.fit(X_train, Y_train, epochs=epochs, batch_size=batch_size, validation_data=(X_val, Y_val), callbacks=[checkpointer])\n",
    "        fine_tuned_model.load_weights('weights.hdf5')\n",
    "\n",
    "        fine_tuned_encoder = Model(inputs=encoder_input, outputs=final_encoder)\n",
    "        return (fine_tuned_model, fine_tuned_encoder)\n",
    "        # predicted = model.predict(X_test_mat)\n",
    "\n",
    "    def encode(self, X):\n",
    "        encoded_representation = X\n",
    "        for func in self.encoder_layers:\n",
    "            encoded_representation = func.predict(encoded_representation)\n",
    "        return encoded_representation"
   ]
  },
  {
   "cell_type": "markdown",
   "metadata": {
    "id": "rEd-jwpqgoHZ"
   },
   "source": [
    "## 5. Pretraining and Finetuning"
   ]
  },
  {
   "cell_type": "markdown",
   "metadata": {
    "id": "H1w5tdUiddbT"
   },
   "source": [
    "**Pretrain the denoising autoencoder**"
   ]
  },
  {
   "cell_type": "code",
   "execution_count": 14,
   "metadata": {
    "colab": {
     "base_uri": "https://localhost:8080/"
    },
    "id": "UgJDtaVYdb71",
    "outputId": "34577e16-c735-41d6-d4ec-3db4417cc11a",
    "scrolled": true
   },
   "outputs": [
    {
     "name": "stderr",
     "output_type": "stream",
     "text": [
      "2023-04-13 12:33:24.201506: I tensorflow/stream_executor/cuda/cuda_gpu_executor.cc:966] could not open file to read NUMA node: /sys/bus/pci/devices/0000:01:00.0/numa_node\n",
      "Your kernel may have been built without NUMA support.\n",
      "2023-04-13 12:33:24.276853: W tensorflow/stream_executor/platform/default/dso_loader.cc:64] Could not load dynamic library 'libcusolver.so.11'; dlerror: libcusolver.so.11: cannot open shared object file: No such file or directory\n",
      "2023-04-13 12:33:24.276920: W tensorflow/stream_executor/platform/default/dso_loader.cc:64] Could not load dynamic library 'libcusparse.so.11'; dlerror: libcusparse.so.11: cannot open shared object file: No such file or directory\n",
      "2023-04-13 12:33:24.276963: W tensorflow/core/common_runtime/gpu/gpu_device.cc:1934] Cannot dlopen some GPU libraries. Please make sure the missing libraries mentioned above are installed properly if you would like to use GPU. Follow the guide at https://www.tensorflow.org/install/gpu for how to download and setup the required libraries for your platform.\n",
      "Skipping registering GPU devices...\n",
      "2023-04-13 12:33:24.278589: I tensorflow/core/platform/cpu_feature_guard.cc:193] This TensorFlow binary is optimized with oneAPI Deep Neural Network Library (oneDNN) to use the following CPU instructions in performance-critical operations:  AVX2 AVX512F AVX512_VNNI FMA\n",
      "To enable them in other operations, rebuild TensorFlow with the appropriate compiler flags.\n"
     ]
    },
    {
     "name": "stdout",
     "output_type": "stream",
     "text": [
      "Epoch 1/20\n",
      "3/3 [==============================] - 1s 78ms/step - loss: 0.6969 - val_loss: 0.2443\n",
      "Epoch 2/20\n",
      "3/3 [==============================] - 0s 37ms/step - loss: 0.5345 - val_loss: 0.0920\n",
      "Epoch 3/20\n",
      "3/3 [==============================] - 0s 36ms/step - loss: 0.4852 - val_loss: 0.0543\n",
      "Epoch 4/20\n",
      "3/3 [==============================] - 0s 40ms/step - loss: 0.4814 - val_loss: 0.0434\n",
      "Epoch 5/20\n",
      "3/3 [==============================] - 0s 38ms/step - loss: 0.4765 - val_loss: 0.0391\n",
      "Epoch 6/20\n",
      "3/3 [==============================] - 0s 36ms/step - loss: 0.4743 - val_loss: 0.0374\n",
      "Epoch 7/20\n",
      "3/3 [==============================] - 0s 36ms/step - loss: 0.4735 - val_loss: 0.0359\n",
      "Epoch 8/20\n",
      "3/3 [==============================] - 0s 36ms/step - loss: 0.4727 - val_loss: 0.0359\n",
      "Epoch 9/20\n",
      "3/3 [==============================] - 0s 39ms/step - loss: 0.4724 - val_loss: 0.0353\n",
      "Epoch 10/20\n",
      "3/3 [==============================] - 0s 40ms/step - loss: 0.4720 - val_loss: 0.0345\n",
      "Epoch 11/20\n",
      "3/3 [==============================] - 0s 37ms/step - loss: 0.4714 - val_loss: 0.0341\n",
      "Epoch 12/20\n",
      "3/3 [==============================] - 0s 36ms/step - loss: 0.4709 - val_loss: 0.0339\n",
      "Epoch 13/20\n",
      "3/3 [==============================] - 0s 36ms/step - loss: 0.4705 - val_loss: 0.0339\n",
      "Epoch 14/20\n",
      "3/3 [==============================] - 0s 36ms/step - loss: 0.4704 - val_loss: 0.0339\n",
      "Epoch 15/20\n",
      "3/3 [==============================] - 0s 36ms/step - loss: 0.4699 - val_loss: 0.0336\n",
      "Epoch 16/20\n",
      "3/3 [==============================] - 0s 36ms/step - loss: 0.4696 - val_loss: 0.0337\n",
      "Epoch 17/20\n",
      "3/3 [==============================] - 0s 36ms/step - loss: 0.4692 - val_loss: 0.0335\n",
      "Epoch 18/20\n",
      "3/3 [==============================] - 0s 36ms/step - loss: 0.4690 - val_loss: 0.0335\n",
      "Epoch 19/20\n",
      "3/3 [==============================] - 0s 36ms/step - loss: 0.4685 - val_loss: 0.0335\n",
      "Epoch 20/20\n",
      "3/3 [==============================] - 0s 36ms/step - loss: 0.4683 - val_loss: 0.0335\n",
      "Model: \"model\"\n",
      "_________________________________________________________________\n",
      " Layer (type)                Output Shape              Param #   \n",
      "=================================================================\n",
      " input_1 (InputLayer)        [(None, 10000)]           0         \n",
      "                                                                 \n",
      " dense (Dense)               (None, 1000)              10001000  \n",
      "                                                                 \n",
      " dense_transpose (DenseTrans  (None, 10000)            10011000  \n",
      " pose)                                                           \n",
      "                                                                 \n",
      "=================================================================\n",
      "Total params: 10,011,000\n",
      "Trainable params: 10,011,000\n",
      "Non-trainable params: 0\n",
      "_________________________________________________________________\n",
      "1/1 [==============================] - 0s 46ms/step\n",
      "1/1 [==============================] - 0s 15ms/step\n"
     ]
    }
   ],
   "source": [
    "# The \"stacked\" auto encoder will only contain 1 denoising auto encoder that will \n",
    "# transform the original input into 1000 units. Noise corruption is 0.3 and it uses \n",
    "# sigmoid activation for both encoder and decoder\n",
    "stacked_auto_encoder_1 = StackedDenoisingAutoEncoder([1000], 0.3, 'sigmoid', 'sigmoid')\n",
    "stacked_auto_encoder_1.pretrain(X_train_scaled, X_val_scaled, 20, 1)"
   ]
  },
  {
   "cell_type": "code",
   "execution_count": 15,
   "metadata": {},
   "outputs": [
    {
     "name": "stdout",
     "output_type": "stream",
     "text": [
      "Epoch 1/20\n",
      "3/3 [==============================] - 0s 64ms/step - loss: 0.7229 - val_loss: 0.6911\n",
      "Epoch 2/20\n",
      "3/3 [==============================] - 0s 36ms/step - loss: 0.6194 - val_loss: 0.5002\n",
      "Epoch 3/20\n",
      "3/3 [==============================] - 0s 36ms/step - loss: 0.4962 - val_loss: 0.3500\n",
      "Epoch 4/20\n",
      "3/3 [==============================] - 0s 36ms/step - loss: 0.4100 - val_loss: 0.2217\n",
      "Epoch 5/20\n",
      "3/3 [==============================] - 0s 37ms/step - loss: 0.3654 - val_loss: 0.1388\n",
      "Epoch 6/20\n",
      "3/3 [==============================] - 0s 38ms/step - loss: 0.3244 - val_loss: 0.0968\n",
      "Epoch 7/20\n",
      "3/3 [==============================] - 0s 37ms/step - loss: 0.2973 - val_loss: 0.0746\n",
      "Epoch 8/20\n",
      "3/3 [==============================] - 0s 40ms/step - loss: 0.2750 - val_loss: 0.0612\n",
      "Epoch 9/20\n",
      "3/3 [==============================] - 0s 36ms/step - loss: 0.2607 - val_loss: 0.0537\n",
      "Epoch 10/20\n",
      "3/3 [==============================] - 0s 36ms/step - loss: 0.2449 - val_loss: 0.0484\n",
      "Epoch 11/20\n",
      "3/3 [==============================] - 0s 36ms/step - loss: 0.2344 - val_loss: 0.0450\n",
      "Epoch 12/20\n",
      "3/3 [==============================] - 0s 36ms/step - loss: 0.2257 - val_loss: 0.0427\n",
      "Epoch 13/20\n",
      "3/3 [==============================] - 0s 38ms/step - loss: 0.2197 - val_loss: 0.0411\n",
      "Epoch 14/20\n",
      "3/3 [==============================] - 0s 36ms/step - loss: 0.2141 - val_loss: 0.0401\n",
      "Epoch 15/20\n",
      "3/3 [==============================] - 0s 37ms/step - loss: 0.2088 - val_loss: 0.0391\n",
      "Epoch 16/20\n",
      "3/3 [==============================] - 0s 40ms/step - loss: 0.2066 - val_loss: 0.0384\n",
      "Epoch 17/20\n",
      "3/3 [==============================] - 0s 37ms/step - loss: 0.2019 - val_loss: 0.0379\n",
      "Epoch 18/20\n",
      "3/3 [==============================] - 0s 36ms/step - loss: 0.1991 - val_loss: 0.0375\n",
      "Epoch 19/20\n",
      "3/3 [==============================] - 0s 36ms/step - loss: 0.1970 - val_loss: 0.0372\n",
      "Epoch 20/20\n",
      "3/3 [==============================] - 0s 37ms/step - loss: 0.1943 - val_loss: 0.0369\n",
      "Model: \"model_2\"\n",
      "_________________________________________________________________\n",
      " Layer (type)                Output Shape              Param #   \n",
      "=================================================================\n",
      " input_2 (InputLayer)        [(None, 10000)]           0         \n",
      "                                                                 \n",
      " dense_1 (Dense)             (None, 1000)              10001000  \n",
      "                                                                 \n",
      " dense_transpose_1 (DenseTra  (None, 10000)            10011000  \n",
      " nspose)                                                         \n",
      "                                                                 \n",
      "=================================================================\n",
      "Total params: 10,011,000\n",
      "Trainable params: 10,011,000\n",
      "Non-trainable params: 0\n",
      "_________________________________________________________________\n",
      "1/1 [==============================] - 0s 29ms/step\n",
      "1/1 [==============================] - 0s 16ms/step\n",
      "Epoch 1/20\n",
      "3/3 [==============================] - 0s 48ms/step - loss: 0.6957 - val_loss: 0.7531\n",
      "Epoch 2/20\n",
      "3/3 [==============================] - 0s 13ms/step - loss: 0.5257 - val_loss: 0.6722\n",
      "Epoch 3/20\n",
      "3/3 [==============================] - 0s 14ms/step - loss: 0.4034 - val_loss: 0.5925\n",
      "Epoch 4/20\n",
      "3/3 [==============================] - 0s 14ms/step - loss: 0.3314 - val_loss: 0.4581\n",
      "Epoch 5/20\n",
      "3/3 [==============================] - 0s 13ms/step - loss: 0.2638 - val_loss: 0.3431\n",
      "Epoch 6/20\n",
      "3/3 [==============================] - 0s 13ms/step - loss: 0.2132 - val_loss: 0.2529\n",
      "Epoch 7/20\n",
      "3/3 [==============================] - 0s 12ms/step - loss: 0.1610 - val_loss: 0.1944\n",
      "Epoch 8/20\n",
      "3/3 [==============================] - 0s 12ms/step - loss: 0.1314 - val_loss: 0.1561\n",
      "Epoch 9/20\n",
      "3/3 [==============================] - 0s 12ms/step - loss: 0.1203 - val_loss: 0.1252\n",
      "Epoch 10/20\n",
      "3/3 [==============================] - 0s 12ms/step - loss: 0.1031 - val_loss: 0.1080\n",
      "Epoch 11/20\n",
      "3/3 [==============================] - 0s 13ms/step - loss: 0.0938 - val_loss: 0.0948\n",
      "Epoch 12/20\n",
      "3/3 [==============================] - 0s 13ms/step - loss: 0.0842 - val_loss: 0.0881\n",
      "Epoch 13/20\n",
      "3/3 [==============================] - 0s 13ms/step - loss: 0.0748 - val_loss: 0.0835\n",
      "Epoch 14/20\n",
      "3/3 [==============================] - 0s 14ms/step - loss: 0.0669 - val_loss: 0.0792\n",
      "Epoch 15/20\n",
      "3/3 [==============================] - 0s 14ms/step - loss: 0.0615 - val_loss: 0.0762\n",
      "Epoch 16/20\n",
      "3/3 [==============================] - 0s 13ms/step - loss: 0.0557 - val_loss: 0.0737\n",
      "Epoch 17/20\n",
      "3/3 [==============================] - 0s 13ms/step - loss: 0.0523 - val_loss: 0.0718\n",
      "Epoch 18/20\n",
      "3/3 [==============================] - 0s 13ms/step - loss: 0.0482 - val_loss: 0.0705\n",
      "Epoch 19/20\n",
      "3/3 [==============================] - 0s 13ms/step - loss: 0.0444 - val_loss: 0.0688\n",
      "Epoch 20/20\n",
      "3/3 [==============================] - 0s 14ms/step - loss: 0.0416 - val_loss: 0.0675\n",
      "Model: \"model_4\"\n",
      "_________________________________________________________________\n",
      " Layer (type)                Output Shape              Param #   \n",
      "=================================================================\n",
      " input_3 (InputLayer)        [(None, 1000)]            0         \n",
      "                                                                 \n",
      " dense_2 (Dense)             (None, 1000)              1001000   \n",
      "                                                                 \n",
      " dense_transpose_2 (DenseTra  (None, 1000)             1002000   \n",
      " nspose)                                                         \n",
      "                                                                 \n",
      "=================================================================\n",
      "Total params: 1,002,000\n",
      "Trainable params: 1,002,000\n",
      "Non-trainable params: 0\n",
      "_________________________________________________________________\n",
      "1/1 [==============================] - 0s 30ms/step\n",
      "1/1 [==============================] - 0s 15ms/step\n"
     ]
    }
   ],
   "source": [
    "# The \"stacked\" auto encoder will have 2 DAE's stacked, each with 1000 units.\n",
    "stacked_auto_encoder_2 = StackedDenoisingAutoEncoder([1000, 1000], 0.3, 'sigmoid', 'sigmoid')\n",
    "stacked_auto_encoder_2.pretrain(X_train_scaled, X_val_scaled, 20, 1)"
   ]
  },
  {
   "cell_type": "code",
   "execution_count": 16,
   "metadata": {},
   "outputs": [
    {
     "name": "stdout",
     "output_type": "stream",
     "text": [
      "Epoch 1/20\n",
      "3/3 [==============================] - 0s 67ms/step - loss: 0.6965 - val_loss: 0.2407\n",
      "Epoch 2/20\n",
      "3/3 [==============================] - 0s 37ms/step - loss: 0.5209 - val_loss: 0.1069\n",
      "Epoch 3/20\n",
      "3/3 [==============================] - 0s 36ms/step - loss: 0.5038 - val_loss: 0.0538\n",
      "Epoch 4/20\n",
      "3/3 [==============================] - 0s 39ms/step - loss: 0.4811 - val_loss: 0.0459\n",
      "Epoch 5/20\n",
      "3/3 [==============================] - 0s 42ms/step - loss: 0.4772 - val_loss: 0.0419\n",
      "Epoch 6/20\n",
      "3/3 [==============================] - 0s 39ms/step - loss: 0.4754 - val_loss: 0.0379\n",
      "Epoch 7/20\n",
      "3/3 [==============================] - 0s 43ms/step - loss: 0.4737 - val_loss: 0.0364\n",
      "Epoch 8/20\n",
      "3/3 [==============================] - 0s 39ms/step - loss: 0.4731 - val_loss: 0.0367\n",
      "Epoch 9/20\n",
      "3/3 [==============================] - 0s 37ms/step - loss: 0.4726 - val_loss: 0.0352\n",
      "Epoch 10/20\n",
      "3/3 [==============================] - 0s 38ms/step - loss: 0.4720 - val_loss: 0.0349\n",
      "Epoch 11/20\n",
      "3/3 [==============================] - 0s 40ms/step - loss: 0.4714 - val_loss: 0.0343\n",
      "Epoch 12/20\n",
      "3/3 [==============================] - 0s 40ms/step - loss: 0.4710 - val_loss: 0.0341\n",
      "Epoch 13/20\n",
      "3/3 [==============================] - 0s 39ms/step - loss: 0.4705 - val_loss: 0.0338\n",
      "Epoch 14/20\n",
      "3/3 [==============================] - 0s 36ms/step - loss: 0.4702 - val_loss: 0.0338\n",
      "Epoch 15/20\n",
      "3/3 [==============================] - 0s 37ms/step - loss: 0.4699 - val_loss: 0.0336\n",
      "Epoch 16/20\n",
      "3/3 [==============================] - 0s 38ms/step - loss: 0.4695 - val_loss: 0.0335\n",
      "Epoch 17/20\n",
      "3/3 [==============================] - 0s 37ms/step - loss: 0.4692 - val_loss: 0.0334\n",
      "Epoch 18/20\n",
      "3/3 [==============================] - 0s 37ms/step - loss: 0.4688 - val_loss: 0.0334\n",
      "Epoch 19/20\n",
      "3/3 [==============================] - 0s 37ms/step - loss: 0.4685 - val_loss: 0.0333\n",
      "Epoch 20/20\n",
      "3/3 [==============================] - 0s 39ms/step - loss: 0.4683 - val_loss: 0.0333\n",
      "Model: \"model_6\"\n",
      "_________________________________________________________________\n",
      " Layer (type)                Output Shape              Param #   \n",
      "=================================================================\n",
      " input_4 (InputLayer)        [(None, 10000)]           0         \n",
      "                                                                 \n",
      " dense_3 (Dense)             (None, 1000)              10001000  \n",
      "                                                                 \n",
      " dense_transpose_3 (DenseTra  (None, 10000)            10011000  \n",
      " nspose)                                                         \n",
      "                                                                 \n",
      "=================================================================\n",
      "Total params: 10,011,000\n",
      "Trainable params: 10,011,000\n",
      "Non-trainable params: 0\n",
      "_________________________________________________________________\n",
      "1/1 [==============================] - 0s 33ms/step\n",
      "1/1 [==============================] - 0s 17ms/step\n",
      "Epoch 1/20\n",
      "3/3 [==============================] - 0s 41ms/step - loss: 0.7029 - val_loss: 0.7764\n",
      "Epoch 2/20\n",
      "3/3 [==============================] - 0s 14ms/step - loss: 0.4053 - val_loss: 0.7190\n",
      "Epoch 3/20\n",
      "3/3 [==============================] - 0s 14ms/step - loss: 0.3102 - val_loss: 0.6876\n",
      "Epoch 4/20\n",
      "3/3 [==============================] - 0s 14ms/step - loss: 0.2661 - val_loss: 0.6643\n",
      "Epoch 5/20\n",
      "3/3 [==============================] - 0s 15ms/step - loss: 0.2410 - val_loss: 0.6357\n",
      "Epoch 6/20\n",
      "3/3 [==============================] - 0s 14ms/step - loss: 0.2205 - val_loss: 0.6065\n",
      "Epoch 7/20\n",
      "3/3 [==============================] - 0s 14ms/step - loss: 0.2048 - val_loss: 0.5723\n",
      "Epoch 8/20\n",
      "3/3 [==============================] - 0s 15ms/step - loss: 0.1901 - val_loss: 0.5359\n",
      "Epoch 9/20\n",
      "3/3 [==============================] - 0s 14ms/step - loss: 0.1797 - val_loss: 0.4958\n",
      "Epoch 10/20\n",
      "3/3 [==============================] - 0s 15ms/step - loss: 0.1655 - val_loss: 0.4578\n",
      "Epoch 11/20\n",
      "3/3 [==============================] - 0s 13ms/step - loss: 0.1492 - val_loss: 0.4249\n",
      "Epoch 12/20\n",
      "3/3 [==============================] - 0s 13ms/step - loss: 0.1448 - val_loss: 0.3888\n",
      "Epoch 13/20\n",
      "3/3 [==============================] - 0s 13ms/step - loss: 0.1265 - val_loss: 0.3608\n",
      "Epoch 14/20\n",
      "3/3 [==============================] - 0s 14ms/step - loss: 0.1173 - val_loss: 0.3345\n",
      "Epoch 15/20\n",
      "3/3 [==============================] - 0s 14ms/step - loss: 0.1113 - val_loss: 0.3082\n",
      "Epoch 16/20\n",
      "3/3 [==============================] - 0s 14ms/step - loss: 0.1004 - val_loss: 0.2863\n",
      "Epoch 17/20\n",
      "3/3 [==============================] - 0s 13ms/step - loss: 0.0954 - val_loss: 0.2648\n",
      "Epoch 18/20\n",
      "3/3 [==============================] - 0s 14ms/step - loss: 0.0905 - val_loss: 0.2445\n",
      "Epoch 19/20\n",
      "3/3 [==============================] - 0s 13ms/step - loss: 0.0819 - val_loss: 0.2279\n",
      "Epoch 20/20\n",
      "3/3 [==============================] - 0s 13ms/step - loss: 0.0781 - val_loss: 0.2121\n",
      "Model: \"model_8\"\n",
      "_________________________________________________________________\n",
      " Layer (type)                Output Shape              Param #   \n",
      "=================================================================\n",
      " input_5 (InputLayer)        [(None, 1000)]            0         \n",
      "                                                                 \n",
      " dense_4 (Dense)             (None, 1000)              1001000   \n",
      "                                                                 \n",
      " dense_transpose_4 (DenseTra  (None, 1000)             1002000   \n",
      " nspose)                                                         \n",
      "                                                                 \n",
      "=================================================================\n",
      "Total params: 1,002,000\n",
      "Trainable params: 1,002,000\n",
      "Non-trainable params: 0\n",
      "_________________________________________________________________\n",
      "WARNING:tensorflow:5 out of the last 9 calls to <function Model.make_predict_function.<locals>.predict_function at 0x7f38cb2cfdc0> triggered tf.function retracing. Tracing is expensive and the excessive number of tracings could be due to (1) creating @tf.function repeatedly in a loop, (2) passing tensors with different shapes, (3) passing Python objects instead of tensors. For (1), please define your @tf.function outside of the loop. For (2), @tf.function has reduce_retracing=True option that can avoid unnecessary retracing. For (3), please refer to https://www.tensorflow.org/guide/function#controlling_retracing and https://www.tensorflow.org/api_docs/python/tf/function for  more details.\n",
      "1/1 [==============================] - 0s 29ms/step\n",
      "1/1 [==============================] - 0s 14ms/step\n",
      "Epoch 1/20\n",
      "3/3 [==============================] - 0s 41ms/step - loss: 0.7303 - val_loss: 0.3303\n",
      "Epoch 2/20\n",
      "3/3 [==============================] - 0s 13ms/step - loss: 0.5884 - val_loss: 0.2431\n",
      "Epoch 3/20\n",
      "3/3 [==============================] - 0s 14ms/step - loss: 0.5690 - val_loss: 0.1554\n",
      "Epoch 4/20\n",
      "3/3 [==============================] - 0s 14ms/step - loss: 0.5497 - val_loss: 0.0916\n",
      "Epoch 5/20\n",
      "3/3 [==============================] - 0s 14ms/step - loss: 0.5186 - val_loss: 0.0594\n",
      "Epoch 6/20\n",
      "3/3 [==============================] - 0s 14ms/step - loss: 0.4997 - val_loss: 0.0400\n",
      "Epoch 7/20\n",
      "3/3 [==============================] - 0s 15ms/step - loss: 0.4862 - val_loss: 0.0271\n",
      "Epoch 8/20\n",
      "3/3 [==============================] - 0s 13ms/step - loss: 0.4766 - val_loss: 0.0193\n",
      "Epoch 9/20\n",
      "3/3 [==============================] - 0s 13ms/step - loss: 0.4714 - val_loss: 0.0144\n",
      "Epoch 10/20\n",
      "3/3 [==============================] - 0s 13ms/step - loss: 0.4683 - val_loss: 0.0115\n",
      "Epoch 11/20\n",
      "3/3 [==============================] - 0s 14ms/step - loss: 0.4680 - val_loss: 0.0091\n",
      "Epoch 12/20\n",
      "3/3 [==============================] - 0s 14ms/step - loss: 0.4667 - val_loss: 0.0075\n",
      "Epoch 13/20\n",
      "3/3 [==============================] - 0s 12ms/step - loss: 0.4662 - val_loss: 0.0062\n",
      "Epoch 14/20\n",
      "3/3 [==============================] - 0s 12ms/step - loss: 0.4653 - val_loss: 0.0053\n",
      "Epoch 15/20\n",
      "3/3 [==============================] - 0s 13ms/step - loss: 0.4647 - val_loss: 0.0046\n",
      "Epoch 16/20\n",
      "3/3 [==============================] - 0s 14ms/step - loss: 0.4642 - val_loss: 0.0040\n",
      "Epoch 17/20\n"
     ]
    },
    {
     "name": "stdout",
     "output_type": "stream",
     "text": [
      "3/3 [==============================] - 0s 13ms/step - loss: 0.4640 - val_loss: 0.0036\n",
      "Epoch 18/20\n",
      "3/3 [==============================] - 0s 12ms/step - loss: 0.4639 - val_loss: 0.0033\n",
      "Epoch 19/20\n",
      "3/3 [==============================] - 0s 12ms/step - loss: 0.4637 - val_loss: 0.0031\n",
      "Epoch 20/20\n",
      "3/3 [==============================] - 0s 12ms/step - loss: 0.4635 - val_loss: 0.0029\n",
      "Model: \"model_10\"\n",
      "_________________________________________________________________\n",
      " Layer (type)                Output Shape              Param #   \n",
      "=================================================================\n",
      " input_6 (InputLayer)        [(None, 1000)]            0         \n",
      "                                                                 \n",
      " dense_5 (Dense)             (None, 1000)              1001000   \n",
      "                                                                 \n",
      " dense_transpose_5 (DenseTra  (None, 1000)             1002000   \n",
      " nspose)                                                         \n",
      "                                                                 \n",
      "=================================================================\n",
      "Total params: 1,002,000\n",
      "Trainable params: 1,002,000\n",
      "Non-trainable params: 0\n",
      "_________________________________________________________________\n",
      "WARNING:tensorflow:6 out of the last 11 calls to <function Model.make_predict_function.<locals>.predict_function at 0x7f38cf4f6d30> triggered tf.function retracing. Tracing is expensive and the excessive number of tracings could be due to (1) creating @tf.function repeatedly in a loop, (2) passing tensors with different shapes, (3) passing Python objects instead of tensors. For (1), please define your @tf.function outside of the loop. For (2), @tf.function has reduce_retracing=True option that can avoid unnecessary retracing. For (3), please refer to https://www.tensorflow.org/guide/function#controlling_retracing and https://www.tensorflow.org/api_docs/python/tf/function for  more details.\n",
      "1/1 [==============================] - 0s 30ms/step\n",
      "1/1 [==============================] - 0s 14ms/step\n"
     ]
    }
   ],
   "source": [
    "# The \"stacked\" auto encoder will have 2 DAE's stacked, each with 1000 units.\n",
    "stacked_auto_encoder_3 = StackedDenoisingAutoEncoder([1000, 1000, 1000], 0.3, 'sigmoid', 'sigmoid')\n",
    "stacked_auto_encoder_3.pretrain(X_train_scaled, X_val_scaled, 20, 1)"
   ]
  },
  {
   "cell_type": "markdown",
   "metadata": {},
   "source": [
    "### SDAE Pretraining Plot"
   ]
  },
  {
   "cell_type": "code",
   "execution_count": 19,
   "metadata": {
    "id": "TTpWFszPXzTh"
   },
   "outputs": [],
   "source": [
    "def plot_loss(history):\n",
    "    # summarize history for loss\n",
    "    # https://machinelearningmastery.com/display-deep-learning-model-training-history-in-keras/\n",
    "    plt.plot(history['loss'])\n",
    "    plt.plot(history['val_loss'])\n",
    "    plt.title('model loss')\n",
    "    plt.ylabel('loss')\n",
    "    plt.xlabel('epoch')\n",
    "    plt.legend(['train', 'val'], loc='upper left')\n",
    "    plt.show()"
   ]
  },
  {
   "cell_type": "code",
   "execution_count": 20,
   "metadata": {
    "colab": {
     "base_uri": "https://localhost:8080/",
     "height": 472
    },
    "id": "tQH06IyBXzTh",
    "outputId": "e0893d00-cb8d-44be-93ab-8bb9fa29543c"
   },
   "outputs": [
    {
     "data": {
      "image/png": "[encoded data removed]",
      "text/plain": [
       "<Figure size 640x480 with 1 Axes>"
      ]
     },
     "metadata": {},
     "output_type": "display_data"
    }
   ],
   "source": [
    "plot_loss(stacked_auto_encoder_1.history.history)"
   ]
  },
  {
   "cell_type": "code",
   "execution_count": 21,
   "metadata": {},
   "outputs": [
    {
     "data": {
      "image/png": "[encoded data removed]",
      "text/plain": [
       "<Figure size 640x480 with 1 Axes>"
      ]
     },
     "metadata": {},
     "output_type": "display_data"
    }
   ],
   "source": [
    "plot_loss(stacked_auto_encoder_2.history.history)"
   ]
  },
  {
   "cell_type": "code",
   "execution_count": 22,
   "metadata": {},
   "outputs": [
    {
     "data": {
      "image/png": "[encoded data removed]",
      "text/plain": [
       "<Figure size 640x480 with 1 Axes>"
      ]
     },
     "metadata": {},
     "output_type": "display_data"
    }
   ],
   "source": [
    "plot_loss(stacked_auto_encoder_3.history.history)"
   ]
  },
  {
   "cell_type": "markdown",
   "metadata": {
    "id": "9u0Oipi3d4Vl"
   },
   "source": [
    "**Finetune the model by adding logistic regression layer**"
   ]
  },
  {
   "cell_type": "code",
   "execution_count": 23,
   "metadata": {
    "id": "Et_S-qdugNC_"
   },
   "outputs": [],
   "source": [
    "# Create a 1 hot encoded Y_train\n",
    "def create_one_hot(arr):\n",
    "    out_arr = []\n",
    "    for item in arr:\n",
    "        max_arr = max(arr)\n",
    "        one_hot_encoded = [0] * (max_arr+1)\n",
    "        one_hot_encoded[item] = 1\n",
    "        out_arr.append(one_hot_encoded)\n",
    "    return np.array(out_arr)\n",
    "\n",
    "Y_train_hot_encoded = create_one_hot(Y_train)\n",
    "Y_val_hot_encoded = create_one_hot(Y_val)"
   ]
  },
  {
   "cell_type": "code",
   "execution_count": 24,
   "metadata": {
    "colab": {
     "base_uri": "https://localhost:8080/"
    },
    "id": "zJlNeXIId30_",
    "outputId": "539de9bb-8a99-49fe-b71d-8e19cc386b86"
   },
   "outputs": [
    {
     "name": "stdout",
     "output_type": "stream",
     "text": [
      "Epoch 1/30\n",
      "1/3 [=========>....................] - ETA: 0s - loss: 1.0986\n",
      "Epoch 1: val_loss improved from inf to 0.11904, saving model to weights.hdf5\n",
      "3/3 [==============================] - 0s 108ms/step - loss: 1.1487 - val_loss: 0.1190\n",
      "Epoch 2/30\n",
      "1/3 [=========>....................] - ETA: 0s - loss: 0.1190\n",
      "Epoch 2: val_loss improved from 0.11904 to 0.00301, saving model to weights.hdf5\n",
      "3/3 [==============================] - 0s 66ms/step - loss: 0.7721 - val_loss: 0.0030\n",
      "Epoch 3/30\n",
      "1/3 [=========>....................] - ETA: 0s - loss: 0.0030\n",
      "Epoch 3: val_loss improved from 0.00301 to 0.00010, saving model to weights.hdf5\n",
      "3/3 [==============================] - 0s 66ms/step - loss: 0.7332 - val_loss: 1.0216e-04\n",
      "Epoch 4/30\n",
      "1/3 [=========>....................] - ETA: 0s - loss: 1.0216e-04\n",
      "Epoch 4: val_loss improved from 0.00010 to 0.00001, saving model to weights.hdf5\n",
      "3/3 [==============================] - 0s 75ms/step - loss: 0.7318 - val_loss: 5.2452e-06\n",
      "Epoch 5/30\n",
      "1/3 [=========>....................] - ETA: 0s - loss: 1.0941\n",
      "Epoch 5: val_loss improved from 0.00001 to 0.00000, saving model to weights.hdf5\n",
      "3/3 [==============================] - 0s 67ms/step - loss: 0.7314 - val_loss: 5.9605e-07\n",
      "Epoch 6/30\n",
      "1/3 [=========>....................] - ETA: 0s - loss: 1.0930\n",
      "Epoch 6: val_loss improved from 0.00000 to 0.00000, saving model to weights.hdf5\n",
      "3/3 [==============================] - 0s 69ms/step - loss: 0.7308 - val_loss: 1.1921e-07\n",
      "Epoch 7/30\n",
      "1/3 [=========>....................] - ETA: 0s - loss: 1.1921e-07\n",
      "Epoch 7: val_loss improved from 0.00000 to 0.00000, saving model to weights.hdf5\n",
      "3/3 [==============================] - 0s 64ms/step - loss: 0.7301 - val_loss: 0.0000e+00\n",
      "Epoch 8/30\n",
      "1/3 [=========>....................] - ETA: 0s - loss: 1.0912\n",
      "Epoch 8: val_loss did not improve from 0.00000\n",
      "3/3 [==============================] - 0s 29ms/step - loss: 0.7296 - val_loss: 0.0000e+00\n",
      "Epoch 9/30\n",
      "1/3 [=========>....................] - ETA: 0s - loss: 1.0972\n",
      "Epoch 9: val_loss did not improve from 0.00000\n",
      "3/3 [==============================] - 0s 27ms/step - loss: 0.7291 - val_loss: 0.0000e+00\n",
      "Epoch 10/30\n",
      "1/3 [=========>....................] - ETA: 0s - loss: 1.0961\n",
      "Epoch 10: val_loss did not improve from 0.00000\n",
      "3/3 [==============================] - 0s 27ms/step - loss: 0.7284 - val_loss: 0.0000e+00\n",
      "Epoch 11/30\n",
      "1/3 [=========>....................] - ETA: 0s - loss: 1.0949\n",
      "Epoch 11: val_loss did not improve from 0.00000\n",
      "3/3 [==============================] - 0s 27ms/step - loss: 0.7278 - val_loss: 0.0000e+00\n",
      "Epoch 12/30\n",
      "1/3 [=========>....................] - ETA: 0s - loss: 1.0939\n",
      "Epoch 12: val_loss did not improve from 0.00000\n",
      "3/3 [==============================] - 0s 27ms/step - loss: 0.7271 - val_loss: 0.0000e+00\n",
      "Epoch 13/30\n",
      "1/3 [=========>....................] - ETA: 0s - loss: 1.0867\n",
      "Epoch 13: val_loss did not improve from 0.00000\n",
      "3/3 [==============================] - 0s 27ms/step - loss: 0.7265 - val_loss: 0.0000e+00\n",
      "Epoch 14/30\n",
      "1/3 [=========>....................] - ETA: 0s - loss: 0.0000e+00\n",
      "Epoch 14: val_loss did not improve from 0.00000\n",
      "3/3 [==============================] - 0s 26ms/step - loss: 0.7256 - val_loss: 0.0000e+00\n",
      "Epoch 15/30\n",
      "1/3 [=========>....................] - ETA: 0s - loss: 1.0848\n",
      "Epoch 15: val_loss did not improve from 0.00000\n",
      "3/3 [==============================] - 0s 27ms/step - loss: 0.7252 - val_loss: 0.0000e+00\n",
      "Epoch 16/30\n",
      "1/3 [=========>....................] - ETA: 0s - loss: 1.0901\n",
      "Epoch 16: val_loss did not improve from 0.00000\n",
      "3/3 [==============================] - 0s 28ms/step - loss: 0.7245 - val_loss: 0.0000e+00\n",
      "Epoch 17/30\n",
      "1/3 [=========>....................] - ETA: 0s - loss: 0.0000e+00\n",
      "Epoch 17: val_loss did not improve from 0.00000\n",
      "3/3 [==============================] - 0s 27ms/step - loss: 0.7237 - val_loss: 0.0000e+00\n",
      "Epoch 18/30\n",
      "1/3 [=========>....................] - ETA: 0s - loss: 0.0000e+00\n",
      "Epoch 18: val_loss did not improve from 0.00000\n",
      "3/3 [==============================] - 0s 27ms/step - loss: 0.7231 - val_loss: 0.0000e+00\n",
      "Epoch 19/30\n",
      "1/3 [=========>....................] - ETA: 0s - loss: 1.0807\n",
      "Epoch 19: val_loss did not improve from 0.00000\n",
      "3/3 [==============================] - 0s 27ms/step - loss: 0.7226 - val_loss: 0.0000e+00\n",
      "Epoch 20/30\n",
      "1/3 [=========>....................] - ETA: 0s - loss: 1.0796\n",
      "Epoch 20: val_loss did not improve from 0.00000\n",
      "3/3 [==============================] - 0s 26ms/step - loss: 0.7219 - val_loss: 0.0000e+00\n",
      "Epoch 21/30\n",
      "1/3 [=========>....................] - ETA: 0s - loss: 1.0785\n",
      "Epoch 21: val_loss did not improve from 0.00000\n",
      "3/3 [==============================] - 0s 28ms/step - loss: 0.7212 - val_loss: 0.0000e+00\n",
      "Epoch 22/30\n",
      "1/3 [=========>....................] - ETA: 0s - loss: 1.0847\n",
      "Epoch 22: val_loss did not improve from 0.00000\n",
      "3/3 [==============================] - 0s 27ms/step - loss: 0.7207 - val_loss: 0.0000e+00\n",
      "Epoch 23/30\n",
      "1/3 [=========>....................] - ETA: 0s - loss: 1.0766\n",
      "Epoch 23: val_loss did not improve from 0.00000\n",
      "3/3 [==============================] - 0s 27ms/step - loss: 0.7200 - val_loss: 0.0000e+00\n",
      "Epoch 24/30\n",
      "1/3 [=========>....................] - ETA: 0s - loss: 1.0826\n",
      "Epoch 24: val_loss did not improve from 0.00000\n",
      "3/3 [==============================] - 0s 27ms/step - loss: 0.7193 - val_loss: 0.0000e+00\n",
      "Epoch 25/30\n",
      "1/3 [=========>....................] - ETA: 0s - loss: 1.0749\n",
      "Epoch 25: val_loss did not improve from 0.00000\n",
      "3/3 [==============================] - 0s 28ms/step - loss: 0.7186 - val_loss: 0.0000e+00\n",
      "Epoch 26/30\n",
      "1/3 [=========>....................] - ETA: 0s - loss: 1.0738\n",
      "Epoch 26: val_loss did not improve from 0.00000\n",
      "3/3 [==============================] - 0s 27ms/step - loss: 0.7180 - val_loss: 0.0000e+00\n",
      "Epoch 27/30\n",
      "1/3 [=========>....................] - ETA: 0s - loss: 1.0796\n",
      "Epoch 27: val_loss did not improve from 0.00000\n",
      "3/3 [==============================] - 0s 31ms/step - loss: 0.7174 - val_loss: 0.0000e+00\n",
      "Epoch 28/30\n",
      "1/3 [=========>....................] - ETA: 0s - loss: 0.0000e+00\n",
      "Epoch 28: val_loss did not improve from 0.00000\n",
      "3/3 [==============================] - 0s 27ms/step - loss: 0.7165 - val_loss: 0.0000e+00\n",
      "Epoch 29/30\n",
      "1/3 [=========>....................] - ETA: 0s - loss: 1.0709\n",
      "Epoch 29: val_loss did not improve from 0.00000\n",
      "3/3 [==============================] - 0s 26ms/step - loss: 0.7160 - val_loss: 0.0000e+00\n",
      "Epoch 30/30\n",
      "1/3 [=========>....................] - ETA: 0s - loss: 1.0698\n",
      "Epoch 30: val_loss did not improve from 0.00000\n",
      "3/3 [==============================] - 0s 26ms/step - loss: 0.7154 - val_loss: 0.0000e+00\n"
     ]
    }
   ],
   "source": [
    "fine_tuned_model_1, fine_tuned_encoder_1 = stacked_auto_encoder_1.finetune(X_train_scaled, Y_train_hot_encoded, X_val_scaled, Y_val_hot_encoded, 30, 1) "
   ]
  },
  {
   "cell_type": "code",
   "execution_count": 25,
   "metadata": {},
   "outputs": [
    {
     "name": "stdout",
     "output_type": "stream",
     "text": [
      "Epoch 1/30\n",
      "1/3 [=========>....................] - ETA: 0s - loss: 0.5991\n",
      "Epoch 1: val_loss improved from inf to 1.25651, saving model to weights.hdf5\n",
      "3/3 [==============================] - 0s 114ms/step - loss: 2.2426 - val_loss: 1.2565\n",
      "Epoch 2/30\n",
      "1/3 [=========>....................] - ETA: 0s - loss: 1.2565\n",
      "Epoch 2: val_loss improved from 1.25651 to 0.36031, saving model to weights.hdf5\n",
      "3/3 [==============================] - 0s 75ms/step - loss: 1.0869 - val_loss: 0.3603\n",
      "Epoch 3/30\n",
      "1/3 [=========>....................] - ETA: 0s - loss: 0.1567\n",
      "Epoch 3: val_loss improved from 0.36031 to 0.10068, saving model to weights.hdf5\n",
      "3/3 [==============================] - 0s 76ms/step - loss: 0.1561 - val_loss: 0.1007\n",
      "Epoch 4/30\n",
      "1/3 [=========>....................] - ETA: 0s - loss: 0.1007\n",
      "Epoch 4: val_loss improved from 0.10068 to 0.01045, saving model to weights.hdf5\n",
      "3/3 [==============================] - 0s 75ms/step - loss: 0.2354 - val_loss: 0.0104\n",
      "Epoch 5/30\n",
      "1/3 [=========>....................] - ETA: 0s - loss: 0.0104\n",
      "Epoch 5: val_loss improved from 0.01045 to 0.00054, saving model to weights.hdf5\n",
      "3/3 [==============================] - 0s 73ms/step - loss: 0.1627 - val_loss: 5.3951e-04\n",
      "Epoch 6/30\n",
      "1/3 [=========>....................] - ETA: 0s - loss: 0.0028\n",
      "Epoch 6: val_loss improved from 0.00054 to 0.00007, saving model to weights.hdf5\n",
      "3/3 [==============================] - 0s 74ms/step - loss: 0.0614 - val_loss: 6.6159e-05\n",
      "Epoch 7/30\n",
      "1/3 [=========>....................] - ETA: 0s - loss: 0.0833\n",
      "Epoch 7: val_loss improved from 0.00007 to 0.00002, saving model to weights.hdf5\n",
      "3/3 [==============================] - 0s 74ms/step - loss: 0.0288 - val_loss: 1.7643e-05\n",
      "Epoch 8/30\n",
      "1/3 [=========>....................] - ETA: 0s - loss: 0.0033\n",
      "Epoch 8: val_loss improved from 0.00002 to 0.00001, saving model to weights.hdf5\n",
      "3/3 [==============================] - 0s 74ms/step - loss: 0.0076 - val_loss: 7.5102e-06\n",
      "Epoch 9/30\n",
      "1/3 [=========>....................] - ETA: 0s - loss: 7.5102e-06\n",
      "Epoch 9: val_loss improved from 0.00001 to 0.00000, saving model to weights.hdf5\n",
      "3/3 [==============================] - 0s 80ms/step - loss: 0.0036 - val_loss: 4.1723e-06\n",
      "Epoch 10/30\n",
      "1/3 [=========>....................] - ETA: 0s - loss: 0.0054\n",
      "Epoch 10: val_loss improved from 0.00000 to 0.00000, saving model to weights.hdf5\n",
      "3/3 [==============================] - 0s 74ms/step - loss: 0.0034 - val_loss: 2.8610e-06\n",
      "Epoch 11/30\n",
      "1/3 [=========>....................] - ETA: 0s - loss: 2.8610e-06\n",
      "Epoch 11: val_loss improved from 0.00000 to 0.00000, saving model to weights.hdf5\n",
      "3/3 [==============================] - 0s 81ms/step - loss: 0.0024 - val_loss: 2.1458e-06\n",
      "Epoch 12/30\n",
      "1/3 [=========>....................] - ETA: 0s - loss: 0.0020\n",
      "Epoch 12: val_loss improved from 0.00000 to 0.00000, saving model to weights.hdf5\n",
      "3/3 [==============================] - 0s 110ms/step - loss: 0.0024 - val_loss: 1.7881e-06\n",
      "Epoch 13/30\n",
      "1/3 [=========>....................] - ETA: 0s - loss: 0.0054\n",
      "Epoch 13: val_loss improved from 0.00000 to 0.00000, saving model to weights.hdf5\n",
      "3/3 [==============================] - 0s 102ms/step - loss: 0.0022 - val_loss: 1.5497e-06\n",
      "Epoch 14/30\n",
      "1/3 [=========>....................] - ETA: 0s - loss: 0.0053\n",
      "Epoch 14: val_loss improved from 0.00000 to 0.00000, saving model to weights.hdf5\n",
      "3/3 [==============================] - 0s 104ms/step - loss: 0.0021 - val_loss: 1.4305e-06\n",
      "Epoch 15/30\n",
      "1/3 [=========>....................] - ETA: 0s - loss: 9.0844e-04\n",
      "Epoch 15: val_loss improved from 0.00000 to 0.00000, saving model to weights.hdf5\n",
      "3/3 [==============================] - 0s 103ms/step - loss: 0.0020 - val_loss: 1.3113e-06\n",
      "Epoch 16/30\n",
      "1/3 [=========>....................] - ETA: 0s - loss: 0.0048\n",
      "Epoch 16: val_loss did not improve from 0.00000\n",
      "3/3 [==============================] - 0s 31ms/step - loss: 0.0018 - val_loss: 1.3113e-06\n",
      "Epoch 17/30\n",
      "1/3 [=========>....................] - ETA: 0s - loss: 1.3113e-06\n",
      "Epoch 17: val_loss improved from 0.00000 to 0.00000, saving model to weights.hdf5\n",
      "3/3 [==============================] - 0s 79ms/step - loss: 0.0016 - val_loss: 1.1921e-06\n",
      "Epoch 18/30\n",
      "1/3 [=========>....................] - ETA: 0s - loss: 1.1921e-06\n",
      "Epoch 18: val_loss did not improve from 0.00000\n",
      "3/3 [==============================] - 0s 30ms/step - loss: 0.0015 - val_loss: 1.1921e-06\n",
      "Epoch 19/30\n",
      "1/3 [=========>....................] - ETA: 0s - loss: 0.0035\n",
      "Epoch 19: val_loss did not improve from 0.00000\n",
      "3/3 [==============================] - 0s 30ms/step - loss: 0.0014 - val_loss: 1.1921e-06\n",
      "Epoch 20/30\n",
      "1/3 [=========>....................] - ETA: 0s - loss: 0.0031\n",
      "Epoch 20: val_loss did not improve from 0.00000\n",
      "3/3 [==============================] - 0s 29ms/step - loss: 0.0012 - val_loss: 1.1921e-06\n",
      "Epoch 21/30\n",
      "1/3 [=========>....................] - ETA: 0s - loss: 0.0027\n",
      "Epoch 21: val_loss did not improve from 0.00000\n",
      "3/3 [==============================] - 0s 30ms/step - loss: 0.0011 - val_loss: 1.1921e-06\n",
      "Epoch 22/30\n",
      "1/3 [=========>....................] - ETA: 0s - loss: 5.5381e-04\n",
      "Epoch 22: val_loss did not improve from 0.00000\n",
      "3/3 [==============================] - 0s 29ms/step - loss: 9.0445e-04 - val_loss: 1.1921e-06\n",
      "Epoch 23/30\n",
      "1/3 [=========>....................] - ETA: 0s - loss: 5.3797e-04\n",
      "Epoch 23: val_loss did not improve from 0.00000\n",
      "3/3 [==============================] - 0s 30ms/step - loss: 8.1264e-04 - val_loss: 1.1921e-06\n",
      "Epoch 24/30\n",
      "1/3 [=========>....................] - ETA: 0s - loss: 1.1921e-06\n",
      "Epoch 24: val_loss did not improve from 0.00000\n",
      "3/3 [==============================] - 0s 30ms/step - loss: 7.2838e-04 - val_loss: 1.1921e-06\n",
      "Epoch 25/30\n",
      "1/3 [=========>....................] - ETA: 0s - loss: 0.0016\n",
      "Epoch 25: val_loss did not improve from 0.00000\n",
      "3/3 [==============================] - 0s 30ms/step - loss: 6.9818e-04 - val_loss: 1.1921e-06\n",
      "Epoch 26/30\n",
      "1/3 [=========>....................] - ETA: 0s - loss: 1.1921e-06\n",
      "Epoch 26: val_loss did not improve from 0.00000\n",
      "3/3 [==============================] - 0s 32ms/step - loss: 5.8351e-04 - val_loss: 1.1921e-06\n",
      "Epoch 27/30\n",
      "1/3 [=========>....................] - ETA: 0s - loss: 4.9757e-04\n",
      "Epoch 27: val_loss did not improve from 0.00000\n",
      "3/3 [==============================] - 0s 33ms/step - loss: 5.3135e-04 - val_loss: 1.1921e-06\n",
      "Epoch 28/30\n",
      "1/3 [=========>....................] - ETA: 0s - loss: 1.1921e-06\n",
      "Epoch 28: val_loss did not improve from 0.00000\n",
      "3/3 [==============================] - 0s 31ms/step - loss: 4.8407e-04 - val_loss: 1.1921e-06\n",
      "Epoch 29/30\n",
      "1/3 [=========>....................] - ETA: 0s - loss: 1.1921e-06\n",
      "Epoch 29: val_loss did not improve from 0.00000\n",
      "3/3 [==============================] - 0s 30ms/step - loss: 4.4485e-04 - val_loss: 1.1921e-06\n",
      "Epoch 30/30\n",
      "1/3 [=========>....................] - ETA: 0s - loss: 1.1921e-06\n",
      "Epoch 30: val_loss did not improve from 0.00000\n",
      "3/3 [==============================] - 0s 29ms/step - loss: 4.1936e-04 - val_loss: 1.1921e-06\n"
     ]
    }
   ],
   "source": [
    "fine_tuned_model_2, fine_tuned_encoder_2 = stacked_auto_encoder_2.finetune(X_train_scaled, Y_train_hot_encoded, X_val_scaled, Y_val_hot_encoded, 30, 1)"
   ]
  },
  {
   "cell_type": "code",
   "execution_count": 26,
   "metadata": {},
   "outputs": [
    {
     "name": "stdout",
     "output_type": "stream",
     "text": [
      "Epoch 1/30\n",
      "1/3 [=========>....................] - ETA: 0s - loss: 0.8529\n",
      "Epoch 1: val_loss improved from inf to 0.18619, saving model to weights.hdf5\n",
      "3/3 [==============================] - 0s 127ms/step - loss: 1.5185 - val_loss: 0.1862\n",
      "Epoch 2/30\n",
      "3/3 [==============================] - ETA: 0s - loss: 0.8313\n",
      "Epoch 2: val_loss improved from 0.18619 to 0.02143, saving model to weights.hdf5\n",
      "3/3 [==============================] - 0s 81ms/step - loss: 0.8313 - val_loss: 0.0214\n",
      "Epoch 3/30\n",
      "1/3 [=========>....................] - ETA: 0s - loss: 0.0214\n",
      "Epoch 3: val_loss improved from 0.02143 to 0.00484, saving model to weights.hdf5\n",
      "3/3 [==============================] - 0s 78ms/step - loss: 0.5887 - val_loss: 0.0048\n",
      "Epoch 4/30\n",
      "1/3 [=========>....................] - ETA: 0s - loss: 1.0536\n",
      "Epoch 4: val_loss improved from 0.00484 to 0.00176, saving model to weights.hdf5\n",
      "3/3 [==============================] - 0s 94ms/step - loss: 0.5370 - val_loss: 0.0018\n",
      "Epoch 5/30\n",
      "1/3 [=========>....................] - ETA: 0s - loss: 0.5326\n",
      "Epoch 5: val_loss improved from 0.00176 to 0.00087, saving model to weights.hdf5\n",
      "3/3 [==============================] - 0s 94ms/step - loss: 0.5238 - val_loss: 8.6925e-04\n",
      "Epoch 6/30\n",
      "1/3 [=========>....................] - ETA: 0s - loss: 0.9875\n",
      "Epoch 6: val_loss improved from 0.00087 to 0.00051, saving model to weights.hdf5\n",
      "3/3 [==============================] - 0s 106ms/step - loss: 0.5155 - val_loss: 5.0568e-04\n",
      "Epoch 7/30\n",
      "1/3 [=========>....................] - ETA: 0s - loss: 0.5986\n",
      "Epoch 7: val_loss improved from 0.00051 to 0.00034, saving model to weights.hdf5\n",
      "3/3 [==============================] - 0s 79ms/step - loss: 0.4915 - val_loss: 3.4410e-04\n",
      "Epoch 8/30\n",
      "1/3 [=========>....................] - ETA: 0s - loss: 3.4410e-04\n",
      "Epoch 8: val_loss improved from 0.00034 to 0.00025, saving model to weights.hdf5\n",
      "3/3 [==============================] - 0s 79ms/step - loss: 0.4758 - val_loss: 2.5460e-04\n",
      "Epoch 9/30\n",
      "1/3 [=========>....................] - ETA: 0s - loss: 0.7662\n",
      "Epoch 9: val_loss improved from 0.00025 to 0.00020, saving model to weights.hdf5\n",
      "3/3 [==============================] - 0s 93ms/step - loss: 0.4949 - val_loss: 2.0121e-04\n",
      "Epoch 10/30\n",
      "1/3 [=========>....................] - ETA: 0s - loss: 2.0121e-04\n",
      "Epoch 10: val_loss improved from 0.00020 to 0.00017, saving model to weights.hdf5\n",
      "3/3 [==============================] - 0s 78ms/step - loss: 0.4907 - val_loss: 1.6891e-04\n",
      "Epoch 11/30\n",
      "1/3 [=========>....................] - ETA: 0s - loss: 1.6891e-04\n",
      "Epoch 11: val_loss improved from 0.00017 to 0.00015, saving model to weights.hdf5\n",
      "3/3 [==============================] - 0s 83ms/step - loss: 0.4885 - val_loss: 1.4900e-04\n",
      "Epoch 12/30\n",
      "1/3 [=========>....................] - ETA: 0s - loss: 0.5364\n",
      "Epoch 12: val_loss improved from 0.00015 to 0.00014, saving model to weights.hdf5\n",
      "3/3 [==============================] - 0s 84ms/step - loss: 0.4911 - val_loss: 1.3601e-04\n",
      "Epoch 13/30\n",
      "1/3 [=========>....................] - ETA: 0s - loss: 1.3601e-04\n",
      "Epoch 13: val_loss improved from 0.00014 to 0.00013, saving model to weights.hdf5\n",
      "3/3 [==============================] - 0s 106ms/step - loss: 0.4938 - val_loss: 1.2910e-04\n",
      "Epoch 14/30\n",
      "1/3 [=========>....................] - ETA: 0s - loss: 0.6400\n",
      "Epoch 14: val_loss improved from 0.00013 to 0.00012, saving model to weights.hdf5\n",
      "3/3 [==============================] - 0s 97ms/step - loss: 0.4707 - val_loss: 1.2409e-04\n",
      "Epoch 15/30\n",
      "1/3 [=========>....................] - ETA: 0s - loss: 1.2409e-04\n",
      "Epoch 15: val_loss improved from 0.00012 to 0.00012, saving model to weights.hdf5\n",
      "3/3 [==============================] - 0s 116ms/step - loss: 0.4858 - val_loss: 1.2182e-04\n",
      "Epoch 16/30\n",
      "1/3 [=========>....................] - ETA: 0s - loss: 1.2182e-04\n",
      "Epoch 16: val_loss improved from 0.00012 to 0.00012, saving model to weights.hdf5\n",
      "3/3 [==============================] - 0s 103ms/step - loss: 0.4845 - val_loss: 1.2016e-04\n",
      "Epoch 17/30\n",
      "1/3 [=========>....................] - ETA: 0s - loss: 1.2016e-04\n",
      "Epoch 17: val_loss improved from 0.00012 to 0.00012, saving model to weights.hdf5\n",
      "3/3 [==============================] - 0s 111ms/step - loss: 0.4822 - val_loss: 1.1825e-04\n",
      "Epoch 18/30\n",
      "3/3 [==============================] - ETA: 0s - loss: 0.4784\n",
      "Epoch 18: val_loss improved from 0.00012 to 0.00012, saving model to weights.hdf5\n",
      "3/3 [==============================] - 0s 120ms/step - loss: 0.4784 - val_loss: 1.1598e-04\n",
      "Epoch 19/30\n",
      "1/3 [=========>....................] - ETA: 0s - loss: 1.1598e-04\n",
      "Epoch 19: val_loss improved from 0.00012 to 0.00011, saving model to weights.hdf5\n",
      "3/3 [==============================] - 0s 105ms/step - loss: 0.4859 - val_loss: 1.1241e-04\n",
      "Epoch 20/30\n",
      "1/3 [=========>....................] - ETA: 0s - loss: 0.6885\n",
      "Epoch 20: val_loss improved from 0.00011 to 0.00011, saving model to weights.hdf5\n",
      "3/3 [==============================] - 0s 101ms/step - loss: 0.4711 - val_loss: 1.1157e-04\n",
      "Epoch 21/30\n",
      "1/3 [=========>....................] - ETA: 0s - loss: 0.6876\n",
      "Epoch 21: val_loss improved from 0.00011 to 0.00011, saving model to weights.hdf5\n",
      "3/3 [==============================] - 0s 108ms/step - loss: 0.4979 - val_loss: 1.0955e-04\n",
      "Epoch 22/30\n",
      "1/3 [=========>....................] - ETA: 0s - loss: 0.8087\n",
      "Epoch 22: val_loss did not improve from 0.00011\n",
      "3/3 [==============================] - 0s 35ms/step - loss: 0.4890 - val_loss: 1.1026e-04\n",
      "Epoch 23/30\n",
      "1/3 [=========>....................] - ETA: 0s - loss: 1.1026e-04\n",
      "Epoch 23: val_loss did not improve from 0.00011\n",
      "3/3 [==============================] - 0s 34ms/step - loss: 0.4778 - val_loss: 1.0955e-04\n",
      "Epoch 24/30\n",
      "1/3 [=========>....................] - ETA: 0s - loss: 1.0955e-04\n",
      "Epoch 24: val_loss improved from 0.00011 to 0.00011, saving model to weights.hdf5\n",
      "3/3 [==============================] - 0s 76ms/step - loss: 0.4761 - val_loss: 1.0943e-04\n",
      "Epoch 25/30\n",
      "1/3 [=========>....................] - ETA: 0s - loss: 0.6116\n",
      "Epoch 25: val_loss did not improve from 0.00011\n",
      "3/3 [==============================] - 0s 32ms/step - loss: 0.4741 - val_loss: 1.1002e-04\n",
      "Epoch 26/30\n",
      "1/3 [=========>....................] - ETA: 0s - loss: 0.7715\n",
      "Epoch 26: val_loss did not improve from 0.00011\n",
      "3/3 [==============================] - 0s 31ms/step - loss: 0.4820 - val_loss: 1.1169e-04\n",
      "Epoch 27/30\n",
      "1/3 [=========>....................] - ETA: 0s - loss: 1.1169e-04\n",
      "Epoch 27: val_loss did not improve from 0.00011\n",
      "3/3 [==============================] - 0s 32ms/step - loss: 0.4789 - val_loss: 1.1300e-04\n",
      "Epoch 28/30\n",
      "1/3 [=========>....................] - ETA: 0s - loss: 0.7566\n",
      "Epoch 28: val_loss did not improve from 0.00011\n",
      "3/3 [==============================] - 0s 30ms/step - loss: 0.4850 - val_loss: 1.1205e-04\n",
      "Epoch 29/30\n",
      "1/3 [=========>....................] - ETA: 0s - loss: 1.1205e-04\n",
      "Epoch 29: val_loss did not improve from 0.00011\n",
      "3/3 [==============================] - 0s 30ms/step - loss: 0.4770 - val_loss: 1.1312e-04\n",
      "Epoch 30/30\n",
      "1/3 [=========>....................] - ETA: 0s - loss: 0.6500\n",
      "Epoch 30: val_loss did not improve from 0.00011\n",
      "3/3 [==============================] - 0s 30ms/step - loss: 0.4757 - val_loss: 1.1396e-04\n"
     ]
    }
   ],
   "source": [
    "fine_tuned_model_3, fine_tuned_encoder_3 = stacked_auto_encoder_3.finetune(X_train_scaled, Y_train_hot_encoded, X_val_scaled, Y_val_hot_encoded, 30, 1) "
   ]
  },
  {
   "cell_type": "markdown",
   "metadata": {},
   "source": [
    "### Plot of Finetuning Training"
   ]
  },
  {
   "cell_type": "code",
   "execution_count": 27,
   "metadata": {
    "colab": {
     "base_uri": "https://localhost:8080/",
     "height": 472
    },
    "id": "6hezINYwXzTi",
    "outputId": "16ca8046-8ff5-42a2-b93d-d08efe83c523"
   },
   "outputs": [
    {
     "data": {
      "image/png": "[encoded data removed]",
      "text/plain": [
       "<Figure size 640x480 with 1 Axes>"
      ]
     },
     "metadata": {},
     "output_type": "display_data"
    }
   ],
   "source": [
    "plot_loss(stacked_auto_encoder_1.history.history)"
   ]
  },
  {
   "cell_type": "code",
   "execution_count": 28,
   "metadata": {},
   "outputs": [
    {
     "data": {
      "image/png": "[encoded data removed]",
      "text/plain": [
       "<Figure size 640x480 with 1 Axes>"
      ]
     },
     "metadata": {},
     "output_type": "display_data"
    }
   ],
   "source": [
    "plot_loss(stacked_auto_encoder_2.history.history)"
   ]
  },
  {
   "cell_type": "code",
   "execution_count": 29,
   "metadata": {},
   "outputs": [
    {
     "data": {
      "image/png": "[encoded data removed]",
      "text/plain": [
       "<Figure size 640x480 with 1 Axes>"
      ]
     },
     "metadata": {},
     "output_type": "display_data"
    }
   ],
   "source": [
    "plot_loss(stacked_auto_encoder_3.history.history)"
   ]
  },
  {
   "cell_type": "markdown",
   "metadata": {
    "id": "vmWX_fDvgF_R"
   },
   "source": [
    "**Now feed the encoded representation into linear SVM**"
   ]
  },
  {
   "cell_type": "code",
   "execution_count": 30,
   "metadata": {
    "colab": {
     "base_uri": "https://localhost:8080/"
    },
    "id": "3GWVbI8nc9H6",
    "outputId": "1694c02f-f20f-4fa1-c94b-ea05162faec1",
    "scrolled": true
   },
   "outputs": [
    {
     "name": "stdout",
     "output_type": "stream",
     "text": [
      "1-layer SDAE SVM\n",
      "1/1 [==============================] - 0s 31ms/step\n",
      "1/1 [==============================] - 0s 15ms/step\n",
      "SVM Accuracy Score ->  0.0\n",
      "SVM Accuracy Score on training ->  66.66666666666666\n",
      "1/1 [==============================] - 0s 15ms/step\n",
      "SVM Accuracy Score on validation ->  100.0\n",
      "2-layers SDAE SVM\n",
      "1/1 [==============================] - 0s 31ms/step\n",
      "1/1 [==============================] - 0s 15ms/step\n",
      "SVM Accuracy Score ->  100.0\n",
      "SVM Accuracy Score on training ->  100.0\n",
      "1/1 [==============================] - 0s 17ms/step\n",
      "SVM Accuracy Score on validation ->  100.0\n",
      "3-layers SDAE SVM\n",
      "1/1 [==============================] - 0s 40ms/step\n",
      "1/1 [==============================] - 0s 20ms/step\n",
      "SVM Accuracy Score ->  0.0\n",
      "SVM Accuracy Score on training ->  66.66666666666666\n",
      "1/1 [==============================] - 0s 20ms/step\n",
      "SVM Accuracy Score on validation ->  100.0\n"
     ]
    }
   ],
   "source": [
    "fine_tuned_encoders = [fine_tuned_encoder_1, fine_tuned_encoder_2, fine_tuned_encoder_3]\n",
    "for fine_tuned_encoder, model_name in zip(fine_tuned_encoders, model_names[1:]):\n",
    "    print(model_name)\n",
    "    X_train_encoded = fine_tuned_encoder.predict(X_train_scaled)\n",
    "\n",
    "    # Fit to encoded data\n",
    "    svm_autoencoder = SVC(kernel='linear', C=1)\n",
    "    svm_autoencoder.fit(X_train_encoded, Y_train)\n",
    "\n",
    "    # Encode the test data and use SVM to predict its labels\n",
    "    X_test_encoded = fine_tuned_encoder.predict(X_test_scaled)\n",
    "    predicted = svm_autoencoder.predict(X_test_encoded)\n",
    "\n",
    "    # print(Y_test)\n",
    "    # print(\"########################\")\n",
    "    # print(predicted)\n",
    "\n",
    "    print(\"SVM Accuracy Score -> \", metrics.accuracy_score(predicted, Y_test)*100)\n",
    "    predicted_arr.append(predicted)\n",
    "    \n",
    "    predicted_train = svm_autoencoder.predict(X_train_encoded)\n",
    "    print(\"SVM Accuracy Score on training -> \", metrics.accuracy_score(predicted_train, Y_train)*100)\n",
    "\n",
    "    X_val_encoded = fine_tuned_encoder.predict(X_val_scaled)\n",
    "    predicted_val = svm_autoencoder.predict(X_val_encoded)\n",
    "    print(\"SVM Accuracy Score on validation -> \", metrics.accuracy_score(predicted_val, Y_val)*100)"
   ]
  },
  {
   "cell_type": "markdown",
   "metadata": {},
   "source": [
    "## 6. Testing metrics"
   ]
  },
  {
   "cell_type": "code",
   "execution_count": 31,
   "metadata": {},
   "outputs": [],
   "source": [
    "def testing_metrics(y_true, y_pred_arr, model_names, export=True):\n",
    "    stats = {}\n",
    "    for y_pred, model_name in zip(y_pred_arr, model_names):\n",
    "        scores = metrics.classification_report(y_true, y_pred, zero_division=1, output_dict=True)\n",
    "\n",
    "        stats[model_name] = {\n",
    "            'cohen_kappa': metrics.cohen_kappa_score(y_true, y_pred),\n",
    "            'matthews_corrcoef': metrics.matthews_corrcoef(y_true, y_pred),\n",
    "            'micro-accuracy': scores['accuracy']\n",
    "        }\n",
    "\n",
    "        for metr1 in ('macro avg', 'weighted avg'):\n",
    "            for metr2 in ('precision', 'recall', 'f1-score'):\n",
    "                stats[model_name][metr1 + ' ' + metr2] = scores[metr1][metr2]\n",
    "    \n",
    "    stats_df = pd.DataFrame.from_dict(stats).T\n",
    "    if export:\n",
    "        stats_df.to_csv('svm_stats.csv')\n",
    "    \n",
    "    return stats_df"
   ]
  },
  {
   "cell_type": "code",
   "execution_count": 32,
   "metadata": {},
   "outputs": [
    {
     "name": "stderr",
     "output_type": "stream",
     "text": [
      "/home/duke/.local/lib/python3.8/site-packages/sklearn/metrics/_classification.py:663: RuntimeWarning: invalid value encountered in double_scalars\n",
      "  k = np.sum(w_mat * confusion) / np.sum(w_mat * expected)\n",
      "/home/duke/.local/lib/python3.8/site-packages/sklearn/metrics/_classification.py:663: RuntimeWarning: invalid value encountered in double_scalars\n",
      "  k = np.sum(w_mat * confusion) / np.sum(w_mat * expected)\n"
     ]
    },
    {
     "data": {
      "text/html": [
       "<div>\n",
       "<style scoped>\n",
       "    .dataframe tbody tr th:only-of-type {\n",
       "        vertical-align: middle;\n",
       "    }\n",
       "\n",
       "    .dataframe tbody tr th {\n",
       "        vertical-align: top;\n",
       "    }\n",
       "\n",
       "    .dataframe thead th {\n",
       "        text-align: right;\n",
       "    }\n",
       "</style>\n",
       "<table border=\"1\" class=\"dataframe\">\n",
       "  <thead>\n",
       "    <tr style=\"text-align: right;\">\n",
       "      <th></th>\n",
       "      <th>cohen_kappa</th>\n",
       "      <th>matthews_corrcoef</th>\n",
       "      <th>micro-accuracy</th>\n",
       "      <th>macro avg precision</th>\n",
       "      <th>macro avg recall</th>\n",
       "      <th>macro avg f1-score</th>\n",
       "      <th>weighted avg precision</th>\n",
       "      <th>weighted avg recall</th>\n",
       "      <th>weighted avg f1-score</th>\n",
       "    </tr>\n",
       "  </thead>\n",
       "  <tbody>\n",
       "    <tr>\n",
       "      <th>Raw SVM</th>\n",
       "      <td>NaN</td>\n",
       "      <td>0.0</td>\n",
       "      <td>1.0</td>\n",
       "      <td>1.0</td>\n",
       "      <td>1.0</td>\n",
       "      <td>1.0</td>\n",
       "      <td>1.0</td>\n",
       "      <td>1.0</td>\n",
       "      <td>1.0</td>\n",
       "    </tr>\n",
       "    <tr>\n",
       "      <th>1-layer SDAE SVM</th>\n",
       "      <td>0.0</td>\n",
       "      <td>0.0</td>\n",
       "      <td>0.0</td>\n",
       "      <td>0.5</td>\n",
       "      <td>0.5</td>\n",
       "      <td>0.0</td>\n",
       "      <td>1.0</td>\n",
       "      <td>0.0</td>\n",
       "      <td>0.0</td>\n",
       "    </tr>\n",
       "    <tr>\n",
       "      <th>2-layers SDAE SVM</th>\n",
       "      <td>NaN</td>\n",
       "      <td>0.0</td>\n",
       "      <td>1.0</td>\n",
       "      <td>1.0</td>\n",
       "      <td>1.0</td>\n",
       "      <td>1.0</td>\n",
       "      <td>1.0</td>\n",
       "      <td>1.0</td>\n",
       "      <td>1.0</td>\n",
       "    </tr>\n",
       "    <tr>\n",
       "      <th>3-layers SDAE SVM</th>\n",
       "      <td>0.0</td>\n",
       "      <td>0.0</td>\n",
       "      <td>0.0</td>\n",
       "      <td>0.5</td>\n",
       "      <td>0.5</td>\n",
       "      <td>0.0</td>\n",
       "      <td>1.0</td>\n",
       "      <td>0.0</td>\n",
       "      <td>0.0</td>\n",
       "    </tr>\n",
       "  </tbody>\n",
       "</table>\n",
       "</div>"
      ],
      "text/plain": [
       "                   cohen_kappa  matthews_corrcoef  micro-accuracy  \\\n",
       "Raw SVM                    NaN                0.0             1.0   \n",
       "1-layer SDAE SVM           0.0                0.0             0.0   \n",
       "2-layers SDAE SVM          NaN                0.0             1.0   \n",
       "3-layers SDAE SVM          0.0                0.0             0.0   \n",
       "\n",
       "                   macro avg precision  macro avg recall  macro avg f1-score  \\\n",
       "Raw SVM                            1.0               1.0                 1.0   \n",
       "1-layer SDAE SVM                   0.5               0.5                 0.0   \n",
       "2-layers SDAE SVM                  1.0               1.0                 1.0   \n",
       "3-layers SDAE SVM                  0.5               0.5                 0.0   \n",
       "\n",
       "                   weighted avg precision  weighted avg recall  \\\n",
       "Raw SVM                               1.0                  1.0   \n",
       "1-layer SDAE SVM                      1.0                  0.0   \n",
       "2-layers SDAE SVM                     1.0                  1.0   \n",
       "3-layers SDAE SVM                     1.0                  0.0   \n",
       "\n",
       "                   weighted avg f1-score  \n",
       "Raw SVM                              1.0  \n",
       "1-layer SDAE SVM                     0.0  \n",
       "2-layers SDAE SVM                    1.0  \n",
       "3-layers SDAE SVM                    0.0  "
      ]
     },
     "execution_count": 32,
     "metadata": {},
     "output_type": "execute_result"
    }
   ],
   "source": [
    "testing_metrics(Y_test, predicted_arr, model_names)"
   ]
  }
 ],
 "metadata": {
  "accelerator": "GPU",
  "colab": {
   "gpuType": "T4",
   "provenance": []
  },
  "gpuClass": "standard",
  "kernelspec": {
   "display_name": "Python 3 (ipykernel)",
   "language": "python",
   "name": "python3"
  },
  "language_info": {
   "codemirror_mode": {
    "name": "ipython",
    "version": 3
   },
   "file_extension": ".py",
   "mimetype": "text/x-python",
   "name": "python",
   "nbconvert_exporter": "python",
   "pygments_lexer": "ipython3",
   "version": "3.8.10"
  }
 },
 "nbformat": 4,
 "nbformat_minor": 1
}
