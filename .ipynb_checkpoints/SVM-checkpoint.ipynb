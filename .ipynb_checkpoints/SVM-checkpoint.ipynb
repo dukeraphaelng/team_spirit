{
 "cells": [
  {
   "cell_type": "code",
   "execution_count": 19,
   "id": "e2adbc46",
   "metadata": {},
   "outputs": [],
   "source": [
    "import matplotlib.pyplot as plt\n",
    "import pandas as pd\n",
    "import numpy as np\n",
    "import seaborn as sns\n",
    "from sklearn.feature_extraction.text import CountVectorizer\n",
    "\n",
    "from pathlib import Path\n",
    "import os\n",
    "from data_io import get_book\n",
    "\n",
    "# Classifier\n",
    "from sklearn.svm import SVC"
   ]
  },
  {
   "cell_type": "code",
   "execution_count": 30,
   "id": "ef0f09f7",
   "metadata": {},
   "outputs": [
    {
     "name": "stdout",
     "output_type": "stream",
     "text": [
      "[Errno 2] No such file or directory: 'pt-sdae'\n",
      "/home/duke/github/team_spirit\n"
     ]
    }
   ],
   "source": [
    "%cd pt-sdae"
   ]
  },
  {
   "cell_type": "code",
   "execution_count": 21,
   "id": "1193bd5d",
   "metadata": {},
   "outputs": [
    {
     "name": "stdout",
     "output_type": "stream",
     "text": [
      "/bin/bash: python: command not found\r\n"
     ]
    }
   ],
   "source": [
    "!python setup.py install"
   ]
  },
  {
   "cell_type": "code",
   "execution_count": 22,
   "id": "cd80716a",
   "metadata": {},
   "outputs": [
    {
     "name": "stdout",
     "output_type": "stream",
     "text": [
      "Requirement already satisfied: cytoolz in /home/duke/.local/lib/python3.8/site-packages (0.12.1)\r\n",
      "Requirement already satisfied: toolz>=0.8.0 in /home/duke/.local/lib/python3.8/site-packages (from cytoolz) (0.12.0)\r\n"
     ]
    }
   ],
   "source": [
    "!pip install cytoolz"
   ]
  },
  {
   "cell_type": "code",
   "execution_count": 28,
   "id": "b57697c6",
   "metadata": {
    "scrolled": true
   },
   "outputs": [
    {
     "ename": "ModuleNotFoundError",
     "evalue": "No module named 'ptsdae.sdae'",
     "output_type": "error",
     "traceback": [
      "\u001b[0;31m---------------------------------------------------------------------------\u001b[0m",
      "\u001b[0;31mModuleNotFoundError\u001b[0m                       Traceback (most recent call last)",
      "Cell \u001b[0;32mIn [28], line 2\u001b[0m\n\u001b[1;32m      1\u001b[0m \u001b[38;5;66;03m# SDAE and model\u001b[39;00m\n\u001b[0;32m----> 2\u001b[0m \u001b[38;5;28;01mfrom\u001b[39;00m \u001b[38;5;21;01mptsdae\u001b[39;00m\u001b[38;5;21;01m.\u001b[39;00m\u001b[38;5;21;01msdae\u001b[39;00m \u001b[38;5;28;01mimport\u001b[39;00m StackedDenoisingAutoEncoder\n\u001b[1;32m      3\u001b[0m \u001b[38;5;28;01mfrom\u001b[39;00m \u001b[38;5;21;01mptsdae\u001b[39;00m \u001b[38;5;28;01mimport\u001b[39;00m model \u001b[38;5;28;01mas\u001b[39;00m ae\n",
      "\u001b[0;31mModuleNotFoundError\u001b[0m: No module named 'ptsdae.sdae'"
     ]
    }
   ],
   "source": [
    "# SDAE and model\n",
    "from ptsdae.sdae import StackedDenoisingAutoEncoder\n",
    "from ptsdae import model as ae"
   ]
  },
  {
   "cell_type": "code",
   "execution_count": 26,
   "id": "4fc85eaa",
   "metadata": {},
   "outputs": [
    {
     "name": "stdout",
     "output_type": "stream",
     "text": [
      "/home/duke/github/team_spirit\n"
     ]
    }
   ],
   "source": [
    "%cd .."
   ]
  },
  {
   "cell_type": "code",
   "execution_count": 27,
   "id": "11e2e6e5",
   "metadata": {},
   "outputs": [],
   "source": [
    "train_df = pd.read_csv('train.csv')\n",
    "val_df = pd.read_csv('val.csv')\n",
    "test_df = pd.read_csv('test.csv')"
   ]
  },
  {
   "cell_type": "code",
   "execution_count": null,
   "id": "9a5f32d2",
   "metadata": {},
   "outputs": [],
   "source": [
    "cv = CountVectorizer(analyzer='char', ngram_range=(2, 4), stop_words='english', dtype=float)\n",
    "X_train, X_test, X_val = cv.fit_transform(train_data.text.tolist()), cv.transform(test_data.text.tolist()), cv.transform(val_data.text.tolist())  \n",
    "Y_train, Y_test, Y_val = train_data.author.tolist(), test_data.author.tolist(), val_data.author.tolist()\n",
    "\n",
    "print(Y_train)\n",
    "print(X_train.dtype)"
   ]
  },
  {
   "cell_type": "code",
   "execution_count": null,
   "id": "7c47dfa0",
   "metadata": {},
   "outputs": [],
   "source": [
    "X.toarray()"
   ]
  },
  {
   "cell_type": "code",
   "execution_count": null,
   "id": "ddbebc95",
   "metadata": {},
   "outputs": [],
   "source": [
    "X.toarray().shape"
   ]
  }
 ],
 "metadata": {
  "kernelspec": {
   "display_name": "Python 3 (ipykernel)",
   "language": "python",
   "name": "python3"
  },
  "language_info": {
   "codemirror_mode": {
    "name": "ipython",
    "version": 3
   },
   "file_extension": ".py",
   "mimetype": "text/x-python",
   "name": "python",
   "nbconvert_exporter": "python",
   "pygments_lexer": "ipython3",
   "version": "3.8.10"
  }
 },
 "nbformat": 4,
 "nbformat_minor": 5
}
