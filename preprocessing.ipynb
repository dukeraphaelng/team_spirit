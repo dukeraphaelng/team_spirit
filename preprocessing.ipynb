{
 "cells": [
  {
   "cell_type": "code",
   "execution_count": 1,
   "id": "e2adbc46",
   "metadata": {},
   "outputs": [],
   "source": [
    "import matplotlib.pyplot as plt\n",
    "import pandas as pd\n",
    "import numpy as np\n",
    "import seaborn as sns\n",
    "\n",
    "from pathlib import Path\n",
    "import os\n",
    "from data_io import get_book"
   ]
  },
  {
   "cell_type": "code",
   "execution_count": 2,
   "id": "0938f3d4",
   "metadata": {},
   "outputs": [
    {
     "data": {
      "text/plain": [
       "False"
      ]
     },
     "execution_count": 2,
     "metadata": {},
     "output_type": "execute_result"
    }
   ],
   "source": [
    "metadata_filename = 'metadata.csv'\n",
    "counts_dirname = 'counts'\n",
    "tokens_dirname = 'tokens'\n",
    "\n",
    "metadata_df = pd.read_csv(metadata_filename)\n",
    "\n",
    "filtered_df = metadata_df[(metadata_df.language == \"['en']\") & (metadata_df.type == 'Text')]\n",
    "\n",
    "SELECTED_COLUMNS = ['id', 'title', 'author', 'authoryearofbirth', 'authoryearofdeath']\n",
    "filtered_df = filtered_df.dropna(subset=SELECTED_COLUMNS)\n",
    "filtered_df = filtered_df[SELECTED_COLUMNS]\n",
    "filtered_df = filtered_df.reset_index(drop=True)\n",
    "\n",
    "author_count = filtered_df['author'].value_counts()\n",
    "many_works_author = author_count[author_count >= 10]\n",
    "filtered_df = filtered_df[filtered_df.author.isin(many_works_author.index.to_numpy())].reset_index()\n",
    "\n",
    "'PG8700' in filtered_df.id"
   ]
  },
  {
   "cell_type": "code",
   "execution_count": 7,
   "id": "df4ee5a5",
   "metadata": {},
   "outputs": [],
   "source": [
    "# filtered_df = filtered_df.sample(n=50, random_state=2).reset_index()\n",
    "\n",
    "sampled_authors = filtered_df.author.sample(n=50, random_state=1)\n",
    "\n",
    "train_ids = []\n",
    "test_ids = []\n",
    "val_ids = []\n",
    "\n",
    "for author in sampled_authors:\n",
    "    works = filtered_df[filtered_df.author == author].sample(n=3, random_state=1)\n",
    "    train_id, test_id, val_id = works.id\n",
    "    \n",
    "    # Does not check if this file exists and is valid\n",
    "    \n",
    "    train_ids.append(train_id)\n",
    "    test_ids.append(test_id)\n",
    "    val_ids.append(val_id)\n",
    "    \n",
    "\n",
    "train_df = filtered_df[filtered_df.id.isin(train_ids)]\n",
    "test_df = filtered_df[filtered_df.id.isin(test_ids)]\n",
    "val_df = filtered_df[filtered_df.id.isin(val_ids)]\n",
    "\n",
    "df_arrs = []\n",
    "for df in [train_df, test_df, val_df]:\n",
    "    df = df[['id', 'author']]\n",
    "\n",
    "    docs = []\n",
    "    docs_unavail_pg_ids = []\n",
    "    for pg_id in df.id:    \n",
    "        try:\n",
    "            doc = ' '.join(get_book(pg_id, os.path.join(tokens_dirname), level='tokens'))\n",
    "            docs.append(doc)\n",
    "        except:\n",
    "            docs_unavail_pg_ids.append(pg_id)\n",
    "    \n",
    "    df = df[~df.id.isin(docs_unavail_pg_ids)].reset_index()\n",
    "    df.insert(2, 'text', docs, True)\n",
    "    \n",
    "    df_arrs.append(df)\n",
    "\n",
    "train_df, test_df, val_df = df_arrs"
   ]
  },
  {
   "cell_type": "code",
   "execution_count": 8,
   "id": "0540bff1",
   "metadata": {},
   "outputs": [],
   "source": [
    "train_df.to_csv('train.csv', index=False)\n",
    "test_df.to_csv('test.csv', index=False)\n",
    "val_df.to_csv('val.csv', index=False)"
   ]
  }
 ],
 "metadata": {
  "kernelspec": {
   "display_name": "Python 3 (ipykernel)",
   "language": "python",
   "name": "python3"
  },
  "language_info": {
   "codemirror_mode": {
    "name": "ipython",
    "version": 3
   },
   "file_extension": ".py",
   "mimetype": "text/x-python",
   "name": "python",
   "nbconvert_exporter": "python",
   "pygments_lexer": "ipython3",
   "version": "3.9.13"
  }
 },
 "nbformat": 4,
 "nbformat_minor": 5
}
