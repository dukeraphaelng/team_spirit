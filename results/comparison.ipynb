{
 "cells": [
  {
   "cell_type": "code",
   "execution_count": 5,
   "id": "3ee59ff8",
   "metadata": {
    "ExecuteTime": {
     "start_time": "2023-04-16T19:41:21.592019Z",
     "end_time": "2023-04-16T19:41:21.611779Z"
    }
   },
   "outputs": [
    {
     "data": {
      "text/plain": "                      cohen_kappa  matthews_corrcoef  log_loss  \\\nmodel                                                            \nMax-Pooling BERT         0.903966           0.904197  2.698977   \nMean-Pooling BERT        0.896552           0.896801  2.319134   \nDefault-Pooling BERT     0.898103           2.424897  0.901731   \nConcat-Pooling BERT      0.876724           2.636909  0.880180   \n\n                      micro-accuracy  macro avg precision  macro avg recall  \\\nmodel                                                                         \nMax-Pooling BERT            0.907167             0.913532          0.907167   \nMean-Pooling BERT           0.900000             0.906794          0.900000   \nDefault-Pooling BERT        0.909204             0.901500          0.898372   \nConcat-Pooling BERT         0.891401             0.880833          0.877122   \n\n                      macro avg f1-score  weighted avg precision  \\\nmodel                                                              \nMax-Pooling BERT                0.906943                0.913532   \nMean-Pooling BERT               0.899752                0.906794   \nDefault-Pooling BERT            0.901500                0.901731   \nConcat-Pooling BERT             0.880833                0.880180   \n\n                      weighted avg recall  weighted avg f1-score  \nmodel                                                             \nMax-Pooling BERT                 0.907167               0.906943  \nMean-Pooling BERT                0.900000               0.899752  \nDefault-Pooling BERT             0.909204               0.901500  \nConcat-Pooling BERT              0.891401               0.880833  ",
      "text/html": "<div>\n<style scoped>\n    .dataframe tbody tr th:only-of-type {\n        vertical-align: middle;\n    }\n\n    .dataframe tbody tr th {\n        vertical-align: top;\n    }\n\n    .dataframe thead th {\n        text-align: right;\n    }\n</style>\n<table border=\"1\" class=\"dataframe\">\n  <thead>\n    <tr style=\"text-align: right;\">\n      <th></th>\n      <th>cohen_kappa</th>\n      <th>matthews_corrcoef</th>\n      <th>log_loss</th>\n      <th>micro-accuracy</th>\n      <th>macro avg precision</th>\n      <th>macro avg recall</th>\n      <th>macro avg f1-score</th>\n      <th>weighted avg precision</th>\n      <th>weighted avg recall</th>\n      <th>weighted avg f1-score</th>\n    </tr>\n    <tr>\n      <th>model</th>\n      <th></th>\n      <th></th>\n      <th></th>\n      <th></th>\n      <th></th>\n      <th></th>\n      <th></th>\n      <th></th>\n      <th></th>\n      <th></th>\n    </tr>\n  </thead>\n  <tbody>\n    <tr>\n      <th>Max-Pooling BERT</th>\n      <td>0.903966</td>\n      <td>0.904197</td>\n      <td>2.698977</td>\n      <td>0.907167</td>\n      <td>0.913532</td>\n      <td>0.907167</td>\n      <td>0.906943</td>\n      <td>0.913532</td>\n      <td>0.907167</td>\n      <td>0.906943</td>\n    </tr>\n    <tr>\n      <th>Mean-Pooling BERT</th>\n      <td>0.896552</td>\n      <td>0.896801</td>\n      <td>2.319134</td>\n      <td>0.900000</td>\n      <td>0.906794</td>\n      <td>0.900000</td>\n      <td>0.899752</td>\n      <td>0.906794</td>\n      <td>0.900000</td>\n      <td>0.899752</td>\n    </tr>\n    <tr>\n      <th>Default-Pooling BERT</th>\n      <td>0.898103</td>\n      <td>2.424897</td>\n      <td>0.901731</td>\n      <td>0.909204</td>\n      <td>0.901500</td>\n      <td>0.898372</td>\n      <td>0.901500</td>\n      <td>0.901731</td>\n      <td>0.909204</td>\n      <td>0.901500</td>\n    </tr>\n    <tr>\n      <th>Concat-Pooling BERT</th>\n      <td>0.876724</td>\n      <td>2.636909</td>\n      <td>0.880180</td>\n      <td>0.891401</td>\n      <td>0.880833</td>\n      <td>0.877122</td>\n      <td>0.880833</td>\n      <td>0.880180</td>\n      <td>0.891401</td>\n      <td>0.880833</td>\n    </tr>\n  </tbody>\n</table>\n</div>"
     },
     "execution_count": 5,
     "metadata": {},
     "output_type": "execute_result"
    }
   ],
   "source": [
    "import pandas as pd\n",
    "import numpy as np\n",
    "\n",
    "svm_df = pd.read_csv('svm_stats.csv')\n",
    "svm_df['log_loss'] = [np.nan for i in range(len(svm_df))]\n",
    "transformer_df = pd.read_csv('transformer_stats.csv')\n",
    "stats = pd.concat([transformer_df], axis=0)\n",
    "stats = stats.rename(columns={stats.columns[0]: 'model'})\n",
    "stats = stats.reset_index(drop=True)\n",
    "stats.at[0, 'model'] = 'Max-Pooling BERT'\n",
    "stats.at[1, 'model'] = 'Mean-Pooling BERT'\n",
    "stats.at[2, 'model'] = 'Default-Pooling BERT'\n",
    "stats.at[3, 'model'] = 'Concat-Pooling BERT'\n",
    "stats = stats.set_index('model')\n",
    "#stats.to_csv('stats.csv')\n",
    "stats"
   ]
  },
  {
   "cell_type": "code",
   "execution_count": null,
   "outputs": [],
   "source": [],
   "metadata": {
    "collapsed": false
   }
  }
 ],
 "metadata": {
  "kernelspec": {
   "display_name": "Python 3 (ipykernel)",
   "language": "python",
   "name": "python3"
  },
  "language_info": {
   "codemirror_mode": {
    "name": "ipython",
    "version": 3
   },
   "file_extension": ".py",
   "mimetype": "text/x-python",
   "name": "python",
   "nbconvert_exporter": "python",
   "pygments_lexer": "ipython3",
   "version": "3.8.10"
  }
 },
 "nbformat": 4,
 "nbformat_minor": 5
}
