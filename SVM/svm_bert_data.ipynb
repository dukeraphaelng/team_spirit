{
  "cells": [
    {
      "cell_type": "markdown",
      "metadata": {
        "id": "8FaoW2-BXzTR"
      },
      "source": [
        "# Support Vector Machine with SDAE"
      ]
    },
    {
      "cell_type": "markdown",
      "metadata": {
        "id": "eVmUlsvY4C33"
      },
      "source": [
        "## 1. Imports"
      ]
    },
    {
      "cell_type": "code",
      "execution_count": 1,
      "metadata": {
        "colab": {
          "base_uri": "https://localhost:8080/"
        },
        "id": "Q2V0zUN2adLl",
        "outputId": "233d603f-91f4-4a8e-f63c-c3ab2aa814f2",
        "scrolled": true
      },
      "outputs": [
        {
          "name": "stdout",
          "output_type": "stream",
          "text": [
            "Mounted at /content/drive\n"
          ]
        }
      ],
      "source": [
        "#from google.colab import drive\n",
        "#drive.mount('/content/drive')"
      ]
    },
    {
      "cell_type": "markdown",
      "metadata": {
        "id": "Tyx4NLUH4i6W"
      },
      "source": [
        "**Installing RAPIDS for GPU-accelerated SVM**"
      ]
    },
    {
      "cell_type": "code",
      "execution_count": 2,
      "metadata": {
        "colab": {
          "base_uri": "https://localhost:8080/"
        },
        "id": "OTyqUnFY4NJw",
        "outputId": "f6e53b63-306f-44df-dc24-f61830458b0b"
      },
      "outputs": [
        {
          "name": "stdout",
          "output_type": "stream",
          "text": [
            "Thu Apr 13 05:32:46 2023       \n",
            "+-----------------------------------------------------------------------------+\n",
            "| NVIDIA-SMI 525.85.12    Driver Version: 525.85.12    CUDA Version: 12.0     |\n",
            "|-------------------------------+----------------------+----------------------+\n",
            "| GPU  Name        Persistence-M| Bus-Id        Disp.A | Volatile Uncorr. ECC |\n",
            "| Fan  Temp  Perf  Pwr:Usage/Cap|         Memory-Usage | GPU-Util  Compute M. |\n",
            "|                               |                      |               MIG M. |\n",
            "|===============================+======================+======================|\n",
            "|   0  NVIDIA A100-SXM...  Off  | 00000000:00:04.0 Off |                    0 |\n",
            "| N/A   33C    P0    44W / 400W |      0MiB / 40960MiB |      0%      Default |\n",
            "|                               |                      |             Disabled |\n",
            "+-------------------------------+----------------------+----------------------+\n",
            "                                                                               \n",
            "+-----------------------------------------------------------------------------+\n",
            "| Processes:                                                                  |\n",
            "|  GPU   GI   CI        PID   Type   Process name                  GPU Memory |\n",
            "|        ID   ID                                                   Usage      |\n",
            "|=============================================================================|\n",
            "|  No running processes found                                                 |\n",
            "+-----------------------------------------------------------------------------+\n"
          ]
        }
      ],
      "source": [
        "!nvidia-smi"
      ]
    },
    {
      "cell_type": "code",
      "execution_count": 3,
      "metadata": {
        "colab": {
          "base_uri": "https://localhost:8080/"
        },
        "id": "1EiZbkWR4Oh4",
        "outputId": "22887344-763a-431f-ef77-a55193d13821"
      },
      "outputs": [
        {
          "name": "stdout",
          "output_type": "stream",
          "text": [
            "Cloning into 'rapidsai-csp-utils'...\n",
            "remote: Enumerating objects: 385, done.\u001b[K\n",
            "remote: Counting objects: 100% (116/116), done.\u001b[K\n",
            "remote: Compressing objects: 100% (65/65), done.\u001b[K\n",
            "remote: Total 385 (delta 86), reused 51 (delta 51), pack-reused 269\u001b[K\n",
            "Receiving objects: 100% (385/385), 105.74 KiB | 252.00 KiB/s, done.\n",
            "Resolving deltas: 100% (188/188), done.\n",
            "Looking in indexes: https://pypi.org/simple, https://us-python.pkg.dev/colab-wheels/public/simple/\n",
            "Collecting pynvml\n",
            "  Downloading pynvml-11.5.0-py3-none-any.whl (53 kB)\n",
            "     ━━━━━━━━━━━━━━━━━━━━━━━━━━━━━━━━━━━━━━━━ 53.1/53.1 kB 6.6 MB/s eta 0:00:00\n",
            "Installing collected packages: pynvml\n",
            "Successfully installed pynvml-11.5.0\n",
            "***********************************************************************\n",
            "Woo! Your instance has the right kind of GPU, a NVIDIA A100-SXM4-40GB!\n",
            "We will now install RAPIDS cuDF, cuML, and cuGraph via pip! \n",
            "Please stand by, should be quick...\n",
            "***********************************************************************\n",
            "\n",
            "Looking in indexes: https://pypi.org/simple, https://us-python.pkg.dev/colab-wheels/public/simple/, https://pypi.nvidia.com\n",
            "Collecting cudf-cu11\n",
            "  Downloading https://pypi.nvidia.com/cudf-cu11/cudf_cu11-23.2.0-cp39-cp39-manylinux_2_17_x86_64.manylinux2014_x86_64.whl (491.0 MB)\n",
            "     ━━━━━━━━━━━━━━━━━━━━━━━━━━━━━━━━━━━━━━━ 491.0/491.0 MB 2.2 MB/s eta 0:00:00\n",
            "Collecting cuml-cu11\n",
            "  Downloading https://pypi.nvidia.com/cuml-cu11/cuml_cu11-23.2.0-cp39-cp39-manylinux_2_17_x86_64.manylinux2014_x86_64.whl (1586.5 MB)\n",
            "     ━━━━━━━━━━━━━━━━━━━━━━━━━━━━━━━━━━━━━━━━ 1.6/1.6 GB 1.1 MB/s eta 0:00:00\n",
            "Collecting cugraph-cu11\n",
            "  Downloading https://pypi.nvidia.com/cugraph-cu11/cugraph_cu11-23.2.0-cp39-cp39-manylinux_2_17_x86_64.manylinux2014_x86_64.whl (1246.1 MB)\n",
            "     ━━━━━━━━━━━━━━━━━━━━━━━━━━━━━━━━━━━━━━━━ 1.2/1.2 GB 1.3 MB/s eta 0:00:00\n",
            "Collecting aiohttp\n",
            "  Downloading aiohttp-3.8.4-cp39-cp39-manylinux_2_17_x86_64.manylinux2014_x86_64.whl (1.0 MB)\n",
            "     ━━━━━━━━━━━━━━━━━━━━━━━━━━━━━━━━━━━━━━━━ 1.0/1.0 MB 46.6 MB/s eta 0:00:00\n",
            "Requirement already satisfied: fsspec>=0.6.0 in /usr/local/lib/python3.9/dist-packages (from cudf-cu11) (2023.3.0)\n",
            "Collecting rmm-cu11==23.2.*\n",
            "  Downloading https://pypi.nvidia.com/rmm-cu11/rmm_cu11-23.2.0-cp39-cp39-manylinux_2_17_x86_64.manylinux2014_x86_64.whl (2.3 MB)\n",
            "     ━━━━━━━━━━━━━━━━━━━━━━━━━━━━━━━━━━━━━━━━ 2.3/2.3 MB 61.3 MB/s eta 0:00:00\n",
            "Requirement already satisfied: numpy in /usr/local/lib/python3.9/dist-packages (from cudf-cu11) (1.22.4)\n",
            "Collecting cubinlinker-cu11\n",
            "  Downloading https://pypi.nvidia.com/cubinlinker-cu11/cubinlinker_cu11-0.3.0.post1-cp39-cp39-manylinux_2_17_x86_64.manylinux2014_x86_64.whl (8.8 MB)\n",
            "     ━━━━━━━━━━━━━━━━━━━━━━━━━━━━━━━━━━━━━━━━ 8.8/8.8 MB 57.2 MB/s eta 0:00:00\n",
            "Collecting pyarrow==10\n",
            "  Downloading pyarrow-10.0.0-cp39-cp39-manylinux_2_17_x86_64.manylinux2014_x86_64.whl (35.2 MB)\n",
            "     ━━━━━━━━━━━━━━━━━━━━━━━━━━━━━━━━━━━━━━━━ 35.2/35.2 MB 47.5 MB/s eta 0:00:00\n",
            "Requirement already satisfied: cupy-cuda11x in /usr/local/lib/python3.9/dist-packages (from cudf-cu11) (11.0.0)\n",
            "Requirement already satisfied: typing-extensions in /usr/local/lib/python3.9/dist-packages (from cudf-cu11) (4.5.0)\n",
            "Requirement already satisfied: pandas<1.6.0dev0,>=1.0 in /usr/local/lib/python3.9/dist-packages (from cudf-cu11) (1.5.3)\n",
            "Requirement already satisfied: cachetools in /usr/local/lib/python3.9/dist-packages (from cudf-cu11) (5.3.0)\n",
            "Collecting protobuf==4.21\n",
            "  Downloading protobuf-4.21.0-cp37-abi3-manylinux2014_x86_64.whl (407 kB)\n",
            "     ━━━━━━━━━━━━━━━━━━━━━━━━━━━━━━━━━━━━━━ 407.6/407.6 kB 41.9 MB/s eta 0:00:00\n",
            "Requirement already satisfied: packaging in /usr/local/lib/python3.9/dist-packages (from cudf-cu11) (23.0)\n",
            "Collecting ptxcompiler-cu11\n",
            "  Downloading https://pypi.nvidia.com/ptxcompiler-cu11/ptxcompiler_cu11-0.7.0.post1-cp39-cp39-manylinux_2_17_x86_64.manylinux2014_x86_64.whl (8.8 MB)\n",
            "     ━━━━━━━━━━━━━━━━━━━━━━━━━━━━━━━━━━━━━━━━ 8.8/8.8 MB 55.6 MB/s eta 0:00:00\n",
            "Requirement already satisfied: numba>=0.56.2 in /usr/local/lib/python3.9/dist-packages (from cudf-cu11) (0.56.4)\n",
            "Collecting cuda-python<12.0,>=11.7.1\n",
            "  Downloading cuda_python-11.8.1-cp39-cp39-manylinux_2_17_x86_64.manylinux2014_x86_64.whl (16.5 MB)\n",
            "     ━━━━━━━━━━━━━━━━━━━━━━━━━━━━━━━━━━━━━━━━ 16.5/16.5 MB 67.2 MB/s eta 0:00:00\n",
            "Collecting nvtx>=0.2.1\n",
            "  Downloading nvtx-0.2.5-cp39-cp39-manylinux_2_17_x86_64.manylinux2014_x86_64.whl (441 kB)\n",
            "     ━━━━━━━━━━━━━━━━━━━━━━━━━━━━━━━━━━━━━━ 441.3/441.3 kB 42.5 MB/s eta 0:00:00\n",
            "Collecting treelite-runtime==3.1.0\n",
            "  Downloading treelite_runtime-3.1.0-py3-none-manylinux2014_x86_64.whl (191 kB)\n",
            "     ━━━━━━━━━━━━━━━━━━━━━━━━━━━━━━━━━━━━━━ 191.9/191.9 kB 24.1 MB/s eta 0:00:00\n",
            "Requirement already satisfied: scipy in /usr/local/lib/python3.9/dist-packages (from cuml-cu11) (1.10.1)\n",
            "Requirement already satisfied: seaborn in /usr/local/lib/python3.9/dist-packages (from cuml-cu11) (0.12.2)\n",
            "Collecting raft-dask-cu11==23.2.*\n",
            "  Downloading https://pypi.nvidia.com/raft-dask-cu11/raft_dask_cu11-23.2.0-cp39-cp39-manylinux_2_17_x86_64.manylinux2014_x86_64.whl (215.1 MB)\n",
            "     ━━━━━━━━━━━━━━━━━━━━━━━━━━━━━━━━━━━━━━━ 215.1/215.1 MB 7.6 MB/s eta 0:00:00\n",
            "Collecting treelite==3.1.0\n",
            "  Downloading treelite-3.1.0-py3-none-manylinux2014_x86_64.whl (873 kB)\n",
            "     ━━━━━━━━━━━━━━━━━━━━━━━━━━━━━━━━━━━━━━ 873.5/873.5 kB 63.8 MB/s eta 0:00:00\n",
            "Collecting dask-cudf-cu11==23.2.*\n",
            "  Downloading https://pypi.nvidia.com/dask-cudf-cu11/dask_cudf_cu11-23.2.0-py3-none-any.whl (76 kB)\n",
            "     ━━━━━━━━━━━━━━━━━━━━━━━━━━━━━━━━━━━━━━━━ 76.1/76.1 kB 11.4 MB/s eta 0:00:00\n",
            "Collecting pylibraft-cu11==23.2.*\n",
            "  Downloading https://pypi.nvidia.com/pylibraft-cu11/pylibraft_cu11-23.2.0-cp39-cp39-manylinux_2_17_x86_64.manylinux2014_x86_64.whl (1015.5 MB)\n",
            "     ━━━━━━━━━━━━━━━━━━━━━━━━━━━━━━━━━━━━━━━━ 1.0/1.0 GB 1.7 MB/s eta 0:00:00\n",
            "Collecting distributed==2023.1.1\n",
            "  Downloading distributed-2023.1.1-py3-none-any.whl (934 kB)\n",
            "     ━━━━━━━━━━━━━━━━━━━━━━━━━━━━━━━━━━━━━━ 934.1/934.1 kB 61.5 MB/s eta 0:00:00\n",
            "Collecting dask==2023.1.1\n",
            "  Downloading dask-2023.1.1-py3-none-any.whl (1.1 MB)\n",
            "     ━━━━━━━━━━━━━━━━━━━━━━━━━━━━━━━━━━━━━━━━ 1.1/1.1 MB 61.5 MB/s eta 0:00:00\n",
            "Collecting ucx-py-cu11==0.30.*\n",
            "  Downloading https://pypi.nvidia.com/ucx-py-cu11/ucx_py_cu11-0.30.0-cp39-cp39-manylinux_2_17_x86_64.manylinux2014_x86_64.whl (8.4 MB)\n",
            "     ━━━━━━━━━━━━━━━━━━━━━━━━━━━━━━━━━━━━━━━━ 8.4/8.4 MB 55.2 MB/s eta 0:00:00\n",
            "Requirement already satisfied: joblib>=0.11 in /usr/local/lib/python3.9/dist-packages (from raft-dask-cu11==23.2.*->cuml-cu11) (1.2.0)\n",
            "Collecting dask-cuda==23.2.*\n",
            "  Downloading dask_cuda-23.2.1-py3-none-any.whl (240 kB)\n",
            "     ━━━━━━━━━━━━━━━━━━━━━━━━━━━━━━━━━━━━━━ 240.2/240.2 kB 28.0 MB/s eta 0:00:00\n",
            "Requirement already satisfied: toolz>=0.8.2 in /usr/local/lib/python3.9/dist-packages (from dask==2023.1.1->dask-cudf-cu11==23.2.*->cuml-cu11) (0.12.0)\n",
            "Requirement already satisfied: pyyaml>=5.3.1 in /usr/local/lib/python3.9/dist-packages (from dask==2023.1.1->dask-cudf-cu11==23.2.*->cuml-cu11) (6.0)\n",
            "Requirement already satisfied: click>=7.0 in /usr/local/lib/python3.9/dist-packages (from dask==2023.1.1->dask-cudf-cu11==23.2.*->cuml-cu11) (8.1.3)\n",
            "Requirement already satisfied: partd>=0.3.10 in /usr/local/lib/python3.9/dist-packages (from dask==2023.1.1->dask-cudf-cu11==23.2.*->cuml-cu11) (1.3.0)\n",
            "Requirement already satisfied: cloudpickle>=1.1.1 in /usr/local/lib/python3.9/dist-packages (from dask==2023.1.1->dask-cudf-cu11==23.2.*->cuml-cu11) (2.2.1)\n",
            "Collecting pynvml<11.5,>=11.0.0\n",
            "  Downloading pynvml-11.4.1-py3-none-any.whl (46 kB)\n",
            "     ━━━━━━━━━━━━━━━━━━━━━━━━━━━━━━━━━━━━━━━━ 47.0/47.0 kB 5.8 MB/s eta 0:00:00\n",
            "Requirement already satisfied: zict>=0.1.3 in /usr/local/lib/python3.9/dist-packages (from dask-cuda==23.2.*->raft-dask-cu11==23.2.*->cuml-cu11) (2.2.0)\n",
            "Requirement already satisfied: tornado>=6.0.3 in /usr/local/lib/python3.9/dist-packages (from distributed==2023.1.1->dask-cudf-cu11==23.2.*->cuml-cu11) (6.2)\n",
            "Requirement already satisfied: urllib3>=1.24.3 in /usr/local/lib/python3.9/dist-packages (from distributed==2023.1.1->dask-cudf-cu11==23.2.*->cuml-cu11) (1.26.15)\n",
            "Requirement already satisfied: psutil>=5.7.0 in /usr/local/lib/python3.9/dist-packages (from distributed==2023.1.1->dask-cudf-cu11==23.2.*->cuml-cu11) (5.9.4)\n",
            "Requirement already satisfied: msgpack>=1.0.0 in /usr/local/lib/python3.9/dist-packages (from distributed==2023.1.1->dask-cudf-cu11==23.2.*->cuml-cu11) (1.0.5)\n",
            "Requirement already satisfied: tblib>=1.6.0 in /usr/local/lib/python3.9/dist-packages (from distributed==2023.1.1->dask-cudf-cu11==23.2.*->cuml-cu11) (1.7.0)\n",
            "Requirement already satisfied: locket>=1.0.0 in /usr/local/lib/python3.9/dist-packages (from distributed==2023.1.1->dask-cudf-cu11==23.2.*->cuml-cu11) (1.0.0)\n",
            "Requirement already satisfied: jinja2>=2.10.3 in /usr/local/lib/python3.9/dist-packages (from distributed==2023.1.1->dask-cudf-cu11==23.2.*->cuml-cu11) (3.1.2)\n",
            "Requirement already satisfied: sortedcontainers>=2.0.5 in /usr/local/lib/python3.9/dist-packages (from distributed==2023.1.1->dask-cudf-cu11==23.2.*->cuml-cu11) (2.4.0)\n",
            "Collecting pylibcugraph-cu11==23.2.*\n",
            "  Downloading https://pypi.nvidia.com/pylibcugraph-cu11/pylibcugraph_cu11-23.2.0-cp39-cp39-manylinux_2_17_x86_64.manylinux2014_x86_64.whl (1242.2 MB)\n",
            "     ━━━━━━━━━━━━━━━━━━━━━━━━━━━━━━━━━━━━━━━━ 1.2/1.2 GB 1.4 MB/s eta 0:00:00\n",
            "Requirement already satisfied: charset-normalizer<4.0,>=2.0 in /usr/local/lib/python3.9/dist-packages (from aiohttp) (2.0.12)\n",
            "Collecting multidict<7.0,>=4.5\n",
            "  Downloading multidict-6.0.4-cp39-cp39-manylinux_2_17_x86_64.manylinux2014_x86_64.whl (114 kB)\n",
            "     ━━━━━━━━━━━━━━━━━━━━━━━━━━━━━━━━━━━━━━ 114.2/114.2 kB 12.3 MB/s eta 0:00:00\n",
            "Collecting async-timeout<5.0,>=4.0.0a3\n",
            "  Downloading async_timeout-4.0.2-py3-none-any.whl (5.8 kB)\n",
            "Requirement already satisfied: attrs>=17.3.0 in /usr/local/lib/python3.9/dist-packages (from aiohttp) (22.2.0)\n",
            "Collecting yarl<2.0,>=1.0\n",
            "  Downloading yarl-1.8.2-cp39-cp39-manylinux_2_17_x86_64.manylinux2014_x86_64.whl (264 kB)\n",
            "     ━━━━━━━━━━━━━━━━━━━━━━━━━━━━━━━━━━━━━━ 264.6/264.6 kB 27.8 MB/s eta 0:00:00\n",
            "Collecting aiosignal>=1.1.2\n",
            "  Downloading aiosignal-1.3.1-py3-none-any.whl (7.6 kB)\n",
            "Collecting frozenlist>=1.1.1\n",
            "  Downloading frozenlist-1.3.3-cp39-cp39-manylinux_2_5_x86_64.manylinux1_x86_64.manylinux_2_17_x86_64.manylinux2014_x86_64.whl (158 kB)\n",
            "     ━━━━━━━━━━━━━━━━━━━━━━━━━━━━━━━━━━━━━━ 158.8/158.8 kB 20.5 MB/s eta 0:00:00\n",
            "Requirement already satisfied: cython in /usr/local/lib/python3.9/dist-packages (from cuda-python<12.0,>=11.7.1->cudf-cu11) (0.29.34)\n",
            "Requirement already satisfied: llvmlite<0.40,>=0.39.0dev0 in /usr/local/lib/python3.9/dist-packages (from numba>=0.56.2->cudf-cu11) (0.39.1)\n",
            "Requirement already satisfied: setuptools in /usr/local/lib/python3.9/dist-packages (from numba>=0.56.2->cudf-cu11) (67.6.1)\n",
            "Requirement already satisfied: pytz>=2020.1 in /usr/local/lib/python3.9/dist-packages (from pandas<1.6.0dev0,>=1.0->cudf-cu11) (2022.7.1)\n",
            "Requirement already satisfied: python-dateutil>=2.8.1 in /usr/local/lib/python3.9/dist-packages (from pandas<1.6.0dev0,>=1.0->cudf-cu11) (2.8.2)\n",
            "Requirement already satisfied: idna>=2.0 in /usr/local/lib/python3.9/dist-packages (from yarl<2.0,>=1.0->aiohttp) (3.4)\n",
            "Requirement already satisfied: fastrlock>=0.5 in /usr/local/lib/python3.9/dist-packages (from cupy-cuda11x->cudf-cu11) (0.8.1)\n",
            "Requirement already satisfied: matplotlib!=3.6.1,>=3.1 in /usr/local/lib/python3.9/dist-packages (from seaborn->cuml-cu11) (3.7.1)\n",
            "Requirement already satisfied: cycler>=0.10 in /usr/local/lib/python3.9/dist-packages (from matplotlib!=3.6.1,>=3.1->seaborn->cuml-cu11) (0.11.0)\n",
            "Requirement already satisfied: pillow>=6.2.0 in /usr/local/lib/python3.9/dist-packages (from matplotlib!=3.6.1,>=3.1->seaborn->cuml-cu11) (8.4.0)\n",
            "Requirement already satisfied: kiwisolver>=1.0.1 in /usr/local/lib/python3.9/dist-packages (from matplotlib!=3.6.1,>=3.1->seaborn->cuml-cu11) (1.4.4)\n",
            "Requirement already satisfied: pyparsing>=2.3.1 in /usr/local/lib/python3.9/dist-packages (from matplotlib!=3.6.1,>=3.1->seaborn->cuml-cu11) (3.0.9)\n",
            "Requirement already satisfied: contourpy>=1.0.1 in /usr/local/lib/python3.9/dist-packages (from matplotlib!=3.6.1,>=3.1->seaborn->cuml-cu11) (1.0.7)\n",
            "Requirement already satisfied: fonttools>=4.22.0 in /usr/local/lib/python3.9/dist-packages (from matplotlib!=3.6.1,>=3.1->seaborn->cuml-cu11) (4.39.3)\n",
            "Requirement already satisfied: importlib-resources>=3.2.0 in /usr/local/lib/python3.9/dist-packages (from matplotlib!=3.6.1,>=3.1->seaborn->cuml-cu11) (5.12.0)\n",
            "Requirement already satisfied: six>=1.5 in /usr/local/lib/python3.9/dist-packages (from python-dateutil>=2.8.1->pandas<1.6.0dev0,>=1.0->cudf-cu11) (1.16.0)\n",
            "Requirement already satisfied: zipp>=3.1.0 in /usr/local/lib/python3.9/dist-packages (from importlib-resources>=3.2.0->matplotlib!=3.6.1,>=3.1->seaborn->cuml-cu11) (3.15.0)\n",
            "Requirement already satisfied: MarkupSafe>=2.0 in /usr/local/lib/python3.9/dist-packages (from jinja2>=2.10.3->distributed==2023.1.1->dask-cudf-cu11==23.2.*->cuml-cu11) (2.1.2)\n",
            "Requirement already satisfied: heapdict in /usr/local/lib/python3.9/dist-packages (from zict>=0.1.3->dask-cuda==23.2.*->raft-dask-cu11==23.2.*->cuml-cu11) (1.0.1)\n",
            "WARNING: The candidate selected for download or install is a yanked version: 'protobuf' candidate (version 4.21.0 at https://files.pythonhosted.org/packages/9d/82/b3131637daf2a27eab76b0de8e139ecf0f6624832c03531dce8a7d59ddc1/protobuf-4.21.0-cp37-abi3-manylinux2014_x86_64.whl (from https://pypi.org/simple/protobuf/))\n",
            "Reason for being yanked: Required python version not configured correctly (https://github.com/protocolbuffers/protobuf/issues/10076)\n",
            "Installing collected packages: ptxcompiler-cu11, protobuf, nvtx, cubinlinker-cu11, pynvml, pyarrow, multidict, frozenlist, cuda-python, async-timeout, yarl, ucx-py-cu11, treelite-runtime, treelite, rmm-cu11, dask, aiosignal, pylibraft-cu11, distributed, cudf-cu11, aiohttp, pylibcugraph-cu11, dask-cudf-cu11, dask-cuda, raft-dask-cu11, cuml-cu11, cugraph-cu11\n",
            "  Attempting uninstall: protobuf\n",
            "    Found existing installation: protobuf 3.20.3\n",
            "    Uninstalling protobuf-3.20.3:\n",
            "      Successfully uninstalled protobuf-3.20.3\n",
            "  Attempting uninstall: pynvml\n",
            "    Found existing installation: pynvml 11.5.0\n",
            "    Uninstalling pynvml-11.5.0:\n",
            "      Successfully uninstalled pynvml-11.5.0\n",
            "  Attempting uninstall: pyarrow\n",
            "    Found existing installation: pyarrow 9.0.0\n",
            "    Uninstalling pyarrow-9.0.0:\n",
            "      Successfully uninstalled pyarrow-9.0.0\n",
            "  Attempting uninstall: dask\n",
            "    Found existing installation: dask 2022.12.1\n",
            "    Uninstalling dask-2022.12.1:\n",
            "      Successfully uninstalled dask-2022.12.1\n",
            "  Attempting uninstall: distributed\n",
            "    Found existing installation: distributed 2022.12.1\n",
            "    Uninstalling distributed-2022.12.1:\n",
            "      Successfully uninstalled distributed-2022.12.1\n",
            "ERROR: pip's dependency resolver does not currently take into account all the packages that are installed. This behaviour is the source of the following dependency conflicts.\n",
            "tensorflow 2.12.0 requires protobuf!=4.21.0,!=4.21.1,!=4.21.2,!=4.21.3,!=4.21.4,!=4.21.5,<5.0.0dev,>=3.20.3, but you have protobuf 4.21.0 which is incompatible.\n",
            "tensorflow-metadata 1.13.0 requires protobuf<4,>=3.13, but you have protobuf 4.21.0 which is incompatible.\n",
            "pandas-gbq 0.17.9 requires pyarrow<10.0dev,>=3.0.0, but you have pyarrow 10.0.0 which is incompatible.\n",
            "google-cloud-translate 3.11.1 requires protobuf!=3.20.0,!=3.20.1,!=4.21.0,!=4.21.1,!=4.21.2,!=4.21.3,!=4.21.4,!=4.21.5,<5.0.0dev,>=3.19.5, but you have protobuf 4.21.0 which is incompatible.\n",
            "google-cloud-language 2.9.1 requires protobuf!=3.20.0,!=3.20.1,!=4.21.0,!=4.21.1,!=4.21.2,!=4.21.3,!=4.21.4,!=4.21.5,<5.0.0dev,>=3.19.5, but you have protobuf 4.21.0 which is incompatible.\n",
            "google-cloud-firestore 2.11.0 requires protobuf!=3.20.0,!=3.20.1,!=4.21.0,!=4.21.1,!=4.21.2,!=4.21.3,!=4.21.4,!=4.21.5,<5.0.0dev,>=3.19.5, but you have protobuf 4.21.0 which is incompatible.\n",
            "google-cloud-datastore 2.15.1 requires protobuf!=3.20.0,!=3.20.1,!=4.21.0,!=4.21.1,!=4.21.2,!=4.21.3,!=4.21.4,!=4.21.5,<5.0.0dev,>=3.19.5, but you have protobuf 4.21.0 which is incompatible.\n",
            "google-cloud-bigquery 3.9.0 requires protobuf!=3.20.0,!=3.20.1,!=4.21.0,!=4.21.1,!=4.21.2,!=4.21.3,!=4.21.4,!=4.21.5,<5.0.0dev,>=3.19.5, but you have protobuf 4.21.0 which is incompatible.\n",
            "google-cloud-bigquery-storage 2.19.1 requires protobuf!=3.20.0,!=3.20.1,!=4.21.0,!=4.21.1,!=4.21.2,!=4.21.3,!=4.21.4,!=4.21.5,<5.0.0dev,>=3.19.5, but you have protobuf 4.21.0 which is incompatible.\n",
            "google-api-core 2.11.0 requires protobuf!=3.20.0,!=3.20.1,!=4.21.0,!=4.21.1,!=4.21.2,!=4.21.3,!=4.21.4,!=4.21.5,<5.0.0dev,>=3.19.5, but you have protobuf 4.21.0 which is incompatible.\n",
            "Successfully installed aiohttp-3.8.4 aiosignal-1.3.1 async-timeout-4.0.2 cubinlinker-cu11-0.3.0.post1 cuda-python-11.8.1 cudf-cu11-23.2.0 cugraph-cu11-23.2.0 cuml-cu11-23.2.0 dask-2023.1.1 dask-cuda-23.2.1 dask-cudf-cu11-23.2.0 distributed-2023.1.1 frozenlist-1.3.3 multidict-6.0.4 nvtx-0.2.5 protobuf-4.21.0 ptxcompiler-cu11-0.7.0.post1 pyarrow-10.0.0 pylibcugraph-cu11-23.2.0 pylibraft-cu11-23.2.0 pynvml-11.4.1 raft-dask-cu11-23.2.0 rmm-cu11-23.2.0 treelite-3.1.0 treelite-runtime-3.1.0 ucx-py-cu11-0.30.0 yarl-1.8.2\n",
            "Looking in indexes: https://pypi.org/simple, https://us-python.pkg.dev/colab-wheels/public/simple/\n",
            "Requirement already satisfied: cupy-cuda11x in /usr/local/lib/python3.9/dist-packages (11.0.0)\n",
            "Requirement already satisfied: fastrlock>=0.5 in /usr/local/lib/python3.9/dist-packages (from cupy-cuda11x) (0.8.1)\n",
            "Requirement already satisfied: numpy<1.26,>=1.20 in /usr/local/lib/python3.9/dist-packages (from cupy-cuda11x) (1.22.4)\n",
            "\n",
            "          ***********************************************************************\n",
            "          The pip install of RAPIDS is complete.\n",
            "          \n",
            "          Please do not run any further installation from the conda based installation methods, as they may cause issues!  \n",
            "          \n",
            "          Please ensure that you're pulling from the git repo to remain updated with the latest working install scripts. \n",
            "r          \n",
            "          Troubleshooting:\n",
            "             - If there is an installation failure, please check back on RAPIDSAI owned templates/notebooks to see how to update your personal files. \n",
            "             - If an installation failure persists when using the latest script, please make an issue on https://github.com/rapidsai-community/rapidsai-csp-utils\n",
            "          ***********************************************************************\n",
            "          \n"
          ]
        }
      ],
      "source": [
        "!git clone https://github.com/rapidsai/rapidsai-csp-utils.git\n",
        "!python rapidsai-csp-utils/colab/pip-install.py"
      ]
    },
    {
      "cell_type": "code",
      "execution_count": 4,
      "metadata": {
        "colab": {
          "base_uri": "https://localhost:8080/",
          "height": 125
        },
        "id": "N4DVgSf64P7A",
        "outputId": "10112446-93b7-40a3-df8c-f2c753e73e29"
      },
      "outputs": [
        {
          "name": "stderr",
          "output_type": "stream",
          "text": [
            "/usr/local/lib/python3.9/dist-packages/rmm/__init__.py:56: FutureWarning: Use of 'rmm.RMMNumbaManager' is deprecated and will be removed. 'RMMNumbaManager' now lives in the 'rmm.allocators.numba' sub-module, please update your imports.\n",
            "  warnings.warn(\n",
            "/usr/local/lib/python3.9/dist-packages/rmm/__init__.py:56: FutureWarning: Use of 'rmm.rmm_cupy_allocator' is deprecated and will be removed. 'rmm_cupy_allocator' now lives in the 'rmm.allocators.cupy' sub-module, please update your imports.\n",
            "  warnings.warn(\n"
          ]
        },
        {
          "data": {
            "application/vnd.google.colaboratory.intrinsic+json": {
              "type": "string"
            },
            "text/plain": [
              "'23.2.0'"
            ]
          },
          "execution_count": 4,
          "metadata": {},
          "output_type": "execute_result"
        }
      ],
      "source": [
        "import cudf\n",
        "cudf.__version__"
      ]
    },
    {
      "cell_type": "code",
      "execution_count": 5,
      "metadata": {
        "colab": {
          "base_uri": "https://localhost:8080/",
          "height": 90
        },
        "id": "9-OxQy764Q2L",
        "outputId": "f7f99fd0-022f-4292-e8f0-b1d4beb93cbb"
      },
      "outputs": [
        {
          "name": "stderr",
          "output_type": "stream",
          "text": [
            "/usr/local/lib/python3.9/dist-packages/rmm/__init__.py:56: FutureWarning: Use of 'rmm.rmm_cupy_allocator' is deprecated and will be removed. 'rmm_cupy_allocator' now lives in the 'rmm.allocators.cupy' sub-module, please update your imports.\n",
            "  warnings.warn(\n"
          ]
        },
        {
          "data": {
            "application/vnd.google.colaboratory.intrinsic+json": {
              "type": "string"
            },
            "text/plain": [
              "'23.2.0'"
            ]
          },
          "execution_count": 5,
          "metadata": {},
          "output_type": "execute_result"
        }
      ],
      "source": [
        "import cuml\n",
        "cuml.__version__"
      ]
    },
    {
      "cell_type": "code",
      "execution_count": 6,
      "metadata": {
        "colab": {
          "base_uri": "https://localhost:8080/",
          "height": 35
        },
        "id": "0VxrFMGX4R3P",
        "outputId": "ac6a014b-0119-491a-b38e-7e1e171c611e"
      },
      "outputs": [
        {
          "data": {
            "application/vnd.google.colaboratory.intrinsic+json": {
              "type": "string"
            },
            "text/plain": [
              "'23.2.0'"
            ]
          },
          "execution_count": 6,
          "metadata": {},
          "output_type": "execute_result"
        }
      ],
      "source": [
        "import cugraph\n",
        "cugraph.__version__"
      ]
    },
    {
      "cell_type": "code",
      "execution_count": 7,
      "metadata": {
        "id": "NHYa0fZ7ajgl"
      },
      "outputs": [],
      "source": [
        "import os\n",
        "import numpy as np\n",
        "import pandas as pd\n",
        "\n",
        "# Classifier\n",
        "from cuml.svm import LinearSVC\n",
        "\n",
        "# Character N-gram feature extractor\n",
        "from sklearn.feature_extraction.text import CountVectorizer\n",
        "\n",
        "# Util\n",
        "from data_io import get_book\n",
        "import torch\n",
        "from sklearn import metrics\n",
        "from sklearn.preprocessing import LabelEncoder\n",
        "\n",
        "# Keras \n",
        "import keras\n",
        "from keras.layers import Input, Dense\n",
        "from keras.models import Model\n",
        "from keras.optimizers import Adam\n",
        "\n",
        "# Plotting\n",
        "import matplotlib.pyplot as plt\n",
        "\n",
        "import tensorflow as tf"
      ]
    },
    {
      "cell_type": "markdown",
      "metadata": {
        "id": "lNb80DPAauyM"
      },
      "source": [
        "## 2. Create the training, test and validation sets"
      ]
    },
    {
      "cell_type": "code",
      "execution_count": 8,
      "metadata": {
        "id": "wMzy7Auiaq5L",
        "scrolled": true
      },
      "outputs": [],
      "source": [
        "train_data = pd.concat(pd.read_csv(\"train.csv\", chunksize = 100))\n",
        "test_data = pd.concat(pd.read_csv(\"test.csv\", chunksize = 100))\n",
        "val_data = pd.concat(pd.read_csv(\"val.csv\", chunksize = 100))\n",
        "\n",
        "cv = CountVectorizer(analyzer='char', ngram_range=(1, 5), dtype=np.float32, max_features=10000)\n",
        "X_train, X_test, X_val = cv.fit_transform(train_data.text.tolist()), cv.transform(test_data.text.tolist()), cv.transform(val_data.text.tolist())  \n",
        "Y_train, Y_test, Y_val = train_data.author.tolist(), test_data.author.tolist(), val_data.author.tolist()"
      ]
    },
    {
      "cell_type": "markdown",
      "metadata": {
        "id": "_47vJnX8axRC"
      },
      "source": [
        "**Convert labelled data into numbers**"
      ]
    },
    {
      "cell_type": "code",
      "execution_count": 9,
      "metadata": {
        "colab": {
          "base_uri": "https://localhost:8080/"
        },
        "id": "PLf_7b2Jawm3",
        "outputId": "48d0811c-bb92-4361-e895-ff4ee45ee0f8"
      },
      "outputs": [
        {
          "name": "stdout",
          "output_type": "stream",
          "text": [
            "[ 4 26 25 ...  4 24 16]\n"
          ]
        }
      ],
      "source": [
        "Encoder = LabelEncoder()\n",
        "Y_train = Encoder.fit_transform(Y_train)\n",
        "Y_test = Encoder.transform(Y_test)\n",
        "Y_val = Encoder.transform(Y_val)\n",
        "\n",
        "print(np.array(Y_train))"
      ]
    },
    {
      "cell_type": "markdown",
      "metadata": {
        "id": "VxWiB2Mfa44I"
      },
      "source": [
        "**Distribution of Training Data**"
      ]
    },
    {
      "cell_type": "code",
      "execution_count": 10,
      "metadata": {
        "colab": {
          "base_uri": "https://localhost:8080/"
        },
        "id": "L6WHsJcEa7ye",
        "outputId": "f77dbffe-1971-4fa0-c579-f77e646c81f9"
      },
      "outputs": [
        {
          "name": "stdout",
          "output_type": "stream",
          "text": [
            "(48000, 10000)\n",
            "512\n",
            "total occurrences of length 1 char n-gram\n",
            "160718\n",
            "total amount of length 1 char n-gram\n",
            "27\n",
            "total occurrences of length 2 char n-gram\n",
            "2214653\n",
            "total amount of length 2 char n-gram\n",
            "392\n",
            "total occurrences of length 3 char n-gram\n",
            "11458080\n",
            "total amount of length 3 char n-gram\n",
            "2121\n",
            "total occurrences of length 4 char n-gram\n",
            "19616643\n",
            "total amount of length 4 char n-gram\n",
            "3914\n",
            "total occurrences of length 5 char n-gram\n",
            "16544906\n",
            "total amount of length 5 char n-gram\n",
            "3546\n"
          ]
        }
      ],
      "source": [
        "print(X_train.shape)\n",
        "# print(cv.vocabulary_)\n",
        "print(len(train_data.text.tolist()[1].split(\" \")))\n",
        "\n",
        "one_ngram_occurrences = [cv.vocabulary_[ngram] for ngram in cv.vocabulary_ if len(ngram) == 1]\n",
        "print(\"total occurrences of length 1 char n-gram\")\n",
        "print(sum(one_ngram_occurrences))\n",
        "print(\"total amount of length 1 char n-gram\")\n",
        "print(len(one_ngram_occurrences))\n",
        "\n",
        "two_ngram_occurrences = [cv.vocabulary_[ngram] for ngram in cv.vocabulary_ if len(ngram) == 2]\n",
        "print(\"total occurrences of length 2 char n-gram\")\n",
        "print(sum(two_ngram_occurrences))\n",
        "print(\"total amount of length 2 char n-gram\")\n",
        "print(len(two_ngram_occurrences))\n",
        "\n",
        "three_ngram_occurrences = [cv.vocabulary_[ngram] for ngram in cv.vocabulary_ if len(ngram) == 3]\n",
        "print(\"total occurrences of length 3 char n-gram\")\n",
        "print(sum(three_ngram_occurrences))\n",
        "print(\"total amount of length 3 char n-gram\")\n",
        "print(len(three_ngram_occurrences))\n",
        "\n",
        "four_ngram_occurrences = [cv.vocabulary_[ngram] for ngram in cv.vocabulary_ if len(ngram) == 4]\n",
        "print(\"total occurrences of length 4 char n-gram\")\n",
        "print(sum(four_ngram_occurrences))\n",
        "print(\"total amount of length 4 char n-gram\")\n",
        "print(len(four_ngram_occurrences))\n",
        "\n",
        "five_ngram_occurrences = [cv.vocabulary_[ngram] for ngram in cv.vocabulary_ if len(ngram) == 5]\n",
        "print(\"total occurrences of length 5 char n-gram\")\n",
        "print(sum(five_ngram_occurrences))\n",
        "print(\"total amount of length 5 char n-gram\")\n",
        "print(len(five_ngram_occurrences))"
      ]
    },
    {
      "cell_type": "markdown",
      "metadata": {
        "id": "f0JCcruLa-pf"
      },
      "source": [
        "**Data Normalization using MinMax Scaler**"
      ]
    },
    {
      "cell_type": "code",
      "execution_count": 11,
      "metadata": {
        "colab": {
          "base_uri": "https://localhost:8080/"
        },
        "id": "SSuP6NGnbBFH",
        "outputId": "1129debd-2191-478b-8ddb-b52f93f6cb2f"
      },
      "outputs": [
        {
          "name": "stdout",
          "output_type": "stream",
          "text": [
            "[[1.0000001  0.592233   0.12121212 ... 0.         0.         0.        ]\n",
            " [1.0000001  0.5436893  0.13636364 ... 0.         0.         0.        ]\n",
            " [1.0000001  0.4563107  0.1969697  ... 0.16666667 0.16666667 0.        ]\n",
            " ...\n",
            " [1.0000001  0.631068   0.22727273 ... 0.         0.         0.        ]\n",
            " [1.0000001  0.46601942 0.13636364 ... 0.         0.         0.        ]\n",
            " [1.0000001  0.5339806  0.12121212 ... 0.         0.         0.        ]]\n"
          ]
        }
      ],
      "source": [
        "from sklearn.preprocessing import MinMaxScaler\n",
        "\n",
        "X_train, X_test, X_val = X_train.toarray(), X_test.toarray(), X_val.toarray()\n",
        "\n",
        "scaler = MinMaxScaler()\n",
        "scaler.fit(X_train)\n",
        "X_train_scaled = scaler.transform(X_train)\n",
        "X_test_scaled = scaler.transform(X_test)\n",
        "X_val_scaled = scaler.transform(X_val)\n",
        "\n",
        "print(X_train_scaled)"
      ]
    },
    {
      "cell_type": "markdown",
      "metadata": {
        "id": "b0tZkm7ebFoz"
      },
      "source": [
        "## 3. SVM without SDAE"
      ]
    },
    {
      "cell_type": "code",
      "execution_count": 12,
      "metadata": {
        "id": "15pffDjl4C38"
      },
      "outputs": [],
      "source": [
        "model_names = ['Raw SVM', '1-layer SDAE SVM', '2-layers SDAE SVM', '3-layers SDAE SVM']\n",
        "predicted_arr = []"
      ]
    },
    {
      "cell_type": "code",
      "execution_count": 13,
      "metadata": {
        "colab": {
          "base_uri": "https://localhost:8080/"
        },
        "id": "M-ao1sPybDNk",
        "outputId": "9d212ba7-7214-40e2-c1a3-0d79aff99427"
      },
      "outputs": [
        {
          "name": "stdout",
          "output_type": "stream",
          "text": [
            "SVM Accuracy Score on test ->  92.9\n",
            "SVM Accuracy Score on training ->  99.96875\n",
            "SVM Accuracy Score on validation ->  92.71666666666667\n"
          ]
        }
      ],
      "source": [
        "svm = LinearSVC(C=1.0, probability=True)\n",
        "svm.fit(X_train_scaled, Y_train)\n",
        "preds = svm.predict(X_test_scaled)\n",
        "\n",
        "print(\"SVM Accuracy Score on test -> \", metrics.accuracy_score(preds, Y_test)*100)\n",
        "print(\"SVM Accuracy Score on training -> \", metrics.accuracy_score(svm.predict(X_train_scaled), Y_train)*100)\n",
        "print(\"SVM Accuracy Score on validation -> \", metrics.accuracy_score(svm.predict(X_val_scaled), Y_val)*100)\n",
        "\n",
        "predicted_arr.append(preds)"
      ]
    },
    {
      "cell_type": "markdown",
      "metadata": {
        "id": "etDUqknUbUV4"
      },
      "source": [
        "## 4. SVM with SDAE"
      ]
    },
    {
      "cell_type": "markdown",
      "metadata": {
        "id": "m-JrxPuFbYpO"
      },
      "source": [
        "### 4.1 Class for tying weights in a denoising auto encoder"
      ]
    },
    {
      "cell_type": "code",
      "execution_count": 14,
      "metadata": {
        "id": "cd5qb5cpbdhj"
      },
      "outputs": [],
      "source": [
        "# Code referenced from https://medium.com/@lmayrandprovencher/building-an-autoencoder-with-tied-weights-in-keras-c4a559c529a2\n",
        "\n",
        "class DenseTranspose(keras.layers.Layer):\n",
        "    def __init__(self, dense, activation=None, **kwargs):\n",
        "        self.dense = dense\n",
        "        self.activation = keras.activations.get(activation)\n",
        "        super().__init__(**kwargs)\n",
        "\n",
        "    def build(self, batch_input_shape):\n",
        "        self.biases = self.add_weight(name=\"bias\",\n",
        "                                      shape=[self.dense.input_shape[-1]],\n",
        "                                      initializer=\"zeros\")\n",
        "        super().build(batch_input_shape)\n",
        "  \n",
        "    def call(self, inputs):\n",
        "        z = tf.matmul(inputs, self.dense.weights[0], transpose_b=True)\n",
        "        return self.activation(z + self.biases)"
      ]
    },
    {
      "cell_type": "markdown",
      "metadata": {
        "id": "qwOQSUXsbils"
      },
      "source": [
        "### 4.2 Class for construction of a denoising autoencoder"
      ]
    },
    {
      "cell_type": "code",
      "execution_count": 15,
      "metadata": {
        "id": "0AZWA6N9bmWk"
      },
      "outputs": [],
      "source": [
        "np.random.seed(55)\n",
        "class DenoisingAutoEncoder:\n",
        "    def __init__(self, layers, corruption, activate_encoder, activate_decoder):\n",
        "        self.layers = layers\n",
        "        self.corruption = corruption\n",
        "        self.activate_encoder = activate_encoder\n",
        "        self.activate_decoder = activate_decoder\n",
        "        self.history = None\n",
        "  \n",
        "    def forward(self, X_train, X_val, epochs, batch_size):\n",
        "        # Step 1, Add binomial noise\n",
        "        X_train_noisy = self.inject_noise(X_train)\n",
        "\n",
        "        # Step 2, Encode X_train_noisy using sigmoid\n",
        "        encoder_input = Input(shape = (X_train_noisy.shape[1], ))\n",
        "        encoder = Dense(self.layers[0], activation=self.activate_encoder)\n",
        "        final_encoder = encoder(encoder_input)\n",
        "\n",
        "        # Step 3, Decode X_train_noisy using sigmoid\n",
        "        # Tie the weights between the encoder and decoder layers\n",
        "        decoder = DenseTranspose(encoder, activation=self.activate_decoder)\n",
        "        final_decoder = decoder(final_encoder)\n",
        "\n",
        "        # Step 4, cross entropy loss for normalised data and adam optimizer (Not sure what optimizer the paper uses)\n",
        "        autoencoder = Model(encoder_input, final_decoder)\n",
        "        autoencoder.compile(loss = 'binary_crossentropy', optimizer = 'adam')\n",
        "\n",
        "        # Train it\n",
        "        self.history = autoencoder.fit(X_train_noisy, X_train, batch_size = batch_size, epochs = epochs, validation_data=(X_val, X_val))\n",
        "        autoencoder.summary()\n",
        "\n",
        "        # Get the model that maps input to its encoded representation\n",
        "        encoder_model = Model(encoder_input, final_encoder)\n",
        "\n",
        "        # Return the (encoding model, encoding function)\n",
        "        return (encoder_model, encoder)\n",
        "\n",
        "    def inject_noise(self, x):\n",
        "        # inject binomial noise since this model assumes you are normalising input \n",
        "        # with min max normalisation\n",
        "        mask = np.random.choice([0, 1], size=x.shape, p=[self.corruption, 1-self.corruption])\n",
        "        X_noisy = x * mask\n",
        "        return X_noisy"
      ]
    },
    {
      "cell_type": "markdown",
      "metadata": {
        "id": "Q0YQwys_b2oH"
      },
      "source": [
        "### 4.3 Class for construction of a stacked denoising autoencoder"
      ]
    },
    {
      "cell_type": "code",
      "execution_count": 16,
      "metadata": {
        "id": "43IDvyzkjTwi"
      },
      "outputs": [],
      "source": [
        "# For picking the best model while fine-tuning\n",
        "from tensorflow.keras.callbacks import ModelCheckpoint"
      ]
    },
    {
      "cell_type": "code",
      "execution_count": 17,
      "metadata": {
        "id": "DxyEtio8b7g7"
      },
      "outputs": [],
      "source": [
        "class StackedDenoisingAutoEncoder():\n",
        "    def __init__(self, layers, corruption, activate_encoder, activate_decoder):\n",
        "        self.layers = layers\n",
        "        self.corruption = corruption\n",
        "        self.activate_encoder = activate_encoder\n",
        "        self.activate_decoder = activate_decoder\n",
        "        self.encoding_funcs = []\n",
        "        self.encoder_layers = []\n",
        "        self.history = None\n",
        "  \n",
        "    def pretrain(self, X_train, X_val, epochs, batch_size):\n",
        "        # self.layers contains the units each denoising autoencoder should take in\n",
        "        learnt_input = X_train\n",
        "        encoded_validation = X_val\n",
        "        for layer in self.layers:\n",
        "            autoencoder = DenoisingAutoEncoder([layer], self.corruption, self.activate_encoder, self.activate_decoder)\n",
        "            (encoding_function, encoder) = autoencoder.forward(learnt_input, encoded_validation, epochs, batch_size)\n",
        "            learnt_input = encoding_function.predict(learnt_input)\n",
        "            encoded_validation = encoding_function.predict(encoded_validation)\n",
        "\n",
        "            self.encoding_funcs.append(encoding_function)\n",
        "            self.encoder_layers.append(encoder)\n",
        "\n",
        "        self.history = autoencoder.history\n",
        "\n",
        "    def finetune(self, X_train, Y_train, X_val, Y_val, epochs, batch_size):\n",
        "        encoder_input = Input(shape = (X_train.shape[1], ))\n",
        "\n",
        "        final_encoder = encoder_input\n",
        "        for encoder in self.encoder_layers:\n",
        "            final_encoder = encoder(final_encoder)\n",
        "\n",
        "        # Define the logistic regression layer\n",
        "        lr_layer = Dense(Y_train.shape[1], activation='softmax')\n",
        "        predictions = lr_layer(final_encoder)\n",
        "\n",
        "        # Create the fine-tuned model\n",
        "        fine_tuned_model = Model(inputs=encoder_input, outputs=predictions)\n",
        "        fine_tuned_model.compile(loss='categorical_crossentropy', optimizer='adam')\n",
        "\n",
        "        # Select best model\n",
        "        checkpointer = ModelCheckpoint(filepath=\"weights.hdf5\", verbose=1, save_best_only=True)\n",
        "        self.history = fine_tuned_model.fit(X_train, Y_train, epochs=epochs, batch_size=batch_size, validation_data=(X_val, Y_val), callbacks=[checkpointer])\n",
        "        fine_tuned_model.load_weights('weights.hdf5')\n",
        "\n",
        "        fine_tuned_encoder = Model(inputs=encoder_input, outputs=final_encoder)\n",
        "        return (fine_tuned_model, fine_tuned_encoder)\n",
        "\n",
        "    def encode(self, X):\n",
        "        encoded_representation = X\n",
        "        for func in self.encoder_layers:\n",
        "            encoded_representation = func.predict(encoded_representation)\n",
        "        return encoded_representation"
      ]
    },
    {
      "cell_type": "markdown",
      "metadata": {
        "id": "rEd-jwpqgoHZ"
      },
      "source": [
        "## 5. Pretraining and Finetuning"
      ]
    },
    {
      "cell_type": "markdown",
      "metadata": {
        "id": "H1w5tdUiddbT"
      },
      "source": [
        "**Pretrain the denoising autoencoder**"
      ]
    },
    {
      "cell_type": "code",
      "execution_count": 53,
      "metadata": {
        "colab": {
          "base_uri": "https://localhost:8080/"
        },
        "id": "UgJDtaVYdb71",
        "outputId": "19aebf9a-ccbc-4506-c743-16bd815e5ad2",
        "scrolled": true
      },
      "outputs": [
        {
          "name": "stdout",
          "output_type": "stream",
          "text": [
            "Epoch 1/20\n",
            "375/375 [==============================] - 3s 6ms/step - loss: 0.2193 - val_loss: 0.2237\n",
            "Epoch 2/20\n",
            "375/375 [==============================] - 2s 5ms/step - loss: 0.1822 - val_loss: 0.1964\n",
            "Epoch 3/20\n",
            "375/375 [==============================] - 2s 5ms/step - loss: 0.1659 - val_loss: 0.1748\n",
            "Epoch 4/20\n",
            "375/375 [==============================] - 2s 5ms/step - loss: 0.1590 - val_loss: 0.1662\n",
            "Epoch 5/20\n",
            "375/375 [==============================] - 2s 5ms/step - loss: 0.1554 - val_loss: 0.1622\n",
            "Epoch 6/20\n",
            "375/375 [==============================] - 2s 5ms/step - loss: 0.1526 - val_loss: 0.1598\n",
            "Epoch 7/20\n",
            "375/375 [==============================] - 2s 5ms/step - loss: 0.1502 - val_loss: 0.1577\n",
            "Epoch 8/20\n",
            "375/375 [==============================] - 2s 5ms/step - loss: 0.1483 - val_loss: 0.1559\n",
            "Epoch 9/20\n",
            "375/375 [==============================] - 2s 5ms/step - loss: 0.1468 - val_loss: 0.1545\n",
            "Epoch 10/20\n",
            "375/375 [==============================] - 2s 5ms/step - loss: 0.1455 - val_loss: 0.1532\n",
            "Epoch 11/20\n",
            "375/375 [==============================] - 2s 5ms/step - loss: 0.1445 - val_loss: 0.1521\n",
            "Epoch 12/20\n",
            "375/375 [==============================] - 2s 5ms/step - loss: 0.1436 - val_loss: 0.1512\n",
            "Epoch 13/20\n",
            "375/375 [==============================] - 2s 5ms/step - loss: 0.1430 - val_loss: 0.1506\n",
            "Epoch 14/20\n",
            "375/375 [==============================] - 2s 5ms/step - loss: 0.1424 - val_loss: 0.1499\n",
            "Epoch 15/20\n",
            "375/375 [==============================] - 2s 5ms/step - loss: 0.1419 - val_loss: 0.1492\n",
            "Epoch 16/20\n",
            "375/375 [==============================] - 2s 5ms/step - loss: 0.1415 - val_loss: 0.1487\n",
            "Epoch 17/20\n",
            "375/375 [==============================] - 2s 5ms/step - loss: 0.1412 - val_loss: 0.1486\n",
            "Epoch 18/20\n",
            "375/375 [==============================] - 2s 5ms/step - loss: 0.1409 - val_loss: 0.1483\n",
            "Epoch 19/20\n",
            "375/375 [==============================] - 2s 5ms/step - loss: 0.1407 - val_loss: 0.1482\n",
            "Epoch 20/20\n",
            "375/375 [==============================] - 2s 5ms/step - loss: 0.1405 - val_loss: 0.1482\n",
            "Model: \"model_36\"\n",
            "_________________________________________________________________\n",
            " Layer (type)                Output Shape              Param #   \n",
            "=================================================================\n",
            " input_19 (InputLayer)       [(None, 10000)]           0         \n",
            "                                                                 \n",
            " dense_18 (Dense)            (None, 1000)              10001000  \n",
            "                                                                 \n",
            " dense_transpose_12 (DenseTr  (None, 10000)            10011000  \n",
            " anspose)                                                        \n",
            "                                                                 \n",
            "=================================================================\n",
            "Total params: 10,011,000\n",
            "Trainable params: 10,011,000\n",
            "Non-trainable params: 0\n",
            "_________________________________________________________________\n",
            "1500/1500 [==============================] - 2s 1ms/step\n",
            "188/188 [==============================] - 0s 1ms/step\n"
          ]
        }
      ],
      "source": [
        "# The \"stacked\" auto encoder will only contain 1 denoising auto encoder that will \n",
        "# transform the original input into 1000 units. Noise corruption is 0.3 and it uses \n",
        "# sigmoid activation for both encoder and decoder\n",
        "stacked_auto_encoder_1 = StackedDenoisingAutoEncoder([1000], 0.3, 'sigmoid', 'sigmoid')\n",
        "stacked_auto_encoder_1.pretrain(X_train_scaled, X_val_scaled, 20, 128)"
      ]
    },
    {
      "cell_type": "code",
      "execution_count": 54,
      "metadata": {
        "colab": {
          "base_uri": "https://localhost:8080/"
        },
        "id": "P7IN6CTB4C3_",
        "outputId": "b79f8edf-b802-4bda-c05e-d9c4d998e90f"
      },
      "outputs": [
        {
          "name": "stdout",
          "output_type": "stream",
          "text": [
            "Epoch 1/20\n",
            "375/375 [==============================] - 3s 6ms/step - loss: 0.2192 - val_loss: 0.2246\n",
            "Epoch 2/20\n",
            "375/375 [==============================] - 2s 5ms/step - loss: 0.1822 - val_loss: 0.1966\n",
            "Epoch 3/20\n",
            "375/375 [==============================] - 2s 5ms/step - loss: 0.1658 - val_loss: 0.1758\n",
            "Epoch 4/20\n",
            "375/375 [==============================] - 2s 5ms/step - loss: 0.1589 - val_loss: 0.1659\n",
            "Epoch 5/20\n",
            "375/375 [==============================] - 2s 5ms/step - loss: 0.1554 - val_loss: 0.1624\n",
            "Epoch 6/20\n",
            "375/375 [==============================] - 2s 5ms/step - loss: 0.1526 - val_loss: 0.1596\n",
            "Epoch 7/20\n",
            "375/375 [==============================] - 2s 5ms/step - loss: 0.1502 - val_loss: 0.1578\n",
            "Epoch 8/20\n",
            "375/375 [==============================] - 2s 5ms/step - loss: 0.1483 - val_loss: 0.1561\n",
            "Epoch 9/20\n",
            "375/375 [==============================] - 2s 5ms/step - loss: 0.1468 - val_loss: 0.1545\n",
            "Epoch 10/20\n",
            "375/375 [==============================] - 2s 5ms/step - loss: 0.1455 - val_loss: 0.1531\n",
            "Epoch 11/20\n",
            "375/375 [==============================] - 2s 5ms/step - loss: 0.1445 - val_loss: 0.1520\n",
            "Epoch 12/20\n",
            "375/375 [==============================] - 2s 5ms/step - loss: 0.1436 - val_loss: 0.1512\n",
            "Epoch 13/20\n",
            "375/375 [==============================] - 2s 5ms/step - loss: 0.1430 - val_loss: 0.1506\n",
            "Epoch 14/20\n",
            "375/375 [==============================] - 2s 5ms/step - loss: 0.1424 - val_loss: 0.1497\n",
            "Epoch 15/20\n",
            "375/375 [==============================] - 2s 5ms/step - loss: 0.1419 - val_loss: 0.1492\n",
            "Epoch 16/20\n",
            "375/375 [==============================] - 2s 5ms/step - loss: 0.1415 - val_loss: 0.1489\n",
            "Epoch 17/20\n",
            "375/375 [==============================] - 2s 5ms/step - loss: 0.1412 - val_loss: 0.1486\n",
            "Epoch 18/20\n",
            "375/375 [==============================] - 2s 5ms/step - loss: 0.1409 - val_loss: 0.1483\n",
            "Epoch 19/20\n",
            "375/375 [==============================] - 2s 5ms/step - loss: 0.1407 - val_loss: 0.1482\n",
            "Epoch 20/20\n",
            "375/375 [==============================] - 2s 5ms/step - loss: 0.1405 - val_loss: 0.1480\n",
            "Model: \"model_38\"\n",
            "_________________________________________________________________\n",
            " Layer (type)                Output Shape              Param #   \n",
            "=================================================================\n",
            " input_20 (InputLayer)       [(None, 10000)]           0         \n",
            "                                                                 \n",
            " dense_19 (Dense)            (None, 1000)              10001000  \n",
            "                                                                 \n",
            " dense_transpose_13 (DenseTr  (None, 10000)            10011000  \n",
            " anspose)                                                        \n",
            "                                                                 \n",
            "=================================================================\n",
            "Total params: 10,011,000\n",
            "Trainable params: 10,011,000\n",
            "Non-trainable params: 0\n",
            "_________________________________________________________________\n",
            "1500/1500 [==============================] - 2s 1ms/step\n",
            "188/188 [==============================] - 0s 1ms/step\n",
            "Epoch 1/20\n",
            "375/375 [==============================] - 2s 3ms/step - loss: 0.6148 - val_loss: 0.5858\n",
            "Epoch 2/20\n",
            "375/375 [==============================] - 1s 3ms/step - loss: 0.5862 - val_loss: 0.5571\n",
            "Epoch 3/20\n",
            "375/375 [==============================] - 1s 3ms/step - loss: 0.5713 - val_loss: 0.5398\n",
            "Epoch 4/20\n",
            "375/375 [==============================] - 1s 3ms/step - loss: 0.5632 - val_loss: 0.5290\n",
            "Epoch 5/20\n",
            "375/375 [==============================] - 1s 3ms/step - loss: 0.5587 - val_loss: 0.5229\n",
            "Epoch 6/20\n",
            "375/375 [==============================] - 1s 3ms/step - loss: 0.5560 - val_loss: 0.5184\n",
            "Epoch 7/20\n",
            "375/375 [==============================] - 1s 3ms/step - loss: 0.5544 - val_loss: 0.5160\n",
            "Epoch 8/20\n",
            "375/375 [==============================] - 1s 3ms/step - loss: 0.5533 - val_loss: 0.5145\n",
            "Epoch 9/20\n",
            "375/375 [==============================] - 1s 3ms/step - loss: 0.5525 - val_loss: 0.5130\n",
            "Epoch 10/20\n",
            "375/375 [==============================] - 1s 3ms/step - loss: 0.5520 - val_loss: 0.5125\n",
            "Epoch 11/20\n",
            "375/375 [==============================] - 1s 3ms/step - loss: 0.5516 - val_loss: 0.5125\n",
            "Epoch 12/20\n",
            "375/375 [==============================] - 1s 3ms/step - loss: 0.5513 - val_loss: 0.5108\n",
            "Epoch 13/20\n",
            "375/375 [==============================] - 1s 3ms/step - loss: 0.5510 - val_loss: 0.5124\n",
            "Epoch 14/20\n",
            "375/375 [==============================] - 1s 3ms/step - loss: 0.5508 - val_loss: 0.5121\n",
            "Epoch 15/20\n",
            "375/375 [==============================] - 1s 3ms/step - loss: 0.5506 - val_loss: 0.5119\n",
            "Epoch 16/20\n",
            "375/375 [==============================] - 1s 3ms/step - loss: 0.5505 - val_loss: 0.5118\n",
            "Epoch 17/20\n",
            "375/375 [==============================] - 1s 3ms/step - loss: 0.5503 - val_loss: 0.5121\n",
            "Epoch 18/20\n",
            "375/375 [==============================] - 1s 3ms/step - loss: 0.5502 - val_loss: 0.5137\n",
            "Epoch 19/20\n",
            "375/375 [==============================] - 1s 3ms/step - loss: 0.5501 - val_loss: 0.5132\n",
            "Epoch 20/20\n",
            "375/375 [==============================] - 1s 3ms/step - loss: 0.5499 - val_loss: 0.5124\n",
            "Model: \"model_40\"\n",
            "_________________________________________________________________\n",
            " Layer (type)                Output Shape              Param #   \n",
            "=================================================================\n",
            " input_21 (InputLayer)       [(None, 1000)]            0         \n",
            "                                                                 \n",
            " dense_20 (Dense)            (None, 1000)              1001000   \n",
            "                                                                 \n",
            " dense_transpose_14 (DenseTr  (None, 1000)             1002000   \n",
            " anspose)                                                        \n",
            "                                                                 \n",
            "=================================================================\n",
            "Total params: 1,002,000\n",
            "Trainable params: 1,002,000\n",
            "Non-trainable params: 0\n",
            "_________________________________________________________________\n",
            "1500/1500 [==============================] - 2s 1ms/step\n",
            "188/188 [==============================] - 0s 1ms/step\n"
          ]
        }
      ],
      "source": [
        "# The \"stacked\" auto encoder will have 2 DAE's stacked, each with 1000 units.\n",
        "stacked_auto_encoder_2 = StackedDenoisingAutoEncoder([1000, 1000], 0.3, 'sigmoid', 'sigmoid')\n",
        "stacked_auto_encoder_2.pretrain(X_train_scaled, X_val_scaled, 20, 128)"
      ]
    },
    {
      "cell_type": "code",
      "execution_count": 55,
      "metadata": {
        "colab": {
          "base_uri": "https://localhost:8080/"
        },
        "id": "zgjHLlgb4C3_",
        "outputId": "4c445963-0d05-47b7-c066-c74ce3e34faf"
      },
      "outputs": [
        {
          "name": "stdout",
          "output_type": "stream",
          "text": [
            "Epoch 1/20\n",
            "375/375 [==============================] - 3s 6ms/step - loss: 0.2192 - val_loss: 0.2258\n",
            "Epoch 2/20\n",
            "375/375 [==============================] - 2s 5ms/step - loss: 0.1822 - val_loss: 0.1975\n",
            "Epoch 3/20\n",
            "375/375 [==============================] - 2s 5ms/step - loss: 0.1659 - val_loss: 0.1748\n",
            "Epoch 4/20\n",
            "375/375 [==============================] - 2s 5ms/step - loss: 0.1589 - val_loss: 0.1659\n",
            "Epoch 5/20\n",
            "375/375 [==============================] - 2s 5ms/step - loss: 0.1554 - val_loss: 0.1626\n",
            "Epoch 6/20\n",
            "375/375 [==============================] - 2s 5ms/step - loss: 0.1526 - val_loss: 0.1599\n",
            "Epoch 7/20\n",
            "375/375 [==============================] - 2s 5ms/step - loss: 0.1502 - val_loss: 0.1577\n",
            "Epoch 8/20\n",
            "375/375 [==============================] - 2s 5ms/step - loss: 0.1483 - val_loss: 0.1559\n",
            "Epoch 9/20\n",
            "375/375 [==============================] - 2s 5ms/step - loss: 0.1468 - val_loss: 0.1545\n",
            "Epoch 10/20\n",
            "375/375 [==============================] - 2s 5ms/step - loss: 0.1455 - val_loss: 0.1531\n",
            "Epoch 11/20\n",
            "375/375 [==============================] - 2s 5ms/step - loss: 0.1445 - val_loss: 0.1521\n",
            "Epoch 12/20\n",
            "375/375 [==============================] - 2s 5ms/step - loss: 0.1436 - val_loss: 0.1511\n",
            "Epoch 13/20\n",
            "375/375 [==============================] - 2s 5ms/step - loss: 0.1430 - val_loss: 0.1504\n",
            "Epoch 14/20\n",
            "375/375 [==============================] - 2s 5ms/step - loss: 0.1424 - val_loss: 0.1498\n",
            "Epoch 15/20\n",
            "375/375 [==============================] - 2s 5ms/step - loss: 0.1419 - val_loss: 0.1493\n",
            "Epoch 16/20\n",
            "375/375 [==============================] - 2s 5ms/step - loss: 0.1415 - val_loss: 0.1488\n",
            "Epoch 17/20\n",
            "375/375 [==============================] - 2s 5ms/step - loss: 0.1412 - val_loss: 0.1485\n",
            "Epoch 18/20\n",
            "375/375 [==============================] - 2s 5ms/step - loss: 0.1409 - val_loss: 0.1483\n",
            "Epoch 19/20\n",
            "375/375 [==============================] - 2s 5ms/step - loss: 0.1407 - val_loss: 0.1481\n",
            "Epoch 20/20\n",
            "375/375 [==============================] - 2s 5ms/step - loss: 0.1405 - val_loss: 0.1480\n",
            "Model: \"model_42\"\n",
            "_________________________________________________________________\n",
            " Layer (type)                Output Shape              Param #   \n",
            "=================================================================\n",
            " input_22 (InputLayer)       [(None, 10000)]           0         \n",
            "                                                                 \n",
            " dense_21 (Dense)            (None, 1000)              10001000  \n",
            "                                                                 \n",
            " dense_transpose_15 (DenseTr  (None, 10000)            10011000  \n",
            " anspose)                                                        \n",
            "                                                                 \n",
            "=================================================================\n",
            "Total params: 10,011,000\n",
            "Trainable params: 10,011,000\n",
            "Non-trainable params: 0\n",
            "_________________________________________________________________\n",
            "1500/1500 [==============================] - 2s 1ms/step\n",
            "188/188 [==============================] - 0s 2ms/step\n",
            "Epoch 1/20\n",
            "375/375 [==============================] - 2s 3ms/step - loss: 0.6151 - val_loss: 0.5857\n",
            "Epoch 2/20\n",
            "375/375 [==============================] - 1s 3ms/step - loss: 0.5863 - val_loss: 0.5572\n",
            "Epoch 3/20\n",
            "375/375 [==============================] - 1s 3ms/step - loss: 0.5715 - val_loss: 0.5401\n",
            "Epoch 4/20\n",
            "375/375 [==============================] - 1s 3ms/step - loss: 0.5635 - val_loss: 0.5294\n",
            "Epoch 5/20\n",
            "375/375 [==============================] - 1s 3ms/step - loss: 0.5590 - val_loss: 0.5231\n",
            "Epoch 6/20\n",
            "375/375 [==============================] - 1s 3ms/step - loss: 0.5563 - val_loss: 0.5187\n",
            "Epoch 7/20\n",
            "375/375 [==============================] - 1s 3ms/step - loss: 0.5547 - val_loss: 0.5161\n",
            "Epoch 8/20\n",
            "375/375 [==============================] - 1s 3ms/step - loss: 0.5536 - val_loss: 0.5152\n",
            "Epoch 9/20\n",
            "375/375 [==============================] - 1s 3ms/step - loss: 0.5529 - val_loss: 0.5148\n",
            "Epoch 10/20\n",
            "375/375 [==============================] - 1s 3ms/step - loss: 0.5523 - val_loss: 0.5129\n",
            "Epoch 11/20\n",
            "375/375 [==============================] - 1s 3ms/step - loss: 0.5519 - val_loss: 0.5121\n",
            "Epoch 12/20\n",
            "375/375 [==============================] - 1s 3ms/step - loss: 0.5516 - val_loss: 0.5127\n",
            "Epoch 13/20\n",
            "375/375 [==============================] - 1s 3ms/step - loss: 0.5513 - val_loss: 0.5118\n",
            "Epoch 14/20\n",
            "375/375 [==============================] - 1s 3ms/step - loss: 0.5511 - val_loss: 0.5132\n",
            "Epoch 15/20\n",
            "375/375 [==============================] - 1s 3ms/step - loss: 0.5509 - val_loss: 0.5124\n",
            "Epoch 16/20\n",
            "375/375 [==============================] - 1s 3ms/step - loss: 0.5508 - val_loss: 0.5128\n",
            "Epoch 17/20\n",
            "375/375 [==============================] - 1s 3ms/step - loss: 0.5506 - val_loss: 0.5128\n",
            "Epoch 18/20\n",
            "375/375 [==============================] - 1s 3ms/step - loss: 0.5505 - val_loss: 0.5130\n",
            "Epoch 19/20\n",
            "375/375 [==============================] - 1s 3ms/step - loss: 0.5504 - val_loss: 0.5137\n",
            "Epoch 20/20\n",
            "375/375 [==============================] - 1s 3ms/step - loss: 0.5502 - val_loss: 0.5131\n",
            "Model: \"model_44\"\n",
            "_________________________________________________________________\n",
            " Layer (type)                Output Shape              Param #   \n",
            "=================================================================\n",
            " input_23 (InputLayer)       [(None, 1000)]            0         \n",
            "                                                                 \n",
            " dense_22 (Dense)            (None, 1000)              1001000   \n",
            "                                                                 \n",
            " dense_transpose_16 (DenseTr  (None, 1000)             1002000   \n",
            " anspose)                                                        \n",
            "                                                                 \n",
            "=================================================================\n",
            "Total params: 1,002,000\n",
            "Trainable params: 1,002,000\n",
            "Non-trainable params: 0\n",
            "_________________________________________________________________\n",
            "1500/1500 [==============================] - 2s 1ms/step\n",
            "188/188 [==============================] - 0s 1ms/step\n",
            "Epoch 1/20\n",
            "375/375 [==============================] - 2s 3ms/step - loss: 0.6184 - val_loss: 0.5988\n",
            "Epoch 2/20\n",
            "375/375 [==============================] - 1s 3ms/step - loss: 0.6000 - val_loss: 0.5836\n",
            "Epoch 3/20\n",
            "375/375 [==============================] - 1s 3ms/step - loss: 0.5926 - val_loss: 0.5750\n",
            "Epoch 4/20\n",
            "375/375 [==============================] - 1s 3ms/step - loss: 0.5889 - val_loss: 0.5698\n",
            "Epoch 5/20\n",
            "375/375 [==============================] - 1s 3ms/step - loss: 0.5868 - val_loss: 0.5667\n",
            "Epoch 6/20\n",
            "375/375 [==============================] - 1s 3ms/step - loss: 0.5856 - val_loss: 0.5642\n",
            "Epoch 7/20\n",
            "375/375 [==============================] - 1s 3ms/step - loss: 0.5848 - val_loss: 0.5626\n",
            "Epoch 8/20\n",
            "375/375 [==============================] - 1s 3ms/step - loss: 0.5843 - val_loss: 0.5619\n",
            "Epoch 9/20\n",
            "375/375 [==============================] - 1s 3ms/step - loss: 0.5840 - val_loss: 0.5609\n",
            "Epoch 10/20\n",
            "375/375 [==============================] - 1s 3ms/step - loss: 0.5837 - val_loss: 0.5602\n",
            "Epoch 11/20\n",
            "375/375 [==============================] - 1s 3ms/step - loss: 0.5835 - val_loss: 0.5597\n",
            "Epoch 12/20\n",
            "375/375 [==============================] - 1s 3ms/step - loss: 0.5834 - val_loss: 0.5596\n",
            "Epoch 13/20\n",
            "375/375 [==============================] - 1s 3ms/step - loss: 0.5832 - val_loss: 0.5593\n",
            "Epoch 14/20\n",
            "375/375 [==============================] - 1s 3ms/step - loss: 0.5831 - val_loss: 0.5592\n",
            "Epoch 15/20\n",
            "375/375 [==============================] - 1s 3ms/step - loss: 0.5830 - val_loss: 0.5589\n",
            "Epoch 16/20\n",
            "375/375 [==============================] - 1s 3ms/step - loss: 0.5830 - val_loss: 0.5590\n",
            "Epoch 17/20\n",
            "375/375 [==============================] - 1s 3ms/step - loss: 0.5829 - val_loss: 0.5587\n",
            "Epoch 18/20\n",
            "375/375 [==============================] - 1s 3ms/step - loss: 0.5828 - val_loss: 0.5591\n",
            "Epoch 19/20\n",
            "375/375 [==============================] - 1s 3ms/step - loss: 0.5828 - val_loss: 0.5589\n",
            "Epoch 20/20\n",
            "375/375 [==============================] - 1s 3ms/step - loss: 0.5827 - val_loss: 0.5587\n",
            "Model: \"model_46\"\n",
            "_________________________________________________________________\n",
            " Layer (type)                Output Shape              Param #   \n",
            "=================================================================\n",
            " input_24 (InputLayer)       [(None, 1000)]            0         \n",
            "                                                                 \n",
            " dense_23 (Dense)            (None, 1000)              1001000   \n",
            "                                                                 \n",
            " dense_transpose_17 (DenseTr  (None, 1000)             1002000   \n",
            " anspose)                                                        \n",
            "                                                                 \n",
            "=================================================================\n",
            "Total params: 1,002,000\n",
            "Trainable params: 1,002,000\n",
            "Non-trainable params: 0\n",
            "_________________________________________________________________\n",
            "1500/1500 [==============================] - 2s 1ms/step\n",
            "188/188 [==============================] - 0s 1ms/step\n"
          ]
        }
      ],
      "source": [
        "# The \"stacked\" auto encoder will have 3 DAE's stacked, each with 1000 units.\n",
        "stacked_auto_encoder_3 = StackedDenoisingAutoEncoder([1000, 1000, 1000], 0.3, 'sigmoid', 'sigmoid')\n",
        "stacked_auto_encoder_3.pretrain(X_train_scaled, X_val_scaled, 20, 128)"
      ]
    },
    {
      "cell_type": "markdown",
      "metadata": {
        "id": "ki0L4uLR4C3_"
      },
      "source": [
        "### SDAE Pretraining Plot"
      ]
    },
    {
      "cell_type": "code",
      "execution_count": 56,
      "metadata": {
        "id": "TTpWFszPXzTh"
      },
      "outputs": [],
      "source": [
        "def plot_loss(history):\n",
        "    # summarize history for loss\n",
        "    # https://machinelearningmastery.com/display-deep-learning-model-training-history-in-keras/\n",
        "    plt.plot(history['loss'])\n",
        "    plt.plot(history['val_loss'])\n",
        "    plt.title('model loss')\n",
        "    plt.ylabel('loss')\n",
        "    plt.xlabel('epoch')\n",
        "    plt.legend(['train', 'val'], loc='upper left')\n",
        "    plt.show()"
      ]
    },
    {
      "cell_type": "code",
      "execution_count": 57,
      "metadata": {
        "colab": {
          "base_uri": "https://localhost:8080/",
          "height": 472
        },
        "id": "tQH06IyBXzTh",
        "outputId": "e0a7a43d-a4ea-4462-87ed-cbeba769fdd3"
      },
      "outputs": [
        {
          "data": {
            "image/png": "[encoded data removed]",
            "text/plain": [
              "<Figure size 640x480 with 1 Axes>"
            ]
          },
          "metadata": {},
          "output_type": "display_data"
        }
      ],
      "source": [
        "plot_loss(stacked_auto_encoder_1.history.history)"
      ]
    },
    {
      "cell_type": "code",
      "execution_count": 58,
      "metadata": {
        "colab": {
          "base_uri": "https://localhost:8080/",
          "height": 472
        },
        "id": "oOPmcVdG4C4A",
        "outputId": "4848011d-4224-43dc-c96b-2a6bbdb32308"
      },
      "outputs": [
        {
          "data": {
            "image/png": "[encoded data removed]",
            "text/plain": [
              "<Figure size 640x480 with 1 Axes>"
            ]
          },
          "metadata": {},
          "output_type": "display_data"
        }
      ],
      "source": [
        "plot_loss(stacked_auto_encoder_2.history.history)"
      ]
    },
    {
      "cell_type": "code",
      "execution_count": 59,
      "metadata": {
        "colab": {
          "base_uri": "https://localhost:8080/",
          "height": 472
        },
        "id": "EXU6n0Ap4C4A",
        "outputId": "e6d27aa2-f2de-43f9-c2d7-eb5e9bb4c0bb"
      },
      "outputs": [
        {
          "data": {
            "image/png": "[encoded data removed]",
            "text/plain": [
              "<Figure size 640x480 with 1 Axes>"
            ]
          },
          "metadata": {},
          "output_type": "display_data"
        }
      ],
      "source": [
        "plot_loss(stacked_auto_encoder_3.history.history)"
      ]
    },
    {
      "cell_type": "markdown",
      "metadata": {
        "id": "9u0Oipi3d4Vl"
      },
      "source": [
        "**Finetune the model by adding logistic regression layer**"
      ]
    },
    {
      "cell_type": "code",
      "execution_count": 60,
      "metadata": {
        "id": "Et_S-qdugNC_"
      },
      "outputs": [],
      "source": [
        "# Create a 1 hot encoded Y_train\n",
        "def create_one_hot(arr):\n",
        "    out_arr = []\n",
        "    for item in arr:\n",
        "        max_arr = max(arr)\n",
        "        one_hot_encoded = [0] * (max_arr+1)\n",
        "        one_hot_encoded[item] = 1\n",
        "        out_arr.append(one_hot_encoded)\n",
        "    return np.array(out_arr)\n",
        "\n",
        "Y_train_hot_encoded = create_one_hot(Y_train)\n",
        "Y_val_hot_encoded = create_one_hot(Y_val)"
      ]
    },
    {
      "cell_type": "code",
      "execution_count": 61,
      "metadata": {
        "colab": {
          "base_uri": "https://localhost:8080/"
        },
        "id": "zJlNeXIId30_",
        "outputId": "51c86e6f-059d-4806-b227-ee22a5108df3"
      },
      "outputs": [
        {
          "name": "stdout",
          "output_type": "stream",
          "text": [
            "Epoch 1/30\n",
            "375/375 [==============================] - ETA: 0s - loss: 1.1841\n",
            "Epoch 1: val_loss improved from inf to 0.50484, saving model to weights.hdf5\n",
            "375/375 [==============================] - 3s 5ms/step - loss: 1.1841 - val_loss: 0.5048\n",
            "Epoch 2/30\n",
            "361/375 [===========================>..] - ETA: 0s - loss: 0.2969\n",
            "Epoch 2: val_loss improved from 0.50484 to 0.33784, saving model to weights.hdf5\n",
            "375/375 [==============================] - 2s 5ms/step - loss: 0.2945 - val_loss: 0.3378\n",
            "Epoch 3/30\n",
            "362/375 [===========================>..] - ETA: 0s - loss: 0.1323\n",
            "Epoch 3: val_loss improved from 0.33784 to 0.30240, saving model to weights.hdf5\n",
            "375/375 [==============================] - 2s 5ms/step - loss: 0.1321 - val_loss: 0.3024\n",
            "Epoch 4/30\n",
            "363/375 [============================>.] - ETA: 0s - loss: 0.0615\n",
            "Epoch 4: val_loss improved from 0.30240 to 0.26289, saving model to weights.hdf5\n",
            "375/375 [==============================] - 2s 5ms/step - loss: 0.0615 - val_loss: 0.2629\n",
            "Epoch 5/30\n",
            "371/375 [============================>.] - ETA: 0s - loss: 0.0301\n",
            "Epoch 5: val_loss improved from 0.26289 to 0.26018, saving model to weights.hdf5\n",
            "375/375 [==============================] - 2s 5ms/step - loss: 0.0301 - val_loss: 0.2602\n",
            "Epoch 6/30\n",
            "370/375 [============================>.] - ETA: 0s - loss: 0.0173\n",
            "Epoch 6: val_loss improved from 0.26018 to 0.24531, saving model to weights.hdf5\n",
            "375/375 [==============================] - 2s 5ms/step - loss: 0.0173 - val_loss: 0.2453\n",
            "Epoch 7/30\n",
            "372/375 [============================>.] - ETA: 0s - loss: 0.0116\n",
            "Epoch 7: val_loss improved from 0.24531 to 0.24198, saving model to weights.hdf5\n",
            "375/375 [==============================] - 2s 5ms/step - loss: 0.0116 - val_loss: 0.2420\n",
            "Epoch 8/30\n",
            "366/375 [============================>.] - ETA: 0s - loss: 0.0084\n",
            "Epoch 8: val_loss did not improve from 0.24198\n",
            "375/375 [==============================] - 1s 4ms/step - loss: 0.0084 - val_loss: 0.2441\n",
            "Epoch 9/30\n",
            "364/375 [============================>.] - ETA: 0s - loss: 0.0063\n",
            "Epoch 9: val_loss improved from 0.24198 to 0.24144, saving model to weights.hdf5\n",
            "375/375 [==============================] - 2s 5ms/step - loss: 0.0063 - val_loss: 0.2414\n",
            "Epoch 10/30\n",
            "375/375 [==============================] - ETA: 0s - loss: 0.0046\n",
            "Epoch 10: val_loss did not improve from 0.24144\n",
            "375/375 [==============================] - 1s 4ms/step - loss: 0.0046 - val_loss: 0.2450\n",
            "Epoch 11/30\n",
            "363/375 [============================>.] - ETA: 0s - loss: 0.0035\n",
            "Epoch 11: val_loss did not improve from 0.24144\n",
            "375/375 [==============================] - 1s 4ms/step - loss: 0.0036 - val_loss: 0.2483\n",
            "Epoch 12/30\n",
            "374/375 [============================>.] - ETA: 0s - loss: 0.0031\n",
            "Epoch 12: val_loss did not improve from 0.24144\n",
            "375/375 [==============================] - 1s 4ms/step - loss: 0.0031 - val_loss: 0.2480\n",
            "Epoch 13/30\n",
            "366/375 [============================>.] - ETA: 0s - loss: 0.0023\n",
            "Epoch 13: val_loss did not improve from 0.24144\n",
            "375/375 [==============================] - 1s 4ms/step - loss: 0.0022 - val_loss: 0.2476\n",
            "Epoch 14/30\n",
            "369/375 [============================>.] - ETA: 0s - loss: 0.0021\n",
            "Epoch 14: val_loss did not improve from 0.24144\n",
            "375/375 [==============================] - 2s 4ms/step - loss: 0.0020 - val_loss: 0.2507\n",
            "Epoch 15/30\n",
            "361/375 [===========================>..] - ETA: 0s - loss: 0.0015\n",
            "Epoch 15: val_loss did not improve from 0.24144\n",
            "375/375 [==============================] - 2s 4ms/step - loss: 0.0015 - val_loss: 0.2534\n",
            "Epoch 16/30\n",
            "362/375 [===========================>..] - ETA: 0s - loss: 0.0013\n",
            "Epoch 16: val_loss did not improve from 0.24144\n",
            "375/375 [==============================] - 1s 4ms/step - loss: 0.0013 - val_loss: 0.2561\n",
            "Epoch 17/30\n",
            "367/375 [============================>.] - ETA: 0s - loss: 0.0011\n",
            "Epoch 17: val_loss did not improve from 0.24144\n",
            "375/375 [==============================] - 1s 4ms/step - loss: 0.0012 - val_loss: 0.2593\n",
            "Epoch 18/30\n",
            "364/375 [============================>.] - ETA: 0s - loss: 0.0012\n",
            "Epoch 18: val_loss did not improve from 0.24144\n",
            "375/375 [==============================] - 1s 4ms/step - loss: 0.0012 - val_loss: 0.2645\n",
            "Epoch 19/30\n",
            "366/375 [============================>.] - ETA: 0s - loss: 8.2569e-04\n",
            "Epoch 19: val_loss did not improve from 0.24144\n",
            "375/375 [==============================] - 1s 4ms/step - loss: 8.4634e-04 - val_loss: 0.2747\n",
            "Epoch 20/30\n",
            "366/375 [============================>.] - ETA: 0s - loss: 0.0231\n",
            "Epoch 20: val_loss did not improve from 0.24144\n",
            "375/375 [==============================] - 1s 4ms/step - loss: 0.0230 - val_loss: 0.3405\n",
            "Epoch 21/30\n",
            "374/375 [============================>.] - ETA: 0s - loss: 0.0066\n",
            "Epoch 21: val_loss did not improve from 0.24144\n",
            "375/375 [==============================] - 1s 4ms/step - loss: 0.0066 - val_loss: 0.3245\n",
            "Epoch 22/30\n",
            "375/375 [==============================] - ETA: 0s - loss: 0.0014\n",
            "Epoch 22: val_loss did not improve from 0.24144\n",
            "375/375 [==============================] - 1s 4ms/step - loss: 0.0014 - val_loss: 0.3198\n",
            "Epoch 23/30\n",
            "363/375 [============================>.] - ETA: 0s - loss: 0.0014\n",
            "Epoch 23: val_loss did not improve from 0.24144\n",
            "375/375 [==============================] - 1s 4ms/step - loss: 0.0014 - val_loss: 0.3097\n",
            "Epoch 24/30\n",
            "364/375 [============================>.] - ETA: 0s - loss: 6.0731e-04\n",
            "Epoch 24: val_loss did not improve from 0.24144\n",
            "375/375 [==============================] - 2s 4ms/step - loss: 5.9798e-04 - val_loss: 0.3028\n",
            "Epoch 25/30\n",
            "363/375 [============================>.] - ETA: 0s - loss: 3.8962e-04\n",
            "Epoch 25: val_loss did not improve from 0.24144\n",
            "375/375 [==============================] - 1s 4ms/step - loss: 3.8511e-04 - val_loss: 0.3066\n",
            "Epoch 26/30\n",
            "374/375 [============================>.] - ETA: 0s - loss: 2.6770e-04\n",
            "Epoch 26: val_loss did not improve from 0.24144\n",
            "375/375 [==============================] - 1s 4ms/step - loss: 2.6828e-04 - val_loss: 0.3201\n",
            "Epoch 27/30\n",
            "369/375 [============================>.] - ETA: 0s - loss: 5.1844e-04\n",
            "Epoch 27: val_loss did not improve from 0.24144\n",
            "375/375 [==============================] - 1s 4ms/step - loss: 5.1671e-04 - val_loss: 0.3175\n",
            "Epoch 28/30\n",
            "364/375 [============================>.] - ETA: 0s - loss: 3.7824e-04\n",
            "Epoch 28: val_loss did not improve from 0.24144\n",
            "375/375 [==============================] - 1s 4ms/step - loss: 3.7103e-04 - val_loss: 0.3070\n",
            "Epoch 29/30\n",
            "373/375 [============================>.] - ETA: 0s - loss: 3.5105e-04\n",
            "Epoch 29: val_loss did not improve from 0.24144\n",
            "375/375 [==============================] - 1s 4ms/step - loss: 3.4990e-04 - val_loss: 0.3093\n",
            "Epoch 30/30\n",
            "363/375 [============================>.] - ETA: 0s - loss: 2.0252e-04\n",
            "Epoch 30: val_loss did not improve from 0.24144\n",
            "375/375 [==============================] - 1s 4ms/step - loss: 1.9944e-04 - val_loss: 0.3080\n"
          ]
        }
      ],
      "source": [
        "fine_tuned_model_1, fine_tuned_encoder_1 = stacked_auto_encoder_1.finetune(X_train_scaled, Y_train_hot_encoded, X_val_scaled, Y_val_hot_encoded, 30, 128) "
      ]
    },
    {
      "cell_type": "code",
      "execution_count": 62,
      "metadata": {
        "colab": {
          "base_uri": "https://localhost:8080/"
        },
        "id": "LTjfr78r4C4B",
        "outputId": "9db8be51-9d88-4c16-b1bf-965006e4f535"
      },
      "outputs": [
        {
          "name": "stdout",
          "output_type": "stream",
          "text": [
            "Epoch 1/30\n",
            "370/375 [============================>.] - ETA: 0s - loss: 1.0498\n",
            "Epoch 1: val_loss improved from inf to 0.45888, saving model to weights.hdf5\n",
            "375/375 [==============================] - 3s 6ms/step - loss: 1.0411 - val_loss: 0.4589\n",
            "Epoch 2/30\n",
            "369/375 [============================>.] - ETA: 0s - loss: 0.2238\n",
            "Epoch 2: val_loss improved from 0.45888 to 0.33889, saving model to weights.hdf5\n",
            "375/375 [==============================] - 2s 5ms/step - loss: 0.2240 - val_loss: 0.3389\n",
            "Epoch 3/30\n",
            "370/375 [============================>.] - ETA: 0s - loss: 0.0774\n",
            "Epoch 3: val_loss improved from 0.33889 to 0.28053, saving model to weights.hdf5\n",
            "375/375 [==============================] - 2s 5ms/step - loss: 0.0776 - val_loss: 0.2805\n",
            "Epoch 4/30\n",
            "373/375 [============================>.] - ETA: 0s - loss: 0.0264\n",
            "Epoch 4: val_loss improved from 0.28053 to 0.26384, saving model to weights.hdf5\n",
            "375/375 [==============================] - 2s 5ms/step - loss: 0.0264 - val_loss: 0.2638\n",
            "Epoch 5/30\n",
            "368/375 [============================>.] - ETA: 0s - loss: 0.0119\n",
            "Epoch 5: val_loss improved from 0.26384 to 0.25337, saving model to weights.hdf5\n",
            "375/375 [==============================] - 2s 5ms/step - loss: 0.0119 - val_loss: 0.2534\n",
            "Epoch 6/30\n",
            "365/375 [============================>.] - ETA: 0s - loss: 0.0088\n",
            "Epoch 6: val_loss did not improve from 0.25337\n",
            "375/375 [==============================] - 2s 4ms/step - loss: 0.0087 - val_loss: 0.2556\n",
            "Epoch 7/30\n",
            "366/375 [============================>.] - ETA: 0s - loss: 0.0077\n",
            "Epoch 7: val_loss did not improve from 0.25337\n",
            "375/375 [==============================] - 2s 4ms/step - loss: 0.0076 - val_loss: 0.2618\n",
            "Epoch 8/30\n",
            "362/375 [===========================>..] - ETA: 0s - loss: 0.0055\n",
            "Epoch 8: val_loss did not improve from 0.25337\n",
            "375/375 [==============================] - 2s 4ms/step - loss: 0.0053 - val_loss: 0.2554\n",
            "Epoch 9/30\n",
            "371/375 [============================>.] - ETA: 0s - loss: 0.0054\n",
            "Epoch 9: val_loss did not improve from 0.25337\n",
            "375/375 [==============================] - 2s 4ms/step - loss: 0.0055 - val_loss: 0.3237\n",
            "Epoch 10/30\n",
            "364/375 [============================>.] - ETA: 0s - loss: 0.0347\n",
            "Epoch 10: val_loss did not improve from 0.25337\n",
            "375/375 [==============================] - 2s 4ms/step - loss: 0.0351 - val_loss: 0.4382\n",
            "Epoch 11/30\n",
            "369/375 [============================>.] - ETA: 0s - loss: 0.0191\n",
            "Epoch 11: val_loss did not improve from 0.25337\n",
            "375/375 [==============================] - 2s 4ms/step - loss: 0.0192 - val_loss: 0.3472\n",
            "Epoch 12/30\n",
            "370/375 [============================>.] - ETA: 0s - loss: 0.0063\n",
            "Epoch 12: val_loss did not improve from 0.25337\n",
            "375/375 [==============================] - 2s 4ms/step - loss: 0.0063 - val_loss: 0.3307\n",
            "Epoch 13/30\n",
            "368/375 [============================>.] - ETA: 0s - loss: 0.0023\n",
            "Epoch 13: val_loss did not improve from 0.25337\n",
            "375/375 [==============================] - 2s 4ms/step - loss: 0.0023 - val_loss: 0.3224\n",
            "Epoch 14/30\n",
            "373/375 [============================>.] - ETA: 0s - loss: 0.0031\n",
            "Epoch 14: val_loss did not improve from 0.25337\n",
            "375/375 [==============================] - 2s 4ms/step - loss: 0.0031 - val_loss: 0.3529\n",
            "Epoch 15/30\n",
            "375/375 [==============================] - ETA: 0s - loss: 0.0212\n",
            "Epoch 15: val_loss did not improve from 0.25337\n",
            "375/375 [==============================] - 2s 4ms/step - loss: 0.0212 - val_loss: 0.5645\n",
            "Epoch 16/30\n",
            "375/375 [==============================] - ETA: 0s - loss: 0.0315\n",
            "Epoch 16: val_loss did not improve from 0.25337\n",
            "375/375 [==============================] - 2s 4ms/step - loss: 0.0315 - val_loss: 0.4125\n",
            "Epoch 17/30\n",
            "373/375 [============================>.] - ETA: 0s - loss: 0.0071\n",
            "Epoch 17: val_loss did not improve from 0.25337\n",
            "375/375 [==============================] - 2s 4ms/step - loss: 0.0073 - val_loss: 0.4455\n",
            "Epoch 18/30\n",
            "367/375 [============================>.] - ETA: 0s - loss: 0.0036\n",
            "Epoch 18: val_loss did not improve from 0.25337\n",
            "375/375 [==============================] - 2s 4ms/step - loss: 0.0036 - val_loss: 0.3557\n",
            "Epoch 19/30\n",
            "364/375 [============================>.] - ETA: 0s - loss: 0.0011\n",
            "Epoch 19: val_loss did not improve from 0.25337\n",
            "375/375 [==============================] - 2s 4ms/step - loss: 0.0010 - val_loss: 0.3557\n",
            "Epoch 20/30\n",
            "370/375 [============================>.] - ETA: 0s - loss: 0.0167\n",
            "Epoch 20: val_loss did not improve from 0.25337\n",
            "375/375 [==============================] - 2s 4ms/step - loss: 0.0171 - val_loss: 0.5349\n",
            "Epoch 21/30\n",
            "366/375 [============================>.] - ETA: 0s - loss: 0.0108\n",
            "Epoch 21: val_loss did not improve from 0.25337\n",
            "375/375 [==============================] - 2s 4ms/step - loss: 0.0107 - val_loss: 0.4174\n",
            "Epoch 22/30\n",
            "364/375 [============================>.] - ETA: 0s - loss: 0.0122\n",
            "Epoch 22: val_loss did not improve from 0.25337\n",
            "375/375 [==============================] - 2s 4ms/step - loss: 0.0129 - val_loss: 0.4992\n",
            "Epoch 23/30\n",
            "365/375 [============================>.] - ETA: 0s - loss: 0.0063\n",
            "Epoch 23: val_loss did not improve from 0.25337\n",
            "375/375 [==============================] - 2s 4ms/step - loss: 0.0063 - val_loss: 0.4181\n",
            "Epoch 24/30\n",
            "374/375 [============================>.] - ETA: 0s - loss: 0.0055\n",
            "Epoch 24: val_loss did not improve from 0.25337\n",
            "375/375 [==============================] - 2s 4ms/step - loss: 0.0055 - val_loss: 0.4240\n",
            "Epoch 25/30\n",
            "374/375 [============================>.] - ETA: 0s - loss: 0.0088\n",
            "Epoch 25: val_loss did not improve from 0.25337\n",
            "375/375 [==============================] - 2s 4ms/step - loss: 0.0089 - val_loss: 0.4789\n",
            "Epoch 26/30\n",
            "366/375 [============================>.] - ETA: 0s - loss: 0.0052\n",
            "Epoch 26: val_loss did not improve from 0.25337\n",
            "375/375 [==============================] - 2s 4ms/step - loss: 0.0054 - val_loss: 0.4893\n",
            "Epoch 27/30\n",
            "363/375 [============================>.] - ETA: 0s - loss: 0.0132\n",
            "Epoch 27: val_loss did not improve from 0.25337\n",
            "375/375 [==============================] - 2s 4ms/step - loss: 0.0134 - val_loss: 0.4596\n",
            "Epoch 28/30\n",
            "372/375 [============================>.] - ETA: 0s - loss: 0.0068\n",
            "Epoch 28: val_loss did not improve from 0.25337\n",
            "375/375 [==============================] - 2s 4ms/step - loss: 0.0068 - val_loss: 0.4682\n",
            "Epoch 29/30\n",
            "370/375 [============================>.] - ETA: 0s - loss: 0.0098\n",
            "Epoch 29: val_loss did not improve from 0.25337\n",
            "375/375 [==============================] - 2s 4ms/step - loss: 0.0100 - val_loss: 0.5945\n",
            "Epoch 30/30\n",
            "363/375 [============================>.] - ETA: 0s - loss: 0.0051\n",
            "Epoch 30: val_loss did not improve from 0.25337\n",
            "375/375 [==============================] - 2s 4ms/step - loss: 0.0050 - val_loss: 0.4827\n"
          ]
        }
      ],
      "source": [
        "fine_tuned_model_2, fine_tuned_encoder_2 = stacked_auto_encoder_2.finetune(X_train_scaled, Y_train_hot_encoded, X_val_scaled, Y_val_hot_encoded, 30, 128)"
      ]
    },
    {
      "cell_type": "code",
      "execution_count": 63,
      "metadata": {
        "colab": {
          "base_uri": "https://localhost:8080/"
        },
        "id": "HRdtOWVh4C4B",
        "outputId": "691d8b0a-1ac4-4d5a-e7f1-1eeab357e799"
      },
      "outputs": [
        {
          "name": "stdout",
          "output_type": "stream",
          "text": [
            "Epoch 1/30\n",
            "369/375 [============================>.] - ETA: 0s - loss: 1.0070\n",
            "Epoch 1: val_loss improved from inf to 0.42204, saving model to weights.hdf5\n",
            "375/375 [==============================] - 4s 6ms/step - loss: 0.9980 - val_loss: 0.4220\n",
            "Epoch 2/30\n",
            "363/375 [============================>.] - ETA: 0s - loss: 0.2125\n",
            "Epoch 2: val_loss improved from 0.42204 to 0.33588, saving model to weights.hdf5\n",
            "375/375 [==============================] - 2s 5ms/step - loss: 0.2120 - val_loss: 0.3359\n",
            "Epoch 3/30\n",
            "366/375 [============================>.] - ETA: 0s - loss: 0.0707\n",
            "Epoch 3: val_loss improved from 0.33588 to 0.29725, saving model to weights.hdf5\n",
            "375/375 [==============================] - 2s 5ms/step - loss: 0.0704 - val_loss: 0.2973\n",
            "Epoch 4/30\n",
            "371/375 [============================>.] - ETA: 0s - loss: 0.0236\n",
            "Epoch 4: val_loss improved from 0.29725 to 0.27480, saving model to weights.hdf5\n",
            "375/375 [==============================] - 2s 5ms/step - loss: 0.0237 - val_loss: 0.2748\n",
            "Epoch 5/30\n",
            "367/375 [============================>.] - ETA: 0s - loss: 0.0110\n",
            "Epoch 5: val_loss did not improve from 0.27480\n",
            "375/375 [==============================] - 2s 4ms/step - loss: 0.0109 - val_loss: 0.2750\n",
            "Epoch 6/30\n",
            "370/375 [============================>.] - ETA: 0s - loss: 0.0098\n",
            "Epoch 6: val_loss did not improve from 0.27480\n",
            "375/375 [==============================] - 2s 4ms/step - loss: 0.0098 - val_loss: 0.2824\n",
            "Epoch 7/30\n",
            "372/375 [============================>.] - ETA: 0s - loss: 0.0089\n",
            "Epoch 7: val_loss did not improve from 0.27480\n",
            "375/375 [==============================] - 2s 4ms/step - loss: 0.0089 - val_loss: 0.3157\n",
            "Epoch 8/30\n",
            "370/375 [============================>.] - ETA: 0s - loss: 0.0489\n",
            "Epoch 8: val_loss did not improve from 0.27480\n",
            "375/375 [==============================] - 2s 4ms/step - loss: 0.0488 - val_loss: 0.3900\n",
            "Epoch 9/30\n",
            "372/375 [============================>.] - ETA: 0s - loss: 0.0331\n",
            "Epoch 9: val_loss did not improve from 0.27480\n",
            "375/375 [==============================] - 2s 5ms/step - loss: 0.0332 - val_loss: 0.4825\n",
            "Epoch 10/30\n",
            "374/375 [============================>.] - ETA: 0s - loss: 0.0203\n",
            "Epoch 10: val_loss did not improve from 0.27480\n",
            "375/375 [==============================] - 2s 4ms/step - loss: 0.0204 - val_loss: 0.3875\n",
            "Epoch 11/30\n",
            "371/375 [============================>.] - ETA: 0s - loss: 0.0071\n",
            "Epoch 11: val_loss did not improve from 0.27480\n",
            "375/375 [==============================] - 2s 4ms/step - loss: 0.0071 - val_loss: 0.4354\n",
            "Epoch 12/30\n",
            "365/375 [============================>.] - ETA: 0s - loss: 0.0191\n",
            "Epoch 12: val_loss did not improve from 0.27480\n",
            "375/375 [==============================] - 2s 4ms/step - loss: 0.0190 - val_loss: 0.4722\n",
            "Epoch 13/30\n",
            "365/375 [============================>.] - ETA: 0s - loss: 0.0304\n",
            "Epoch 13: val_loss did not improve from 0.27480\n",
            "375/375 [==============================] - 2s 4ms/step - loss: 0.0303 - val_loss: 0.4861\n",
            "Epoch 14/30\n",
            "375/375 [==============================] - ETA: 0s - loss: 0.0133\n",
            "Epoch 14: val_loss did not improve from 0.27480\n",
            "375/375 [==============================] - 2s 4ms/step - loss: 0.0133 - val_loss: 0.4340\n",
            "Epoch 15/30\n",
            "364/375 [============================>.] - ETA: 0s - loss: 0.0155\n",
            "Epoch 15: val_loss did not improve from 0.27480\n",
            "375/375 [==============================] - 2s 4ms/step - loss: 0.0159 - val_loss: 0.5164\n",
            "Epoch 16/30\n",
            "362/375 [===========================>..] - ETA: 0s - loss: 0.0143\n",
            "Epoch 16: val_loss did not improve from 0.27480\n",
            "375/375 [==============================] - 2s 4ms/step - loss: 0.0144 - val_loss: 0.4746\n",
            "Epoch 17/30\n",
            "364/375 [============================>.] - ETA: 0s - loss: 0.0161\n",
            "Epoch 17: val_loss did not improve from 0.27480\n",
            "375/375 [==============================] - 2s 4ms/step - loss: 0.0162 - val_loss: 0.4917\n",
            "Epoch 18/30\n",
            "369/375 [============================>.] - ETA: 0s - loss: 0.0122\n",
            "Epoch 18: val_loss did not improve from 0.27480\n",
            "375/375 [==============================] - 2s 5ms/step - loss: 0.0123 - val_loss: 0.4659\n",
            "Epoch 19/30\n",
            "369/375 [============================>.] - ETA: 0s - loss: 0.0195\n",
            "Epoch 19: val_loss did not improve from 0.27480\n",
            "375/375 [==============================] - 2s 4ms/step - loss: 0.0193 - val_loss: 0.4927\n",
            "Epoch 20/30\n",
            "375/375 [==============================] - ETA: 0s - loss: 0.0132\n",
            "Epoch 20: val_loss did not improve from 0.27480\n",
            "375/375 [==============================] - 2s 4ms/step - loss: 0.0132 - val_loss: 0.4808\n",
            "Epoch 21/30\n",
            "363/375 [============================>.] - ETA: 0s - loss: 0.0188\n",
            "Epoch 21: val_loss did not improve from 0.27480\n",
            "375/375 [==============================] - 2s 4ms/step - loss: 0.0184 - val_loss: 0.4274\n",
            "Epoch 22/30\n",
            "372/375 [============================>.] - ETA: 0s - loss: 0.0111\n",
            "Epoch 22: val_loss did not improve from 0.27480\n",
            "375/375 [==============================] - 2s 4ms/step - loss: 0.0113 - val_loss: 0.5094\n",
            "Epoch 23/30\n",
            "363/375 [============================>.] - ETA: 0s - loss: 0.0179\n",
            "Epoch 23: val_loss did not improve from 0.27480\n",
            "375/375 [==============================] - 2s 4ms/step - loss: 0.0176 - val_loss: 0.4332\n",
            "Epoch 24/30\n",
            "374/375 [============================>.] - ETA: 0s - loss: 0.0066\n",
            "Epoch 24: val_loss did not improve from 0.27480\n",
            "375/375 [==============================] - 2s 4ms/step - loss: 0.0066 - val_loss: 0.4990\n",
            "Epoch 25/30\n",
            "375/375 [==============================] - ETA: 0s - loss: 0.0080\n",
            "Epoch 25: val_loss did not improve from 0.27480\n",
            "375/375 [==============================] - 2s 4ms/step - loss: 0.0080 - val_loss: 0.6707\n",
            "Epoch 26/30\n",
            "374/375 [============================>.] - ETA: 0s - loss: 0.0236\n",
            "Epoch 26: val_loss did not improve from 0.27480\n",
            "375/375 [==============================] - 2s 4ms/step - loss: 0.0235 - val_loss: 0.4545\n",
            "Epoch 27/30\n",
            "371/375 [============================>.] - ETA: 0s - loss: 0.0112\n",
            "Epoch 27: val_loss did not improve from 0.27480\n",
            "375/375 [==============================] - 2s 4ms/step - loss: 0.0112 - val_loss: 0.5427\n",
            "Epoch 28/30\n",
            "370/375 [============================>.] - ETA: 0s - loss: 0.0044\n",
            "Epoch 28: val_loss did not improve from 0.27480\n",
            "375/375 [==============================] - 2s 4ms/step - loss: 0.0044 - val_loss: 0.4525\n",
            "Epoch 29/30\n",
            "370/375 [============================>.] - ETA: 0s - loss: 0.0027\n",
            "Epoch 29: val_loss did not improve from 0.27480\n",
            "375/375 [==============================] - 2s 4ms/step - loss: 0.0027 - val_loss: 0.4551\n",
            "Epoch 30/30\n",
            "372/375 [============================>.] - ETA: 0s - loss: 0.0133\n",
            "Epoch 30: val_loss did not improve from 0.27480\n",
            "375/375 [==============================] - 2s 4ms/step - loss: 0.0136 - val_loss: 0.6670\n"
          ]
        }
      ],
      "source": [
        "fine_tuned_model_3, fine_tuned_encoder_3 = stacked_auto_encoder_3.finetune(X_train_scaled, Y_train_hot_encoded, X_val_scaled, Y_val_hot_encoded, 30, 128) "
      ]
    },
    {
      "cell_type": "markdown",
      "metadata": {
        "id": "bLmARg2D4C4B"
      },
      "source": [
        "### Plot of Finetuning Training"
      ]
    },
    {
      "cell_type": "code",
      "execution_count": 64,
      "metadata": {
        "colab": {
          "base_uri": "https://localhost:8080/",
          "height": 472
        },
        "id": "6hezINYwXzTi",
        "outputId": "87b019f2-6045-45be-e3f8-8675129fc631"
      },
      "outputs": [
        {
          "data": {
            "image/png": "[encoded data removed]",
            "text/plain": [
              "<Figure size 640x480 with 1 Axes>"
            ]
          },
          "metadata": {},
          "output_type": "display_data"
        }
      ],
      "source": [
        "plot_loss(stacked_auto_encoder_1.history.history)"
      ]
    },
    {
      "cell_type": "code",
      "execution_count": 65,
      "metadata": {
        "colab": {
          "base_uri": "https://localhost:8080/",
          "height": 472
        },
        "id": "N5OSWB4x4C4B",
        "outputId": "37abb627-0f81-423d-bf10-5ca6db0079e9"
      },
      "outputs": [
        {
          "data": {
            "image/png": "[encoded data removed]",
            "text/plain": [
              "<Figure size 640x480 with 1 Axes>"
            ]
          },
          "metadata": {},
          "output_type": "display_data"
        }
      ],
      "source": [
        "plot_loss(stacked_auto_encoder_2.history.history)"
      ]
    },
    {
      "cell_type": "code",
      "execution_count": 66,
      "metadata": {
        "colab": {
          "base_uri": "https://localhost:8080/",
          "height": 472
        },
        "id": "h5AlPGXy4C4B",
        "outputId": "52ff101a-6534-464e-b914-d6d92201ad76"
      },
      "outputs": [
        {
          "data": {
            "image/png": "[encoded data removed]",
            "text/plain": [
              "<Figure size 640x480 with 1 Axes>"
            ]
          },
          "metadata": {},
          "output_type": "display_data"
        }
      ],
      "source": [
        "plot_loss(stacked_auto_encoder_3.history.history)"
      ]
    },
    {
      "cell_type": "markdown",
      "metadata": {
        "id": "vmWX_fDvgF_R"
      },
      "source": [
        "**Now feed the encoded representation into linear SVM**"
      ]
    },
    {
      "cell_type": "code",
      "execution_count": 81,
      "metadata": {
        "colab": {
          "base_uri": "https://localhost:8080/"
        },
        "id": "3GWVbI8nc9H6",
        "outputId": "7bd64e97-86f9-4f37-c696-bbd9ec396a46",
        "scrolled": true
      },
      "outputs": [
        {
          "name": "stdout",
          "output_type": "stream",
          "text": [
            "1-layer SDAE SVM\n",
            "1500/1500 [==============================] - 2s 1ms/step\n",
            "188/188 [==============================] - 0s 1ms/step\n",
            "SVM Accuracy Score ->  92.0\n",
            "SVM Accuracy Score on training ->  99.98541666666667\n",
            "188/188 [==============================] - 0s 1ms/step\n",
            "SVM Accuracy Score on validation ->  92.08333333333333\n",
            "2-layers SDAE SVM\n",
            "1500/1500 [==============================] - 2s 2ms/step\n",
            "188/188 [==============================] - 0s 2ms/step\n",
            "SVM Accuracy Score ->  93.45\n",
            "SVM Accuracy Score on training ->  99.99583333333332\n",
            "188/188 [==============================] - 0s 2ms/step\n",
            "SVM Accuracy Score on validation ->  93.01666666666667\n",
            "3-layers SDAE SVM\n",
            "1500/1500 [==============================] - 2s 2ms/step\n",
            "188/188 [==============================] - 0s 2ms/step\n",
            "SVM Accuracy Score ->  93.0\n",
            "SVM Accuracy Score on training ->  99.97500000000001\n",
            "188/188 [==============================] - 0s 2ms/step\n",
            "SVM Accuracy Score on validation ->  93.08333333333333\n"
          ]
        }
      ],
      "source": [
        "fine_tuned_encoders = [fine_tuned_encoder_1, fine_tuned_encoder_2, fine_tuned_encoder_3]\n",
        "svms = []\n",
        "for fine_tuned_encoder, model_name in zip(fine_tuned_encoders, model_names[1:]):\n",
        "    print(model_name)\n",
        "    X_train_encoded = fine_tuned_encoder.predict(X_train_scaled)\n",
        "\n",
        "    # Fit to encoded data\n",
        "    svm_autoencoder = LinearSVC(C=1.0, probability=True)\n",
        "    svm_autoencoder.fit(X_train_encoded, Y_train)\n",
        "\n",
        "    # Encode the test data and use SVM to predict its labels\n",
        "    X_test_encoded = fine_tuned_encoder.predict(X_test_scaled)\n",
        "    predicted = svm_autoencoder.predict(X_test_encoded)\n",
        "\n",
        "    print(\"SVM Accuracy Score -> \", metrics.accuracy_score(predicted, Y_test)*100)\n",
        "    predicted_arr.append(predicted)\n",
        "    \n",
        "    predicted_train = svm_autoencoder.predict(X_train_encoded)\n",
        "    print(\"SVM Accuracy Score on training -> \", metrics.accuracy_score(predicted_train, Y_train)*100)\n",
        "\n",
        "    X_val_encoded = fine_tuned_encoder.predict(X_val_scaled)\n",
        "    predicted_val = svm_autoencoder.predict(X_val_encoded)\n",
        "    print(\"SVM Accuracy Score on validation -> \", metrics.accuracy_score(predicted_val, Y_val)*100)\n",
        "\n",
        "    svms.append(svm_autoencoder)"
      ]
    },
    {
      "cell_type": "markdown",
      "metadata": {
        "id": "0xOxAyw04C4C"
      },
      "source": [
        "## 6. Testing metrics"
      ]
    },
    {
      "cell_type": "code",
      "execution_count": 82,
      "metadata": {
        "id": "rQ5c9dEb4C4C"
      },
      "outputs": [],
      "source": [
        "def testing_metrics(y_true, y_pred_arr, model_names, export=True):\n",
        "    stats = {}\n",
        "    for y_pred, model_name in zip(y_pred_arr, model_names):\n",
        "        scores = metrics.classification_report(y_true, y_pred, zero_division=1, output_dict=True)\n",
        "\n",
        "        stats[model_name] = {\n",
        "            'cohen_kappa': metrics.cohen_kappa_score(y_true, y_pred),\n",
        "            'matthews_corrcoef': metrics.matthews_corrcoef(y_true, y_pred),\n",
        "            'micro-accuracy': scores['accuracy']\n",
        "        }\n",
        "\n",
        "        for metr1 in ('macro avg', 'weighted avg'):\n",
        "            for metr2 in ('precision', 'recall', 'f1-score'):\n",
        "                stats[model_name][metr1 + ' ' + metr2] = scores[metr1][metr2]\n",
        "    \n",
        "    stats_df = pd.DataFrame.from_dict(stats).T\n",
        "    if export:\n",
        "        stats_df.to_csv('svm_stats.csv')\n",
        "    \n",
        "    return stats_df"
      ]
    },
    {
      "cell_type": "code",
      "execution_count": 83,
      "metadata": {
        "colab": {
          "base_uri": "https://localhost:8080/",
          "height": 375
        },
        "id": "ubRLVWO64C4C",
        "outputId": "1e2c1a02-6f2c-4a28-dfd5-4e7c7ffa6ec3"
      },
      "outputs": [
        {
          "data": {
            "text/html": [
              "\n",
              "  <div id=\"df-743dfad6-b196-401b-a685-b0e4bf1e1697\">\n",
              "    <div class=\"colab-df-container\">\n",
              "      <div>\n",
              "<style scoped>\n",
              "    .dataframe tbody tr th:only-of-type {\n",
              "        vertical-align: middle;\n",
              "    }\n",
              "\n",
              "    .dataframe tbody tr th {\n",
              "        vertical-align: top;\n",
              "    }\n",
              "\n",
              "    .dataframe thead th {\n",
              "        text-align: right;\n",
              "    }\n",
              "</style>\n",
              "<table border=\"1\" class=\"dataframe\">\n",
              "  <thead>\n",
              "    <tr style=\"text-align: right;\">\n",
              "      <th></th>\n",
              "      <th>cohen_kappa</th>\n",
              "      <th>matthews_corrcoef</th>\n",
              "      <th>micro-accuracy</th>\n",
              "      <th>macro avg precision</th>\n",
              "      <th>macro avg recall</th>\n",
              "      <th>macro avg f1-score</th>\n",
              "      <th>weighted avg precision</th>\n",
              "      <th>weighted avg recall</th>\n",
              "      <th>weighted avg f1-score</th>\n",
              "    </tr>\n",
              "  </thead>\n",
              "  <tbody>\n",
              "    <tr>\n",
              "      <th>Raw SVM</th>\n",
              "      <td>0.926552</td>\n",
              "      <td>0.926564</td>\n",
              "      <td>0.929000</td>\n",
              "      <td>0.929046</td>\n",
              "      <td>0.929000</td>\n",
              "      <td>0.928849</td>\n",
              "      <td>0.929046</td>\n",
              "      <td>0.929000</td>\n",
              "      <td>0.928849</td>\n",
              "    </tr>\n",
              "    <tr>\n",
              "      <th>1-layer SDAE SVM</th>\n",
              "      <td>0.920172</td>\n",
              "      <td>0.920192</td>\n",
              "      <td>0.922833</td>\n",
              "      <td>0.922889</td>\n",
              "      <td>0.922833</td>\n",
              "      <td>0.922583</td>\n",
              "      <td>0.922889</td>\n",
              "      <td>0.922833</td>\n",
              "      <td>0.922583</td>\n",
              "    </tr>\n",
              "    <tr>\n",
              "      <th>2-layers SDAE SVM</th>\n",
              "      <td>0.931207</td>\n",
              "      <td>0.931230</td>\n",
              "      <td>0.933500</td>\n",
              "      <td>0.933783</td>\n",
              "      <td>0.933500</td>\n",
              "      <td>0.933304</td>\n",
              "      <td>0.933783</td>\n",
              "      <td>0.933500</td>\n",
              "      <td>0.933304</td>\n",
              "    </tr>\n",
              "    <tr>\n",
              "      <th>3-layers SDAE SVM</th>\n",
              "      <td>0.926552</td>\n",
              "      <td>0.926573</td>\n",
              "      <td>0.929000</td>\n",
              "      <td>0.929107</td>\n",
              "      <td>0.929000</td>\n",
              "      <td>0.928746</td>\n",
              "      <td>0.929107</td>\n",
              "      <td>0.929000</td>\n",
              "      <td>0.928746</td>\n",
              "    </tr>\n",
              "  </tbody>\n",
              "</table>\n",
              "</div>\n",
              "      <button class=\"colab-df-convert\" onclick=\"convertToInteractive('df-743dfad6-b196-401b-a685-b0e4bf1e1697')\"\n",
              "              title=\"Convert this dataframe to an interactive table.\"\n",
              "              style=\"display:none;\">\n",
              "        \n",
              "  <svg xmlns=\"http://www.w3.org/2000/svg\" height=\"24px\"viewBox=\"0 0 24 24\"\n",
              "       width=\"24px\">\n",
              "    <path d=\"M0 0h24v24H0V0z\" fill=\"none\"/>\n",
              "    <path d=\"M18.56 5.44l.94 2.06.94-2.06 2.06-.94-2.06-.94-.94-2.06-.94 2.06-2.06.94zm-11 1L8.5 8.5l.94-2.06 2.06-.94-2.06-.94L8.5 2.5l-.94 2.06-2.06.94zm10 10l.94 2.06.94-2.06 2.06-.94-2.06-.94-.94-2.06-.94 2.06-2.06.94z\"/><path d=\"M17.41 7.96l-1.37-1.37c-.4-.4-.92-.59-1.43-.59-.52 0-1.04.2-1.43.59L10.3 9.45l-7.72 7.72c-.78.78-.78 2.05 0 2.83L4 21.41c.39.39.9.59 1.41.59.51 0 1.02-.2 1.41-.59l7.78-7.78 2.81-2.81c.8-.78.8-2.07 0-2.86zM5.41 20L4 18.59l7.72-7.72 1.47 1.35L5.41 20z\"/>\n",
              "  </svg>\n",
              "      </button>\n",
              "      \n",
              "  <style>\n",
              "    .colab-df-container {\n",
              "      display:flex;\n",
              "      flex-wrap:wrap;\n",
              "      gap: 12px;\n",
              "    }\n",
              "\n",
              "    .colab-df-convert {\n",
              "      background-color: #E8F0FE;\n",
              "      border: none;\n",
              "      border-radius: 50%;\n",
              "      cursor: pointer;\n",
              "      display: none;\n",
              "      fill: #1967D2;\n",
              "      height: 32px;\n",
              "      padding: 0 0 0 0;\n",
              "      width: 32px;\n",
              "    }\n",
              "\n",
              "    .colab-df-convert:hover {\n",
              "      background-color: #E2EBFA;\n",
              "      box-shadow: 0px 1px 2px rgba(60, 64, 67, 0.3), 0px 1px 3px 1px rgba(60, 64, 67, 0.15);\n",
              "      fill: #174EA6;\n",
              "    }\n",
              "\n",
              "    [theme=dark] .colab-df-convert {\n",
              "      background-color: #3B4455;\n",
              "      fill: #D2E3FC;\n",
              "    }\n",
              "\n",
              "    [theme=dark] .colab-df-convert:hover {\n",
              "      background-color: #434B5C;\n",
              "      box-shadow: 0px 1px 3px 1px rgba(0, 0, 0, 0.15);\n",
              "      filter: drop-shadow(0px 1px 2px rgba(0, 0, 0, 0.3));\n",
              "      fill: #FFFFFF;\n",
              "    }\n",
              "  </style>\n",
              "\n",
              "      <script>\n",
              "        const buttonEl =\n",
              "          document.querySelector('#df-743dfad6-b196-401b-a685-b0e4bf1e1697 button.colab-df-convert');\n",
              "        buttonEl.style.display =\n",
              "          google.colab.kernel.accessAllowed ? 'block' : 'none';\n",
              "\n",
              "        async function convertToInteractive(key) {\n",
              "          const element = document.querySelector('#df-743dfad6-b196-401b-a685-b0e4bf1e1697');\n",
              "          const dataTable =\n",
              "            await google.colab.kernel.invokeFunction('convertToInteractive',\n",
              "                                                     [key], {});\n",
              "          if (!dataTable) return;\n",
              "\n",
              "          const docLinkHtml = 'Like what you see? Visit the ' +\n",
              "            '<a target=\"_blank\" href=https://colab.research.google.com/notebooks/data_table.ipynb>data table notebook</a>'\n",
              "            + ' to learn more about interactive tables.';\n",
              "          element.innerHTML = '';\n",
              "          dataTable['output_type'] = 'display_data';\n",
              "          await google.colab.output.renderOutput(dataTable, element);\n",
              "          const docLink = document.createElement('div');\n",
              "          docLink.innerHTML = docLinkHtml;\n",
              "          element.appendChild(docLink);\n",
              "        }\n",
              "      </script>\n",
              "    </div>\n",
              "  </div>\n",
              "  "
            ],
            "text/plain": [
              "                   cohen_kappa  matthews_corrcoef  micro-accuracy  \\\n",
              "Raw SVM               0.926552           0.926564        0.929000   \n",
              "1-layer SDAE SVM      0.920172           0.920192        0.922833   \n",
              "2-layers SDAE SVM     0.931207           0.931230        0.933500   \n",
              "3-layers SDAE SVM     0.926552           0.926573        0.929000   \n",
              "\n",
              "                   macro avg precision  macro avg recall  macro avg f1-score  \\\n",
              "Raw SVM                       0.929046          0.929000            0.928849   \n",
              "1-layer SDAE SVM              0.922889          0.922833            0.922583   \n",
              "2-layers SDAE SVM             0.933783          0.933500            0.933304   \n",
              "3-layers SDAE SVM             0.929107          0.929000            0.928746   \n",
              "\n",
              "                   weighted avg precision  weighted avg recall  \\\n",
              "Raw SVM                          0.929046             0.929000   \n",
              "1-layer SDAE SVM                 0.922889             0.922833   \n",
              "2-layers SDAE SVM                0.933783             0.933500   \n",
              "3-layers SDAE SVM                0.929107             0.929000   \n",
              "\n",
              "                   weighted avg f1-score  \n",
              "Raw SVM                         0.928849  \n",
              "1-layer SDAE SVM                0.922583  \n",
              "2-layers SDAE SVM               0.933304  \n",
              "3-layers SDAE SVM               0.928746  "
            ]
          },
          "execution_count": 83,
          "metadata": {},
          "output_type": "execute_result"
        }
      ],
      "source": [
        "testing_metrics(Y_test, predicted_arr, model_names)"
      ]
    }
  ],
  "metadata": {
    "accelerator": "GPU",
    "colab": {
      "gpuType": "A100",
      "machine_shape": "hm",
      "provenance": []
    },
    "gpuClass": "standard",
    "kernelspec": {
      "display_name": "Python 3 (ipykernel)",
      "language": "python",
      "name": "python3"
    },
    "language_info": {
      "codemirror_mode": {
        "name": "ipython",
        "version": 3
      },
      "file_extension": ".py",
      "mimetype": "text/x-python",
      "name": "python",
      "nbconvert_exporter": "python",
      "pygments_lexer": "ipython3",
      "version": "3.8.10"
    }
  },
  "nbformat": 4,
  "nbformat_minor": 0
}
