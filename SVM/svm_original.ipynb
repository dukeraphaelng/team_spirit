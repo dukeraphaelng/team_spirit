{
  "cells": [
    {
      "cell_type": "markdown",
      "metadata": {
        "id": "8FaoW2-BXzTR"
      },
      "source": [
        "# Support Vector Machine with SDAE"
      ]
    },
    {
      "cell_type": "markdown",
      "metadata": {
        "id": "Lgy6Q_J8uA4r"
      },
      "source": [
        "## 1. Imports"
      ]
    },
    {
      "cell_type": "code",
      "execution_count": 3,
      "metadata": {
        "id": "NHYa0fZ7ajgl"
      },
      "outputs": [],
      "source": [
        "import os\n",
        "import numpy as np\n",
        "import pandas as pd\n",
        "\n",
        "# Classifier\n",
        "from sklearn.svm import SVC\n",
        "\n",
        "# Character N-gram feature extractor\n",
        "from sklearn.feature_extraction.text import CountVectorizer\n",
        "\n",
        "# Util\n",
        "from data_io import get_book\n",
        "import torch\n",
        "from sklearn import metrics\n",
        "from sklearn.preprocessing import LabelEncoder\n",
        "\n",
        "# Keras \n",
        "import keras\n",
        "from keras.layers import Input, Dense\n",
        "from keras.models import Model\n",
        "from keras.optimizers import Adam\n",
        "\n",
        "# Plotting\n",
        "import matplotlib.pyplot as plt\n",
        "\n",
        "import tensorflow as tf"
      ]
    },
    {
      "cell_type": "markdown",
      "metadata": {
        "id": "lNb80DPAauyM"
      },
      "source": [
        "## 2. Create the training, test and validation sets"
      ]
    },
    {
      "cell_type": "code",
      "execution_count": 4,
      "metadata": {
        "id": "wMzy7Auiaq5L",
        "scrolled": true
      },
      "outputs": [],
      "source": [
        "train_data = pd.concat(pd.read_csv(\"train.csv\", chunksize = 100))\n",
        "test_data = pd.concat(pd.read_csv(\"test.csv\", chunksize = 100))\n",
        "val_data = pd.concat(pd.read_csv(\"val.csv\", chunksize = 100))\n",
        "\n",
        "cv = CountVectorizer(analyzer='char', ngram_range=(1, 5), dtype=np.float32, max_features=10000)\n",
        "X_train, X_test, X_val = cv.fit_transform(train_data.text.tolist()), cv.transform(test_data.text.tolist()), cv.transform(val_data.text.tolist())  \n",
        "Y_train, Y_test, Y_val = train_data.author.tolist(), test_data.author.tolist(), val_data.author.tolist()"
      ]
    },
    {
      "cell_type": "markdown",
      "metadata": {
        "id": "_47vJnX8axRC"
      },
      "source": [
        "**Convert labelled data into numbers**"
      ]
    },
    {
      "cell_type": "code",
      "execution_count": 5,
      "metadata": {
        "colab": {
          "base_uri": "https://localhost:8080/"
        },
        "id": "PLf_7b2Jawm3",
        "outputId": "6cf5abc1-86b4-440c-e3e6-52bef1f95e37"
      },
      "outputs": [
        {
          "name": "stdout",
          "output_type": "stream",
          "text": [
            "[25  5 29  5 13  5 25  0  3 25  5 29  8  3 25 25 25 25 25 25 11 25 15 15\n",
            " 13 13 25 25  3 29 13 13 24 24 24 24 24 24 24 24 13 13 29 23 17 20 13 24\n",
            " 24 24 24 24 24 24 24 24 24 25 13 11 13 13 20 13 24 24 24 24 24 24 24 27\n",
            " 11 11 13  7  7  8 24 24 24  7  7  5  5  5 15 13 11 13  7 13 23 25  7 13\n",
            "  7  7 15  7 27  7  7  7  7 14 28 28  7  7  7  7  7  7  7  7  5  5  7  7\n",
            "  7 27 11 28 28 28 28 28 28 28 28 28 28 28 28 28 28 28 28 28 28 28 28 11\n",
            " 27 27 27 27 27 27 27 11 28  4 29  4  4  5 11 29 20  3 17 17 17 17 17 17\n",
            " 17 17 17 17 17 17 17 17 17 17 17 17 17 17 17 17 17 17 17 17 17 17 17  0\n",
            "  7 18 18 18 18 18 18 18 18 18 18 18 18 18 18 18 18 18 18 18 18 18 18 18\n",
            " 18 18 18 18 18 18 13 26 23 11  5 29 12 12  5 25  5 23  4  4  4  4  4  4\n",
            "  4  4  4  4  4  4  4  4  4  4  4  4  4  4  4  4  4 11 27 13  0 27 20 27\n",
            " 28 27 28 27 27 27 23 15 15 15 23 22 22 22 22 22 22 22 22 22 22 22 22 22\n",
            " 22 22 22 22 22 22 22 22 22 22 22 22 22 22 22 22  7 23 23 11 16 23 23 23\n",
            " 23 23 23 29  9 27 27  1 15 27 27 27 15 27 16 14 14 14 14 14 14 14 14 14\n",
            " 14 14 14 14 14 14 14 14 14 14 14 14 14 14 14 14 14  8  5 23  7 27 27 27\n",
            " 15 27 26  9 15 15 15  2 15 15 12 15 15 15 15 15  8  8  8  8  8  8  8  8\n",
            "  8  8  8  8  8  8  8  8  8  8  8  8  8 15 15  5 15 14 14 14  5 20 15 16\n",
            " 19 15 29  3 15  3 20 20  9 29  5  9 23 29 29 29 13  7 11 15  5 11 11 23\n",
            " 20 26  8 29 11  9 13 23 25 11 21 13 13 21  0 23  0  8 20 28 26 11  3 22\n",
            " 20 20 20  7 20 20  5  9 29  9 13  9  4  0 15 21 15  9 15  9 29 20 21  9\n",
            " 25 16  9  9  0 20  9  9 23 11  0  6  6  6  6  6  6  6  6  6  6  6  6  6\n",
            " 10 10 10 10 10 10 10 10 10 10 10 10 10 10 10 10 10 10 10 10  0  1  1  1\n",
            "  1  1  1  1  1  1  1  1  1  1  1  1  1  1  1  1  1  5 10  3  3 11 11 13\n",
            " 13 13  2 11 26 26 16  9  5  0  0  3 24 26 10  5  0  6 29 10  1  1  1  1\n",
            "  1  1  1  1  1 21  6 26 21 21 21 21  3 21 21 21 21  0  0 26 21 21 16 21\n",
            "  3 11 25 25 21 16 21  0 23  5 26 26 26 16 21  0 21  0 29  6 20 21 20 20\n",
            "  9 23  3 16 16 16 19 13 25 27 16 28  4 18 16 20 29 26  9 29 25  3 11 25\n",
            " 25 25 25 25 25 26  3 26 11 11 13 20 25 12 25 12 12 12 12 12 12 12 12  5\n",
            " 12  9 12 12 12 12  3 12 12 20 26 29 20 20  6  7 26 26  6 10 10 10 10 10\n",
            "  6  6 10  6  5  6  6  5 12 12 20 29 12 12 21  9  9 12 12 29 20  6  8 12\n",
            " 12 29  6 20 12 12 26 12 29 26  9  9 26  6  6  6  9 16  8  5 21  5  9 16\n",
            " 20 29  9 16  3 19 26 21  6  6 10  5 16 16  4  2 16 19  5 26 23 11 29  4\n",
            "  9 16 16 16 16 16 16 16 16 16 16 19 23  2 23 29 21 21  3 26  2 20 16 23\n",
            " 19 11 11  2  2 21 19 26 19 19 19 19  2 19  2  2  2 23 23 19 24  3 21  2\n",
            "  2 19  2  8  2  0  0  3 28 26 28 26 11  2  2  2 19 21  0  3  3  2 29  2\n",
            " 19 19  3  3  9  2  3 19 13 19 19 19 19  0  0  2  2  0  2  2 26  2  2  2\n",
            " 19 28  0  0  3 26  2 19 19  2 21  0 19 19 19 19  3 20  3 26  3 19  3  9\n",
            "  0 25  0  0  9  0 29]\n"
          ]
        }
      ],
      "source": [
        "Encoder = LabelEncoder()\n",
        "Y_train = Encoder.fit_transform(Y_train)\n",
        "Y_test = Encoder.transform(Y_test)\n",
        "Y_val = Encoder.transform(Y_val)\n",
        "\n",
        "print(np.array(Y_train))"
      ]
    },
    {
      "cell_type": "markdown",
      "metadata": {
        "id": "VxWiB2Mfa44I"
      },
      "source": [
        "**Distribution of Training Data**"
      ]
    },
    {
      "cell_type": "code",
      "execution_count": 6,
      "metadata": {
        "colab": {
          "base_uri": "https://localhost:8080/"
        },
        "id": "L6WHsJcEa7ye",
        "outputId": "f562b787-abc5-4357-bf32-17f475ed32c4"
      },
      "outputs": [
        {
          "name": "stdout",
          "output_type": "stream",
          "text": [
            "(895, 10000)\n",
            "75207\n",
            "total occurrences of length 1 char n-gram\n",
            "160679\n",
            "total amount of length 1 char n-gram\n",
            "27\n",
            "total occurrences of length 2 char n-gram\n",
            "2207052\n",
            "total amount of length 2 char n-gram\n",
            "391\n",
            "total occurrences of length 3 char n-gram\n",
            "11417695\n",
            "total amount of length 3 char n-gram\n",
            "2117\n",
            "total occurrences of length 4 char n-gram\n",
            "19609110\n",
            "total amount of length 4 char n-gram\n",
            "3906\n",
            "total occurrences of length 5 char n-gram\n",
            "16600464\n",
            "total amount of length 5 char n-gram\n",
            "3559\n"
          ]
        }
      ],
      "source": [
        "print(X_train.shape)\n",
        "# print(cv.vocabulary_)\n",
        "print(len(train_data.text.tolist()[1].split(\" \")))\n",
        "\n",
        "one_ngram_occurrences = [cv.vocabulary_[ngram] for ngram in cv.vocabulary_ if len(ngram) == 1]\n",
        "print(\"total occurrences of length 1 char n-gram\")\n",
        "print(sum(one_ngram_occurrences))\n",
        "print(\"total amount of length 1 char n-gram\")\n",
        "print(len(one_ngram_occurrences))\n",
        "\n",
        "two_ngram_occurrences = [cv.vocabulary_[ngram] for ngram in cv.vocabulary_ if len(ngram) == 2]\n",
        "print(\"total occurrences of length 2 char n-gram\")\n",
        "print(sum(two_ngram_occurrences))\n",
        "print(\"total amount of length 2 char n-gram\")\n",
        "print(len(two_ngram_occurrences))\n",
        "\n",
        "three_ngram_occurrences = [cv.vocabulary_[ngram] for ngram in cv.vocabulary_ if len(ngram) == 3]\n",
        "print(\"total occurrences of length 3 char n-gram\")\n",
        "print(sum(three_ngram_occurrences))\n",
        "print(\"total amount of length 3 char n-gram\")\n",
        "print(len(three_ngram_occurrences))\n",
        "\n",
        "four_ngram_occurrences = [cv.vocabulary_[ngram] for ngram in cv.vocabulary_ if len(ngram) == 4]\n",
        "print(\"total occurrences of length 4 char n-gram\")\n",
        "print(sum(four_ngram_occurrences))\n",
        "print(\"total amount of length 4 char n-gram\")\n",
        "print(len(four_ngram_occurrences))\n",
        "\n",
        "five_ngram_occurrences = [cv.vocabulary_[ngram] for ngram in cv.vocabulary_ if len(ngram) == 5]\n",
        "print(\"total occurrences of length 5 char n-gram\")\n",
        "print(sum(five_ngram_occurrences))\n",
        "print(\"total amount of length 5 char n-gram\")\n",
        "print(len(five_ngram_occurrences))"
      ]
    },
    {
      "cell_type": "markdown",
      "metadata": {
        "id": "f0JCcruLa-pf"
      },
      "source": [
        "**Data Normalization using MinMax Scaler**"
      ]
    },
    {
      "cell_type": "code",
      "execution_count": 7,
      "metadata": {
        "colab": {
          "base_uri": "https://localhost:8080/"
        },
        "id": "SSuP6NGnbBFH",
        "outputId": "4fdeac84-3867-42d4-aac2-0cfd59b28141"
      },
      "outputs": [
        {
          "name": "stdout",
          "output_type": "stream",
          "text": [
            "[[0.04055664 0.04499426 0.04561904 ... 0.01246106 0.01247077 0.00453858]\n",
            " [0.04528183 0.04553762 0.05003038 ... 0.02959501 0.02961808 0.05143721]\n",
            " [0.02596131 0.02751357 0.02739256 ... 0.0046729  0.00467654 0.01361573]\n",
            " ...\n",
            " [0.03505723 0.04051569 0.03605674 ... 0.00311526 0.00311769 0.01512859]\n",
            " [0.03016631 0.02756297 0.02950577 ... 0.02258567 0.02260327 0.00907716]\n",
            " [0.01331787 0.01468159 0.01183401 ... 0.00155763 0.00155885 0.00605144]]\n"
          ]
        }
      ],
      "source": [
        "from sklearn.preprocessing import MinMaxScaler\n",
        "\n",
        "X_train, X_test, X_val = X_train.toarray(), X_test.toarray(), X_val.toarray()\n",
        "\n",
        "scaler = MinMaxScaler()\n",
        "scaler.fit(X_train)\n",
        "X_train_scaled = scaler.transform(X_train)\n",
        "X_test_scaled = scaler.transform(X_test)\n",
        "X_val_scaled = scaler.transform(X_val)\n",
        "\n",
        "print(X_train_scaled)"
      ]
    },
    {
      "cell_type": "markdown",
      "metadata": {
        "id": "b0tZkm7ebFoz"
      },
      "source": [
        "## 3. SVM without SDAE"
      ]
    },
    {
      "cell_type": "code",
      "execution_count": 8,
      "metadata": {
        "id": "yr41oa8euA4w"
      },
      "outputs": [],
      "source": [
        "model_names = ['Raw SVM', '1-layer SDAE SVM', '2-layers SDAE SVM', '3-layers SDAE SVM']\n",
        "predicted_arr = []"
      ]
    },
    {
      "cell_type": "code",
      "execution_count": 9,
      "metadata": {
        "colab": {
          "base_uri": "https://localhost:8080/"
        },
        "id": "M-ao1sPybDNk",
        "outputId": "ec40e186-9aec-4956-90a0-1eaf52207992"
      },
      "outputs": [
        {
          "name": "stdout",
          "output_type": "stream",
          "text": [
            "SVM Accuracy Score on test ->  82.51121076233184\n",
            "SVM Accuracy Score on training ->  93.29608938547486\n",
            "SVM Accuracy Score on validation ->  85.13513513513513\n"
          ]
        }
      ],
      "source": [
        "svm = SVC(kernel='linear', C=1)\n",
        "svm.fit(X_train_scaled, Y_train)\n",
        "preds = svm.predict(X_test_scaled)\n",
        "\n",
        "print(\"SVM Accuracy Score on test -> \", metrics.accuracy_score(preds, Y_test)*100)\n",
        "print(\"SVM Accuracy Score on training -> \", metrics.accuracy_score(svm.predict(X_train_scaled), Y_train)*100)\n",
        "print(\"SVM Accuracy Score on validation -> \", metrics.accuracy_score(svm.predict(X_val_scaled), Y_val)*100)\n",
        "\n",
        "predicted_arr.append(preds)"
      ]
    },
    {
      "cell_type": "markdown",
      "metadata": {
        "id": "etDUqknUbUV4"
      },
      "source": [
        "## 4. SVM with SDAE"
      ]
    },
    {
      "cell_type": "markdown",
      "metadata": {
        "id": "m-JrxPuFbYpO"
      },
      "source": [
        "### 4.1 Class for tying weights in a denoising auto encoder"
      ]
    },
    {
      "cell_type": "code",
      "execution_count": 10,
      "metadata": {
        "id": "cd5qb5cpbdhj"
      },
      "outputs": [],
      "source": [
        "# Code referenced from https://medium.com/@lmayrandprovencher/building-an-autoencoder-with-tied-weights-in-keras-c4a559c529a2\n",
        "\n",
        "class DenseTranspose(keras.layers.Layer):\n",
        "    def __init__(self, dense, activation=None, **kwargs):\n",
        "        self.dense = dense\n",
        "        self.activation = keras.activations.get(activation)\n",
        "        super().__init__(**kwargs)\n",
        "\n",
        "    def build(self, batch_input_shape):\n",
        "        self.biases = self.add_weight(name=\"bias\",\n",
        "                                      shape=[self.dense.input_shape[-1]],\n",
        "                                      initializer=\"zeros\")\n",
        "        super().build(batch_input_shape)\n",
        "  \n",
        "    def call(self, inputs):\n",
        "        z = tf.matmul(inputs, self.dense.weights[0], transpose_b=True)\n",
        "        return self.activation(z + self.biases)"
      ]
    },
    {
      "cell_type": "markdown",
      "metadata": {
        "id": "qwOQSUXsbils"
      },
      "source": [
        "### 4.2 Class for construction of a denoising autoencoder"
      ]
    },
    {
      "cell_type": "code",
      "execution_count": 11,
      "metadata": {
        "id": "0AZWA6N9bmWk"
      },
      "outputs": [],
      "source": [
        "np.random.seed(55)\n",
        "class DenoisingAutoEncoder:\n",
        "    def __init__(self, layers, corruption, activate_encoder, activate_decoder):\n",
        "        self.layers = layers\n",
        "        self.corruption = corruption\n",
        "        self.activate_encoder = activate_encoder\n",
        "        self.activate_decoder = activate_decoder\n",
        "        self.history = None\n",
        "  \n",
        "    def forward(self, X_train, X_val, epochs, batch_size):\n",
        "        # Step 1, Add binomial noise\n",
        "        X_train_noisy = self.inject_noise(X_train)\n",
        "\n",
        "        # Step 2, Encode X_train_noisy using sigmoid\n",
        "        encoder_input = Input(shape = (X_train_noisy.shape[1], ))\n",
        "        encoder = Dense(self.layers[0], activation=self.activate_encoder)\n",
        "        final_encoder = encoder(encoder_input)\n",
        "\n",
        "        # Step 3, Decode X_train_noisy using sigmoid\n",
        "        # Tie the weights between the encoder and decoder layers\n",
        "        decoder = DenseTranspose(encoder, activation=self.activate_decoder)\n",
        "        final_decoder = decoder(final_encoder)\n",
        "\n",
        "        # Step 4, cross entropy loss for normalised data and adam optimizer (Not sure what optimizer the paper uses)\n",
        "        autoencoder = Model(encoder_input, final_decoder)\n",
        "        autoencoder.compile(loss = 'binary_crossentropy', optimizer = 'adam')\n",
        "\n",
        "        # Train it\n",
        "        self.history = autoencoder.fit(X_train_noisy, X_train, batch_size = batch_size, epochs = epochs, validation_data=(X_val, X_val))\n",
        "        autoencoder.summary()\n",
        "\n",
        "        # Get the model that maps input to its encoded representation\n",
        "        encoder_model = Model(encoder_input, final_encoder)\n",
        "\n",
        "        # Return the (encoding model, encoding function)\n",
        "        return (encoder_model, encoder)\n",
        "\n",
        "    def inject_noise(self, x):\n",
        "        # inject binomial noise since this model assumes you are normalising input \n",
        "        # with min max normalisation\n",
        "        mask = np.random.choice([0, 1], size=x.shape, p=[self.corruption, 1-self.corruption])\n",
        "        X_noisy = x * mask\n",
        "        return X_noisy"
      ]
    },
    {
      "cell_type": "markdown",
      "metadata": {
        "id": "Q0YQwys_b2oH"
      },
      "source": [
        "### 4.3 Class for construction of a stacked denoising autoencoder"
      ]
    },
    {
      "cell_type": "code",
      "execution_count": 12,
      "metadata": {
        "id": "43IDvyzkjTwi"
      },
      "outputs": [],
      "source": [
        "# For picking the best model while fine-tuning\n",
        "from tensorflow.keras.callbacks import ModelCheckpoint"
      ]
    },
    {
      "cell_type": "code",
      "execution_count": 13,
      "metadata": {
        "id": "DxyEtio8b7g7"
      },
      "outputs": [],
      "source": [
        "class StackedDenoisingAutoEncoder():\n",
        "    def __init__(self, layers, corruption, activate_encoder, activate_decoder):\n",
        "        self.layers = layers\n",
        "        self.corruption = corruption\n",
        "        self.activate_encoder = activate_encoder\n",
        "        self.activate_decoder = activate_decoder\n",
        "        self.encoding_funcs = []\n",
        "        self.encoder_layers = []\n",
        "        self.history = None\n",
        "  \n",
        "    def pretrain(self, X_train, X_val, epochs, batch_size):\n",
        "        # self.layers contains the units each denoising autoencoder should take in\n",
        "        learnt_input = X_train\n",
        "        encoded_validation = X_val\n",
        "        for layer in self.layers:\n",
        "            autoencoder = DenoisingAutoEncoder([layer], self.corruption, self.activate_encoder, self.activate_decoder)\n",
        "            (encoding_function, encoder) = autoencoder.forward(learnt_input, encoded_validation, epochs, batch_size)\n",
        "            learnt_input = encoding_function.predict(learnt_input)\n",
        "            encoded_validation = encoding_function.predict(encoded_validation)\n",
        "\n",
        "            self.encoding_funcs.append(encoding_function)\n",
        "            self.encoder_layers.append(encoder)\n",
        "\n",
        "        self.history = autoencoder.history\n",
        "\n",
        "    def finetune(self, X_train, Y_train, X_val, Y_val, epochs, batch_size):\n",
        "        encoder_input = Input(shape = (X_train.shape[1], ))\n",
        "\n",
        "        final_encoder = encoder_input\n",
        "        for encoder in self.encoder_layers:\n",
        "            final_encoder = encoder(final_encoder)\n",
        "\n",
        "        # Define the logistic regression layer\n",
        "        lr_layer = Dense(Y_train.shape[1], activation='softmax')\n",
        "        predictions = lr_layer(final_encoder)\n",
        "\n",
        "        # Create the fine-tuned model\n",
        "        fine_tuned_model = Model(inputs=encoder_input, outputs=predictions)\n",
        "        fine_tuned_model.compile(loss='categorical_crossentropy', optimizer='adam')\n",
        "\n",
        "        # Select best model\n",
        "        checkpointer = ModelCheckpoint(filepath=\"weights.hdf5\", verbose=1, save_best_only=True)\n",
        "        self.history = fine_tuned_model.fit(X_train, Y_train, epochs=epochs, batch_size=batch_size, validation_data=(X_val, Y_val), callbacks=[checkpointer])\n",
        "        fine_tuned_model.load_weights('weights.hdf5')\n",
        "\n",
        "        fine_tuned_encoder = Model(inputs=encoder_input, outputs=final_encoder)\n",
        "        return (fine_tuned_model, fine_tuned_encoder)\n",
        "\n",
        "    def encode(self, X):\n",
        "        encoded_representation = X\n",
        "        for func in self.encoder_layers:\n",
        "            encoded_representation = func.predict(encoded_representation)\n",
        "        return encoded_representation"
      ]
    },
    {
      "cell_type": "markdown",
      "metadata": {
        "id": "rEd-jwpqgoHZ"
      },
      "source": [
        "## 5. Pretraining and Finetuning"
      ]
    },
    {
      "cell_type": "markdown",
      "metadata": {
        "id": "H1w5tdUiddbT"
      },
      "source": [
        "**Pretrain the denoising autoencoder**"
      ]
    },
    {
      "cell_type": "code",
      "execution_count": 14,
      "metadata": {
        "colab": {
          "base_uri": "https://localhost:8080/"
        },
        "id": "UgJDtaVYdb71",
        "outputId": "b536cf5c-b328-492b-f113-2c075d39b9b1",
        "scrolled": true
      },
      "outputs": [
        {
          "name": "stdout",
          "output_type": "stream",
          "text": [
            "Epoch 1/20\n",
            "895/895 [==============================] - 9s 5ms/step - loss: 0.2414 - val_loss: 0.2129\n",
            "Epoch 2/20\n",
            "895/895 [==============================] - 5s 5ms/step - loss: 0.1714 - val_loss: 0.1710\n",
            "Epoch 3/20\n",
            "895/895 [==============================] - 4s 5ms/step - loss: 0.1572 - val_loss: 0.1590\n",
            "Epoch 4/20\n",
            "895/895 [==============================] - 4s 5ms/step - loss: 0.1539 - val_loss: 0.1533\n",
            "Epoch 5/20\n",
            "895/895 [==============================] - 5s 5ms/step - loss: 0.1527 - val_loss: 0.1519\n",
            "Epoch 6/20\n",
            "895/895 [==============================] - 4s 5ms/step - loss: 0.1524 - val_loss: 0.1503\n",
            "Epoch 7/20\n",
            "895/895 [==============================] - 4s 5ms/step - loss: 0.1520 - val_loss: 0.1507\n",
            "Epoch 8/20\n",
            "895/895 [==============================] - 5s 5ms/step - loss: 0.1518 - val_loss: 0.1505\n",
            "Epoch 9/20\n",
            "895/895 [==============================] - 4s 5ms/step - loss: 0.1516 - val_loss: 0.1497\n",
            "Epoch 10/20\n",
            "895/895 [==============================] - 4s 5ms/step - loss: 0.1513 - val_loss: 0.1503\n",
            "Epoch 11/20\n",
            "895/895 [==============================] - 5s 5ms/step - loss: 0.1511 - val_loss: 0.1500\n",
            "Epoch 12/20\n",
            "895/895 [==============================] - 4s 5ms/step - loss: 0.1511 - val_loss: 0.1510\n",
            "Epoch 13/20\n",
            "895/895 [==============================] - 4s 5ms/step - loss: 0.1509 - val_loss: 0.1493\n",
            "Epoch 14/20\n",
            "895/895 [==============================] - 4s 5ms/step - loss: 0.1508 - val_loss: 0.1493\n",
            "Epoch 15/20\n",
            "895/895 [==============================] - 4s 5ms/step - loss: 0.1507 - val_loss: 0.1493\n",
            "Epoch 16/20\n",
            "895/895 [==============================] - 4s 5ms/step - loss: 0.1506 - val_loss: 0.1493\n",
            "Epoch 17/20\n",
            "895/895 [==============================] - 4s 5ms/step - loss: 0.1505 - val_loss: 0.1492\n",
            "Epoch 18/20\n",
            "895/895 [==============================] - 5s 5ms/step - loss: 0.1505 - val_loss: 0.1491\n",
            "Epoch 19/20\n",
            "895/895 [==============================] - 4s 5ms/step - loss: 0.1504 - val_loss: 0.1495\n",
            "Epoch 20/20\n",
            "895/895 [==============================] - 5s 5ms/step - loss: 0.1503 - val_loss: 0.1501\n",
            "Model: \"model\"\n",
            "_________________________________________________________________\n",
            " Layer (type)                Output Shape              Param #   \n",
            "=================================================================\n",
            " input_1 (InputLayer)        [(None, 10000)]           0         \n",
            "                                                                 \n",
            " dense (Dense)               (None, 1000)              10001000  \n",
            "                                                                 \n",
            " dense_transpose (DenseTrans  (None, 10000)            10011000  \n",
            " pose)                                                           \n",
            "                                                                 \n",
            "=================================================================\n",
            "Total params: 10,011,000\n",
            "Trainable params: 10,011,000\n",
            "Non-trainable params: 0\n",
            "_________________________________________________________________\n",
            "28/28 [==============================] - 0s 2ms/step\n",
            "5/5 [==============================] - 0s 3ms/step\n"
          ]
        }
      ],
      "source": [
        "# The \"stacked\" auto encoder will only contain 1 denoising auto encoder that will \n",
        "# transform the original input into 1000 units. Noise corruption is 0.3 and it uses \n",
        "# sigmoid activation for both encoder and decoder\n",
        "stacked_auto_encoder_1 = StackedDenoisingAutoEncoder([1000], 0.3, 'sigmoid', 'sigmoid')\n",
        "stacked_auto_encoder_1.pretrain(X_train_scaled, X_val_scaled, 20, 1)"
      ]
    },
    {
      "cell_type": "code",
      "execution_count": 15,
      "metadata": {
        "colab": {
          "base_uri": "https://localhost:8080/"
        },
        "id": "M_tcc3d9uA4z",
        "outputId": "e2378c70-0897-4722-c8cb-c81de28957bb"
      },
      "outputs": [
        {
          "name": "stdout",
          "output_type": "stream",
          "text": [
            "Epoch 1/20\n",
            "895/895 [==============================] - 6s 6ms/step - loss: 0.2442 - val_loss: 0.2216\n",
            "Epoch 2/20\n",
            "895/895 [==============================] - 4s 5ms/step - loss: 0.1724 - val_loss: 0.1761\n",
            "Epoch 3/20\n",
            "895/895 [==============================] - 4s 5ms/step - loss: 0.1575 - val_loss: 0.1581\n",
            "Epoch 4/20\n",
            "895/895 [==============================] - 5s 5ms/step - loss: 0.1540 - val_loss: 0.1540\n",
            "Epoch 5/20\n",
            "895/895 [==============================] - 4s 5ms/step - loss: 0.1528 - val_loss: 0.1523\n",
            "Epoch 6/20\n",
            "895/895 [==============================] - 4s 5ms/step - loss: 0.1523 - val_loss: 0.1515\n",
            "Epoch 7/20\n",
            "895/895 [==============================] - 4s 5ms/step - loss: 0.1520 - val_loss: 0.1508\n",
            "Epoch 8/20\n",
            "895/895 [==============================] - 4s 5ms/step - loss: 0.1518 - val_loss: 0.1504\n",
            "Epoch 9/20\n",
            "895/895 [==============================] - 4s 5ms/step - loss: 0.1515 - val_loss: 0.1505\n",
            "Epoch 10/20\n",
            "895/895 [==============================] - 4s 5ms/step - loss: 0.1513 - val_loss: 0.1502\n",
            "Epoch 11/20\n",
            "895/895 [==============================] - 5s 5ms/step - loss: 0.1511 - val_loss: 0.1501\n",
            "Epoch 12/20\n",
            "895/895 [==============================] - 4s 5ms/step - loss: 0.1510 - val_loss: 0.1518\n",
            "Epoch 13/20\n",
            "895/895 [==============================] - 4s 5ms/step - loss: 0.1509 - val_loss: 0.1496\n",
            "Epoch 14/20\n",
            "895/895 [==============================] - 5s 5ms/step - loss: 0.1507 - val_loss: 0.1497\n",
            "Epoch 15/20\n",
            "895/895 [==============================] - 4s 5ms/step - loss: 0.1506 - val_loss: 0.1496\n",
            "Epoch 16/20\n",
            "895/895 [==============================] - 4s 5ms/step - loss: 0.1506 - val_loss: 0.1494\n",
            "Epoch 17/20\n",
            "895/895 [==============================] - 5s 5ms/step - loss: 0.1505 - val_loss: 0.1496\n",
            "Epoch 18/20\n",
            "895/895 [==============================] - 4s 5ms/step - loss: 0.1504 - val_loss: 0.1492\n",
            "Epoch 19/20\n",
            "895/895 [==============================] - 4s 5ms/step - loss: 0.1503 - val_loss: 0.1492\n",
            "Epoch 20/20\n",
            "895/895 [==============================] - 5s 5ms/step - loss: 0.1503 - val_loss: 0.1497\n",
            "Model: \"model_2\"\n",
            "_________________________________________________________________\n",
            " Layer (type)                Output Shape              Param #   \n",
            "=================================================================\n",
            " input_2 (InputLayer)        [(None, 10000)]           0         \n",
            "                                                                 \n",
            " dense_1 (Dense)             (None, 1000)              10001000  \n",
            "                                                                 \n",
            " dense_transpose_1 (DenseTra  (None, 10000)            10011000  \n",
            " nspose)                                                         \n",
            "                                                                 \n",
            "=================================================================\n",
            "Total params: 10,011,000\n",
            "Trainable params: 10,011,000\n",
            "Non-trainable params: 0\n",
            "_________________________________________________________________\n",
            "28/28 [==============================] - 0s 2ms/step\n",
            "5/5 [==============================] - 0s 3ms/step\n",
            "Epoch 1/20\n",
            "895/895 [==============================] - 3s 3ms/step - loss: 0.5466 - val_loss: 0.5632\n",
            "Epoch 2/20\n",
            "895/895 [==============================] - 2s 2ms/step - loss: 0.5307 - val_loss: 0.5466\n",
            "Epoch 3/20\n",
            "895/895 [==============================] - 3s 4ms/step - loss: 0.5241 - val_loss: 0.5508\n",
            "Epoch 4/20\n",
            "895/895 [==============================] - 2s 3ms/step - loss: 0.5208 - val_loss: 0.5464\n",
            "Epoch 5/20\n",
            "895/895 [==============================] - 2s 3ms/step - loss: 0.5182 - val_loss: 0.5416\n",
            "Epoch 6/20\n",
            "895/895 [==============================] - 2s 3ms/step - loss: 0.5167 - val_loss: 0.5463\n",
            "Epoch 7/20\n",
            "895/895 [==============================] - 2s 2ms/step - loss: 0.5152 - val_loss: 0.5449\n",
            "Epoch 8/20\n",
            "895/895 [==============================] - 3s 3ms/step - loss: 0.5143 - val_loss: 0.5521\n",
            "Epoch 9/20\n",
            "895/895 [==============================] - 3s 3ms/step - loss: 0.5136 - val_loss: 0.5428\n",
            "Epoch 10/20\n",
            "895/895 [==============================] - 2s 3ms/step - loss: 0.5126 - val_loss: 0.5459\n",
            "Epoch 11/20\n",
            "895/895 [==============================] - 2s 3ms/step - loss: 0.5121 - val_loss: 0.5446\n",
            "Epoch 12/20\n",
            "895/895 [==============================] - 2s 2ms/step - loss: 0.5115 - val_loss: 0.5444\n",
            "Epoch 13/20\n",
            "895/895 [==============================] - 2s 3ms/step - loss: 0.5110 - val_loss: 0.5374\n",
            "Epoch 14/20\n",
            "895/895 [==============================] - 3s 3ms/step - loss: 0.5105 - val_loss: 0.5451\n",
            "Epoch 15/20\n",
            "895/895 [==============================] - 2s 3ms/step - loss: 0.5100 - val_loss: 0.5458\n",
            "Epoch 16/20\n",
            "895/895 [==============================] - 2s 2ms/step - loss: 0.5096 - val_loss: 0.5432\n",
            "Epoch 17/20\n",
            "895/895 [==============================] - 2s 3ms/step - loss: 0.5092 - val_loss: 0.5470\n",
            "Epoch 18/20\n",
            "895/895 [==============================] - 2s 3ms/step - loss: 0.5090 - val_loss: 0.5470\n",
            "Epoch 19/20\n",
            "895/895 [==============================] - 3s 3ms/step - loss: 0.5087 - val_loss: 0.5545\n",
            "Epoch 20/20\n",
            "895/895 [==============================] - 3s 3ms/step - loss: 0.5083 - val_loss: 0.5392\n",
            "Model: \"model_4\"\n",
            "_________________________________________________________________\n",
            " Layer (type)                Output Shape              Param #   \n",
            "=================================================================\n",
            " input_3 (InputLayer)        [(None, 1000)]            0         \n",
            "                                                                 \n",
            " dense_2 (Dense)             (None, 1000)              1001000   \n",
            "                                                                 \n",
            " dense_transpose_2 (DenseTra  (None, 1000)             1002000   \n",
            " nspose)                                                         \n",
            "                                                                 \n",
            "=================================================================\n",
            "Total params: 1,002,000\n",
            "Trainable params: 1,002,000\n",
            "Non-trainable params: 0\n",
            "_________________________________________________________________\n",
            "28/28 [==============================] - 0s 1ms/step\n",
            "5/5 [==============================] - 0s 2ms/step\n"
          ]
        }
      ],
      "source": [
        "# The \"stacked\" auto encoder will have 2 DAE's stacked, each with 1000 units.\n",
        "stacked_auto_encoder_2 = StackedDenoisingAutoEncoder([1000, 1000], 0.3, 'sigmoid', 'sigmoid')\n",
        "stacked_auto_encoder_2.pretrain(X_train_scaled, X_val_scaled, 20, 1)"
      ]
    },
    {
      "cell_type": "code",
      "execution_count": 16,
      "metadata": {
        "colab": {
          "base_uri": "https://localhost:8080/"
        },
        "id": "ppz27fZduA4z",
        "outputId": "064be05a-1218-4a93-afbf-8bc636a25518"
      },
      "outputs": [
        {
          "name": "stdout",
          "output_type": "stream",
          "text": [
            "Epoch 1/20\n",
            "895/895 [==============================] - 6s 5ms/step - loss: 0.2422 - val_loss: 0.2158\n",
            "Epoch 2/20\n",
            "895/895 [==============================] - 4s 5ms/step - loss: 0.1717 - val_loss: 0.1704\n",
            "Epoch 3/20\n",
            "895/895 [==============================] - 4s 5ms/step - loss: 0.1572 - val_loss: 0.1573\n",
            "Epoch 4/20\n",
            "895/895 [==============================] - 5s 5ms/step - loss: 0.1539 - val_loss: 0.1540\n",
            "Epoch 5/20\n",
            "895/895 [==============================] - 4s 5ms/step - loss: 0.1527 - val_loss: 0.1520\n",
            "Epoch 6/20\n",
            "895/895 [==============================] - 4s 5ms/step - loss: 0.1523 - val_loss: 0.1514\n",
            "Epoch 7/20\n",
            "895/895 [==============================] - 4s 5ms/step - loss: 0.1520 - val_loss: 0.1511\n",
            "Epoch 8/20\n",
            "895/895 [==============================] - 4s 5ms/step - loss: 0.1518 - val_loss: 0.1506\n",
            "Epoch 9/20\n",
            "895/895 [==============================] - 4s 5ms/step - loss: 0.1515 - val_loss: 0.1503\n",
            "Epoch 10/20\n",
            "895/895 [==============================] - 4s 5ms/step - loss: 0.1513 - val_loss: 0.1505\n",
            "Epoch 11/20\n",
            "895/895 [==============================] - 4s 5ms/step - loss: 0.1512 - val_loss: 0.1497\n",
            "Epoch 12/20\n",
            "895/895 [==============================] - 4s 5ms/step - loss: 0.1510 - val_loss: 0.1495\n",
            "Epoch 13/20\n",
            "895/895 [==============================] - 4s 5ms/step - loss: 0.1509 - val_loss: 0.1499\n",
            "Epoch 14/20\n",
            "895/895 [==============================] - 5s 5ms/step - loss: 0.1508 - val_loss: 0.1496\n",
            "Epoch 15/20\n",
            "895/895 [==============================] - 4s 5ms/step - loss: 0.1507 - val_loss: 0.1499\n",
            "Epoch 16/20\n",
            "895/895 [==============================] - 4s 5ms/step - loss: 0.1506 - val_loss: 0.1495\n",
            "Epoch 17/20\n",
            "895/895 [==============================] - 4s 5ms/step - loss: 0.1505 - val_loss: 0.1494\n",
            "Epoch 18/20\n",
            "895/895 [==============================] - 4s 5ms/step - loss: 0.1504 - val_loss: 0.1493\n",
            "Epoch 19/20\n",
            "895/895 [==============================] - 4s 5ms/step - loss: 0.1504 - val_loss: 0.1491\n",
            "Epoch 20/20\n",
            "895/895 [==============================] - 5s 5ms/step - loss: 0.1503 - val_loss: 0.1488\n",
            "Model: \"model_6\"\n",
            "_________________________________________________________________\n",
            " Layer (type)                Output Shape              Param #   \n",
            "=================================================================\n",
            " input_4 (InputLayer)        [(None, 10000)]           0         \n",
            "                                                                 \n",
            " dense_3 (Dense)             (None, 1000)              10001000  \n",
            "                                                                 \n",
            " dense_transpose_3 (DenseTra  (None, 10000)            10011000  \n",
            " nspose)                                                         \n",
            "                                                                 \n",
            "=================================================================\n",
            "Total params: 10,011,000\n",
            "Trainable params: 10,011,000\n",
            "Non-trainable params: 0\n",
            "_________________________________________________________________\n",
            "28/28 [==============================] - 0s 2ms/step\n",
            "5/5 [==============================] - 0s 3ms/step\n",
            "Epoch 1/20\n",
            "895/895 [==============================] - 3s 3ms/step - loss: 0.5479 - val_loss: 0.5697\n",
            "Epoch 2/20\n",
            "895/895 [==============================] - 2s 3ms/step - loss: 0.5315 - val_loss: 0.5552\n",
            "Epoch 3/20\n",
            "895/895 [==============================] - 2s 3ms/step - loss: 0.5250 - val_loss: 0.5494\n",
            "Epoch 4/20\n",
            "895/895 [==============================] - 3s 3ms/step - loss: 0.5213 - val_loss: 0.5429\n",
            "Epoch 5/20\n",
            "895/895 [==============================] - 3s 3ms/step - loss: 0.5192 - val_loss: 0.5455\n",
            "Epoch 6/20\n",
            "895/895 [==============================] - 2s 2ms/step - loss: 0.5175 - val_loss: 0.5493\n",
            "Epoch 7/20\n",
            "895/895 [==============================] - 2s 3ms/step - loss: 0.5162 - val_loss: 0.5467\n",
            "Epoch 8/20\n",
            "895/895 [==============================] - 2s 3ms/step - loss: 0.5152 - val_loss: 0.5456\n",
            "Epoch 9/20\n",
            "895/895 [==============================] - 2s 3ms/step - loss: 0.5143 - val_loss: 0.5432\n",
            "Epoch 10/20\n",
            "895/895 [==============================] - 3s 3ms/step - loss: 0.5136 - val_loss: 0.5462\n",
            "Epoch 11/20\n",
            "895/895 [==============================] - 2s 3ms/step - loss: 0.5129 - val_loss: 0.5508\n",
            "Epoch 12/20\n",
            "895/895 [==============================] - 2s 2ms/step - loss: 0.5123 - val_loss: 0.5505\n",
            "Epoch 13/20\n",
            "895/895 [==============================] - 2s 2ms/step - loss: 0.5118 - val_loss: 0.5469\n",
            "Epoch 14/20\n",
            "895/895 [==============================] - 2s 3ms/step - loss: 0.5113 - val_loss: 0.5514\n",
            "Epoch 15/20\n",
            "895/895 [==============================] - 3s 3ms/step - loss: 0.5108 - val_loss: 0.5432\n",
            "Epoch 16/20\n",
            "895/895 [==============================] - 3s 3ms/step - loss: 0.5105 - val_loss: 0.5510\n",
            "Epoch 17/20\n",
            "895/895 [==============================] - 2s 3ms/step - loss: 0.5101 - val_loss: 0.5482\n",
            "Epoch 18/20\n",
            "895/895 [==============================] - 2s 3ms/step - loss: 0.5098 - val_loss: 0.5587\n",
            "Epoch 19/20\n",
            "895/895 [==============================] - 2s 3ms/step - loss: 0.5094 - val_loss: 0.5460\n",
            "Epoch 20/20\n",
            "895/895 [==============================] - 2s 3ms/step - loss: 0.5091 - val_loss: 0.5491\n",
            "Model: \"model_8\"\n",
            "_________________________________________________________________\n",
            " Layer (type)                Output Shape              Param #   \n",
            "=================================================================\n",
            " input_5 (InputLayer)        [(None, 1000)]            0         \n",
            "                                                                 \n",
            " dense_4 (Dense)             (None, 1000)              1001000   \n",
            "                                                                 \n",
            " dense_transpose_4 (DenseTra  (None, 1000)             1002000   \n",
            " nspose)                                                         \n",
            "                                                                 \n",
            "=================================================================\n",
            "Total params: 1,002,000\n",
            "Trainable params: 1,002,000\n",
            "Non-trainable params: 0\n",
            "_________________________________________________________________\n",
            "28/28 [==============================] - 0s 1ms/step\n",
            "5/5 [==============================] - 0s 2ms/step\n",
            "Epoch 1/20\n",
            "895/895 [==============================] - 3s 3ms/step - loss: 0.2078 - val_loss: 0.1874\n",
            "Epoch 2/20\n",
            "895/895 [==============================] - 3s 3ms/step - loss: 0.1920 - val_loss: 0.1840\n",
            "Epoch 3/20\n",
            "895/895 [==============================] - 3s 3ms/step - loss: 0.1860 - val_loss: 0.1812\n",
            "Epoch 4/20\n",
            "895/895 [==============================] - 2s 3ms/step - loss: 0.1825 - val_loss: 0.1774\n",
            "Epoch 5/20\n",
            "895/895 [==============================] - 2s 2ms/step - loss: 0.1802 - val_loss: 0.1769\n",
            "Epoch 6/20\n",
            "895/895 [==============================] - 2s 3ms/step - loss: 0.1783 - val_loss: 0.1781\n",
            "Epoch 7/20\n",
            "895/895 [==============================] - 3s 3ms/step - loss: 0.1770 - val_loss: 0.1801\n",
            "Epoch 8/20\n",
            "895/895 [==============================] - 3s 3ms/step - loss: 0.1759 - val_loss: 0.1779\n",
            "Epoch 9/20\n",
            "895/895 [==============================] - 2s 2ms/step - loss: 0.1750 - val_loss: 0.1766\n",
            "Epoch 10/20\n",
            "895/895 [==============================] - 2s 2ms/step - loss: 0.1744 - val_loss: 0.1769\n",
            "Epoch 11/20\n",
            "895/895 [==============================] - 2s 3ms/step - loss: 0.1738 - val_loss: 0.1762\n",
            "Epoch 12/20\n",
            "895/895 [==============================] - 2s 3ms/step - loss: 0.1734 - val_loss: 0.1772\n",
            "Epoch 13/20\n",
            "895/895 [==============================] - 3s 3ms/step - loss: 0.1730 - val_loss: 0.1785\n",
            "Epoch 14/20\n",
            "895/895 [==============================] - 3s 3ms/step - loss: 0.1727 - val_loss: 0.1764\n",
            "Epoch 15/20\n",
            "895/895 [==============================] - 2s 2ms/step - loss: 0.1725 - val_loss: 0.1798\n",
            "Epoch 16/20\n",
            "895/895 [==============================] - 2s 2ms/step - loss: 0.1723 - val_loss: 0.1764\n",
            "Epoch 17/20\n",
            "895/895 [==============================] - 2s 3ms/step - loss: 0.1721 - val_loss: 0.1764\n",
            "Epoch 18/20\n",
            "895/895 [==============================] - 2s 3ms/step - loss: 0.1719 - val_loss: 0.1761\n",
            "Epoch 19/20\n",
            "895/895 [==============================] - 3s 4ms/step - loss: 0.1717 - val_loss: 0.1768\n",
            "Epoch 20/20\n",
            "895/895 [==============================] - 2s 3ms/step - loss: 0.1716 - val_loss: 0.1763\n",
            "Model: \"model_10\"\n",
            "_________________________________________________________________\n",
            " Layer (type)                Output Shape              Param #   \n",
            "=================================================================\n",
            " input_6 (InputLayer)        [(None, 1000)]            0         \n",
            "                                                                 \n",
            " dense_5 (Dense)             (None, 1000)              1001000   \n",
            "                                                                 \n",
            " dense_transpose_5 (DenseTra  (None, 1000)             1002000   \n",
            " nspose)                                                         \n",
            "                                                                 \n",
            "=================================================================\n",
            "Total params: 1,002,000\n",
            "Trainable params: 1,002,000\n",
            "Non-trainable params: 0\n",
            "_________________________________________________________________\n",
            "28/28 [==============================] - 0s 1ms/step\n",
            "5/5 [==============================] - 0s 3ms/step\n"
          ]
        }
      ],
      "source": [
        "# The \"stacked\" auto encoder will have 3 DAE's stacked, each with 1000 units.\n",
        "stacked_auto_encoder_3 = StackedDenoisingAutoEncoder([1000, 1000, 1000], 0.3, 'sigmoid', 'sigmoid')\n",
        "stacked_auto_encoder_3.pretrain(X_train_scaled, X_val_scaled, 20, 1)"
      ]
    },
    {
      "cell_type": "markdown",
      "metadata": {
        "id": "MkvBDq4HuA4z"
      },
      "source": [
        "### SDAE Pretraining Plot"
      ]
    },
    {
      "cell_type": "code",
      "execution_count": 17,
      "metadata": {
        "id": "TTpWFszPXzTh"
      },
      "outputs": [],
      "source": [
        "def plot_loss(history):\n",
        "    # summarize history for loss\n",
        "    # https://machinelearningmastery.com/display-deep-learning-model-training-history-in-keras/\n",
        "    plt.plot(history['loss'])\n",
        "    plt.plot(history['val_loss'])\n",
        "    plt.title('model loss')\n",
        "    plt.ylabel('loss')\n",
        "    plt.xlabel('epoch')\n",
        "    plt.legend(['train', 'val'], loc='upper left')\n",
        "    plt.show()"
      ]
    },
    {
      "cell_type": "code",
      "execution_count": 18,
      "metadata": {
        "colab": {
          "base_uri": "https://localhost:8080/",
          "height": 472
        },
        "id": "tQH06IyBXzTh",
        "outputId": "cb1d1378-6822-4857-86c3-1a8d9c4b9c76"
      },
      "outputs": [
        {
          "data": {
            "image/png": "[encoded data removed]",
            "text/plain": [
              "<Figure size 640x480 with 1 Axes>"
            ]
          },
          "metadata": {},
          "output_type": "display_data"
        }
      ],
      "source": [
        "plot_loss(stacked_auto_encoder_1.history.history)"
      ]
    },
    {
      "cell_type": "code",
      "execution_count": 19,
      "metadata": {
        "colab": {
          "base_uri": "https://localhost:8080/",
          "height": 472
        },
        "id": "ire9KSW1uA40",
        "outputId": "33b249cf-46e0-47b1-ffd9-a8349d92f24f"
      },
      "outputs": [
        {
          "data": {
            "image/png": "[encoded data removed]",
            "text/plain": [
              "<Figure size 640x480 with 1 Axes>"
            ]
          },
          "metadata": {},
          "output_type": "display_data"
        }
      ],
      "source": [
        "plot_loss(stacked_auto_encoder_2.history.history)"
      ]
    },
    {
      "cell_type": "code",
      "execution_count": 20,
      "metadata": {
        "colab": {
          "base_uri": "https://localhost:8080/",
          "height": 472
        },
        "id": "OJDbEnZ1uA40",
        "outputId": "9400365f-0b17-424d-93eb-0ce55a8e5d59"
      },
      "outputs": [
        {
          "data": {
            "image/png": "[encoded data removed]",
            "text/plain": [
              "<Figure size 640x480 with 1 Axes>"
            ]
          },
          "metadata": {},
          "output_type": "display_data"
        }
      ],
      "source": [
        "plot_loss(stacked_auto_encoder_3.history.history)"
      ]
    },
    {
      "cell_type": "markdown",
      "metadata": {
        "id": "9u0Oipi3d4Vl"
      },
      "source": [
        "**Finetune the model by adding logistic regression layer**"
      ]
    },
    {
      "cell_type": "code",
      "execution_count": 21,
      "metadata": {
        "id": "Et_S-qdugNC_"
      },
      "outputs": [],
      "source": [
        "# Create a 1 hot encoded Y_train\n",
        "def create_one_hot(arr):\n",
        "    out_arr = []\n",
        "    for item in arr:\n",
        "        max_arr = max(arr)\n",
        "        one_hot_encoded = [0] * (max_arr+1)\n",
        "        one_hot_encoded[item] = 1\n",
        "        out_arr.append(one_hot_encoded)\n",
        "    return np.array(out_arr)\n",
        "\n",
        "Y_train_hot_encoded = create_one_hot(Y_train)\n",
        "Y_val_hot_encoded = create_one_hot(Y_val)"
      ]
    },
    {
      "cell_type": "code",
      "execution_count": 22,
      "metadata": {
        "colab": {
          "base_uri": "https://localhost:8080/"
        },
        "id": "zJlNeXIId30_",
        "outputId": "c763114b-fd8d-4e7d-d578-d4ec8b884312"
      },
      "outputs": [
        {
          "name": "stdout",
          "output_type": "stream",
          "text": [
            "Epoch 1/30\n",
            "892/895 [============================>.] - ETA: 0s - loss: 2.7008\n",
            "Epoch 1: val_loss improved from inf to 1.63276, saving model to weights.hdf5\n",
            "895/895 [==============================] - 5s 4ms/step - loss: 2.7085 - val_loss: 1.6328\n",
            "Epoch 2/30\n",
            "890/895 [============================>.] - ETA: 0s - loss: 1.1341\n",
            "Epoch 2: val_loss improved from 1.63276 to 0.98276, saving model to weights.hdf5\n",
            "895/895 [==============================] - 4s 5ms/step - loss: 1.1407 - val_loss: 0.9828\n",
            "Epoch 3/30\n",
            "889/895 [============================>.] - ETA: 0s - loss: 0.6983\n",
            "Epoch 3: val_loss improved from 0.98276 to 0.60187, saving model to weights.hdf5\n",
            "895/895 [==============================] - 4s 5ms/step - loss: 0.6944 - val_loss: 0.6019\n",
            "Epoch 4/30\n",
            "894/895 [============================>.] - ETA: 0s - loss: 0.4393\n",
            "Epoch 4: val_loss improved from 0.60187 to 0.55864, saving model to weights.hdf5\n",
            "895/895 [==============================] - 4s 4ms/step - loss: 0.4389 - val_loss: 0.5586\n",
            "Epoch 5/30\n",
            "885/895 [============================>.] - ETA: 0s - loss: 0.3201\n",
            "Epoch 5: val_loss did not improve from 0.55864\n",
            "895/895 [==============================] - 4s 4ms/step - loss: 0.3224 - val_loss: 0.6763\n",
            "Epoch 6/30\n",
            "888/895 [============================>.] - ETA: 0s - loss: 0.2877\n",
            "Epoch 6: val_loss improved from 0.55864 to 0.32348, saving model to weights.hdf5\n",
            "895/895 [==============================] - 5s 5ms/step - loss: 0.2876 - val_loss: 0.3235\n",
            "Epoch 7/30\n",
            "886/895 [============================>.] - ETA: 0s - loss: 0.2011\n",
            "Epoch 7: val_loss improved from 0.32348 to 0.27409, saving model to weights.hdf5\n",
            "895/895 [==============================] - 4s 4ms/step - loss: 0.2015 - val_loss: 0.2741\n",
            "Epoch 8/30\n",
            "895/895 [==============================] - ETA: 0s - loss: 0.1998\n",
            "Epoch 8: val_loss improved from 0.27409 to 0.20895, saving model to weights.hdf5\n",
            "895/895 [==============================] - 4s 4ms/step - loss: 0.1998 - val_loss: 0.2089\n",
            "Epoch 9/30\n",
            "887/895 [============================>.] - ETA: 0s - loss: 0.0925\n",
            "Epoch 9: val_loss did not improve from 0.20895\n",
            "895/895 [==============================] - 4s 4ms/step - loss: 0.0921 - val_loss: 0.3676\n",
            "Epoch 10/30\n",
            "885/895 [============================>.] - ETA: 0s - loss: 0.1705\n",
            "Epoch 10: val_loss did not improve from 0.20895\n",
            "895/895 [==============================] - 4s 4ms/step - loss: 0.1689 - val_loss: 0.2611\n",
            "Epoch 11/30\n",
            "888/895 [============================>.] - ETA: 0s - loss: 0.0933\n",
            "Epoch 11: val_loss improved from 0.20895 to 0.12993, saving model to weights.hdf5\n",
            "895/895 [==============================] - 4s 4ms/step - loss: 0.0928 - val_loss: 0.1299\n",
            "Epoch 12/30\n",
            "893/895 [============================>.] - ETA: 0s - loss: 0.0566\n",
            "Epoch 12: val_loss did not improve from 0.12993\n",
            "895/895 [==============================] - 4s 4ms/step - loss: 0.0565 - val_loss: 0.1623\n",
            "Epoch 13/30\n",
            "884/895 [============================>.] - ETA: 0s - loss: 0.0699\n",
            "Epoch 13: val_loss improved from 0.12993 to 0.11696, saving model to weights.hdf5\n",
            "895/895 [==============================] - 4s 5ms/step - loss: 0.0691 - val_loss: 0.1170\n",
            "Epoch 14/30\n",
            "893/895 [============================>.] - ETA: 0s - loss: 0.1232\n",
            "Epoch 14: val_loss did not improve from 0.11696\n",
            "895/895 [==============================] - 4s 4ms/step - loss: 0.1229 - val_loss: 0.3648\n",
            "Epoch 15/30\n",
            "890/895 [============================>.] - ETA: 0s - loss: 0.0316\n",
            "Epoch 15: val_loss did not improve from 0.11696\n",
            "895/895 [==============================] - 4s 4ms/step - loss: 0.0315 - val_loss: 0.2577\n",
            "Epoch 16/30\n",
            "892/895 [============================>.] - ETA: 0s - loss: 0.0535\n",
            "Epoch 16: val_loss did not improve from 0.11696\n",
            "895/895 [==============================] - 4s 4ms/step - loss: 0.0535 - val_loss: 0.2830\n",
            "Epoch 17/30\n",
            "891/895 [============================>.] - ETA: 0s - loss: 0.0930\n",
            "Epoch 17: val_loss did not improve from 0.11696\n",
            "895/895 [==============================] - 4s 4ms/step - loss: 0.0926 - val_loss: 0.3478\n",
            "Epoch 18/30\n",
            "888/895 [============================>.] - ETA: 0s - loss: 0.0282\n",
            "Epoch 18: val_loss improved from 0.11696 to 0.10655, saving model to weights.hdf5\n",
            "895/895 [==============================] - 4s 4ms/step - loss: 0.0280 - val_loss: 0.1066\n",
            "Epoch 19/30\n",
            "892/895 [============================>.] - ETA: 0s - loss: 0.0276\n",
            "Epoch 19: val_loss did not improve from 0.10655\n",
            "895/895 [==============================] - 3s 4ms/step - loss: 0.0275 - val_loss: 0.1759\n",
            "Epoch 20/30\n",
            "889/895 [============================>.] - ETA: 0s - loss: 0.0290\n",
            "Epoch 20: val_loss improved from 0.10655 to 0.08785, saving model to weights.hdf5\n",
            "895/895 [==============================] - 5s 5ms/step - loss: 0.0288 - val_loss: 0.0879\n",
            "Epoch 21/30\n",
            "881/895 [============================>.] - ETA: 0s - loss: 0.0928\n",
            "Epoch 21: val_loss did not improve from 0.08785\n",
            "895/895 [==============================] - 3s 4ms/step - loss: 0.0952 - val_loss: 0.7821\n",
            "Epoch 22/30\n",
            "886/895 [============================>.] - ETA: 0s - loss: 0.0623\n",
            "Epoch 22: val_loss did not improve from 0.08785\n",
            "895/895 [==============================] - 3s 4ms/step - loss: 0.0620 - val_loss: 0.1964\n",
            "Epoch 23/30\n",
            "895/895 [==============================] - ETA: 0s - loss: 0.0400\n",
            "Epoch 23: val_loss did not improve from 0.08785\n",
            "895/895 [==============================] - 4s 4ms/step - loss: 0.0400 - val_loss: 0.1035\n",
            "Epoch 24/30\n",
            "887/895 [============================>.] - ETA: 0s - loss: 0.0219\n",
            "Epoch 24: val_loss did not improve from 0.08785\n",
            "895/895 [==============================] - 4s 5ms/step - loss: 0.0217 - val_loss: 0.1256\n",
            "Epoch 25/30\n",
            "881/895 [============================>.] - ETA: 0s - loss: 0.0759\n",
            "Epoch 25: val_loss did not improve from 0.08785\n",
            "895/895 [==============================] - 3s 4ms/step - loss: 0.0749 - val_loss: 0.1238\n",
            "Epoch 26/30\n",
            "891/895 [============================>.] - ETA: 0s - loss: 0.0466\n",
            "Epoch 26: val_loss did not improve from 0.08785\n",
            "895/895 [==============================] - 4s 4ms/step - loss: 0.0464 - val_loss: 0.1182\n",
            "Epoch 27/30\n",
            "887/895 [============================>.] - ETA: 0s - loss: 0.0226\n",
            "Epoch 27: val_loss did not improve from 0.08785\n",
            "895/895 [==============================] - 4s 4ms/step - loss: 0.0225 - val_loss: 0.0974\n",
            "Epoch 28/30\n",
            "888/895 [============================>.] - ETA: 0s - loss: 0.0138\n",
            "Epoch 28: val_loss did not improve from 0.08785\n",
            "895/895 [==============================] - 4s 4ms/step - loss: 0.0137 - val_loss: 0.1435\n",
            "Epoch 29/30\n",
            "895/895 [==============================] - ETA: 0s - loss: 0.0325\n",
            "Epoch 29: val_loss did not improve from 0.08785\n",
            "895/895 [==============================] - 3s 4ms/step - loss: 0.0325 - val_loss: 0.2297\n",
            "Epoch 30/30\n",
            "885/895 [============================>.] - ETA: 0s - loss: 0.1166\n",
            "Epoch 30: val_loss did not improve from 0.08785\n",
            "895/895 [==============================] - 3s 4ms/step - loss: 0.1153 - val_loss: 0.1131\n"
          ]
        }
      ],
      "source": [
        "fine_tuned_model_1, fine_tuned_encoder_1 = stacked_auto_encoder_1.finetune(X_train_scaled, Y_train_hot_encoded, X_val_scaled, Y_val_hot_encoded, 30, 1) "
      ]
    },
    {
      "cell_type": "code",
      "execution_count": 23,
      "metadata": {
        "colab": {
          "base_uri": "https://localhost:8080/"
        },
        "id": "IXoP9sP4uA41",
        "outputId": "1c042e06-1caf-41cf-e684-3ef497869812"
      },
      "outputs": [
        {
          "name": "stdout",
          "output_type": "stream",
          "text": [
            "Epoch 1/30\n",
            "885/895 [============================>.] - ETA: 0s - loss: 2.4406\n",
            "Epoch 1: val_loss improved from inf to 1.40896, saving model to weights.hdf5\n",
            "895/895 [==============================] - 6s 6ms/step - loss: 2.4219 - val_loss: 1.4090\n",
            "Epoch 2/30\n",
            "895/895 [==============================] - ETA: 0s - loss: 1.0916\n",
            "Epoch 2: val_loss improved from 1.40896 to 0.85017, saving model to weights.hdf5\n",
            "895/895 [==============================] - 4s 5ms/step - loss: 1.0916 - val_loss: 0.8502\n",
            "Epoch 3/30\n",
            "894/895 [============================>.] - ETA: 0s - loss: 0.7010\n",
            "Epoch 3: val_loss improved from 0.85017 to 0.59773, saving model to weights.hdf5\n",
            "895/895 [==============================] - 4s 5ms/step - loss: 0.7003 - val_loss: 0.5977\n",
            "Epoch 4/30\n",
            "890/895 [============================>.] - ETA: 0s - loss: 0.5220\n",
            "Epoch 4: val_loss improved from 0.59773 to 0.38553, saving model to weights.hdf5\n",
            "895/895 [==============================] - 5s 6ms/step - loss: 0.5197 - val_loss: 0.3855\n",
            "Epoch 5/30\n",
            "885/895 [============================>.] - ETA: 0s - loss: 0.4093\n",
            "Epoch 5: val_loss did not improve from 0.38553\n",
            "895/895 [==============================] - 4s 4ms/step - loss: 0.4091 - val_loss: 0.5067\n",
            "Epoch 6/30\n",
            "884/895 [============================>.] - ETA: 0s - loss: 0.3152\n",
            "Epoch 6: val_loss did not improve from 0.38553\n",
            "895/895 [==============================] - 4s 4ms/step - loss: 0.3185 - val_loss: 0.3992\n",
            "Epoch 7/30\n",
            "888/895 [============================>.] - ETA: 0s - loss: 0.2797\n",
            "Epoch 7: val_loss improved from 0.38553 to 0.31544, saving model to weights.hdf5\n",
            "895/895 [==============================] - 5s 5ms/step - loss: 0.2777 - val_loss: 0.3154\n",
            "Epoch 8/30\n",
            "891/895 [============================>.] - ETA: 0s - loss: 0.2782\n",
            "Epoch 8: val_loss improved from 0.31544 to 0.29613, saving model to weights.hdf5\n",
            "895/895 [==============================] - 5s 5ms/step - loss: 0.2772 - val_loss: 0.2961\n",
            "Epoch 9/30\n",
            "893/895 [============================>.] - ETA: 0s - loss: 0.2692\n",
            "Epoch 9: val_loss improved from 0.29613 to 0.27225, saving model to weights.hdf5\n",
            "895/895 [==============================] - 4s 5ms/step - loss: 0.2690 - val_loss: 0.2723\n",
            "Epoch 10/30\n",
            "891/895 [============================>.] - ETA: 0s - loss: 0.1503\n",
            "Epoch 10: val_loss improved from 0.27225 to 0.16284, saving model to weights.hdf5\n",
            "895/895 [==============================] - 5s 6ms/step - loss: 0.1498 - val_loss: 0.1628\n",
            "Epoch 11/30\n",
            "887/895 [============================>.] - ETA: 0s - loss: 0.1973\n",
            "Epoch 11: val_loss improved from 0.16284 to 0.15792, saving model to weights.hdf5\n",
            "895/895 [==============================] - 5s 5ms/step - loss: 0.1956 - val_loss: 0.1579\n",
            "Epoch 12/30\n",
            "889/895 [============================>.] - ETA: 0s - loss: 0.1848\n",
            "Epoch 12: val_loss did not improve from 0.15792\n",
            "895/895 [==============================] - 4s 4ms/step - loss: 0.1851 - val_loss: 0.3737\n",
            "Epoch 13/30\n",
            "887/895 [============================>.] - ETA: 0s - loss: 0.1540\n",
            "Epoch 13: val_loss did not improve from 0.15792\n",
            "895/895 [==============================] - 5s 5ms/step - loss: 0.1527 - val_loss: 0.1887\n",
            "Epoch 14/30\n",
            "885/895 [============================>.] - ETA: 0s - loss: 0.1026\n",
            "Epoch 14: val_loss did not improve from 0.15792\n",
            "895/895 [==============================] - 4s 5ms/step - loss: 0.1032 - val_loss: 0.3377\n",
            "Epoch 15/30\n",
            "893/895 [============================>.] - ETA: 0s - loss: 0.1136\n",
            "Epoch 15: val_loss did not improve from 0.15792\n",
            "895/895 [==============================] - 4s 5ms/step - loss: 0.1134 - val_loss: 0.1643\n",
            "Epoch 16/30\n",
            "893/895 [============================>.] - ETA: 0s - loss: 0.1234\n",
            "Epoch 16: val_loss did not improve from 0.15792\n",
            "895/895 [==============================] - 4s 5ms/step - loss: 0.1232 - val_loss: 0.4034\n",
            "Epoch 17/30\n",
            "894/895 [============================>.] - ETA: 0s - loss: 0.1203\n",
            "Epoch 17: val_loss improved from 0.15792 to 0.13540, saving model to weights.hdf5\n",
            "895/895 [==============================] - 5s 5ms/step - loss: 0.1202 - val_loss: 0.1354\n",
            "Epoch 18/30\n",
            "893/895 [============================>.] - ETA: 0s - loss: 0.0481\n",
            "Epoch 18: val_loss improved from 0.13540 to 0.08990, saving model to weights.hdf5\n",
            "895/895 [==============================] - 4s 5ms/step - loss: 0.0480 - val_loss: 0.0899\n",
            "Epoch 19/30\n",
            "890/895 [============================>.] - ETA: 0s - loss: 0.0343\n",
            "Epoch 19: val_loss did not improve from 0.08990\n",
            "895/895 [==============================] - 4s 4ms/step - loss: 0.0342 - val_loss: 0.1472\n",
            "Epoch 20/30\n",
            "894/895 [============================>.] - ETA: 0s - loss: 0.1749\n",
            "Epoch 20: val_loss did not improve from 0.08990\n",
            "895/895 [==============================] - 5s 5ms/step - loss: 0.1747 - val_loss: 0.3134\n",
            "Epoch 21/30\n",
            "889/895 [============================>.] - ETA: 0s - loss: 0.0402\n",
            "Epoch 21: val_loss did not improve from 0.08990\n",
            "895/895 [==============================] - 4s 5ms/step - loss: 0.0399 - val_loss: 0.1812\n",
            "Epoch 22/30\n",
            "884/895 [============================>.] - ETA: 0s - loss: 0.0830\n",
            "Epoch 22: val_loss did not improve from 0.08990\n",
            "895/895 [==============================] - 4s 5ms/step - loss: 0.0842 - val_loss: 0.2661\n",
            "Epoch 23/30\n",
            "894/895 [============================>.] - ETA: 0s - loss: 0.1348\n",
            "Epoch 23: val_loss did not improve from 0.08990\n",
            "895/895 [==============================] - 5s 6ms/step - loss: 0.1346 - val_loss: 0.2543\n",
            "Epoch 24/30\n",
            "892/895 [============================>.] - ETA: 0s - loss: 0.0590\n",
            "Epoch 24: val_loss did not improve from 0.08990\n",
            "895/895 [==============================] - 4s 4ms/step - loss: 0.0588 - val_loss: 0.2728\n",
            "Epoch 25/30\n",
            "884/895 [============================>.] - ETA: 0s - loss: 0.0627\n",
            "Epoch 25: val_loss did not improve from 0.08990\n",
            "895/895 [==============================] - 4s 4ms/step - loss: 0.0687 - val_loss: 0.6287\n",
            "Epoch 26/30\n",
            "891/895 [============================>.] - ETA: 0s - loss: 0.0926\n",
            "Epoch 26: val_loss did not improve from 0.08990\n",
            "895/895 [==============================] - 4s 5ms/step - loss: 0.0924 - val_loss: 0.9626\n",
            "Epoch 27/30\n",
            "895/895 [==============================] - ETA: 0s - loss: 0.0853\n",
            "Epoch 27: val_loss did not improve from 0.08990\n",
            "895/895 [==============================] - 4s 5ms/step - loss: 0.0853 - val_loss: 0.2576\n",
            "Epoch 28/30\n",
            "885/895 [============================>.] - ETA: 0s - loss: 0.0252\n",
            "Epoch 28: val_loss did not improve from 0.08990\n",
            "895/895 [==============================] - 4s 4ms/step - loss: 0.0249 - val_loss: 0.1846\n",
            "Epoch 29/30\n",
            "891/895 [============================>.] - ETA: 0s - loss: 0.1336\n",
            "Epoch 29: val_loss did not improve from 0.08990\n",
            "895/895 [==============================] - 4s 5ms/step - loss: 0.1330 - val_loss: 0.2153\n",
            "Epoch 30/30\n",
            "895/895 [==============================] - ETA: 0s - loss: 0.0397\n",
            "Epoch 30: val_loss did not improve from 0.08990\n",
            "895/895 [==============================] - 4s 5ms/step - loss: 0.0397 - val_loss: 0.2710\n"
          ]
        }
      ],
      "source": [
        "fine_tuned_model_2, fine_tuned_encoder_2 = stacked_auto_encoder_2.finetune(X_train_scaled, Y_train_hot_encoded, X_val_scaled, Y_val_hot_encoded, 30, 1)"
      ]
    },
    {
      "cell_type": "code",
      "execution_count": 24,
      "metadata": {
        "colab": {
          "base_uri": "https://localhost:8080/"
        },
        "id": "GTZ95zX1uA41",
        "outputId": "7268ae85-f31f-4d67-c0e0-dda058a5a1c4"
      },
      "outputs": [
        {
          "name": "stdout",
          "output_type": "stream",
          "text": [
            "Epoch 1/30\n",
            "891/895 [============================>.] - ETA: 0s - loss: 2.5726\n",
            "Epoch 1: val_loss improved from inf to 1.75854, saving model to weights.hdf5\n",
            "895/895 [==============================] - 7s 6ms/step - loss: 2.5731 - val_loss: 1.7585\n",
            "Epoch 2/30\n",
            "892/895 [============================>.] - ETA: 0s - loss: 1.1874\n",
            "Epoch 2: val_loss improved from 1.75854 to 1.31560, saving model to weights.hdf5\n",
            "895/895 [==============================] - 5s 5ms/step - loss: 1.1917 - val_loss: 1.3156\n",
            "Epoch 3/30\n",
            "891/895 [============================>.] - ETA: 0s - loss: 0.7476\n",
            "Epoch 3: val_loss improved from 1.31560 to 0.85828, saving model to weights.hdf5\n",
            "895/895 [==============================] - 5s 5ms/step - loss: 0.7483 - val_loss: 0.8583\n",
            "Epoch 4/30\n",
            "890/895 [============================>.] - ETA: 0s - loss: 0.5705\n",
            "Epoch 4: val_loss improved from 0.85828 to 0.58517, saving model to weights.hdf5\n",
            "895/895 [==============================] - 6s 7ms/step - loss: 0.5703 - val_loss: 0.5852\n",
            "Epoch 5/30\n",
            "887/895 [============================>.] - ETA: 0s - loss: 0.4776\n",
            "Epoch 5: val_loss improved from 0.58517 to 0.50144, saving model to weights.hdf5\n",
            "895/895 [==============================] - 6s 7ms/step - loss: 0.4756 - val_loss: 0.5014\n",
            "Epoch 6/30\n",
            "889/895 [============================>.] - ETA: 0s - loss: 0.4136\n",
            "Epoch 6: val_loss did not improve from 0.50144\n",
            "895/895 [==============================] - 4s 5ms/step - loss: 0.4147 - val_loss: 0.6531\n",
            "Epoch 7/30\n",
            "890/895 [============================>.] - ETA: 0s - loss: 0.3608\n",
            "Epoch 7: val_loss did not improve from 0.50144\n",
            "895/895 [==============================] - 5s 5ms/step - loss: 0.3589 - val_loss: 0.8242\n",
            "Epoch 8/30\n",
            "884/895 [============================>.] - ETA: 0s - loss: 0.3782\n",
            "Epoch 8: val_loss improved from 0.50144 to 0.47817, saving model to weights.hdf5\n",
            "895/895 [==============================] - 5s 5ms/step - loss: 0.3751 - val_loss: 0.4782\n",
            "Epoch 9/30\n",
            "884/895 [============================>.] - ETA: 0s - loss: 0.2838\n",
            "Epoch 9: val_loss did not improve from 0.47817\n",
            "895/895 [==============================] - 4s 5ms/step - loss: 0.2856 - val_loss: 0.6129\n",
            "Epoch 10/30\n",
            "889/895 [============================>.] - ETA: 0s - loss: 0.2914\n",
            "Epoch 10: val_loss did not improve from 0.47817\n",
            "895/895 [==============================] - 5s 5ms/step - loss: 0.2938 - val_loss: 0.9727\n",
            "Epoch 11/30\n",
            "886/895 [============================>.] - ETA: 0s - loss: 0.2333\n",
            "Epoch 11: val_loss improved from 0.47817 to 0.42113, saving model to weights.hdf5\n",
            "895/895 [==============================] - 5s 5ms/step - loss: 0.2310 - val_loss: 0.4211\n",
            "Epoch 12/30\n",
            "889/895 [============================>.] - ETA: 0s - loss: 0.2124\n",
            "Epoch 12: val_loss did not improve from 0.42113\n",
            "895/895 [==============================] - 4s 5ms/step - loss: 0.2117 - val_loss: 0.6595\n",
            "Epoch 13/30\n",
            "890/895 [============================>.] - ETA: 0s - loss: 0.2127\n",
            "Epoch 13: val_loss improved from 0.42113 to 0.26871, saving model to weights.hdf5\n",
            "895/895 [==============================] - 5s 6ms/step - loss: 0.2115 - val_loss: 0.2687\n",
            "Epoch 14/30\n",
            "889/895 [============================>.] - ETA: 0s - loss: 0.1730\n",
            "Epoch 14: val_loss did not improve from 0.26871\n",
            "895/895 [==============================] - 4s 5ms/step - loss: 0.1721 - val_loss: 0.7567\n",
            "Epoch 15/30\n",
            "885/895 [============================>.] - ETA: 0s - loss: 0.2064\n",
            "Epoch 15: val_loss did not improve from 0.26871\n",
            "895/895 [==============================] - 4s 4ms/step - loss: 0.2045 - val_loss: 0.3182\n",
            "Epoch 16/30\n",
            "890/895 [============================>.] - ETA: 0s - loss: 0.2302\n",
            "Epoch 16: val_loss did not improve from 0.26871\n",
            "895/895 [==============================] - 5s 6ms/step - loss: 0.2290 - val_loss: 0.4952\n",
            "Epoch 17/30\n",
            "884/895 [============================>.] - ETA: 0s - loss: 0.0830\n",
            "Epoch 17: val_loss did not improve from 0.26871\n",
            "895/895 [==============================] - 4s 5ms/step - loss: 0.0821 - val_loss: 0.4091\n",
            "Epoch 18/30\n",
            "894/895 [============================>.] - ETA: 0s - loss: 0.2543\n",
            "Epoch 18: val_loss did not improve from 0.26871\n",
            "895/895 [==============================] - 4s 5ms/step - loss: 0.2541 - val_loss: 0.5878\n",
            "Epoch 19/30\n",
            "895/895 [==============================] - ETA: 0s - loss: 0.1491\n",
            "Epoch 19: val_loss did not improve from 0.26871\n",
            "895/895 [==============================] - 5s 5ms/step - loss: 0.1491 - val_loss: 1.3149\n",
            "Epoch 20/30\n",
            "895/895 [==============================] - ETA: 0s - loss: 0.1514\n",
            "Epoch 20: val_loss did not improve from 0.26871\n",
            "895/895 [==============================] - 4s 4ms/step - loss: 0.1514 - val_loss: 0.6418\n",
            "Epoch 21/30\n",
            "890/895 [============================>.] - ETA: 0s - loss: 0.2141\n",
            "Epoch 21: val_loss did not improve from 0.26871\n",
            "895/895 [==============================] - 4s 5ms/step - loss: 0.2207 - val_loss: 0.5736\n",
            "Epoch 22/30\n",
            "886/895 [============================>.] - ETA: 0s - loss: 0.2097\n",
            "Epoch 22: val_loss did not improve from 0.26871\n",
            "895/895 [==============================] - 5s 5ms/step - loss: 0.2076 - val_loss: 0.9770\n",
            "Epoch 23/30\n",
            "893/895 [============================>.] - ETA: 0s - loss: 0.0739\n",
            "Epoch 23: val_loss did not improve from 0.26871\n",
            "895/895 [==============================] - 4s 5ms/step - loss: 0.0737 - val_loss: 0.3104\n",
            "Epoch 24/30\n",
            "889/895 [============================>.] - ETA: 0s - loss: 0.0411\n",
            "Epoch 24: val_loss did not improve from 0.26871\n",
            "895/895 [==============================] - 4s 4ms/step - loss: 0.0409 - val_loss: 0.6291\n",
            "Epoch 25/30\n",
            "894/895 [============================>.] - ETA: 0s - loss: 0.1927\n",
            "Epoch 25: val_loss did not improve from 0.26871\n",
            "895/895 [==============================] - 5s 5ms/step - loss: 0.1942 - val_loss: 0.6745\n",
            "Epoch 26/30\n",
            "891/895 [============================>.] - ETA: 0s - loss: 0.1281\n",
            "Epoch 26: val_loss improved from 0.26871 to 0.26332, saving model to weights.hdf5\n",
            "895/895 [==============================] - 5s 5ms/step - loss: 0.1281 - val_loss: 0.2633\n",
            "Epoch 27/30\n",
            "891/895 [============================>.] - ETA: 0s - loss: 0.0684\n",
            "Epoch 27: val_loss did not improve from 0.26332\n",
            "895/895 [==============================] - 4s 5ms/step - loss: 0.0682 - val_loss: 1.2874\n",
            "Epoch 28/30\n",
            "887/895 [============================>.] - ETA: 0s - loss: 0.1667\n",
            "Epoch 28: val_loss did not improve from 0.26332\n",
            "895/895 [==============================] - 5s 5ms/step - loss: 0.1700 - val_loss: 0.6054\n",
            "Epoch 29/30\n",
            "889/895 [============================>.] - ETA: 0s - loss: 0.0692\n",
            "Epoch 29: val_loss did not improve from 0.26332\n",
            "895/895 [==============================] - 4s 5ms/step - loss: 0.0687 - val_loss: 0.3111\n",
            "Epoch 30/30\n",
            "889/895 [============================>.] - ETA: 0s - loss: 0.1790\n",
            "Epoch 30: val_loss did not improve from 0.26332\n",
            "895/895 [==============================] - 4s 5ms/step - loss: 0.1779 - val_loss: 0.3482\n"
          ]
        }
      ],
      "source": [
        "fine_tuned_model_3, fine_tuned_encoder_3 = stacked_auto_encoder_3.finetune(X_train_scaled, Y_train_hot_encoded, X_val_scaled, Y_val_hot_encoded, 30, 1) "
      ]
    },
    {
      "cell_type": "markdown",
      "metadata": {
        "id": "mToQYTOmuA41"
      },
      "source": [
        "### Plot of Finetuning Training"
      ]
    },
    {
      "cell_type": "code",
      "execution_count": 25,
      "metadata": {
        "colab": {
          "base_uri": "https://localhost:8080/",
          "height": 472
        },
        "id": "6hezINYwXzTi",
        "outputId": "f9c5ec83-8c59-48fc-bf7d-66c145a30b62"
      },
      "outputs": [
        {
          "data": {
            "image/png": "[encoded data removed]",
            "text/plain": [
              "<Figure size 640x480 with 1 Axes>"
            ]
          },
          "metadata": {},
          "output_type": "display_data"
        }
      ],
      "source": [
        "plot_loss(stacked_auto_encoder_1.history.history)"
      ]
    },
    {
      "cell_type": "code",
      "execution_count": 26,
      "metadata": {
        "colab": {
          "base_uri": "https://localhost:8080/",
          "height": 472
        },
        "id": "iR3rEj5duA42",
        "outputId": "56bf655f-bdbf-4ad4-c5ca-b522a5e28d6a"
      },
      "outputs": [
        {
          "data": {
            "image/png": "[encoded data removed]",
            "text/plain": [
              "<Figure size 640x480 with 1 Axes>"
            ]
          },
          "metadata": {},
          "output_type": "display_data"
        }
      ],
      "source": [
        "plot_loss(stacked_auto_encoder_2.history.history)"
      ]
    },
    {
      "cell_type": "code",
      "execution_count": 27,
      "metadata": {
        "colab": {
          "base_uri": "https://localhost:8080/",
          "height": 472
        },
        "id": "mvuIISpPuA42",
        "outputId": "a1621bf4-aeab-493e-9ba7-f547787c6101"
      },
      "outputs": [
        {
          "data": {
            "image/png": "[encoded data removed]",
            "text/plain": [
              "<Figure size 640x480 with 1 Axes>"
            ]
          },
          "metadata": {},
          "output_type": "display_data"
        }
      ],
      "source": [
        "plot_loss(stacked_auto_encoder_3.history.history)"
      ]
    },
    {
      "cell_type": "markdown",
      "metadata": {
        "id": "vmWX_fDvgF_R"
      },
      "source": [
        "**Now feed the encoded representation into linear SVM**"
      ]
    },
    {
      "cell_type": "code",
      "execution_count": 28,
      "metadata": {
        "colab": {
          "base_uri": "https://localhost:8080/"
        },
        "id": "3GWVbI8nc9H6",
        "outputId": "528ef136-09eb-4c3f-a3dd-da7a6081e3ab",
        "scrolled": true
      },
      "outputs": [
        {
          "name": "stdout",
          "output_type": "stream",
          "text": [
            "1-layer SDAE SVM\n",
            "28/28 [==============================] - 0s 2ms/step\n",
            "14/14 [==============================] - 0s 2ms/step\n",
            "SVM Accuracy Score ->  96.41255605381166\n",
            "SVM Accuracy Score on training ->  99.88826815642457\n",
            "5/5 [==============================] - 0s 2ms/step\n",
            "SVM Accuracy Score on validation ->  97.2972972972973\n",
            "2-layers SDAE SVM\n",
            "28/28 [==============================] - 0s 2ms/step\n",
            "14/14 [==============================] - 0s 2ms/step\n",
            "SVM Accuracy Score ->  94.17040358744396\n",
            "SVM Accuracy Score on training ->  99.88826815642457\n",
            "5/5 [==============================] - 0s 3ms/step\n",
            "SVM Accuracy Score on validation ->  97.2972972972973\n",
            "3-layers SDAE SVM\n",
            "28/28 [==============================] - 0s 2ms/step\n",
            "14/14 [==============================] - 0s 2ms/step\n",
            "SVM Accuracy Score ->  93.72197309417041\n",
            "SVM Accuracy Score on training ->  99.88826815642457\n",
            "5/5 [==============================] - 0s 3ms/step\n",
            "SVM Accuracy Score on validation ->  95.94594594594594\n"
          ]
        }
      ],
      "source": [
        "fine_tuned_encoders = [fine_tuned_encoder_1, fine_tuned_encoder_2, fine_tuned_encoder_3]\n",
        "for fine_tuned_encoder, model_name in zip(fine_tuned_encoders, model_names[1:]):\n",
        "    print(model_name)\n",
        "    X_train_encoded = fine_tuned_encoder.predict(X_train_scaled)\n",
        "\n",
        "    # Fit to encoded data\n",
        "    svm_autoencoder = SVC(kernel='linear', C=1, probability=True)\n",
        "    svm_autoencoder.fit(X_train_encoded, Y_train)\n",
        "\n",
        "    # Encode the test data and use SVM to predict its labels\n",
        "    X_test_encoded = fine_tuned_encoder.predict(X_test_scaled)\n",
        "    predicted = svm_autoencoder.predict(X_test_encoded)\n",
        "\n",
        "    print(\"SVM Accuracy Score -> \", metrics.accuracy_score(predicted, Y_test)*100)\n",
        "    predicted_arr.append(predicted)\n",
        "    \n",
        "    predicted_train = svm_autoencoder.predict(X_train_encoded)\n",
        "    print(\"SVM Accuracy Score on training -> \", metrics.accuracy_score(predicted_train, Y_train)*100)\n",
        "\n",
        "    X_val_encoded = fine_tuned_encoder.predict(X_val_scaled)\n",
        "    predicted_val = svm_autoencoder.predict(X_val_encoded)\n",
        "    print(\"SVM Accuracy Score on validation -> \", metrics.accuracy_score(predicted_val, Y_val)*100)"
      ]
    },
    {
      "cell_type": "markdown",
      "metadata": {
        "id": "EvKWJhKzuA42"
      },
      "source": [
        "## 6. Testing metrics"
      ]
    },
    {
      "cell_type": "code",
      "execution_count": 29,
      "metadata": {
        "id": "JEh7MeWHuA42"
      },
      "outputs": [],
      "source": [
        "def testing_metrics(y_true, y_pred_arr, model_names, export=True):\n",
        "    stats = {}\n",
        "    for y_pred, model_name in zip(y_pred_arr, model_names):\n",
        "        scores = metrics.classification_report(y_true, y_pred, zero_division=1, output_dict=True)\n",
        "\n",
        "        stats[model_name] = {\n",
        "            'cohen_kappa': metrics.cohen_kappa_score(y_true, y_pred),\n",
        "            'matthews_corrcoef': metrics.matthews_corrcoef(y_true, y_pred),\n",
        "            'micro-accuracy': scores['accuracy']\n",
        "        }\n",
        "\n",
        "        for metr1 in ('macro avg', 'weighted avg'):\n",
        "            for metr2 in ('precision', 'recall', 'f1-score'):\n",
        "                stats[model_name][metr1 + ' ' + metr2] = scores[metr1][metr2]\n",
        "    \n",
        "    stats_df = pd.DataFrame.from_dict(stats).T\n",
        "    if export:\n",
        "        stats_df.to_csv('svm_stats.csv')\n",
        "    \n",
        "    return stats_df"
      ]
    },
    {
      "cell_type": "code",
      "execution_count": 30,
      "metadata": {
        "colab": {
          "base_uri": "https://localhost:8080/",
          "height": 410
        },
        "id": "54fpvpYIuA42",
        "outputId": "d2d0e0d3-f1d5-4058-c7e8-5d7bc856bf13"
      },
      "outputs": [
        {
          "data": {
            "text/html": [
              "\n",
              "  <div id=\"df-b6475adf-5f0b-496b-927a-2a4e0dcce326\">\n",
              "    <div class=\"colab-df-container\">\n",
              "      <div>\n",
              "<style scoped>\n",
              "    .dataframe tbody tr th:only-of-type {\n",
              "        vertical-align: middle;\n",
              "    }\n",
              "\n",
              "    .dataframe tbody tr th {\n",
              "        vertical-align: top;\n",
              "    }\n",
              "\n",
              "    .dataframe thead th {\n",
              "        text-align: right;\n",
              "    }\n",
              "</style>\n",
              "<table border=\"1\" class=\"dataframe\">\n",
              "  <thead>\n",
              "    <tr style=\"text-align: right;\">\n",
              "      <th></th>\n",
              "      <th>cohen_kappa</th>\n",
              "      <th>matthews_corrcoef</th>\n",
              "      <th>micro-accuracy</th>\n",
              "      <th>macro avg precision</th>\n",
              "      <th>macro avg recall</th>\n",
              "      <th>macro avg f1-score</th>\n",
              "      <th>weighted avg precision</th>\n",
              "      <th>weighted avg recall</th>\n",
              "      <th>weighted avg f1-score</th>\n",
              "    </tr>\n",
              "  </thead>\n",
              "  <tbody>\n",
              "    <tr>\n",
              "      <th>Raw SVM</th>\n",
              "      <td>0.819071</td>\n",
              "      <td>0.821772</td>\n",
              "      <td>0.825112</td>\n",
              "      <td>0.881030</td>\n",
              "      <td>0.824921</td>\n",
              "      <td>0.837734</td>\n",
              "      <td>0.880422</td>\n",
              "      <td>0.825112</td>\n",
              "      <td>0.837551</td>\n",
              "    </tr>\n",
              "    <tr>\n",
              "      <th>1-layer SDAE SVM</th>\n",
              "      <td>0.962888</td>\n",
              "      <td>0.962963</td>\n",
              "      <td>0.964126</td>\n",
              "      <td>0.966423</td>\n",
              "      <td>0.964127</td>\n",
              "      <td>0.964198</td>\n",
              "      <td>0.966271</td>\n",
              "      <td>0.964126</td>\n",
              "      <td>0.964120</td>\n",
              "    </tr>\n",
              "    <tr>\n",
              "      <th>2-layers SDAE SVM</th>\n",
              "      <td>0.939691</td>\n",
              "      <td>0.939941</td>\n",
              "      <td>0.941704</td>\n",
              "      <td>0.948037</td>\n",
              "      <td>0.941429</td>\n",
              "      <td>0.941132</td>\n",
              "      <td>0.947720</td>\n",
              "      <td>0.941704</td>\n",
              "      <td>0.941138</td>\n",
              "    </tr>\n",
              "    <tr>\n",
              "      <th>3-layers SDAE SVM</th>\n",
              "      <td>0.935053</td>\n",
              "      <td>0.935272</td>\n",
              "      <td>0.937220</td>\n",
              "      <td>0.943550</td>\n",
              "      <td>0.936825</td>\n",
              "      <td>0.936844</td>\n",
              "      <td>0.943503</td>\n",
              "      <td>0.937220</td>\n",
              "      <td>0.937043</td>\n",
              "    </tr>\n",
              "  </tbody>\n",
              "</table>\n",
              "</div>\n",
              "      <button class=\"colab-df-convert\" onclick=\"convertToInteractive('df-b6475adf-5f0b-496b-927a-2a4e0dcce326')\"\n",
              "              title=\"Convert this dataframe to an interactive table.\"\n",
              "              style=\"display:none;\">\n",
              "        \n",
              "  <svg xmlns=\"http://www.w3.org/2000/svg\" height=\"24px\"viewBox=\"0 0 24 24\"\n",
              "       width=\"24px\">\n",
              "    <path d=\"M0 0h24v24H0V0z\" fill=\"none\"/>\n",
              "    <path d=\"M18.56 5.44l.94 2.06.94-2.06 2.06-.94-2.06-.94-.94-2.06-.94 2.06-2.06.94zm-11 1L8.5 8.5l.94-2.06 2.06-.94-2.06-.94L8.5 2.5l-.94 2.06-2.06.94zm10 10l.94 2.06.94-2.06 2.06-.94-2.06-.94-.94-2.06-.94 2.06-2.06.94z\"/><path d=\"M17.41 7.96l-1.37-1.37c-.4-.4-.92-.59-1.43-.59-.52 0-1.04.2-1.43.59L10.3 9.45l-7.72 7.72c-.78.78-.78 2.05 0 2.83L4 21.41c.39.39.9.59 1.41.59.51 0 1.02-.2 1.41-.59l7.78-7.78 2.81-2.81c.8-.78.8-2.07 0-2.86zM5.41 20L4 18.59l7.72-7.72 1.47 1.35L5.41 20z\"/>\n",
              "  </svg>\n",
              "      </button>\n",
              "      \n",
              "  <style>\n",
              "    .colab-df-container {\n",
              "      display:flex;\n",
              "      flex-wrap:wrap;\n",
              "      gap: 12px;\n",
              "    }\n",
              "\n",
              "    .colab-df-convert {\n",
              "      background-color: #E8F0FE;\n",
              "      border: none;\n",
              "      border-radius: 50%;\n",
              "      cursor: pointer;\n",
              "      display: none;\n",
              "      fill: #1967D2;\n",
              "      height: 32px;\n",
              "      padding: 0 0 0 0;\n",
              "      width: 32px;\n",
              "    }\n",
              "\n",
              "    .colab-df-convert:hover {\n",
              "      background-color: #E2EBFA;\n",
              "      box-shadow: 0px 1px 2px rgba(60, 64, 67, 0.3), 0px 1px 3px 1px rgba(60, 64, 67, 0.15);\n",
              "      fill: #174EA6;\n",
              "    }\n",
              "\n",
              "    [theme=dark] .colab-df-convert {\n",
              "      background-color: #3B4455;\n",
              "      fill: #D2E3FC;\n",
              "    }\n",
              "\n",
              "    [theme=dark] .colab-df-convert:hover {\n",
              "      background-color: #434B5C;\n",
              "      box-shadow: 0px 1px 3px 1px rgba(0, 0, 0, 0.15);\n",
              "      filter: drop-shadow(0px 1px 2px rgba(0, 0, 0, 0.3));\n",
              "      fill: #FFFFFF;\n",
              "    }\n",
              "  </style>\n",
              "\n",
              "      <script>\n",
              "        const buttonEl =\n",
              "          document.querySelector('#df-b6475adf-5f0b-496b-927a-2a4e0dcce326 button.colab-df-convert');\n",
              "        buttonEl.style.display =\n",
              "          google.colab.kernel.accessAllowed ? 'block' : 'none';\n",
              "\n",
              "        async function convertToInteractive(key) {\n",
              "          const element = document.querySelector('#df-b6475adf-5f0b-496b-927a-2a4e0dcce326');\n",
              "          const dataTable =\n",
              "            await google.colab.kernel.invokeFunction('convertToInteractive',\n",
              "                                                     [key], {});\n",
              "          if (!dataTable) return;\n",
              "\n",
              "          const docLinkHtml = 'Like what you see? Visit the ' +\n",
              "            '<a target=\"_blank\" href=https://colab.research.google.com/notebooks/data_table.ipynb>data table notebook</a>'\n",
              "            + ' to learn more about interactive tables.';\n",
              "          element.innerHTML = '';\n",
              "          dataTable['output_type'] = 'display_data';\n",
              "          await google.colab.output.renderOutput(dataTable, element);\n",
              "          const docLink = document.createElement('div');\n",
              "          docLink.innerHTML = docLinkHtml;\n",
              "          element.appendChild(docLink);\n",
              "        }\n",
              "      </script>\n",
              "    </div>\n",
              "  </div>\n",
              "  "
            ],
            "text/plain": [
              "                   cohen_kappa  matthews_corrcoef  micro-accuracy  \\\n",
              "Raw SVM               0.819071           0.821772        0.825112   \n",
              "1-layer SDAE SVM      0.962888           0.962963        0.964126   \n",
              "2-layers SDAE SVM     0.939691           0.939941        0.941704   \n",
              "3-layers SDAE SVM     0.935053           0.935272        0.937220   \n",
              "\n",
              "                   macro avg precision  macro avg recall  macro avg f1-score  \\\n",
              "Raw SVM                       0.881030          0.824921            0.837734   \n",
              "1-layer SDAE SVM              0.966423          0.964127            0.964198   \n",
              "2-layers SDAE SVM             0.948037          0.941429            0.941132   \n",
              "3-layers SDAE SVM             0.943550          0.936825            0.936844   \n",
              "\n",
              "                   weighted avg precision  weighted avg recall  \\\n",
              "Raw SVM                          0.880422             0.825112   \n",
              "1-layer SDAE SVM                 0.966271             0.964126   \n",
              "2-layers SDAE SVM                0.947720             0.941704   \n",
              "3-layers SDAE SVM                0.943503             0.937220   \n",
              "\n",
              "                   weighted avg f1-score  \n",
              "Raw SVM                         0.837551  \n",
              "1-layer SDAE SVM                0.964120  \n",
              "2-layers SDAE SVM               0.941138  \n",
              "3-layers SDAE SVM               0.937043  "
            ]
          },
          "execution_count": 30,
          "metadata": {},
          "output_type": "execute_result"
        }
      ],
      "source": [
        "testing_metrics(Y_test, predicted_arr, model_names)"
      ]
    }
  ],
  "metadata": {
    "accelerator": "GPU",
    "colab": {
      "gpuType": "T4",
      "provenance": []
    },
    "gpuClass": "standard",
    "kernelspec": {
      "display_name": "Python 3 (ipykernel)",
      "language": "python",
      "name": "python3"
    },
    "language_info": {
      "codemirror_mode": {
        "name": "ipython",
        "version": 3
      },
      "file_extension": ".py",
      "mimetype": "text/x-python",
      "name": "python",
      "nbconvert_exporter": "python",
      "pygments_lexer": "ipython3",
      "version": "3.8.10"
    }
  },
  "nbformat": 4,
  "nbformat_minor": 0
}
