{
 "cells": [
  {
   "cell_type": "code",
   "execution_count": 2,
   "metadata": {
    "collapsed": true,
    "ExecuteTime": {
     "start_time": "2023-04-06T22:34:43.242610Z",
     "end_time": "2023-04-06T22:34:46.402051Z"
    }
   },
   "outputs": [
    {
     "name": "stdout",
     "output_type": "stream",
     "text": [
      "env: CATALYST_LOG_LEVEL=15\n"
     ]
    }
   ],
   "source": [
    "import numpy as np\n",
    "import pandas as pd\n",
    "\n",
    "import logging\n",
    "\n",
    "# Hide logging messages.\n",
    "logger = logging.getLogger()\n",
    "logger.setLevel(logging.CRITICAL)\n",
    "%env CATALYST_LOG_LEVEL = 15\n",
    "#!pip install tensorflow-macos\n",
    "import tensorflow as tf\n",
    "from transformers import BertTokenizer, TFBertModel\n"
   ]
  },
  {
   "cell_type": "code",
   "execution_count": 3,
   "outputs": [],
   "source": [
    "train_df = pd.read_csv('train.csv')\n",
    "val_df = pd.read_csv('val.csv')\n",
    "test_df = pd.read_csv('test.csv')\n",
    "#set(val_df['author'].tolist()+train_df['author'].tolist())"
   ],
   "metadata": {
    "collapsed": false,
    "ExecuteTime": {
     "start_time": "2023-04-06T22:34:46.415827Z",
     "end_time": "2023-04-06T22:34:46.427197Z"
    }
   }
  },
  {
   "cell_type": "code",
   "execution_count": 11,
   "outputs": [
    {
     "name": "stderr",
     "output_type": "stream",
     "text": [
      "Some weights of the model checkpoint at bert-base-uncased were not used when initializing BertModel: ['cls.seq_relationship.weight', 'cls.predictions.transform.LayerNorm.weight', 'cls.predictions.transform.dense.bias', 'cls.predictions.bias', 'cls.predictions.decoder.weight', 'cls.predictions.transform.dense.weight', 'cls.seq_relationship.bias', 'cls.predictions.transform.LayerNorm.bias']\n",
      "- This IS expected if you are initializing BertModel from the checkpoint of a model trained on another task or with another architecture (e.g. initializing a BertForSequenceClassification model from a BertForPreTraining model).\n",
      "- This IS NOT expected if you are initializing BertModel from the checkpoint of a model that you expect to be exactly identical (initializing a BertForSequenceClassification model from a BertForSequenceClassification model).\n"
     ]
    },
    {
     "name": "stdout",
     "output_type": "stream",
     "text": [
      "torch.Size([47, 512, 768])\n",
      "torch.Size([47, 768])\n",
      "torch.Size([47, 47])\n",
      "Epoch 1:Loss:  0.8495137095451355, Dev accuracy = 0.0\n"
     ]
    }
   ],
   "source": [
    "from transformers import BertModel, BertTokenizer\n",
    "import torch\n",
    "from sklearn import metrics\n",
    "from torch import cuda\n",
    "device = 'cuda' if cuda.is_available() else 'cpu'\n",
    "\n",
    "# Load the pre-trained BERT model and tokenizer\n",
    "model_name = 'bert-base-uncased'\n",
    "tokenizer = BertTokenizer.from_pretrained(model_name)\n",
    "model = BertModel.from_pretrained(model_name)\n",
    "\n",
    "for param in model.parameters():\n",
    "    param.requires_grad = False\n",
    "\n",
    "# Replace the classification layer with a max pooling layer\n",
    "model.pooler = torch.nn.AdaptiveMaxPool1d(1)\n",
    "\n",
    "# Replace the classification layer with a linear layer\n",
    "model.classifier = torch.nn.Sequential(\n",
    "    torch.nn.Linear(model.config.hidden_size, 47)\n",
    ")\n",
    "\n",
    "# Unfreeze the weights of the last 4 layers\n",
    "for param in model.encoder.layer[-4:].parameters():\n",
    "    param.requires_grad = True\n",
    "\n",
    "# Fine-tune the model on your downstream task\n",
    "train_dataset = train_df\n",
    "dev_dataset = val_df\n",
    "optimizer = torch.optim.Adam(model.parameters(), lr=2e-5)\n",
    "model.train()\n",
    "model.to(device)\n",
    "train_inputs = tokenizer(train_dataset['text'].tolist(),\n",
    "                         padding=True,\n",
    "                         truncation=True,\n",
    "                         return_tensors='pt')\n",
    "train_labels = torch.tensor(train_dataset.drop('text', axis=1).values)\\\n",
    "    .to(device, dtype = torch.float)\n",
    "val_inputs = tokenizer(dev_dataset['text'].tolist(), padding=True, truncation=True, return_tensors='pt')\n",
    "val_labels = torch.tensor(dev_dataset.drop('text', axis=1).values)\\\n",
    "    .to(device, dtype = torch.float)\n",
    "for epoch in range(1):\n",
    "    outputs = model(train_inputs['input_ids'].to(device, dtype = torch.long),\n",
    "                    attention_mask=train_inputs['attention_mask'].to(device, dtype = torch.long),\n",
    "                    token_type_ids=train_inputs['token_type_ids'].to(device, dtype = torch.long))\n",
    "    pooled_output = outputs.last_hidden_state\n",
    "    print(pooled_output.shape)\n",
    "    pooled_output = model.pooler(pooled_output.permute(0, 2, 1)).squeeze()\n",
    "    print(pooled_output.shape)\n",
    "    logits = model.classifier(pooled_output)\n",
    "    print(logits.shape)\n",
    "    loss_fn = torch.nn.BCEWithLogitsLoss()\n",
    "    loss = loss_fn(logits, train_labels)\n",
    "    loss.backward()\n",
    "    optimizer.step()\n",
    "    optimizer.zero_grad()\n",
    "    # Evaluate the model on the dev set\n",
    "    with torch.no_grad():\n",
    "\n",
    "        outputs = model(val_inputs['input_ids'].to(device, dtype = torch.long),\n",
    "                        attention_mask=val_inputs['attention_mask'].to(device, dtype = torch.long),\n",
    "                        token_type_ids=val_inputs['token_type_ids'].to(device, dtype = torch.long))\n",
    "        pooled_output = outputs.last_hidden_state\n",
    "        pooled_output = model.pooler(pooled_output.permute(0, 2, 1)).squeeze()\n",
    "        logits = model.classifier(pooled_output)\n",
    "        acc_outputs = np.array(torch.sigmoid(logits).cpu().detach().numpy().tolist()) >= 0.5\n",
    "        acc = metrics.accuracy_score(val_labels.cpu().detach().numpy().tolist(),\n",
    "                                     acc_outputs)\n",
    "    print(f\"Epoch {epoch + 1}:Loss:  {loss.item()}, Dev accuracy = {acc}\")\n",
    "model.eval()\n",
    "# Use the fine-tuned model to make predictions on new data\n",
    "test_dataset = test_df\n",
    "with torch.no_grad():\n",
    "    inputs = tokenizer(test_dataset['text'].tolist(), padding=True, truncation=True, return_tensors='pt')\n",
    "    outputs = model(inputs['input_ids'].to(device, dtype = torch.long),\n",
    "                    attention_mask=inputs['attention_mask'].to(device, dtype = torch.long),\n",
    "                    token_type_ids=inputs['token_type_ids'].to(device, dtype = torch.long))\n",
    "    pooled_output = outputs.last_hidden_state\n",
    "    pooled_output = model.pooler(pooled_output.permute(0, 2, 1)).squeeze()\n",
    "    logits = model.classifier(pooled_output)\n",
    "    preds = torch.argmax(logits, dim=1)\n",
    "    test_dataset['pred'] = preds.tolist()\n",
    "\n"
   ],
   "metadata": {
    "collapsed": false,
    "ExecuteTime": {
     "start_time": "2023-04-07T00:08:24.753332Z",
     "end_time": "2023-04-07T00:09:33.051881Z"
    }
   }
  },
  {
   "cell_type": "code",
   "execution_count": null,
   "outputs": [],
   "source": [],
   "metadata": {
    "collapsed": false
   }
  }
 ],
 "metadata": {
  "kernelspec": {
   "display_name": "Python 3",
   "language": "python",
   "name": "python3"
  },
  "language_info": {
   "codemirror_mode": {
    "name": "ipython",
    "version": 2
   },
   "file_extension": ".py",
   "mimetype": "text/x-python",
   "name": "python",
   "nbconvert_exporter": "python",
   "pygments_lexer": "ipython2",
   "version": "2.7.6"
  }
 },
 "nbformat": 4,
 "nbformat_minor": 0
}
