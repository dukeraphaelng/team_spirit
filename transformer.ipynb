{
 "cells": [
  {
   "cell_type": "markdown",
   "metadata": {},
   "source": [
    "# BERT"
   ]
  },
  {
   "cell_type": "markdown",
   "metadata": {},
   "source": [
    "## 1. Imports"
   ]
  },
  {
   "cell_type": "code",
   "execution_count": null,
   "outputs": [],
   "source": [
    "import numpy as np\n",
    "import pandas as pd\n",
    "\n",
    "import transformers\n",
    "from transformers import BertModel, BertTokenizer, BertConfig\n",
    "\n",
    "import torch\n",
    "import torch.nn as nn\n",
    "from torch import cuda\n",
    "from torch.utils.data import Dataset, DataLoader, RandomSampler, SequentialSampler\n",
    "\n",
    "from sklearn import metrics\n",
    "from tqdm import tqdm\n",
    "import ast\n",
    "import matplotlib.pyplot as plt"
   ],
   "metadata": {
    "collapsed": false
   }
  },
  {
   "cell_type": "code",
   "execution_count": 2,
   "metadata": {
    "ExecuteTime": {
     "end_time": "2023-04-12T18:48:50.609530Z",
     "start_time": "2023-04-12T18:48:50.550438Z"
    }
   },
   "outputs": [],
   "source": [
    "train_df = pd.read_csv('final_dataset_train.csv')\n",
    "val_df = pd.read_csv('final_dataset_val.csv')\n",
    "test_df = pd.read_csv('final_dataset_test.csv')\n",
    "# train_df.groupby(['label']).size().plot.bar()\n",
    "#set(val_df['author'].tolist()+train_df['author'].tolist())\n"
   ]
  },
  {
   "cell_type": "markdown",
   "metadata": {},
   "source": [
    "## 2. Global Configurations"
   ]
  },
  {
   "cell_type": "code",
   "execution_count": 3,
   "metadata": {
    "ExecuteTime": {
     "end_time": "2023-04-12T18:48:52.029315Z",
     "start_time": "2023-04-12T18:48:51.541598Z"
    }
   },
   "outputs": [
    {
     "data": {
      "text/plain": [
       "'cuda'"
      ]
     },
     "execution_count": 3,
     "metadata": {},
     "output_type": "execute_result"
    }
   ],
   "source": [
    "#https://colab.research.google.com/github/abhimishra91/transformers-tutorials/blob/master/transformers_multi_label_classification.ipynb#scrollTo=7KnNeQx6SI78\n",
    "#https://github.com/marcellusruben/medium-resources/blob/main/Text_Classification_BERT/bert_medium.ipynb\n",
    "MAX_LEN = 512\n",
    "TRAIN_BATCH_SIZE = 8\n",
    "VALID_BATCH_SIZE = 8\n",
    "EPOCHS = 2 # 20\n",
    "LEARNING_RATE = 2e-05\n",
    "NUM_CLASSES = len(ast.literal_eval(train_df.loc[0, 'label']))\n",
    "device = 'cuda' if cuda.is_available() else 'cpu'\n",
    "\n",
    "# Load the pre-trained BERT model and tokenizer\n",
    "model_name = 'bert-base-uncased'\n",
    "tokenizer = BertTokenizer.from_pretrained(model_name)\n",
    "device"
   ]
  },
  {
   "cell_type": "markdown",
   "metadata": {},
   "source": [
    "## 3. Creating Dataset\n",
    "we chop the book into several paragraphs each has 512 words, and convert words into word embeddings"
   ]
  },
  {
   "cell_type": "code",
   "execution_count": 4,
   "metadata": {
    "ExecuteTime": {
     "end_time": "2023-04-12T18:48:53.161802Z",
     "start_time": "2023-04-12T18:48:53.145101Z"
    }
   },
   "outputs": [],
   "source": [
    "class CustomDataset(Dataset):\n",
    "    def __init__(self, dataframe, tokenizer, max_len):\n",
    "        self.tokenizer = tokenizer\n",
    "        self.data = dataframe\n",
    "        self.text = dataframe.text\n",
    "        \n",
    "        get_y = lambda x: np.asarray(ast.literal_eval(x), dtype=int)        \n",
    "        y = self.data['label'].apply(get_y)\n",
    "\n",
    "        y1 = []\n",
    "        for i in y:\n",
    "            y1.append(i)\n",
    "        y1 = np.argmax(np.asarray(y1), axis=1)\n",
    "        self.targets = np.asarray(y1)\n",
    "        self.max_len = max_len\n",
    "\n",
    "    def __len__(self):\n",
    "        return len(self.text)\n",
    "\n",
    "    def __getitem__(self, index):\n",
    "        inputs = self.tokenizer(\n",
    "            self.text[index],\n",
    "            padding='max_length',\n",
    "            max_length=512,\n",
    "            truncation=True,\n",
    "            return_tensors=\"pt\"\n",
    "        )\n",
    "        ids = inputs['input_ids']\n",
    "        mask = inputs['attention_mask']\n",
    "\n",
    "        return {\n",
    "            'ids': inputs['input_ids'].to(device, dtype=torch.long),\n",
    "            'mask': inputs['attention_mask'].to(device, dtype=torch.long),\n",
    "            'targets': torch.tensor(self.targets[index]).to(device, dtype=torch.long)\n",
    "        }"
   ]
  },
  {
   "cell_type": "code",
   "execution_count": 5,
   "metadata": {},
   "outputs": [],
   "source": [
    "training_set = CustomDataset(train_df.reset_index(drop=True), tokenizer, MAX_LEN)\n",
    "val_set = CustomDataset(val_df.reset_index(drop=True), tokenizer, MAX_LEN)\n",
    "test_set = CustomDataset(test_df.reset_index(drop=True), tokenizer, MAX_LEN)\n",
    "\n",
    "train_params = {\n",
    "    'batch_size': TRAIN_BATCH_SIZE,\n",
    "    'shuffle': True,\n",
    "    'num_workers': 0\n",
    "}\n",
    "\n",
    "test_params = {\n",
    "    'batch_size': VALID_BATCH_SIZE,\n",
    "    'shuffle': False,\n",
    "    'num_workers': 0\n",
    "}\n",
    "\n",
    "training_loader = DataLoader(training_set, **train_params)\n",
    "val_loader = DataLoader(val_set, **test_params)\n",
    "test_loader = DataLoader(test_set, **test_params)"
   ]
  },
  {
   "cell_type": "markdown",
   "metadata": {},
   "source": [
    "## 4. BERT Class\n",
    "input -> Bert -> Pooling layer -> linear classifier"
   ]
  },
  {
   "cell_type": "code",
   "execution_count": 6,
   "metadata": {
    "ExecuteTime": {
     "end_time": "2023-04-12T18:48:53.953725Z",
     "start_time": "2023-04-12T18:48:53.944899Z"
    }
   },
   "outputs": [],
   "source": [
    "class BertForClassification(nn.Module):\n",
    "    def __init__(self, config, pattern='default', layer=4):\n",
    "        super(BertForClassification, self).__init__()\n",
    "        self.bert = BertModel.from_pretrained(model_name, config=config)\n",
    "        self.dropout = nn.Dropout(config.hidden_dropout_prob)\n",
    "        self.pattern = pattern\n",
    "        self.layer = layer\n",
    "        if self.pattern == 'cat':\n",
    "            self.classifier = nn.Linear(config.hidden_size * 4, NUM_CLASSES)\n",
    "        else:\n",
    "            self.classifier = nn.Linear(config.hidden_size, NUM_CLASSES)\n",
    "\n",
    "        self.relu = nn.ReLU()\n",
    "\n",
    "    def forward(self, input_ids, attention_mask):\n",
    "        outputs = self.bert(input_ids=input_ids, attention_mask=attention_mask)\n",
    "        if self.pattern != 'default':\n",
    "            encoded_layer = outputs.hidden_states\n",
    "            outputs = []\n",
    "            for l in encoded_layer[-self.layer:]:\n",
    "                    outputs.append(l[:, 0].unsqueeze(1))\n",
    "            outputs = torch.cat(outputs, dim=1)\n",
    "            if self.pattern == 'max':\n",
    "                outputs, _ = torch.max(outputs, dim=1)\n",
    "            elif self.pattern == 'mean':\n",
    "                outputs = torch.mean(outputs, dim=1)\n",
    "            else:\n",
    "                outputs = outputs.view(outputs.size(0), -1)\n",
    "            pooled_output = self.dropout(outputs)\n",
    "        else:\n",
    "            pooled_output = self.dropout(outputs.pooler_output)\n",
    "        linear = self.classifier(pooled_output)\n",
    "        logits = self.relu(linear)\n",
    "        return logits"
   ]
  },
  {
   "cell_type": "markdown",
   "source": [
    "An early strategy, if validation accuracy won't improve in 5 times, it ends epochs."
   ],
   "metadata": {
    "collapsed": false
   }
  },
  {
   "cell_type": "code",
   "execution_count": null,
   "outputs": [],
   "source": [
    "#https://stackoverflow.com/questions/71998978/early-stopping-in-pytorch\n",
    "class EarlyStopper:\n",
    "    def __init__(self, patience=5, min_delta=0):\n",
    "        self.patience = patience\n",
    "        self.min_delta = min_delta\n",
    "        self.counter = 0\n",
    "        self.min_validation_loss = np.inf\n",
    "\n",
    "    def early_stop(self, validation_loss):\n",
    "        if validation_loss < self.min_validation_loss:\n",
    "            self.min_validation_loss = validation_loss\n",
    "            self.counter = 0\n",
    "        elif validation_loss > (self.min_validation_loss + self.min_delta):\n",
    "            self.counter += 1\n",
    "            if self.counter >= self.patience:\n",
    "                return True\n",
    "        return False"
   ],
   "metadata": {
    "collapsed": false
   }
  },
  {
   "cell_type": "markdown",
   "source": [
    "We use cross entropy loss functon for multiple classification, and use ADAM to do gradient descent."
   ],
   "metadata": {
    "collapsed": false
   }
  },
  {
   "cell_type": "code",
   "execution_count": 8,
   "metadata": {
    "ExecuteTime": {
     "end_time": "2023-04-12T18:48:58.284440Z",
     "start_time": "2023-04-12T18:48:58.272065Z"
    }
   },
   "outputs": [],
   "source": [
    "def loss_fn(outputs, targets):\n",
    "    return nn.CrossEntropyLoss().to(device)(outputs, targets)"
   ]
  },
  {
   "cell_type": "code",
   "execution_count": 9,
   "metadata": {
    "ExecuteTime": {
     "end_time": "2023-04-12T18:49:01.896725Z",
     "start_time": "2023-04-12T18:49:01.895502Z"
    }
   },
   "outputs": [],
   "source": [
    "def val(epoch, val_loader: DataLoader, model: BertModel):\n",
    "    with torch.no_grad():\n",
    "        model.eval()\n",
    "        fin_targets = []\n",
    "        fin_outputs = []\n",
    "        for _, data in enumerate(tqdm(val_loader, 0)):\n",
    "            outputs = model(input_ids=data['ids'].squeeze(1),\n",
    "                            attention_mask=data['mask'])\n",
    "            preds = torch.argmax(outputs, dim=1)\n",
    "            fin_targets.extend(data['targets'].cpu().detach().numpy().tolist())\n",
    "            fin_outputs.extend(preds.cpu().detach().numpy().tolist())\n",
    "            loss = loss_fn(outputs, data['targets'])\n",
    "        acc = (torch.tensor(fin_targets) == torch.tensor(fin_outputs)).float().mean().item()\n",
    "        print(f\"Epoch {epoch + 1}, Val accuracy = {acc}\")\n",
    "        # print(f'Val truth:{fin_targets}')\n",
    "        # print(f'Val output:{fin_outputs}')\n",
    "        val_df['truth'] = fin_targets\n",
    "        val_df['pred'] = fin_outputs\n",
    "        return loss\n",
    "\n",
    "def train(epoch, training_loader: DataLoader, val_loader: DataLoader, model: BertModel):\n",
    "    print(f'Model: {model.pattern}')\n",
    "    num_train_optimization_steps = len(training_loader) * EPOCHS\n",
    "    optimizer = torch.optim.AdamW(model.parameters(), lr=LEARNING_RATE)\n",
    "    scheduler = transformers.get_linear_schedule_with_warmup(\n",
    "        optimizer,\n",
    "        int(num_train_optimization_steps * 0.1),\n",
    "        num_train_optimization_steps\n",
    "    )\n",
    "    \n",
    "    early_stopper = EarlyStopper(patience=3)\n",
    "    \n",
    "    history = {'loss': [], 'acc': [], 'val': []}\n",
    "\n",
    "    for epoch in range(epoch):\n",
    "        fin_targets = []\n",
    "        fin_outputs = []\n",
    "        model.train()\n",
    "        total_loss_train = 0\n",
    "        for _, data in enumerate(tqdm(training_loader, 0)):\n",
    "            outputs = model(input_ids=data['ids'].squeeze(1),\n",
    "                            attention_mask=data['mask'])\n",
    "            preds = torch.argmax(outputs, dim=1)\n",
    "            fin_targets.extend(data['targets'].cpu().detach().numpy().tolist())\n",
    "            fin_outputs.extend(preds.cpu().detach().numpy().tolist())\n",
    "            loss = loss_fn(outputs, data['targets'])\n",
    "            loss.backward()\n",
    "            optimizer.step()\n",
    "            optimizer.zero_grad()\n",
    "            scheduler.step()\n",
    "            total_loss_train += loss.item()\n",
    "        history['loss'].append(total_loss_train)\n",
    "\n",
    "        acc = (torch.tensor(fin_targets) == torch.tensor(fin_outputs)).float().mean().item()\n",
    "        history['acc'].append(acc)\n",
    "        \n",
    "        print(f\"Epoch {epoch + 1}, Loss= {total_loss_train}, Train accuracy = {acc}\")\n",
    "\n",
    "        # Evaluate the model on the dev set\n",
    "        validation_loss = val(epoch, val_loader, model)\n",
    "        history['val'].append(validation_loss.cpu().detach().numpy().tolist())\n",
    "        if early_stopper.early_stop(validation_loss):\n",
    "            break\n",
    "    return history\n",
    "\n",
    "def test(test_loader, model: BertModel):\n",
    "    # print(f'Model: {model.pattern}')\n",
    "    # Use the fine-tuned model to make predictions on new data\n",
    "    with torch.no_grad():\n",
    "        model.eval()\n",
    "        fin_targets = []\n",
    "        proba_outputs = []\n",
    "        fin_outputs = []\n",
    "        for _, data in enumerate(tqdm(test_loader, 0)):\n",
    "            outputs = model(input_ids=data['ids'].squeeze(1),\n",
    "                            attention_mask=data['mask'])\n",
    "            preds = torch.argmax(outputs, dim=1)\n",
    "            fin_targets.extend(data['targets'].cpu().detach().numpy().tolist())\n",
    "            proba_outputs.extend(outputs.cpu().detach().numpy().tolist())\n",
    "            fin_outputs.extend(preds.cpu().detach().numpy().tolist())\n",
    "#         acc = (torch.tensor(fin_targets) == torch.tensor(fin_outputs)).float().mean().item()\n",
    "#         print(f\"Test accuracy = {acc}\")\n",
    "        return (fin_targets, fin_outputs, proba_outputs)"
   ]
  },
  {
   "cell_type": "markdown",
   "source": [
    "Bert is a large model with 110 million parameters, to accelerate the training speed, we freeze weights in the embedding layer and top 8 encode layers. Only fine tune the last 4 layers and pooling layer."
   ],
   "metadata": {
    "collapsed": false
   }
  },
  {
   "cell_type": "code",
   "execution_count": 10,
   "metadata": {},
   "outputs": [],
   "source": [
    "def make_model(pattern):\n",
    "    model = BertForClassification(BertConfig(output_hidden_states=True), pattern=pattern, layer=4)\n",
    "    for param in model.bert.parameters():\n",
    "        param.requires_grad = False\n",
    "    for param in model.bert.encoder.layer[-4:].parameters():\n",
    "        param.requires_grad = True\n",
    "    for param in model.bert.pooler.parameters():\n",
    "        param.requires_grad = True\n",
    "    model.to(device)\n",
    "    return model"
   ]
  },
  {
   "cell_type": "markdown",
   "metadata": {},
   "source": [
    "## 5. Training and Testing"
   ]
  },
  {
   "cell_type": "code",
   "execution_count": 11,
   "metadata": {},
   "outputs": [],
   "source": [
    "patterns = ['max', 'mean', 'cat', 'default']"
   ]
  },
  {
   "cell_type": "code",
   "execution_count": 12,
   "metadata": {
    "scrolled": true
   },
   "outputs": [
    {
     "name": "stderr",
     "output_type": "stream",
     "text": [
      "Some weights of the model checkpoint at bert-base-uncased were not used when initializing BertModel: ['cls.seq_relationship.weight', 'cls.predictions.transform.LayerNorm.weight', 'cls.predictions.transform.dense.bias', 'cls.predictions.bias', 'cls.predictions.transform.LayerNorm.bias', 'cls.predictions.transform.dense.weight', 'cls.predictions.decoder.weight', 'cls.seq_relationship.bias']\n",
      "- This IS expected if you are initializing BertModel from the checkpoint of a model trained on another task or with another architecture (e.g. initializing a BertForSequenceClassification model from a BertForPreTraining model).\n",
      "- This IS NOT expected if you are initializing BertModel from the checkpoint of a model that you expect to be exactly identical (initializing a BertForSequenceClassification model from a BertForSequenceClassification model).\n",
      "Some weights of the model checkpoint at bert-base-uncased were not used when initializing BertModel: ['cls.seq_relationship.weight', 'cls.predictions.transform.LayerNorm.weight', 'cls.predictions.transform.dense.bias', 'cls.predictions.bias', 'cls.predictions.transform.LayerNorm.bias', 'cls.predictions.transform.dense.weight', 'cls.predictions.decoder.weight', 'cls.seq_relationship.bias']\n",
      "- This IS expected if you are initializing BertModel from the checkpoint of a model trained on another task or with another architecture (e.g. initializing a BertForSequenceClassification model from a BertForPreTraining model).\n",
      "- This IS NOT expected if you are initializing BertModel from the checkpoint of a model that you expect to be exactly identical (initializing a BertForSequenceClassification model from a BertForSequenceClassification model).\n",
      "Some weights of the model checkpoint at bert-base-uncased were not used when initializing BertModel: ['cls.seq_relationship.weight', 'cls.predictions.transform.LayerNorm.weight', 'cls.predictions.transform.dense.bias', 'cls.predictions.bias', 'cls.predictions.transform.LayerNorm.bias', 'cls.predictions.transform.dense.weight', 'cls.predictions.decoder.weight', 'cls.seq_relationship.bias']\n",
      "- This IS expected if you are initializing BertModel from the checkpoint of a model trained on another task or with another architecture (e.g. initializing a BertForSequenceClassification model from a BertForPreTraining model).\n",
      "- This IS NOT expected if you are initializing BertModel from the checkpoint of a model that you expect to be exactly identical (initializing a BertForSequenceClassification model from a BertForSequenceClassification model).\n",
      "Some weights of the model checkpoint at bert-base-uncased were not used when initializing BertModel: ['cls.seq_relationship.weight', 'cls.predictions.transform.LayerNorm.weight', 'cls.predictions.transform.dense.bias', 'cls.predictions.bias', 'cls.predictions.transform.LayerNorm.bias', 'cls.predictions.transform.dense.weight', 'cls.predictions.decoder.weight', 'cls.seq_relationship.bias']\n",
      "- This IS expected if you are initializing BertModel from the checkpoint of a model trained on another task or with another architecture (e.g. initializing a BertForSequenceClassification model from a BertForPreTraining model).\n",
      "- This IS NOT expected if you are initializing BertModel from the checkpoint of a model that you expect to be exactly identical (initializing a BertForSequenceClassification model from a BertForSequenceClassification model).\n"
     ]
    }
   ],
   "source": [
    "models = [make_model(pattern) for pattern in patterns]"
   ]
  },
  {
   "cell_type": "code",
   "execution_count": 13,
   "metadata": {
    "ExecuteTime": {
     "end_time": "2023-04-11T15:52:01.580818Z",
     "start_time": "2023-04-11T15:48:16.045483Z"
    },
    "scrolled": true
   },
   "outputs": [
    {
     "name": "stderr",
     "output_type": "stream",
     "text": [
      "2023-04-13 11:59:41.795319: I tensorflow/core/platform/cpu_feature_guard.cc:193] This TensorFlow binary is optimized with oneAPI Deep Neural Network Library (oneDNN) to use the following CPU instructions in performance-critical operations:  AVX2 AVX512F AVX512_VNNI FMA\n",
      "To enable them in other operations, rebuild TensorFlow with the appropriate compiler flags.\n",
      "2023-04-13 11:59:41.895969: I tensorflow/core/util/util.cc:169] oneDNN custom operations are on. You may see slightly different numerical results due to floating-point round-off errors from different computation orders. To turn them off, set the environment variable `TF_ENABLE_ONEDNN_OPTS=0`.\n",
      "2023-04-13 11:59:41.915879: E tensorflow/stream_executor/cuda/cuda_blas.cc:2981] Unable to register cuBLAS factory: Attempting to register factory for plugin cuBLAS when one has already been registered\n"
     ]
    },
    {
     "name": "stdout",
     "output_type": "stream",
     "text": [
      "Model: max\n"
     ]
    },
    {
     "name": "stderr",
     "output_type": "stream",
     "text": [
      "2023-04-13 11:59:42.284566: W tensorflow/stream_executor/platform/default/dso_loader.cc:64] Could not load dynamic library 'libnvinfer.so.7'; dlerror: libnvinfer.so.7: cannot open shared object file: No such file or directory\n",
      "2023-04-13 11:59:42.284643: W tensorflow/stream_executor/platform/default/dso_loader.cc:64] Could not load dynamic library 'libnvinfer_plugin.so.7'; dlerror: libnvinfer_plugin.so.7: cannot open shared object file: No such file or directory\n",
      "2023-04-13 11:59:42.284650: W tensorflow/compiler/tf2tensorrt/utils/py_utils.cc:38] TF-TRT Warning: Cannot dlopen some TensorRT libraries. If you would like to use Nvidia GPU with TensorRT, please make sure the missing libraries mentioned above are installed properly.\n",
      "100%|█████████████████████████████████████████████████████████████████████████████████████| 1/1 [00:01<00:00,  1.07s/it]\n"
     ]
    },
    {
     "name": "stdout",
     "output_type": "stream",
     "text": [
      "Epoch 1, Loss= 3.9838435649871826, Train accuracy = 0.0\n"
     ]
    },
    {
     "name": "stderr",
     "output_type": "stream",
     "text": [
      "100%|█████████████████████████████████████████████████████████████████████████████████████| 1/1 [00:00<00:00,  7.57it/s]\n"
     ]
    },
    {
     "name": "stdout",
     "output_type": "stream",
     "text": [
      "Epoch 1, Val accuracy = 0.0\n"
     ]
    },
    {
     "name": "stderr",
     "output_type": "stream",
     "text": [
      "100%|█████████████████████████████████████████████████████████████████████████████████████| 1/1 [00:00<00:00,  4.84it/s]\n"
     ]
    },
    {
     "name": "stdout",
     "output_type": "stream",
     "text": [
      "Epoch 2, Loss= 3.861987590789795, Train accuracy = 0.0\n"
     ]
    },
    {
     "name": "stderr",
     "output_type": "stream",
     "text": [
      "100%|█████████████████████████████████████████████████████████████████████████████████████| 1/1 [00:00<00:00,  7.88it/s]\n"
     ]
    },
    {
     "name": "stdout",
     "output_type": "stream",
     "text": [
      "Epoch 2, Val accuracy = 0.0\n",
      "Model: mean\n"
     ]
    },
    {
     "name": "stderr",
     "output_type": "stream",
     "text": [
      "100%|█████████████████████████████████████████████████████████████████████████████████████| 1/1 [00:00<00:00,  4.83it/s]\n"
     ]
    },
    {
     "name": "stdout",
     "output_type": "stream",
     "text": [
      "Epoch 1, Loss= 3.8308844566345215, Train accuracy = 0.0\n"
     ]
    },
    {
     "name": "stderr",
     "output_type": "stream",
     "text": [
      "100%|█████████████████████████████████████████████████████████████████████████████████████| 1/1 [00:00<00:00,  7.75it/s]\n"
     ]
    },
    {
     "name": "stdout",
     "output_type": "stream",
     "text": [
      "Epoch 1, Val accuracy = 0.0\n"
     ]
    },
    {
     "name": "stderr",
     "output_type": "stream",
     "text": [
      "100%|█████████████████████████████████████████████████████████████████████████████████████| 1/1 [00:00<00:00,  4.79it/s]\n"
     ]
    },
    {
     "name": "stdout",
     "output_type": "stream",
     "text": [
      "Epoch 2, Loss= 3.6858325004577637, Train accuracy = 0.20000000298023224\n"
     ]
    },
    {
     "name": "stderr",
     "output_type": "stream",
     "text": [
      "100%|█████████████████████████████████████████████████████████████████████████████████████| 1/1 [00:00<00:00,  7.64it/s]\n"
     ]
    },
    {
     "name": "stdout",
     "output_type": "stream",
     "text": [
      "Epoch 2, Val accuracy = 0.0\n",
      "Model: cat\n"
     ]
    },
    {
     "name": "stderr",
     "output_type": "stream",
     "text": [
      "100%|█████████████████████████████████████████████████████████████████████████████████████| 1/1 [00:00<00:00,  4.83it/s]\n"
     ]
    },
    {
     "name": "stdout",
     "output_type": "stream",
     "text": [
      "Epoch 1, Loss= 3.8808071613311768, Train accuracy = 0.0\n"
     ]
    },
    {
     "name": "stderr",
     "output_type": "stream",
     "text": [
      "100%|█████████████████████████████████████████████████████████████████████████████████████| 1/1 [00:00<00:00,  7.75it/s]\n"
     ]
    },
    {
     "name": "stdout",
     "output_type": "stream",
     "text": [
      "Epoch 1, Val accuracy = 0.0\n"
     ]
    },
    {
     "name": "stderr",
     "output_type": "stream",
     "text": [
      "100%|█████████████████████████████████████████████████████████████████████████████████████| 1/1 [00:00<00:00,  4.80it/s]\n"
     ]
    },
    {
     "name": "stdout",
     "output_type": "stream",
     "text": [
      "Epoch 2, Loss= 3.793670654296875, Train accuracy = 0.0\n"
     ]
    },
    {
     "name": "stderr",
     "output_type": "stream",
     "text": [
      "100%|█████████████████████████████████████████████████████████████████████████████████████| 1/1 [00:00<00:00,  7.72it/s]\n"
     ]
    },
    {
     "name": "stdout",
     "output_type": "stream",
     "text": [
      "Epoch 2, Val accuracy = 0.0\n",
      "Model: default\n"
     ]
    },
    {
     "name": "stderr",
     "output_type": "stream",
     "text": [
      "100%|█████████████████████████████████████████████████████████████████████████████████████| 1/1 [00:00<00:00,  4.86it/s]\n"
     ]
    },
    {
     "name": "stdout",
     "output_type": "stream",
     "text": [
      "Epoch 1, Loss= 4.01135778427124, Train accuracy = 0.0\n"
     ]
    },
    {
     "name": "stderr",
     "output_type": "stream",
     "text": [
      "100%|█████████████████████████████████████████████████████████████████████████████████████| 1/1 [00:00<00:00,  7.68it/s]\n"
     ]
    },
    {
     "name": "stdout",
     "output_type": "stream",
     "text": [
      "Epoch 1, Val accuracy = 0.0\n"
     ]
    },
    {
     "name": "stderr",
     "output_type": "stream",
     "text": [
      "100%|█████████████████████████████████████████████████████████████████████████████████████| 1/1 [00:00<00:00,  4.79it/s]\n"
     ]
    },
    {
     "name": "stdout",
     "output_type": "stream",
     "text": [
      "Epoch 2, Loss= 3.958662748336792, Train accuracy = 0.0\n"
     ]
    },
    {
     "name": "stderr",
     "output_type": "stream",
     "text": [
      "100%|█████████████████████████████████████████████████████████████████████████████████████| 1/1 [00:00<00:00,  7.67it/s]"
     ]
    },
    {
     "name": "stdout",
     "output_type": "stream",
     "text": [
      "Epoch 2, Val accuracy = 0.0\n"
     ]
    },
    {
     "name": "stderr",
     "output_type": "stream",
     "text": [
      "\n"
     ]
    }
   ],
   "source": [
    "histories = [train(EPOCHS, training_loader, val_loader, model) for model in models]"
   ]
  },
  {
   "cell_type": "code",
   "execution_count": 14,
   "metadata": {
    "scrolled": true
   },
   "outputs": [
    {
     "name": "stderr",
     "output_type": "stream",
     "text": [
      "100%|█████████████████████████████████████████████████████████████████████████████████████| 1/1 [00:00<00:00,  7.48it/s]\n",
      "100%|█████████████████████████████████████████████████████████████████████████████████████| 1/1 [00:00<00:00,  7.65it/s]\n",
      "100%|█████████████████████████████████████████████████████████████████████████████████████| 1/1 [00:00<00:00,  7.69it/s]\n",
      "100%|█████████████████████████████████████████████████████████████████████████████████████| 1/1 [00:00<00:00,  7.83it/s]\n"
     ]
    }
   ],
   "source": [
    "# Return the y_pred, y_true here to do further stuff below\n",
    "tests = [test(test_loader, model) for model in models]"
   ]
  },
  {
   "cell_type": "markdown",
   "metadata": {},
   "source": [
    "## 6. Training and Validation Plots"
   ]
  },
  {
   "cell_type": "code",
   "execution_count": 15,
   "metadata": {},
   "outputs": [],
   "source": [
    "def plot_models(histories, patterns, key):\n",
    "    for history in histories:\n",
    "        plt.plot(history[key])\n",
    "    plt.title(f'model {key}')\n",
    "    plt.ylabel(key)\n",
    "    plt.xlabel('epoch')\n",
    "    plt.legend(patterns, loc='upper left')\n",
    "    plt.show()"
   ]
  },
  {
   "cell_type": "code",
   "execution_count": 16,
   "metadata": {},
   "outputs": [
    {
     "data": {
      "image/png": "[encoded data removed]",
      "text/plain": [
       "<Figure size 640x480 with 1 Axes>"
      ]
     },
     "metadata": {},
     "output_type": "display_data"
    }
   ],
   "source": [
    "plot_models(histories, patterns, 'loss')"
   ]
  },
  {
   "cell_type": "code",
   "execution_count": 17,
   "metadata": {},
   "outputs": [
    {
     "data": {
      "image/png": "[encoded data removed]",
      "text/plain": [
       "<Figure size 640x480 with 1 Axes>"
      ]
     },
     "metadata": {},
     "output_type": "display_data"
    }
   ],
   "source": [
    "plot_models(histories, patterns, 'val')"
   ]
  },
  {
   "cell_type": "code",
   "execution_count": 18,
   "metadata": {},
   "outputs": [
    {
     "data": {
      "image/png": "[encoded data removed]",
      "text/plain": [
       "<Figure size 640x480 with 1 Axes>"
      ]
     },
     "metadata": {},
     "output_type": "display_data"
    }
   ],
   "source": [
    "plot_models(histories, patterns, 'acc')"
   ]
  },
  {
   "cell_type": "markdown",
   "metadata": {},
   "source": [
    "## 7. Testing Metrics"
   ]
  },
  {
   "cell_type": "code",
   "execution_count": 19,
   "metadata": {},
   "outputs": [],
   "source": [
    "def testing_metrics(tests, patterns, export=True):\n",
    "    stats = {}\n",
    "    for model_test, pattern in zip(tests,patterns):\n",
    "        y_true, y_pred, y_proba = model_test\n",
    "        scores = metrics.classification_report(y_true, y_pred, zero_division=1, output_dict=True)\n",
    "\n",
    "        stats[pattern] = {\n",
    "            'cohen_kappa': metrics.cohen_kappa_score(y_true, y_pred),\n",
    "            'matthews_corrcoef': metrics.matthews_corrcoef(y_true, y_pred),\n",
    "            'log_loss': metrics.log_loss(y_true, y_proba, labels=np.arange(NUM_CLASSES)),\n",
    "    #         'roc_auc': metrics.roc_auc_score(y_true, y_proba, average='weighted', labels=np.arange(NUM_CLASSES), multi_class='ovr'),\n",
    "            'micro-accuracy': scores['accuracy']\n",
    "        }\n",
    "\n",
    "        for metr1 in ('macro avg', 'weighted avg'):\n",
    "            for metr2 in ('precision', 'recall', 'f1-score'):\n",
    "                stats[pattern][metr1 + ' ' + metr2] = scores[metr1][metr2]\n",
    "    \n",
    "    stats_df = pd.DataFrame.from_dict(stats).T\n",
    "    if export:\n",
    "        stats_df.to_csv('transformer_stats.csv')\n",
    "    \n",
    "    return stats_df"
   ]
  },
  {
   "cell_type": "code",
   "execution_count": 20,
   "metadata": {},
   "outputs": [
    {
     "data": {
      "text/html": [
       "<div>\n",
       "<style scoped>\n",
       "    .dataframe tbody tr th:only-of-type {\n",
       "        vertical-align: middle;\n",
       "    }\n",
       "\n",
       "    .dataframe tbody tr th {\n",
       "        vertical-align: top;\n",
       "    }\n",
       "\n",
       "    .dataframe thead th {\n",
       "        text-align: right;\n",
       "    }\n",
       "</style>\n",
       "<table border=\"1\" class=\"dataframe\">\n",
       "  <thead>\n",
       "    <tr style=\"text-align: right;\">\n",
       "      <th></th>\n",
       "      <th>cohen_kappa</th>\n",
       "      <th>matthews_corrcoef</th>\n",
       "      <th>log_loss</th>\n",
       "      <th>micro-accuracy</th>\n",
       "      <th>macro avg precision</th>\n",
       "      <th>macro avg recall</th>\n",
       "      <th>macro avg f1-score</th>\n",
       "      <th>weighted avg precision</th>\n",
       "      <th>weighted avg recall</th>\n",
       "      <th>weighted avg f1-score</th>\n",
       "    </tr>\n",
       "  </thead>\n",
       "  <tbody>\n",
       "    <tr>\n",
       "      <th>max</th>\n",
       "      <td>0.0</td>\n",
       "      <td>0.0</td>\n",
       "      <td>23.212092</td>\n",
       "      <td>0.0</td>\n",
       "      <td>0.555556</td>\n",
       "      <td>0.444444</td>\n",
       "      <td>0.0</td>\n",
       "      <td>1.0</td>\n",
       "      <td>0.0</td>\n",
       "      <td>0.0</td>\n",
       "    </tr>\n",
       "    <tr>\n",
       "      <th>mean</th>\n",
       "      <td>0.0</td>\n",
       "      <td>0.0</td>\n",
       "      <td>17.058557</td>\n",
       "      <td>0.0</td>\n",
       "      <td>0.714286</td>\n",
       "      <td>0.285714</td>\n",
       "      <td>0.0</td>\n",
       "      <td>1.0</td>\n",
       "      <td>0.0</td>\n",
       "      <td>0.0</td>\n",
       "    </tr>\n",
       "    <tr>\n",
       "      <th>cat</th>\n",
       "      <td>0.0</td>\n",
       "      <td>0.0</td>\n",
       "      <td>23.060824</td>\n",
       "      <td>0.0</td>\n",
       "      <td>0.714286</td>\n",
       "      <td>0.285714</td>\n",
       "      <td>0.0</td>\n",
       "      <td>1.0</td>\n",
       "      <td>0.0</td>\n",
       "      <td>0.0</td>\n",
       "    </tr>\n",
       "    <tr>\n",
       "      <th>default</th>\n",
       "      <td>0.0</td>\n",
       "      <td>0.0</td>\n",
       "      <td>23.517410</td>\n",
       "      <td>0.0</td>\n",
       "      <td>0.714286</td>\n",
       "      <td>0.285714</td>\n",
       "      <td>0.0</td>\n",
       "      <td>1.0</td>\n",
       "      <td>0.0</td>\n",
       "      <td>0.0</td>\n",
       "    </tr>\n",
       "  </tbody>\n",
       "</table>\n",
       "</div>"
      ],
      "text/plain": [
       "         cohen_kappa  matthews_corrcoef   log_loss  micro-accuracy  \\\n",
       "max              0.0                0.0  23.212092             0.0   \n",
       "mean             0.0                0.0  17.058557             0.0   \n",
       "cat              0.0                0.0  23.060824             0.0   \n",
       "default          0.0                0.0  23.517410             0.0   \n",
       "\n",
       "         macro avg precision  macro avg recall  macro avg f1-score  \\\n",
       "max                 0.555556          0.444444                 0.0   \n",
       "mean                0.714286          0.285714                 0.0   \n",
       "cat                 0.714286          0.285714                 0.0   \n",
       "default             0.714286          0.285714                 0.0   \n",
       "\n",
       "         weighted avg precision  weighted avg recall  weighted avg f1-score  \n",
       "max                         1.0                  0.0                    0.0  \n",
       "mean                        1.0                  0.0                    0.0  \n",
       "cat                         1.0                  0.0                    0.0  \n",
       "default                     1.0                  0.0                    0.0  "
      ]
     },
     "execution_count": 20,
     "metadata": {},
     "output_type": "execute_result"
    }
   ],
   "source": [
    "testing_metrics(tests, patterns)"
   ]
  }
 ],
 "metadata": {
  "kernelspec": {
   "display_name": "Python 3 (ipykernel)",
   "language": "python",
   "name": "python3"
  },
  "language_info": {
   "codemirror_mode": {
    "name": "ipython",
    "version": 3
   },
   "file_extension": ".py",
   "mimetype": "text/x-python",
   "name": "python",
   "nbconvert_exporter": "python",
   "pygments_lexer": "ipython3",
   "version": "3.8.10"
  }
 },
 "nbformat": 4,
 "nbformat_minor": 1
}
