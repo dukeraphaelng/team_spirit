{
 "cells": [
  {
   "cell_type": "code",
   "execution_count": 37,
   "metadata": {},
   "outputs": [
    {
     "name": "stdout",
     "output_type": "stream",
     "text": [
      "Requirement already satisfied: pandas in /Library/Frameworks/Python.framework/Versions/3.11/lib/python3.11/site-packages (1.5.2)\n",
      "Requirement already satisfied: python-dateutil>=2.8.1 in /Library/Frameworks/Python.framework/Versions/3.11/lib/python3.11/site-packages (from pandas) (2.8.2)\n",
      "Requirement already satisfied: pytz>=2020.1 in /Library/Frameworks/Python.framework/Versions/3.11/lib/python3.11/site-packages (from pandas) (2022.6)\n",
      "Requirement already satisfied: numpy>=1.21.0 in /Library/Frameworks/Python.framework/Versions/3.11/lib/python3.11/site-packages (from pandas) (1.23.4)\n",
      "Requirement already satisfied: six>=1.5 in /Library/Frameworks/Python.framework/Versions/3.11/lib/python3.11/site-packages (from python-dateutil>=2.8.1->pandas) (1.16.0)\n",
      "Requirement already satisfied: torch in /Library/Frameworks/Python.framework/Versions/3.11/lib/python3.11/site-packages (2.0.0)\n",
      "Requirement already satisfied: filelock in /Library/Frameworks/Python.framework/Versions/3.11/lib/python3.11/site-packages (from torch) (3.10.0)\n",
      "Requirement already satisfied: typing-extensions in /Library/Frameworks/Python.framework/Versions/3.11/lib/python3.11/site-packages (from torch) (4.5.0)\n",
      "Requirement already satisfied: sympy in /Library/Frameworks/Python.framework/Versions/3.11/lib/python3.11/site-packages (from torch) (1.11.1)\n",
      "Requirement already satisfied: networkx in /Library/Frameworks/Python.framework/Versions/3.11/lib/python3.11/site-packages (from torch) (3.0)\n",
      "Requirement already satisfied: jinja2 in /Library/Frameworks/Python.framework/Versions/3.11/lib/python3.11/site-packages (from torch) (3.1.2)\n",
      "Requirement already satisfied: MarkupSafe>=2.0 in /Library/Frameworks/Python.framework/Versions/3.11/lib/python3.11/site-packages (from jinja2->torch) (2.1.1)\n",
      "Requirement already satisfied: mpmath>=0.19 in /Library/Frameworks/Python.framework/Versions/3.11/lib/python3.11/site-packages (from sympy->torch) (1.3.0)\n",
      "Requirement already satisfied: numpy in /Library/Frameworks/Python.framework/Versions/3.11/lib/python3.11/site-packages (1.23.4)\n"
     ]
    }
   ],
   "source": [
    "!pip3 install pandas\n",
    "!pip3 install torch\n",
    "!pip3 install numpy"
   ]
  },
  {
   "cell_type": "code",
   "execution_count": 38,
   "metadata": {},
   "outputs": [],
   "source": [
    "import pandas as pd\n",
    "import torch\n",
    "from torch.nn.functional import pad\n",
    "import numpy as np"
   ]
  },
  {
   "cell_type": "code",
   "execution_count": 39,
   "metadata": {},
   "outputs": [],
   "source": [
    "filename = \"preprocessed.csv\"\n",
    "df = pd.read_csv(filename)"
   ]
  },
  {
   "cell_type": "markdown",
   "metadata": {},
   "source": [
    "Filter"
   ]
  },
  {
   "cell_type": "code",
   "execution_count": 40,
   "metadata": {},
   "outputs": [
    {
     "data": {
      "text/plain": [
       "5470"
      ]
     },
     "execution_count": 40,
     "metadata": {},
     "output_type": "execute_result"
    }
   ],
   "source": [
    "df = df[df.num_tokens > 0]\n",
    "author_count = df['author'].value_counts()\n",
    "many_works_author = author_count[author_count >= 10]\n",
    "df = df[df.author.isin(many_works_author.index.to_numpy())].reset_index()\n",
    "len(df)"
   ]
  },
  {
   "cell_type": "markdown",
   "metadata": {},
   "source": [
    "                                    Take the first 512 tokens \n",
    "\n",
    "                                    Take the last 512 tokens \n",
    "\n",
    "                                    Take the first 128 and last 384 tokens"
   ]
  },
  {
   "cell_type": "code",
   "execution_count": 41,
   "metadata": {},
   "outputs": [],
   "source": [
    "def get_first_512_tokens(text):\n",
    "    tokens = text.split()\n",
    "    if (len(tokens) >= 512):\n",
    "        return ' '.join(text.split()[:512])\n",
    "    padding = ['0'] * (512 - len(tokens))\n",
    "    return ' '.join(tokens + padding)"
   ]
  },
  {
   "cell_type": "code",
   "execution_count": 42,
   "metadata": {},
   "outputs": [],
   "source": [
    "def get_last_512_tokens(text):\n",
    "    tokens = text.split()\n",
    "    if (len(tokens) >= 512):\n",
    "        return ' '.join(text.split()[-512:])\n",
    "    padding = ['0'] * (512 - len(tokens))\n",
    "    return ' '.join(padding + tokens)"
   ]
  },
  {
   "cell_type": "code",
   "execution_count": 43,
   "metadata": {},
   "outputs": [],
   "source": [
    "def get_head_128_last_384_tokens(text):\n",
    "    tokens = text.split()\n",
    "    if (len(tokens) >= 512):\n",
    "        return ' '.join(text.split()[:128] + text.split()[-384:])\n",
    "    padding = ['0'] * (512 - len(tokens))\n",
    "    return ' '.join(tokens + padding)"
   ]
  },
  {
   "cell_type": "code",
   "execution_count": 44,
   "metadata": {},
   "outputs": [
    {
     "name": "stdout",
     "output_type": "stream",
     "text": [
      "transcriber notes page scan source http the diphthong oe is represented by oe see footnote explaining correction of printing error books by hermann sudermann published by charles scribner sons the joy of living lebe das a play in five acts translated from the german by edith wharton roses four plays translated from the german by grace frank morituri three plays translated from the german by archibald alexander morituri morituri three plays teja fritzchen the eternal masculine by hermann sudermann translated from the german by archibald alexander charles scribner sons new york copyright by charles scribner sons published september contents teja fritzchen the eternal masculine i teja a drama in one act persons teja king of the goths balthilda queen amalaberga her mother agila bishop euric theodemir lords in the former kingdom of the goths athanaric ildibad spearbearer of the king haribalt a warrior two camp watchers teja scene represents the king tent the curtains are open in the background and permit a view through the camp of the gothic warriors over toward vesuvius and the distant sea which shine in the splendour of the setting sun on the left stands the rudely constructed throne of the king in the centre a table with seats around it on the right the king couch consisting of skins pieced together above a rack holding many kinds of weapons link torches on the right and two camp watchers first camp watcher ho thou art thou fallen asleep second camp watcher why should i be fallen asleep first camp watcher because thou leanest so limber upon thy spear bent like the bow of a hun second camp watcher i stand so bent because thus hunger gripes me less first camp watcher is of no avail it availeth as little as thy belt afterward in standing upright it is the more severe second camp watcher how long is this to last first camp watcher until the ships come that is simple indeed second camp watcher yea but when are the ships coming first camp watcher how can i know that look toward the heights there high upon the milchberg there standeth the watch and overlooketh the sea for twenty miles if he knoweth not there behind the misenian hills there they must be coming second camp watcher verily if the byzantian let them pass first camp watcher the byzantian hath no ships second camp watcher the byzantian hath so many ships that he can surround the whole italian world with them as with a hedge as close as the byzantian eunuch hath surrounded us these seven weeks first camp watcher these seven weeks second camp watcher knowest thou what i got for nourishment at noon this day the same rind of bacon on which i brake my teeth eight days ago forsooth i had cut my three crosses with my knife that was a meeting again but i devoured it a noble feast for a king marriage day first camp watcher thou the king had more second camp watcher and thou we would suffer ourselves to be beaten\n"
     ]
    }
   ],
   "source": [
    "df['text_head_512'] = df['text'].apply(lambda x: get_first_512_tokens(x))\n",
    "print(df.iloc[0]['text_head_512'])"
   ]
  },
  {
   "cell_type": "code",
   "execution_count": 45,
   "metadata": {},
   "outputs": [
    {
     "name": "stdout",
     "output_type": "stream",
     "text": [
      "one can walk about it and find something to sketch by the way the marshal how would it be if you went with me the painter where the marshal to the camp the painter yes and what is there the marshal plenty for you you will find gay fare and pastimes and diversions as much as you want the painter and are there fights too the marshal indeed there are the painter and will there be a bold reconnoissance by night the marshal often the painter capital i will ride with you in my mind eye i see already golden moonrise and silver vapour on the dark alder bush are there also songs and notes of the mandolin the marshal plenty of them the painter hurrah there is music too the marshal and in the by night at the many a tale of human destiny will be unfolded to you the painter a world of pictures and love adventures the marshal if you choose to call them adventures the painter agreed sir and an excess of happiness will flow out of my soul like a yet it seems i am forgetting the greatest happiness i shall be with you i may paint you the marshal take care the same the valet de chambre the queen the two maids of honour valet your majesty the queen over from the left to the right without bestowing a glance on the two men at the door on the right she gives valet scroll with which he advances then she goes out followed by the maids of the marshal now the hastily contrived reward of our misdeeds is at hand jean my noble sir bestir yourself the painter that is the handsome jean as an angel of justice unfolds the scroll and reads the painter and to me what do you bring to me the valet an expression of awkward you nothing the painter exquisite the valet but yes your reward shall be meted out to you in the office of the marshal of the court the painter indeed the valet yes the scenes on the right are heard cries of jean jean the deaf maid of honour in from the jean have you forgotten her majesty the valet oh no tell her majesty i am coming directly the painter and the marshal at each other and break out into the marshal look look my friend he seems to have got into bad habits the painter at it is rightly so i had almost begged him at the court where we men are forbidden proudly to represent the eternal masculine they both bow to the valet the painter but we are going into the flowery open to our merry pursuits the marshal and to combat walk arm in arm bowing right and left toward the door the marquises without hiding their disrespect nevertheless recognise them in a not uncourtly curtain footnote footnote milchbart literally milky beard footnote the colonel footnote the document is defective here showing iry i have inserted the word fairy based on transcriber\n"
     ]
    }
   ],
   "source": [
    "df['text_last_512'] = df['text'].apply(lambda x: get_last_512_tokens(x))\n",
    "print(df.iloc[0]['text_last_512'])"
   ]
  },
  {
   "cell_type": "code",
   "execution_count": 46,
   "metadata": {},
   "outputs": [
    {
     "name": "stdout",
     "output_type": "stream",
     "text": [
      "transcriber notes page scan source http the diphthong oe is represented by oe see footnote explaining correction of printing error books by hermann sudermann published by charles scribner sons the joy of living lebe das a play in five acts translated from the german by edith wharton roses four plays translated from the german by grace frank morituri three plays translated from the german by archibald alexander morituri morituri three plays teja fritzchen the eternal masculine by hermann sudermann translated from the german by archibald alexander charles scribner sons new york copyright by charles scribner sons published september contents teja fritzchen the eternal masculine i teja a drama in one act persons teja king of the goths balthilda queen amalaberga her mother agila bishop euric theodemir lords in music too the marshal and in the by night at the many a tale of human destiny will be unfolded to you the painter a world of pictures and love adventures the marshal if you choose to call them adventures the painter agreed sir and an excess of happiness will flow out of my soul like a yet it seems i am forgetting the greatest happiness i shall be with you i may paint you the marshal take care the same the valet de chambre the queen the two maids of honour valet your majesty the queen over from the left to the right without bestowing a glance on the two men at the door on the right she gives valet scroll with which he advances then she goes out followed by the maids of the marshal now the hastily contrived reward of our misdeeds is at hand jean my noble sir bestir yourself the painter that is the handsome jean as an angel of justice unfolds the scroll and reads the painter and to me what do you bring to me the valet an expression of awkward you nothing the painter exquisite the valet but yes your reward shall be meted out to you in the office of the marshal of the court the painter indeed the valet yes the scenes on the right are heard cries of jean jean the deaf maid of honour in from the jean have you forgotten her majesty the valet oh no tell her majesty i am coming directly the painter and the marshal at each other and break out into the marshal look look my friend he seems to have got into bad habits the painter at it is rightly so i had almost begged him at the court where we men are forbidden proudly to represent the eternal masculine they both bow to the valet the painter but we are going into the flowery open to our merry pursuits the marshal and to combat walk arm in arm bowing right and left toward the door the marquises without hiding their disrespect nevertheless recognise them in a not uncourtly curtain footnote footnote milchbart literally milky beard footnote the colonel footnote the document is defective here showing iry i have inserted the word fairy based on transcriber\n"
     ]
    }
   ],
   "source": [
    "df['text_head_last_512'] = df['text'].apply(lambda x: get_head_128_last_384_tokens(x))\n",
    "print(df.iloc[0]['text_head_last_512'])"
   ]
  },
  {
   "cell_type": "code",
   "execution_count": 47,
   "metadata": {},
   "outputs": [
    {
     "data": {
      "text/plain": [
       "Index(['index', 'id', 'title', 'author', 'authoryearofbirth',\n",
       "       'authoryearofdeath', 'idx', 'num_tokens', 'num_unique', 'text',\n",
       "       'text_head_512', 'text_last_512', 'text_head_last_512'],\n",
       "      dtype='object')"
      ]
     },
     "execution_count": 47,
     "metadata": {},
     "output_type": "execute_result"
    }
   ],
   "source": [
    "df.columns"
   ]
  },
  {
   "cell_type": "markdown",
   "metadata": {},
   "source": [
    "                                                            One hot"
   ]
  },
  {
   "cell_type": "code",
   "execution_count": 48,
   "metadata": {},
   "outputs": [],
   "source": [
    "def onehot_to_vertor(x):\n",
    "    values = list(x.values)\n",
    "    return values"
   ]
  },
  {
   "cell_type": "code",
   "execution_count": 49,
   "metadata": {},
   "outputs": [],
   "source": [
    "def save_author_order(x):\n",
    "    x.to_csv('order.csv', index=False)\n",
    "    "
   ]
  },
  {
   "cell_type": "code",
   "execution_count": 50,
   "metadata": {},
   "outputs": [
    {
     "data": {
      "text/plain": [
       "0       [0, 0, 0, 0, 0, 0, 0, 0, 0, 0, 0, 0, 0, 0, 0, ...\n",
       "1       [0, 0, 0, 0, 0, 0, 0, 0, 0, 0, 0, 0, 0, 0, 0, ...\n",
       "2       [0, 0, 0, 0, 0, 0, 0, 0, 0, 0, 0, 0, 0, 0, 0, ...\n",
       "3       [0, 0, 0, 0, 0, 0, 0, 0, 0, 0, 0, 0, 0, 0, 0, ...\n",
       "4       [0, 0, 0, 0, 0, 0, 0, 0, 0, 0, 0, 0, 0, 0, 0, ...\n",
       "                              ...                        \n",
       "5465    [0, 0, 0, 0, 0, 0, 0, 0, 0, 0, 0, 0, 0, 0, 0, ...\n",
       "5466    [0, 0, 0, 0, 0, 0, 0, 0, 0, 0, 0, 0, 0, 0, 0, ...\n",
       "5467    [0, 0, 0, 0, 0, 0, 0, 0, 0, 0, 0, 0, 0, 0, 0, ...\n",
       "5468    [0, 0, 0, 0, 0, 0, 0, 0, 0, 0, 0, 0, 0, 0, 0, ...\n",
       "5469    [0, 0, 0, 0, 0, 0, 0, 0, 0, 0, 0, 0, 0, 0, 0, ...\n",
       "Name: label, Length: 5470, dtype: object"
      ]
     },
     "execution_count": 50,
     "metadata": {},
     "output_type": "execute_result"
    }
   ],
   "source": [
    "one_hot = pd.get_dummies(df['author'])\n",
    "save_author_order(one_hot)\n",
    "# convert true/false to 1/0\n",
    "one_hot = one_hot.astype(int)\n",
    "df['label'] = one_hot.apply(onehot_to_vertor, axis=1)\n",
    "df['label']\n",
    "\n",
    "\n"
   ]
  },
  {
   "cell_type": "code",
   "execution_count": 51,
   "metadata": {},
   "outputs": [],
   "source": [
    "head_df = df[['label', 'text_head_512']]\n",
    "head_df = head_df.rename(columns={'text_head_512': 'text'})\n",
    "tail_df = df[['label', 'text_last_512']]\n",
    "tail_df = tail_df.rename(columns={'text_last_512': 'text'})\n",
    "head_tail_df = df[['label', 'text_head_last_512']]\n",
    "head_tail_df = head_tail_df.rename(columns={'text_head_last_512': 'text'})\n",
    "\n",
    "head_df.to_csv('head.csv', index=False)\n",
    "tail_df.to_csv('tail.csv', index=False)\n",
    "head_tail_df.to_csv('head_tail.csv', index=False)"
   ]
  },
  {
   "attachments": {},
   "cell_type": "markdown",
   "metadata": {},
   "source": [
    "                                                Sampling"
   ]
  },
  {
   "cell_type": "code",
   "execution_count": 52,
   "metadata": {},
   "outputs": [
    {
     "name": "stdout",
     "output_type": "stream",
     "text": [
      "Requirement already satisfied: scikit-learn in /Library/Frameworks/Python.framework/Versions/3.11/lib/python3.11/site-packages (1.2.1)\n",
      "Requirement already satisfied: numpy>=1.17.3 in /Library/Frameworks/Python.framework/Versions/3.11/lib/python3.11/site-packages (from scikit-learn) (1.23.4)\n",
      "Requirement already satisfied: scipy>=1.3.2 in /Library/Frameworks/Python.framework/Versions/3.11/lib/python3.11/site-packages (from scikit-learn) (1.10.1)\n",
      "Requirement already satisfied: joblib>=1.1.1 in /Library/Frameworks/Python.framework/Versions/3.11/lib/python3.11/site-packages (from scikit-learn) (1.2.0)\n",
      "Requirement already satisfied: threadpoolctl>=2.0.0 in /Library/Frameworks/Python.framework/Versions/3.11/lib/python3.11/site-packages (from scikit-learn) (3.1.0)\n"
     ]
    }
   ],
   "source": [
    "!pip3 install scikit-learn"
   ]
  },
  {
   "cell_type": "code",
   "execution_count": 53,
   "metadata": {},
   "outputs": [],
   "source": [
    "from sklearn.model_selection import train_test_split\n",
    "from sklearn.model_selection import StratifiedKFold\n",
    "from sklearn.preprocessing import MultiLabelBinarizer\n",
    "from sklearn.preprocessing import LabelBinarizer"
   ]
  },
  {
   "cell_type": "code",
   "execution_count": 54,
   "metadata": {},
   "outputs": [],
   "source": [
    "def get_y(x):\n",
    "    preds = np.argmax(x, axis=0)\n",
    "    return preds"
   ]
  },
  {
   "cell_type": "code",
   "execution_count": 55,
   "metadata": {},
   "outputs": [],
   "source": [
    "def sampling(df):\n",
    "    raw_train_data, test_data = train_test_split(df, test_size=0.2, shuffle=True)\n",
    "    skf = StratifiedKFold(n_splits=5, shuffle=True, random_state=42)\n",
    "    X = list(raw_train_data['text'])\n",
    "    y = raw_train_data['label'].apply(lambda x : get_y(x))\n",
    "    y = np.array(y)\n",
    "    train_ds = pd.DataFrame(columns=['text', 'label']).reset_index(drop=True)\n",
    "    val_ds = pd.DataFrame(columns=['text', 'label']).reset_index(drop=True)\n",
    "    df = raw_train_data\n",
    "    for train_idxs, val_idxs in skf.split(X, y):\n",
    "        for i in train_idxs:\n",
    "            train_ds = train_ds.append(df.iloc[i], ignore_index=True)\n",
    "            #train_ds = pd.concat([train_ds, df.iloc[i]], ignore_index=True)\n",
    "        for i in val_idxs:\n",
    "            val_ds = val_ds.append(df.iloc[i], ignore_index=True)\n",
    "            #val_ds = pd.concat([val_ds, df.iloc[i]], ignore_index=True)\n",
    "    return train_ds, val_ds, test_data"
   ]
  },
  {
   "cell_type": "markdown",
   "metadata": {},
   "source": []
  },
  {
   "cell_type": "code",
   "execution_count": 56,
   "metadata": {},
   "outputs": [
    {
     "name": "stderr",
     "output_type": "stream",
     "text": [
      "/var/folders/h4/wblr9zyj0633z0hcpl2g881w0000gn/T/ipykernel_63033/2192322026.py:12: FutureWarning: The frame.append method is deprecated and will be removed from pandas in a future version. Use pandas.concat instead.\n",
      "  train_ds = train_ds.append(df.iloc[i], ignore_index=True)\n",
      "/var/folders/h4/wblr9zyj0633z0hcpl2g881w0000gn/T/ipykernel_63033/2192322026.py:15: FutureWarning: The frame.append method is deprecated and will be removed from pandas in a future version. Use pandas.concat instead.\n",
      "  val_ds = val_ds.append(df.iloc[i], ignore_index=True)\n"
     ]
    }
   ],
   "source": [
    "train_ds, val_ds, test_data = sampling(head_df)"
   ]
  },
  {
   "cell_type": "code",
   "execution_count": 57,
   "metadata": {},
   "outputs": [
    {
     "name": "stdout",
     "output_type": "stream",
     "text": [
      "1094 17504 4376\n"
     ]
    },
    {
     "data": {
      "text/html": [
       "<div>\n",
       "<style scoped>\n",
       "    .dataframe tbody tr th:only-of-type {\n",
       "        vertical-align: middle;\n",
       "    }\n",
       "\n",
       "    .dataframe tbody tr th {\n",
       "        vertical-align: top;\n",
       "    }\n",
       "\n",
       "    .dataframe thead th {\n",
       "        text-align: right;\n",
       "    }\n",
       "</style>\n",
       "<table border=\"1\" class=\"dataframe\">\n",
       "  <thead>\n",
       "    <tr style=\"text-align: right;\">\n",
       "      <th></th>\n",
       "      <th>label</th>\n",
       "      <th>text</th>\n",
       "    </tr>\n",
       "  </thead>\n",
       "  <tbody>\n",
       "    <tr>\n",
       "      <th>2050</th>\n",
       "      <td>[0, 0, 0, 0, 0, 0, 0, 0, 0, 0, 0, 0, 0, 0, 0, ...</td>\n",
       "      <td>lancashire illustration emigrants at liverpool...</td>\n",
       "    </tr>\n",
       "    <tr>\n",
       "      <th>1221</th>\n",
       "      <td>[0, 0, 0, 0, 0, 0, 0, 0, 0, 0, 0, 0, 0, 0, 0, ...</td>\n",
       "      <td>produced from images available at the internet...</td>\n",
       "    </tr>\n",
       "    <tr>\n",
       "      <th>5255</th>\n",
       "      <td>[0, 0, 0, 0, 0, 0, 0, 0, 0, 0, 0, 0, 0, 0, 0, ...</td>\n",
       "      <td>the poems of madison cawein volume ii new worl...</td>\n",
       "    </tr>\n",
       "    <tr>\n",
       "      <th>572</th>\n",
       "      <td>[0, 0, 0, 0, 0, 0, 0, 0, 0, 0, 0, 0, 0, 0, 0, ...</td>\n",
       "      <td>produced from scanned images of public domain ...</td>\n",
       "    </tr>\n",
       "    <tr>\n",
       "      <th>1151</th>\n",
       "      <td>[0, 0, 0, 0, 0, 0, 0, 0, 0, 0, 0, 0, 0, 0, 0, ...</td>\n",
       "      <td>generously made available by internet librarie...</td>\n",
       "    </tr>\n",
       "    <tr>\n",
       "      <th>...</th>\n",
       "      <td>...</td>\n",
       "      <td>...</td>\n",
       "    </tr>\n",
       "    <tr>\n",
       "      <th>4709</th>\n",
       "      <td>[0, 0, 0, 0, 0, 0, 0, 0, 0, 0, 0, 0, 0, 0, 0, ...</td>\n",
       "      <td>of william shakespeare illustration the works ...</td>\n",
       "    </tr>\n",
       "    <tr>\n",
       "      <th>3091</th>\n",
       "      <td>[0, 0, 0, 0, 0, 0, 0, 0, 0, 0, 0, 0, 0, 0, 0, ...</td>\n",
       "      <td>produced from images generously made available...</td>\n",
       "    </tr>\n",
       "    <tr>\n",
       "      <th>1361</th>\n",
       "      <td>[0, 0, 0, 0, 0, 0, 0, 0, 0, 0, 0, 0, 0, 0, 0, ...</td>\n",
       "      <td>the miracle songs of jesus by wilson macdonald...</td>\n",
       "    </tr>\n",
       "    <tr>\n",
       "      <th>1684</th>\n",
       "      <td>[0, 0, 0, 0, 0, 0, 0, 0, 0, 0, 0, 0, 0, 0, 0, ...</td>\n",
       "      <td>transcriber note text enclosed by underscores ...</td>\n",
       "    </tr>\n",
       "    <tr>\n",
       "      <th>571</th>\n",
       "      <td>[0, 0, 0, 0, 0, 0, 0, 0, 0, 0, 0, 0, 0, 0, 0, ...</td>\n",
       "      <td>the sandman his farm stories sandman stories e...</td>\n",
       "    </tr>\n",
       "  </tbody>\n",
       "</table>\n",
       "<p>1094 rows × 2 columns</p>\n",
       "</div>"
      ],
      "text/plain": [
       "                                                  label  \\\n",
       "2050  [0, 0, 0, 0, 0, 0, 0, 0, 0, 0, 0, 0, 0, 0, 0, ...   \n",
       "1221  [0, 0, 0, 0, 0, 0, 0, 0, 0, 0, 0, 0, 0, 0, 0, ...   \n",
       "5255  [0, 0, 0, 0, 0, 0, 0, 0, 0, 0, 0, 0, 0, 0, 0, ...   \n",
       "572   [0, 0, 0, 0, 0, 0, 0, 0, 0, 0, 0, 0, 0, 0, 0, ...   \n",
       "1151  [0, 0, 0, 0, 0, 0, 0, 0, 0, 0, 0, 0, 0, 0, 0, ...   \n",
       "...                                                 ...   \n",
       "4709  [0, 0, 0, 0, 0, 0, 0, 0, 0, 0, 0, 0, 0, 0, 0, ...   \n",
       "3091  [0, 0, 0, 0, 0, 0, 0, 0, 0, 0, 0, 0, 0, 0, 0, ...   \n",
       "1361  [0, 0, 0, 0, 0, 0, 0, 0, 0, 0, 0, 0, 0, 0, 0, ...   \n",
       "1684  [0, 0, 0, 0, 0, 0, 0, 0, 0, 0, 0, 0, 0, 0, 0, ...   \n",
       "571   [0, 0, 0, 0, 0, 0, 0, 0, 0, 0, 0, 0, 0, 0, 0, ...   \n",
       "\n",
       "                                                   text  \n",
       "2050  lancashire illustration emigrants at liverpool...  \n",
       "1221  produced from images available at the internet...  \n",
       "5255  the poems of madison cawein volume ii new worl...  \n",
       "572   produced from scanned images of public domain ...  \n",
       "1151  generously made available by internet librarie...  \n",
       "...                                                 ...  \n",
       "4709  of william shakespeare illustration the works ...  \n",
       "3091  produced from images generously made available...  \n",
       "1361  the miracle songs of jesus by wilson macdonald...  \n",
       "1684  transcriber note text enclosed by underscores ...  \n",
       "571   the sandman his farm stories sandman stories e...  \n",
       "\n",
       "[1094 rows x 2 columns]"
      ]
     },
     "execution_count": 57,
     "metadata": {},
     "output_type": "execute_result"
    }
   ],
   "source": [
    "print(len(test_data), len(train_ds), len(val_ds))\n",
    "test_data"
   ]
  }
 ],
 "metadata": {
  "kernelspec": {
   "display_name": "Python 3",
   "language": "python",
   "name": "python3"
  },
  "language_info": {
   "codemirror_mode": {
    "name": "ipython",
    "version": 3
   },
   "file_extension": ".py",
   "mimetype": "text/x-python",
   "name": "python",
   "nbconvert_exporter": "python",
   "pygments_lexer": "ipython3",
   "version": "3.11.0"
  },
  "orig_nbformat": 4
 },
 "nbformat": 4,
 "nbformat_minor": 2
}
