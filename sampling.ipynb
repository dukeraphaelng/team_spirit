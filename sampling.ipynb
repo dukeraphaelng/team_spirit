{
 "cells": [
  {
   "cell_type": "markdown",
   "source": [
    "## Chopping text and sampling\n",
    "We had already chopped the text, the original dataset and the sample dataset both had been uploaded to One drive, you don't have to run this code"
   ],
   "metadata": {
    "collapsed": false
   }
  },
  {
   "cell_type": "code",
   "execution_count": null,
   "outputs": [],
   "source": [
    "!pip3 install pandas\n",
    "!pip3 install torch\n",
    "!pip3 install numpy\n",
    "!pip3 install scikit-learn"
   ],
   "metadata": {
    "collapsed": false
   }
  },
  {
   "cell_type": "code",
   "execution_count": 5,
   "outputs": [],
   "source": [
    "INPUT_FILE = \"preprocessed.csv\"\n",
    "AUTHOR_NUM = 50\n",
    "NUM_BOOKS_AUTHOR_WRITE = 20\n",
    "SAMPLE_FILE_NAME = \"top_30_authors_1000.csv\""
   ],
   "metadata": {
    "collapsed": false
   }
  },
  {
   "cell_type": "code",
   "execution_count": 6,
   "metadata": {
    "ExecuteTime": {
     "start_time": "2023-04-13T12:29:54.305300Z",
     "end_time": "2023-04-13T12:29:55.310406Z"
    }
   },
   "outputs": [],
   "source": [
    "import pandas as pd\n",
    "import numpy as np\n",
    "import random\n",
    "from tqdm import tqdm\n",
    "from sklearn.model_selection import train_test_split\n",
    "import ast"
   ]
  },
  {
   "cell_type": "code",
   "execution_count": 3,
   "metadata": {
    "ExecuteTime": {
     "start_time": "2023-04-12T20:26:36.671109Z",
     "end_time": "2023-04-12T20:27:10.906825Z"
    }
   },
   "outputs": [],
   "source": [
    "filename = INPUT_FILE\n",
    "preprocessed_df = pd.read_csv(filename)\n"
   ]
  },
  {
   "cell_type": "markdown",
   "metadata": {},
   "source": [
    "Filter"
   ]
  },
  {
   "cell_type": "code",
   "execution_count": 4,
   "metadata": {
    "ExecuteTime": {
     "start_time": "2023-04-12T20:27:16.249669Z",
     "end_time": "2023-04-12T20:27:16.290605Z"
    }
   },
   "outputs": [
    {
     "data": {
      "text/plain": "3324"
     },
     "execution_count": 4,
     "metadata": {},
     "output_type": "execute_result"
    }
   ],
   "source": [
    "preprocessed_df['author'].unique().size"
   ]
  },
  {
   "cell_type": "code",
   "execution_count": 37,
   "metadata": {
    "ExecuteTime": {
     "start_time": "2023-04-12T20:39:18.717357Z",
     "end_time": "2023-04-12T20:39:18.763692Z"
    }
   },
   "outputs": [
    {
     "data": {
      "text/plain": "Lytton, Edward Bulwer Lytton, Baron     212\nEbers, Georg                            163\nTwain, Mark                             136\nParker, Gilbert                         128\nBalzac, Honoré de                       114\nMeredith, George                        107\nJacobs, W. W. (William Wymark)          102\nMotley, John Lothrop                    102\nShakespeare, William                     88\nPepys, Samuel                            87\nHawthorne, Nathaniel                     84\nHowells, William Dean                    79\nChurchill, Winston                       65\nMacDonald, George                        61\nHarte, Bret                              55\nDickens, Charles                         52\nHaggard, H. Rider (Henry Rider)          52\nYonge, Charlotte M. (Charlotte Mary)     52\nJames, Henry                             50\nGalsworthy, John                         48\nLang, Andrew                             48\nStevenson, Robert Louis                  48\nCervantes Saavedra, Miguel de            46\nDoyle, Arthur Conan                      46\nTrollope, Anthony                        46\nScott, Walter                            46\nWarner, Charles Dudley                   44\nWhittier, John Greenleaf                 43\nDavis, Richard Harding                   43\nLondon, Jack                             43\nName: author, dtype: int64"
     },
     "execution_count": 37,
     "metadata": {},
     "output_type": "execute_result"
    }
   ],
   "source": [
    "df = preprocessed_df[preprocessed_df.num_tokens > 0]\n",
    "author_count = df['author'].value_counts()\n",
    "many_works_author = author_count.sort_values()\n",
    "author_count[0:30]"
   ]
  },
  {
   "cell_type": "code",
   "execution_count": 29,
   "metadata": {
    "ExecuteTime": {
     "start_time": "2023-04-12T20:36:39.224075Z",
     "end_time": "2023-04-12T20:36:39.234238Z"
    }
   },
   "outputs": [],
   "source": [
    "many_works_author = many_works_author.unique()[0:30]"
   ]
  },
  {
   "cell_type": "code",
   "execution_count": 31,
   "metadata": {
    "ExecuteTime": {
     "start_time": "2023-04-12T20:36:54.100328Z",
     "end_time": "2023-04-12T20:36:54.134790Z"
    }
   },
   "outputs": [
    {
     "data": {
      "text/plain": "30"
     },
     "execution_count": 31,
     "metadata": {},
     "output_type": "execute_result"
    }
   ],
   "source": [
    "many_works_author.size"
   ]
  },
  {
   "cell_type": "code",
   "execution_count": 99,
   "metadata": {},
   "outputs": [],
   "source": [
    "#many_works_author = many_works_author.sample(n=AUTHOR_NUM)\n",
    "#many_works_author"
   ]
  },
  {
   "cell_type": "code",
   "execution_count": 39,
   "metadata": {
    "ExecuteTime": {
     "start_time": "2023-04-12T20:40:46.939657Z",
     "end_time": "2023-04-12T20:40:46.964070Z"
    }
   },
   "outputs": [
    {
     "data": {
      "text/plain": "2290"
     },
     "execution_count": 39,
     "metadata": {},
     "output_type": "execute_result"
    }
   ],
   "source": [
    "df = df[df.author.isin(author_count[0:30].index.to_numpy())].reset_index()\n",
    "len(df)"
   ]
  },
  {
   "cell_type": "markdown",
   "metadata": {},
   "source": [
    "                                                            One hot"
   ]
  },
  {
   "cell_type": "code",
   "execution_count": 50,
   "metadata": {
    "ExecuteTime": {
     "start_time": "2023-04-12T21:29:10.154677Z",
     "end_time": "2023-04-12T21:29:10.208125Z"
    }
   },
   "outputs": [
    {
     "data": {
      "text/plain": "      level_0  index       id  \\\n0           0     12     PG33   \n1           1     14     PG42   \n2           2     25     PG77   \n3           3     36    PG100   \n4           4     37    PG102   \n...       ...    ...      ...   \n2285     2285  10879  PG16908   \n2286     2286  10954  PG17031   \n2287     2287  11022  PG17168   \n2288     2288  11079  PG17287   \n2289     2289  11145  PG17398   \n\n                                                  title  \\\n0                                    The Scarlet Letter   \n1           The Strange Case of Dr. Jekyll and Mr. Hyde   \n2                         The House of the Seven Gables   \n3             The Complete Works of William Shakespeare   \n4                      The Tragedy of Pudd'nhead Wilson   \n...                                                 ...   \n2285                                   Once Upon A Time   \n2286                                  The Disentanglers   \n2287                       The Queen of the Pirate Isle   \n2288                                  History of France   \n2289  The Cabman's Story: The Mysteries of a London ...   \n\n                                    author  authoryearofbirth  \\\n0                     Hawthorne, Nathaniel             1804.0   \n1                  Stevenson, Robert Louis             1850.0   \n2                     Hawthorne, Nathaniel             1804.0   \n3                     Shakespeare, William             1564.0   \n4                              Twain, Mark             1835.0   \n...                                    ...                ...   \n2285                Davis, Richard Harding             1864.0   \n2286                          Lang, Andrew             1844.0   \n2287                           Harte, Bret             1836.0   \n2288  Yonge, Charlotte M. (Charlotte Mary)             1823.0   \n2289                   Doyle, Arthur Conan             1859.0   \n\n      authoryearofdeath    idx  num_tokens  num_unique  \\\n0                1864.0     14       19262        5654   \n1                1894.0     16       39700        6072   \n2                1864.0     27       55226        8855   \n3                1616.0     38       46443        5074   \n4                1910.0     39       29412        6840   \n...                 ...    ...         ...         ...   \n2285             1916.0  11021       45327        6034   \n2286             1912.0  11096       21292        7237   \n2287             1902.0  11164       53019        6235   \n2288             1901.0  11221       13440        6764   \n2289             1930.0  11290        2147       21133   \n\n                                                   text  \\\n0     illustration houdan chicks with barred plymout...   \n1     the call of the wildflower the same seventy ye...   \n2     napoleon marshals illustration marshal ney cov...   \n3     just william illustration william clasping an ...   \n4     illustration two more appeared dragging along ...   \n...                                                 ...   \n2285  provided by the internet archive the fortunes ...   \n2286  images generously made available by the intern...   \n2287  produced from images available at the internet...   \n2288  transcriber notes obvious typographical errors...   \n2289  memoirs of four civil war generals by grant sh...   \n\n                                                  label  authors_counts  \n0     [0, 0, 0, 0, 0, 0, 0, 0, 0, 0, 1, 0, 0, 0, 0, ...              84  \n1     [0, 0, 0, 0, 0, 0, 0, 0, 0, 0, 0, 0, 0, 0, 0, ...              48  \n2     [0, 0, 0, 0, 0, 0, 0, 0, 0, 0, 1, 0, 0, 0, 0, ...              84  \n3     [0, 0, 0, 0, 0, 0, 0, 0, 0, 0, 0, 0, 0, 0, 0, ...              88  \n4     [0, 0, 0, 0, 0, 0, 0, 0, 0, 0, 0, 0, 0, 0, 0, ...             136  \n...                                                 ...             ...  \n2285  [0, 0, 0, 1, 0, 0, 0, 0, 0, 0, 0, 0, 0, 0, 0, ...              43  \n2286  [0, 0, 0, 0, 0, 0, 0, 0, 0, 0, 0, 0, 0, 0, 1, ...              48  \n2287  [0, 0, 0, 0, 0, 0, 0, 0, 0, 1, 0, 0, 0, 0, 0, ...              55  \n2288  [0, 0, 0, 0, 0, 0, 0, 0, 0, 0, 0, 0, 0, 0, 0, ...              52  \n2289  [0, 0, 0, 0, 0, 1, 0, 0, 0, 0, 0, 0, 0, 0, 0, ...              46  \n\n[2290 rows x 13 columns]",
      "text/html": "<div>\n<style scoped>\n    .dataframe tbody tr th:only-of-type {\n        vertical-align: middle;\n    }\n\n    .dataframe tbody tr th {\n        vertical-align: top;\n    }\n\n    .dataframe thead th {\n        text-align: right;\n    }\n</style>\n<table border=\"1\" class=\"dataframe\">\n  <thead>\n    <tr style=\"text-align: right;\">\n      <th></th>\n      <th>level_0</th>\n      <th>index</th>\n      <th>id</th>\n      <th>title</th>\n      <th>author</th>\n      <th>authoryearofbirth</th>\n      <th>authoryearofdeath</th>\n      <th>idx</th>\n      <th>num_tokens</th>\n      <th>num_unique</th>\n      <th>text</th>\n      <th>label</th>\n      <th>authors_counts</th>\n    </tr>\n  </thead>\n  <tbody>\n    <tr>\n      <th>0</th>\n      <td>0</td>\n      <td>12</td>\n      <td>PG33</td>\n      <td>The Scarlet Letter</td>\n      <td>Hawthorne, Nathaniel</td>\n      <td>1804.0</td>\n      <td>1864.0</td>\n      <td>14</td>\n      <td>19262</td>\n      <td>5654</td>\n      <td>illustration houdan chicks with barred plymout...</td>\n      <td>[0, 0, 0, 0, 0, 0, 0, 0, 0, 0, 1, 0, 0, 0, 0, ...</td>\n      <td>84</td>\n    </tr>\n    <tr>\n      <th>1</th>\n      <td>1</td>\n      <td>14</td>\n      <td>PG42</td>\n      <td>The Strange Case of Dr. Jekyll and Mr. Hyde</td>\n      <td>Stevenson, Robert Louis</td>\n      <td>1850.0</td>\n      <td>1894.0</td>\n      <td>16</td>\n      <td>39700</td>\n      <td>6072</td>\n      <td>the call of the wildflower the same seventy ye...</td>\n      <td>[0, 0, 0, 0, 0, 0, 0, 0, 0, 0, 0, 0, 0, 0, 0, ...</td>\n      <td>48</td>\n    </tr>\n    <tr>\n      <th>2</th>\n      <td>2</td>\n      <td>25</td>\n      <td>PG77</td>\n      <td>The House of the Seven Gables</td>\n      <td>Hawthorne, Nathaniel</td>\n      <td>1804.0</td>\n      <td>1864.0</td>\n      <td>27</td>\n      <td>55226</td>\n      <td>8855</td>\n      <td>napoleon marshals illustration marshal ney cov...</td>\n      <td>[0, 0, 0, 0, 0, 0, 0, 0, 0, 0, 1, 0, 0, 0, 0, ...</td>\n      <td>84</td>\n    </tr>\n    <tr>\n      <th>3</th>\n      <td>3</td>\n      <td>36</td>\n      <td>PG100</td>\n      <td>The Complete Works of William Shakespeare</td>\n      <td>Shakespeare, William</td>\n      <td>1564.0</td>\n      <td>1616.0</td>\n      <td>38</td>\n      <td>46443</td>\n      <td>5074</td>\n      <td>just william illustration william clasping an ...</td>\n      <td>[0, 0, 0, 0, 0, 0, 0, 0, 0, 0, 0, 0, 0, 0, 0, ...</td>\n      <td>88</td>\n    </tr>\n    <tr>\n      <th>4</th>\n      <td>4</td>\n      <td>37</td>\n      <td>PG102</td>\n      <td>The Tragedy of Pudd'nhead Wilson</td>\n      <td>Twain, Mark</td>\n      <td>1835.0</td>\n      <td>1910.0</td>\n      <td>39</td>\n      <td>29412</td>\n      <td>6840</td>\n      <td>illustration two more appeared dragging along ...</td>\n      <td>[0, 0, 0, 0, 0, 0, 0, 0, 0, 0, 0, 0, 0, 0, 0, ...</td>\n      <td>136</td>\n    </tr>\n    <tr>\n      <th>...</th>\n      <td>...</td>\n      <td>...</td>\n      <td>...</td>\n      <td>...</td>\n      <td>...</td>\n      <td>...</td>\n      <td>...</td>\n      <td>...</td>\n      <td>...</td>\n      <td>...</td>\n      <td>...</td>\n      <td>...</td>\n      <td>...</td>\n    </tr>\n    <tr>\n      <th>2285</th>\n      <td>2285</td>\n      <td>10879</td>\n      <td>PG16908</td>\n      <td>Once Upon A Time</td>\n      <td>Davis, Richard Harding</td>\n      <td>1864.0</td>\n      <td>1916.0</td>\n      <td>11021</td>\n      <td>45327</td>\n      <td>6034</td>\n      <td>provided by the internet archive the fortunes ...</td>\n      <td>[0, 0, 0, 1, 0, 0, 0, 0, 0, 0, 0, 0, 0, 0, 0, ...</td>\n      <td>43</td>\n    </tr>\n    <tr>\n      <th>2286</th>\n      <td>2286</td>\n      <td>10954</td>\n      <td>PG17031</td>\n      <td>The Disentanglers</td>\n      <td>Lang, Andrew</td>\n      <td>1844.0</td>\n      <td>1912.0</td>\n      <td>11096</td>\n      <td>21292</td>\n      <td>7237</td>\n      <td>images generously made available by the intern...</td>\n      <td>[0, 0, 0, 0, 0, 0, 0, 0, 0, 0, 0, 0, 0, 0, 1, ...</td>\n      <td>48</td>\n    </tr>\n    <tr>\n      <th>2287</th>\n      <td>2287</td>\n      <td>11022</td>\n      <td>PG17168</td>\n      <td>The Queen of the Pirate Isle</td>\n      <td>Harte, Bret</td>\n      <td>1836.0</td>\n      <td>1902.0</td>\n      <td>11164</td>\n      <td>53019</td>\n      <td>6235</td>\n      <td>produced from images available at the internet...</td>\n      <td>[0, 0, 0, 0, 0, 0, 0, 0, 0, 1, 0, 0, 0, 0, 0, ...</td>\n      <td>55</td>\n    </tr>\n    <tr>\n      <th>2288</th>\n      <td>2288</td>\n      <td>11079</td>\n      <td>PG17287</td>\n      <td>History of France</td>\n      <td>Yonge, Charlotte M. (Charlotte Mary)</td>\n      <td>1823.0</td>\n      <td>1901.0</td>\n      <td>11221</td>\n      <td>13440</td>\n      <td>6764</td>\n      <td>transcriber notes obvious typographical errors...</td>\n      <td>[0, 0, 0, 0, 0, 0, 0, 0, 0, 0, 0, 0, 0, 0, 0, ...</td>\n      <td>52</td>\n    </tr>\n    <tr>\n      <th>2289</th>\n      <td>2289</td>\n      <td>11145</td>\n      <td>PG17398</td>\n      <td>The Cabman's Story: The Mysteries of a London ...</td>\n      <td>Doyle, Arthur Conan</td>\n      <td>1859.0</td>\n      <td>1930.0</td>\n      <td>11290</td>\n      <td>2147</td>\n      <td>21133</td>\n      <td>memoirs of four civil war generals by grant sh...</td>\n      <td>[0, 0, 0, 0, 0, 1, 0, 0, 0, 0, 0, 0, 0, 0, 0, ...</td>\n      <td>46</td>\n    </tr>\n  </tbody>\n</table>\n<p>2290 rows × 13 columns</p>\n</div>"
     },
     "execution_count": 50,
     "metadata": {},
     "output_type": "execute_result"
    }
   ],
   "source": [
    "df['authors_counts'] = df['author'].map(author_count[0:30])\n",
    "df"
   ]
  },
  {
   "cell_type": "code",
   "execution_count": 51,
   "metadata": {
    "ExecuteTime": {
     "start_time": "2023-04-12T21:29:18.909084Z",
     "end_time": "2023-04-12T21:29:18.915517Z"
    }
   },
   "outputs": [],
   "source": [
    "def onehot_to_vertor(x):\n",
    "    values = list(x.values)\n",
    "    return values"
   ]
  },
  {
   "cell_type": "code",
   "execution_count": null,
   "outputs": [],
   "source": [
    "INPUT_FILE = \"preprocessed.csv\"\n",
    "AUTHOR_NUM = 50\n",
    "NUM_BOOKS_AUTHOR_WRITE = 20\n",
    "SAMPLE_FILE_NAME = \"top_30_authors_1000.csv\""
   ],
   "metadata": {
    "collapsed": false
   }
  },
  {
   "cell_type": "code",
   "execution_count": null,
   "outputs": [],
   "source": [
    "filename = INPUT_FILE\n",
    "preprocessed_df = pd.read_csv(filename)\n"
   ],
   "metadata": {
    "collapsed": false
   }
  },
  {
   "cell_type": "markdown",
   "source": [
    "Filter"
   ],
   "metadata": {
    "collapsed": false
   }
  },
  {
   "cell_type": "code",
   "execution_count": null,
   "outputs": [],
   "source": [
    "preprocessed_df['author'].unique().size"
   ],
   "metadata": {
    "collapsed": false
   }
  },
  {
   "cell_type": "code",
   "execution_count": null,
   "outputs": [],
   "source": [
    "df = preprocessed_df[preprocessed_df.num_tokens > 0]\n",
    "author_count = df['author'].value_counts()\n",
    "many_works_author = author_count.sort_values()\n",
    "author_count[0:30]"
   ],
   "metadata": {
    "collapsed": false
   }
  },
  {
   "cell_type": "code",
   "execution_count": null,
   "outputs": [],
   "source": [
    "many_works_author = many_works_author.unique()[0:30]"
   ],
   "metadata": {
    "collapsed": false
   }
  },
  {
   "cell_type": "code",
   "execution_count": null,
   "outputs": [],
   "source": [
    "many_works_author.size"
   ],
   "metadata": {
    "collapsed": false
   }
  },
  {
   "cell_type": "code",
   "execution_count": null,
   "outputs": [],
   "source": [
    "#many_works_author = many_works_author.sample(n=AUTHOR_NUM)\n",
    "#many_works_author"
   ],
   "metadata": {
    "collapsed": false
   }
  },
  {
   "cell_type": "code",
   "execution_count": null,
   "outputs": [],
   "source": [
    "df = df[df.author.isin(author_count[0:30].index.to_numpy())].reset_index()\n",
    "len(df)"
   ],
   "metadata": {
    "collapsed": false
   }
  },
  {
   "cell_type": "markdown",
   "source": [
    "                                                            One hot"
   ],
   "metadata": {
    "collapsed": false
   }
  },
  {
   "cell_type": "code",
   "execution_count": null,
   "outputs": [],
   "source": [
    "df['authors_counts'] = df['author'].map(author_count[0:30])\n",
    "df"
   ],
   "metadata": {
    "collapsed": false
   }
  },
  {
   "cell_type": "code",
   "execution_count": 10,
   "outputs": [],
   "source": [
    "def onehot_to_vertor(x):\n",
    "    values = list(x.values)\n",
    "    return values"
   ],
   "metadata": {
    "collapsed": false,
    "ExecuteTime": {
     "start_time": "2023-04-13T12:30:30.722406Z",
     "end_time": "2023-04-13T12:30:30.731499Z"
    }
   }
  },
  {
   "cell_type": "code",
   "execution_count": 11,
   "outputs": [],
   "source": [
    "def save_author_order(x):\n",
    "    x.to_csv('order.csv', index=False)\n"
   ],
   "metadata": {
    "collapsed": false,
    "ExecuteTime": {
     "start_time": "2023-04-13T12:30:31.361210Z",
     "end_time": "2023-04-13T12:30:31.370549Z"
    }
   }
  },
  {
   "cell_type": "code",
   "execution_count": null,
   "outputs": [],
   "source": [
    "one_hot = pd.get_dummies(df['author'])\n",
    "save_author_order(one_hot)\n",
    "# convert true/false to 1/0\n",
    "one_hot = one_hot.astype(int)\n",
    "df['label'] = one_hot.apply(onehot_to_vertor, axis=1)\n",
    "df['label']\n"
   ],
   "metadata": {
    "collapsed": false
   }
  },
  {
   "cell_type": "markdown",
   "source": [
    "                                    Take the first 512 tokens\n",
    "\n",
    "                                    Take the last 512 tokens\n",
    "\n",
    "                                    Take the first 128 and last 384 tokens"
   ],
   "metadata": {
    "collapsed": false
   }
  },
  {
   "cell_type": "code",
   "execution_count": null,
   "outputs": [],
   "source": [
    "len(df['label'].apply(str).unique())"
   ],
   "metadata": {
    "collapsed": false
   }
  },
  {
   "cell_type": "code",
   "execution_count": 15,
   "outputs": [
    {
     "ename": "NameError",
     "evalue": "name 'df' is not defined",
     "output_type": "error",
     "traceback": [
      "\u001B[0;31m---------------------------------------------------------------------------\u001B[0m",
      "\u001B[0;31mNameError\u001B[0m                                 Traceback (most recent call last)",
      "Cell \u001B[0;32mIn[15], line 7\u001B[0m\n\u001B[1;32m      5\u001B[0m chunk_size \u001B[38;5;241m=\u001B[39m \u001B[38;5;241m512\u001B[39m\n\u001B[1;32m      6\u001B[0m sample_size \u001B[38;5;241m=\u001B[39m \u001B[38;5;241m400\u001B[39m\n\u001B[0;32m----> 7\u001B[0m chunk_df \u001B[38;5;241m=\u001B[39m pd\u001B[38;5;241m.\u001B[39mDataFrame(columns\u001B[38;5;241m=\u001B[39m\u001B[43mdf\u001B[49m\u001B[38;5;241m.\u001B[39mcolumns)\n\u001B[1;32m      8\u001B[0m count \u001B[38;5;241m=\u001B[39m \u001B[38;5;241m0\u001B[39m\n\u001B[1;32m      9\u001B[0m chunk_l \u001B[38;5;241m=\u001B[39m []\n",
      "\u001B[0;31mNameError\u001B[0m: name 'df' is not defined"
     ]
    }
   ],
   "source": [
    "\n",
    "\n",
    "# split to 512\n",
    "chunk_size = 512\n",
    "sample_size = 400\n",
    "chunk_df = pd.DataFrame(columns=df.columns)\n",
    "count = 0\n",
    "chunk_l = []\n",
    "for index, row in tqdm(df.iterrows()):\n",
    "    doc = row['text'].split()\n",
    "    chunk_list = []\n",
    "    sublist_length = 5\n",
    "    if row['authors_counts'] >= 200:\n",
    "        sublist_length = 5\n",
    "    if 150 <= row['authors_counts'] < 200:\n",
    "        sublist_length = 7\n",
    "    if 100 <= row['authors_counts'] < 150:\n",
    "        sublist_length = 10\n",
    "    if 40 < row['authors_counts'] < 100:\n",
    "        sublist_length = 25\n",
    "    for i in range(0, len(doc), chunk_size):\n",
    "        chunk_list.append(i)\n",
    "    if len(chunk_list) < sublist_length:\n",
    "        #print(row)\n",
    "        count += 1\n",
    "        random_chunk = chunk_list\n",
    "    else:\n",
    "        random_chunk = random.sample(chunk_list, sublist_length)\n",
    "    for i in random_chunk:\n",
    "        sub_doc = ' '.join(doc[i: i + chunk_size])\n",
    "        new_row = {'label': row['label'], 'text': sub_doc, 'author': row['author']}\n",
    "        chunk_l.append(new_row)\n",
    "        #chunk_df = pd.concat([chunk_df,pd.DataFrame(new_row)],ignore_index=True)\n",
    "print(count)\n",
    "# sample 400 randomly\n"
   ],
   "metadata": {
    "collapsed": false,
    "ExecuteTime": {
     "start_time": "2023-04-12T22:16:13.748809Z",
     "end_time": "2023-04-12T22:16:19.396520Z"
    }
   }
  },
  {
   "cell_type": "code",
   "execution_count": 74,
   "outputs": [
    {
     "data": {
      "text/plain": "                                                   label  \\\n0      [0, 0, 0, 0, 0, 0, 0, 0, 0, 0, 1, 0, 0, 0, 0, ...   \n1      [0, 0, 0, 0, 0, 0, 0, 0, 0, 0, 1, 0, 0, 0, 0, ...   \n2      [0, 0, 0, 0, 0, 0, 0, 0, 0, 0, 1, 0, 0, 0, 0, ...   \n3      [0, 0, 0, 0, 0, 0, 0, 0, 0, 0, 1, 0, 0, 0, 0, ...   \n4      [0, 0, 0, 0, 0, 0, 0, 0, 0, 0, 1, 0, 0, 0, 0, ...   \n...                                                  ...   \n38367  [0, 0, 0, 0, 0, 1, 0, 0, 0, 0, 0, 0, 0, 0, 0, ...   \n38368  [0, 0, 0, 0, 0, 1, 0, 0, 0, 0, 0, 0, 0, 0, 0, ...   \n38369  [0, 0, 0, 0, 0, 1, 0, 0, 0, 0, 0, 0, 0, 0, 0, ...   \n38370  [0, 0, 0, 0, 0, 1, 0, 0, 0, 0, 0, 0, 0, 0, 0, ...   \n38371  [0, 0, 0, 0, 0, 1, 0, 0, 0, 0, 0, 0, 0, 0, 0, ...   \n\n                                                    text                author  \n0      that part of the continent in the first ostric...  Hawthorne, Nathaniel  \n1      work these people were not under any delusions...  Hawthorne, Nathaniel  \n2      that it does not pay to grow them where they c...  Hawthorne, Nathaniel  \n3      a great deal of waste food from the occupants ...  Hawthorne, Nathaniel  \n4      quite dark in color the dressed carcass is not...  Hawthorne, Nathaniel  \n...                                                  ...                   ...  \n38367  act shall be paid out of any moneys in the tre...   Doyle, Arthur Conan  \n38368  the border states into the south with the avow...   Doyle, Arthur Conan  \n38369  on the same evening had received information t...   Doyle, Arthur Conan  \n38370  cimarron by what appeared to him a more direct...   Doyle, Arthur Conan  \n38371  stockton boat from the northern mines by sacra...   Doyle, Arthur Conan  \n\n[38372 rows x 3 columns]",
      "text/html": "<div>\n<style scoped>\n    .dataframe tbody tr th:only-of-type {\n        vertical-align: middle;\n    }\n\n    .dataframe tbody tr th {\n        vertical-align: top;\n    }\n\n    .dataframe thead th {\n        text-align: right;\n    }\n</style>\n<table border=\"1\" class=\"dataframe\">\n  <thead>\n    <tr style=\"text-align: right;\">\n      <th></th>\n      <th>label</th>\n      <th>text</th>\n      <th>author</th>\n    </tr>\n  </thead>\n  <tbody>\n    <tr>\n      <th>0</th>\n      <td>[0, 0, 0, 0, 0, 0, 0, 0, 0, 0, 1, 0, 0, 0, 0, ...</td>\n      <td>that part of the continent in the first ostric...</td>\n      <td>Hawthorne, Nathaniel</td>\n    </tr>\n    <tr>\n      <th>1</th>\n      <td>[0, 0, 0, 0, 0, 0, 0, 0, 0, 0, 1, 0, 0, 0, 0, ...</td>\n      <td>work these people were not under any delusions...</td>\n      <td>Hawthorne, Nathaniel</td>\n    </tr>\n    <tr>\n      <th>2</th>\n      <td>[0, 0, 0, 0, 0, 0, 0, 0, 0, 0, 1, 0, 0, 0, 0, ...</td>\n      <td>that it does not pay to grow them where they c...</td>\n      <td>Hawthorne, Nathaniel</td>\n    </tr>\n    <tr>\n      <th>3</th>\n      <td>[0, 0, 0, 0, 0, 0, 0, 0, 0, 0, 1, 0, 0, 0, 0, ...</td>\n      <td>a great deal of waste food from the occupants ...</td>\n      <td>Hawthorne, Nathaniel</td>\n    </tr>\n    <tr>\n      <th>4</th>\n      <td>[0, 0, 0, 0, 0, 0, 0, 0, 0, 0, 1, 0, 0, 0, 0, ...</td>\n      <td>quite dark in color the dressed carcass is not...</td>\n      <td>Hawthorne, Nathaniel</td>\n    </tr>\n    <tr>\n      <th>...</th>\n      <td>...</td>\n      <td>...</td>\n      <td>...</td>\n    </tr>\n    <tr>\n      <th>38367</th>\n      <td>[0, 0, 0, 0, 0, 1, 0, 0, 0, 0, 0, 0, 0, 0, 0, ...</td>\n      <td>act shall be paid out of any moneys in the tre...</td>\n      <td>Doyle, Arthur Conan</td>\n    </tr>\n    <tr>\n      <th>38368</th>\n      <td>[0, 0, 0, 0, 0, 1, 0, 0, 0, 0, 0, 0, 0, 0, 0, ...</td>\n      <td>the border states into the south with the avow...</td>\n      <td>Doyle, Arthur Conan</td>\n    </tr>\n    <tr>\n      <th>38369</th>\n      <td>[0, 0, 0, 0, 0, 1, 0, 0, 0, 0, 0, 0, 0, 0, 0, ...</td>\n      <td>on the same evening had received information t...</td>\n      <td>Doyle, Arthur Conan</td>\n    </tr>\n    <tr>\n      <th>38370</th>\n      <td>[0, 0, 0, 0, 0, 1, 0, 0, 0, 0, 0, 0, 0, 0, 0, ...</td>\n      <td>cimarron by what appeared to him a more direct...</td>\n      <td>Doyle, Arthur Conan</td>\n    </tr>\n    <tr>\n      <th>38371</th>\n      <td>[0, 0, 0, 0, 0, 1, 0, 0, 0, 0, 0, 0, 0, 0, 0, ...</td>\n      <td>stockton boat from the northern mines by sacra...</td>\n      <td>Doyle, Arthur Conan</td>\n    </tr>\n  </tbody>\n</table>\n<p>38372 rows × 3 columns</p>\n</div>"
     },
     "execution_count": 74,
     "metadata": {},
     "output_type": "execute_result"
    }
   ],
   "source": [
    "chunk_df = pd.DataFrame(chunk_l)\n",
    "chunk_df"
   ],
   "metadata": {
    "collapsed": false,
    "ExecuteTime": {
     "start_time": "2023-04-12T22:28:21.647906Z",
     "end_time": "2023-04-12T22:28:21.712217Z"
    }
   }
  },
  {
   "cell_type": "code",
   "execution_count": 76,
   "outputs": [
    {
     "data": {
      "text/plain": "Pepys, Samuel                           2172\nShakespeare, William                    2084\nHawthorne, Nathaniel                    2009\nHowells, William Dean                   1922\nChurchill, Winston                      1562\nMacDonald, George                       1449\nTwain, Mark                             1330\nHarte, Bret                             1300\nYonge, Charlotte M. (Charlotte Mary)    1284\nParker, Gilbert                         1277\nDickens, Charles                        1261\nHaggard, H. Rider (Henry Rider)         1213\nStevenson, Robert Louis                 1162\nGalsworthy, John                        1160\nLang, Andrew                            1159\nJames, Henry                            1154\nCervantes Saavedra, Miguel de           1144\nEbers, Georg                            1138\nBalzac, Honoré de                       1130\nScott, Walter                           1073\nMeredith, George                        1066\nTrollope, Anthony                       1060\nWarner, Charles Dudley                  1058\nLytton, Edward Bulwer Lytton, Baron     1057\nDoyle, Arthur Conan                     1051\nWhittier, John Greenleaf                1044\nDavis, Richard Harding                  1042\nMotley, John Lothrop                    1008\nJacobs, W. W. (William Wymark)          1006\nLondon, Jack                             997\nName: author, dtype: int64"
     },
     "execution_count": 76,
     "metadata": {},
     "output_type": "execute_result"
    }
   ],
   "source": [
    "chunk_df['author'].value_counts()"
   ],
   "metadata": {
    "collapsed": false,
    "ExecuteTime": {
     "start_time": "2023-04-12T22:32:18.804610Z",
     "end_time": "2023-04-12T22:32:18.843083Z"
    }
   }
  },
  {
   "cell_type": "code",
   "execution_count": 82,
   "outputs": [],
   "source": [
    "def sample(x):\n",
    "    if x.shape[0] > 1000:\n",
    "        return x.sample(n=1000, random_state=42)\n",
    "    else:\n",
    "        return x\n",
    "\n",
    "\n",
    "#lambda x: x.sample(n=1000, random_state=42)\n",
    "\n",
    "sample_df = chunk_df.groupby('author', group_keys=False).apply(sample)\n",
    "sample_df.groupby('author', group_keys=False).count()\n",
    "sample_df = sample_df.drop('author', axis=1)\n",
    "\n"
   ],
   "metadata": {
    "collapsed": false
   }
  },
  {
   "cell_type": "code",
   "execution_count": 83,
   "outputs": [],
   "source": [
    "sample_df.to_csv('top_30_authors_1000.csv', index=False)"
   ],
   "metadata": {
    "collapsed": false,
    "ExecuteTime": {
     "start_time": "2023-04-12T22:36:07.702919Z",
     "end_time": "2023-04-12T22:36:08.775956Z"
    }
   }
  },
  {
   "cell_type": "markdown",
   "source": [
    "                                                Sampling"
   ],
   "metadata": {
    "collapsed": false
   }
  },
  {
   "cell_type": "code",
   "execution_count": 26,
   "outputs": [],
   "source": [],
   "metadata": {
    "collapsed": false,
    "ExecuteTime": {
     "start_time": "2023-04-13T12:39:35.555319Z",
     "end_time": "2023-04-13T12:39:36.291955Z"
    }
   }
  },
  {
   "cell_type": "code",
   "execution_count": 89,
   "outputs": [],
   "source": [
    "df = pd.read_csv(SAMPLE_FILE_NAME)"
   ],
   "metadata": {
    "collapsed": false,
    "ExecuteTime": {
     "start_time": "2023-04-12T22:38:22.684276Z",
     "end_time": "2023-04-12T22:38:23.364474Z"
    }
   }
  },
  {
   "cell_type": "code",
   "execution_count": 90,
   "outputs": [],
   "source": [
    "def get_y(x):\n",
    "    try:\n",
    "        return np.asarray(ast.literal_eval(x), dtype=int)\n",
    "    except ValueError:\n",
    "        print(f\"Error parsing: {x}\")\n",
    "        # You can return a default value, or re-raise the exception\n",
    "        # return np.array([], dtype=int)\n",
    "        raise\n"
   ],
   "metadata": {
    "collapsed": false,
    "ExecuteTime": {
     "start_time": "2023-04-12T22:38:24.404609Z",
     "end_time": "2023-04-12T22:38:24.415437Z"
    }
   }
  },
  {
   "cell_type": "code",
   "execution_count": 91,
   "outputs": [
    {
     "data": {
      "text/plain": "                                                   label  \\\n0      [1, 0, 0, 0, 0, 0, 0, 0, 0, 0, 0, 0, 0, 0, 0, ...   \n1      [1, 0, 0, 0, 0, 0, 0, 0, 0, 0, 0, 0, 0, 0, 0, ...   \n2      [1, 0, 0, 0, 0, 0, 0, 0, 0, 0, 0, 0, 0, 0, 0, ...   \n3      [1, 0, 0, 0, 0, 0, 0, 0, 0, 0, 0, 0, 0, 0, 0, ...   \n4      [1, 0, 0, 0, 0, 0, 0, 0, 0, 0, 0, 0, 0, 0, 0, ...   \n...                                                  ...   \n29992  [0, 0, 0, 0, 0, 0, 0, 0, 0, 0, 0, 0, 0, 0, 0, ...   \n29993  [0, 0, 0, 0, 0, 0, 0, 0, 0, 0, 0, 0, 0, 0, 0, ...   \n29994  [0, 0, 0, 0, 0, 0, 0, 0, 0, 0, 0, 0, 0, 0, 0, ...   \n29995  [0, 0, 0, 0, 0, 0, 0, 0, 0, 0, 0, 0, 0, 0, 0, ...   \n29996  [0, 0, 0, 0, 0, 0, 0, 0, 0, 0, 0, 0, 0, 0, 0, ...   \n\n                                                    text  \n0      heart murder is never permitted even when the ...  \n1      you make me angry if you go on she said with a...  \n2      dusk fell they would stroll homeward through t...  \n3      should be proceeded with pending the final set...  \n4      the parish repair to the house of one of their...  \n...                                                  ...  \n29992  the throat the great people never regarded the...  \n29993  an exopodite the abdomen is relatively small t...  \n29994  a doe and the other a buck both were needed an...  \n29995  whither my wandering steps have strayed at pre...  \n29996  opened out and arose like a great work of art ...  \n\n[29997 rows x 2 columns]",
      "text/html": "<div>\n<style scoped>\n    .dataframe tbody tr th:only-of-type {\n        vertical-align: middle;\n    }\n\n    .dataframe tbody tr th {\n        vertical-align: top;\n    }\n\n    .dataframe thead th {\n        text-align: right;\n    }\n</style>\n<table border=\"1\" class=\"dataframe\">\n  <thead>\n    <tr style=\"text-align: right;\">\n      <th></th>\n      <th>label</th>\n      <th>text</th>\n    </tr>\n  </thead>\n  <tbody>\n    <tr>\n      <th>0</th>\n      <td>[1, 0, 0, 0, 0, 0, 0, 0, 0, 0, 0, 0, 0, 0, 0, ...</td>\n      <td>heart murder is never permitted even when the ...</td>\n    </tr>\n    <tr>\n      <th>1</th>\n      <td>[1, 0, 0, 0, 0, 0, 0, 0, 0, 0, 0, 0, 0, 0, 0, ...</td>\n      <td>you make me angry if you go on she said with a...</td>\n    </tr>\n    <tr>\n      <th>2</th>\n      <td>[1, 0, 0, 0, 0, 0, 0, 0, 0, 0, 0, 0, 0, 0, 0, ...</td>\n      <td>dusk fell they would stroll homeward through t...</td>\n    </tr>\n    <tr>\n      <th>3</th>\n      <td>[1, 0, 0, 0, 0, 0, 0, 0, 0, 0, 0, 0, 0, 0, 0, ...</td>\n      <td>should be proceeded with pending the final set...</td>\n    </tr>\n    <tr>\n      <th>4</th>\n      <td>[1, 0, 0, 0, 0, 0, 0, 0, 0, 0, 0, 0, 0, 0, 0, ...</td>\n      <td>the parish repair to the house of one of their...</td>\n    </tr>\n    <tr>\n      <th>...</th>\n      <td>...</td>\n      <td>...</td>\n    </tr>\n    <tr>\n      <th>29992</th>\n      <td>[0, 0, 0, 0, 0, 0, 0, 0, 0, 0, 0, 0, 0, 0, 0, ...</td>\n      <td>the throat the great people never regarded the...</td>\n    </tr>\n    <tr>\n      <th>29993</th>\n      <td>[0, 0, 0, 0, 0, 0, 0, 0, 0, 0, 0, 0, 0, 0, 0, ...</td>\n      <td>an exopodite the abdomen is relatively small t...</td>\n    </tr>\n    <tr>\n      <th>29994</th>\n      <td>[0, 0, 0, 0, 0, 0, 0, 0, 0, 0, 0, 0, 0, 0, 0, ...</td>\n      <td>a doe and the other a buck both were needed an...</td>\n    </tr>\n    <tr>\n      <th>29995</th>\n      <td>[0, 0, 0, 0, 0, 0, 0, 0, 0, 0, 0, 0, 0, 0, 0, ...</td>\n      <td>whither my wandering steps have strayed at pre...</td>\n    </tr>\n    <tr>\n      <th>29996</th>\n      <td>[0, 0, 0, 0, 0, 0, 0, 0, 0, 0, 0, 0, 0, 0, 0, ...</td>\n      <td>opened out and arose like a great work of art ...</td>\n    </tr>\n  </tbody>\n</table>\n<p>29997 rows × 2 columns</p>\n</div>"
     },
     "execution_count": 91,
     "metadata": {},
     "output_type": "execute_result"
    }
   ],
   "source": [
    "df"
   ],
   "metadata": {
    "collapsed": false,
    "ExecuteTime": {
     "start_time": "2023-04-12T22:38:25.377109Z",
     "end_time": "2023-04-12T22:38:25.385549Z"
    }
   }
  },
  {
   "cell_type": "code",
   "execution_count": 92,
   "outputs": [],
   "source": [
    "def sampling(df):\n",
    "    #raw_train_data, raw_test_data = train_test_split(df, test_size=0.2, shuffle=True, stratify=df['label'], random_state=42)\n",
    "    raw_train_data, test_data = train_test_split(df, test_size=0.1, shuffle=True, stratify=df['label'], random_state=42)\n",
    "    train_ds, val_ds = train_test_split(raw_train_data, test_size=0.111111, shuffle=True,\n",
    "                                        stratify=raw_train_data['label'], random_state=42)\n",
    "    \"\"\"\n",
    "    skf = MultilabelStratifiedKFold(n_splits=5, shuffle=True, random_state=42)\n",
    "    X = np.asarray(raw_train_data['text'])\n",
    "    y = raw_train_data['label'].apply(get_y)\n",
    "    y1 = []\n",
    "    for i in y:\n",
    "        y1.append(i)\n",
    "    y1 = np.asarray(y1)\n",
    "    train_ds = pd.DataFrame(columns=['text', 'label']).reset_index(drop=True)\n",
    "    val_ds = pd.DataFrame(columns=['text', 'label']).reset_index(drop=True)\n",
    "    df = raw_train_data\n",
    "    for train_idxs, val_idxs in skf.split(X, y1):\n",
    "        for i in train_idxs:\n",
    "            train_ds = train_ds.append(df.iloc[i], ignore_index=True)\n",
    "            #train_ds = pd.concat([train_ds, df.iloc[i]], ignore_index=True)\n",
    "        for i in val_idxs:\n",
    "            val_ds = val_ds.append(df.iloc[i], ignore_index=True)\n",
    "            #val_ds = pd.concat([val_ds, df.iloc[i]], ignore_index=True)\n",
    "        break\n",
    "    \"\"\"\n",
    "    return train_ds, val_ds, test_data"
   ],
   "metadata": {
    "collapsed": false,
    "ExecuteTime": {
     "start_time": "2023-04-12T22:38:37.190232Z",
     "end_time": "2023-04-12T22:38:37.205392Z"
    }
   }
  },
  {
   "cell_type": "markdown",
   "source": [],
   "metadata": {
    "collapsed": false
   }
  },
  {
   "cell_type": "code",
   "execution_count": 93,
   "outputs": [],
   "source": [
    "train_ds, val_ds, test_data = sampling(df)"
   ],
   "metadata": {
    "collapsed": false,
    "ExecuteTime": {
     "start_time": "2023-04-12T22:38:41.794896Z",
     "end_time": "2023-04-12T22:38:41.838052Z"
    }
   }
  },
  {
   "cell_type": "code",
   "execution_count": 94,
   "outputs": [
    {
     "data": {
      "text/plain": "9834     [0, 0, 0, 0, 0, 0, 0, 0, 0, 1, 0, 0, 0, 0, 0, ...\n10601    [0, 0, 0, 0, 0, 0, 0, 0, 0, 0, 1, 0, 0, 0, 0, ...\n23802    [0, 0, 0, 0, 0, 0, 0, 0, 0, 0, 0, 0, 0, 0, 0, ...\n8206     [0, 0, 0, 0, 0, 0, 0, 0, 1, 0, 0, 0, 0, 0, 0, ...\n16108    [0, 0, 0, 0, 0, 0, 0, 0, 0, 0, 0, 0, 0, 0, 0, ...\n                               ...                        \n15328    [0, 0, 0, 0, 0, 0, 0, 0, 0, 0, 0, 0, 0, 0, 0, ...\n15772    [0, 0, 0, 0, 0, 0, 0, 0, 0, 0, 0, 0, 0, 0, 0, ...\n11425    [0, 0, 0, 0, 0, 0, 0, 0, 0, 0, 0, 1, 0, 0, 0, ...\n12092    [0, 0, 0, 0, 0, 0, 0, 0, 0, 0, 0, 0, 1, 0, 0, ...\n416      [1, 0, 0, 0, 0, 0, 0, 0, 0, 0, 0, 0, 0, 0, 0, ...\nName: label, Length: 3000, dtype: object"
     },
     "execution_count": 94,
     "metadata": {},
     "output_type": "execute_result"
    }
   ],
   "source": [
    "test_data['label']"
   ],
   "metadata": {
    "collapsed": false,
    "ExecuteTime": {
     "start_time": "2023-04-12T22:38:43.180260Z",
     "end_time": "2023-04-12T22:38:43.191290Z"
    }
   }
  },
  {
   "cell_type": "markdown",
   "source": [
    "Check the number of author in each dataset"
   ],
   "metadata": {
    "collapsed": false
   }
  },
  {
   "cell_type": "code",
   "execution_count": 95,
   "outputs": [],
   "source": [
    "def check_author_in_dataset(df):\n",
    "    print(\"Size of Test DataSet: \" + str(len(test_data)))\n",
    "    print(\"Size of Train DataSet: \" + str(len(train_ds)))\n",
    "    print(\"Size of Validation DataSet: \" + str(len(val_ds)))\n",
    "    authors_in_test = test_data['label'].tolist()\n",
    "    authors_in_test = [str(x) for x in authors_in_test]\n",
    "\n",
    "    authors_in_train = train_ds['label'].tolist()\n",
    "    authors_in_train = [str(x) for x in authors_in_train]\n",
    "\n",
    "    authors_in_val = val_ds['label'].tolist()\n",
    "    authors_in_val = [str(x) for x in authors_in_val]\n",
    "\n",
    "    print(\"Num of authors in test: \" + str(len(set(authors_in_test))))\n",
    "    print(\"Num of authors in tran: \" + str(len(set(authors_in_train))))\n",
    "    print(\"Num of authors in validation: \" + str(len(set(authors_in_val))))"
   ],
   "metadata": {
    "collapsed": false,
    "ExecuteTime": {
     "start_time": "2023-04-12T22:38:51.739147Z",
     "end_time": "2023-04-12T22:38:51.752421Z"
    }
   }
  },
  {
   "cell_type": "code",
   "execution_count": 96,
   "outputs": [
    {
     "name": "stdout",
     "output_type": "stream",
     "text": [
      "Size of Test DataSet: 3000\n",
      "Size of Train DataSet: 23997\n",
      "Size of Validation DataSet: 3000\n",
      "Num of authors in test: 30\n",
      "Num of authors in tran: 30\n",
      "Num of authors in validation: 30\n"
     ]
    }
   ],
   "source": [
    "check_author_in_dataset(df)\n",
    "\n"
   ],
   "metadata": {
    "collapsed": false,
    "ExecuteTime": {
     "start_time": "2023-04-12T22:38:53.714284Z",
     "end_time": "2023-04-12T22:38:53.725836Z"
    }
   }
  },
  {
   "cell_type": "code",
   "execution_count": 99,
   "outputs": [
    {
     "data": {
      "text/plain": "[0, 0, 0, 0, 0, 0, 0, 0, 0, 0, 0, 0, 0, 0, 0, 0, 0, 0, 0, 0, 0, 1, 0, 0, 0, 0, 0, 0, 0, 0]    800\n[0, 0, 0, 0, 0, 0, 0, 0, 0, 0, 0, 0, 0, 0, 1, 0, 0, 0, 0, 0, 0, 0, 0, 0, 0, 0, 0, 0, 0, 0]    800\n[0, 0, 0, 0, 0, 0, 0, 0, 0, 1, 0, 0, 0, 0, 0, 0, 0, 0, 0, 0, 0, 0, 0, 0, 0, 0, 0, 0, 0, 0]    800\n[0, 0, 0, 0, 0, 0, 0, 0, 0, 0, 0, 0, 0, 0, 0, 0, 0, 0, 0, 0, 0, 0, 0, 0, 0, 0, 1, 0, 0, 0]    800\n[0, 0, 0, 0, 0, 1, 0, 0, 0, 0, 0, 0, 0, 0, 0, 0, 0, 0, 0, 0, 0, 0, 0, 0, 0, 0, 0, 0, 0, 0]    800\n[1, 0, 0, 0, 0, 0, 0, 0, 0, 0, 0, 0, 0, 0, 0, 0, 0, 0, 0, 0, 0, 0, 0, 0, 0, 0, 0, 0, 0, 0]    800\n[0, 0, 0, 0, 0, 0, 0, 0, 0, 0, 0, 0, 0, 0, 0, 0, 0, 0, 0, 0, 0, 0, 0, 0, 0, 0, 0, 0, 0, 1]    800\n[0, 0, 0, 0, 0, 0, 0, 0, 0, 0, 0, 0, 1, 0, 0, 0, 0, 0, 0, 0, 0, 0, 0, 0, 0, 0, 0, 0, 0, 0]    800\n[0, 0, 0, 0, 0, 0, 0, 0, 0, 0, 0, 0, 0, 0, 0, 0, 0, 0, 1, 0, 0, 0, 0, 0, 0, 0, 0, 0, 0, 0]    800\n[0, 0, 0, 0, 0, 0, 0, 0, 0, 0, 0, 0, 0, 0, 0, 0, 0, 0, 0, 0, 1, 0, 0, 0, 0, 0, 0, 0, 0, 0]    800\n[0, 0, 0, 0, 0, 0, 0, 0, 0, 0, 0, 1, 0, 0, 0, 0, 0, 0, 0, 0, 0, 0, 0, 0, 0, 0, 0, 0, 0, 0]    800\n[0, 0, 0, 0, 0, 0, 0, 0, 0, 0, 0, 0, 0, 0, 0, 0, 0, 0, 0, 1, 0, 0, 0, 0, 0, 0, 0, 0, 0, 0]    800\n[0, 0, 0, 0, 0, 0, 0, 0, 0, 0, 0, 0, 0, 0, 0, 0, 0, 1, 0, 0, 0, 0, 0, 0, 0, 0, 0, 0, 0, 0]    800\n[0, 0, 0, 0, 0, 0, 0, 0, 0, 0, 0, 0, 0, 0, 0, 0, 0, 0, 0, 0, 0, 0, 1, 0, 0, 0, 0, 0, 0, 0]    800\n[0, 0, 0, 1, 0, 0, 0, 0, 0, 0, 0, 0, 0, 0, 0, 0, 0, 0, 0, 0, 0, 0, 0, 0, 0, 0, 0, 0, 0, 0]    800\n[0, 0, 0, 0, 0, 0, 0, 0, 0, 0, 0, 0, 0, 1, 0, 0, 0, 0, 0, 0, 0, 0, 0, 0, 0, 0, 0, 0, 0, 0]    800\n[0, 0, 0, 0, 0, 0, 0, 0, 1, 0, 0, 0, 0, 0, 0, 0, 0, 0, 0, 0, 0, 0, 0, 0, 0, 0, 0, 0, 0, 0]    800\n[0, 0, 0, 0, 0, 0, 0, 0, 0, 0, 0, 0, 0, 0, 0, 0, 0, 0, 0, 0, 0, 0, 0, 0, 0, 1, 0, 0, 0, 0]    800\n[0, 1, 0, 0, 0, 0, 0, 0, 0, 0, 0, 0, 0, 0, 0, 0, 0, 0, 0, 0, 0, 0, 0, 0, 0, 0, 0, 0, 0, 0]    800\n[0, 0, 0, 0, 1, 0, 0, 0, 0, 0, 0, 0, 0, 0, 0, 0, 0, 0, 0, 0, 0, 0, 0, 0, 0, 0, 0, 0, 0, 0]    800\n[0, 0, 0, 0, 0, 0, 0, 0, 0, 0, 0, 0, 0, 0, 0, 0, 0, 0, 0, 0, 0, 0, 0, 1, 0, 0, 0, 0, 0, 0]    800\n[0, 0, 0, 0, 0, 0, 0, 0, 0, 0, 0, 0, 0, 0, 0, 0, 0, 0, 0, 0, 0, 0, 0, 0, 0, 0, 0, 0, 1, 0]    800\n[0, 0, 0, 0, 0, 0, 0, 1, 0, 0, 0, 0, 0, 0, 0, 0, 0, 0, 0, 0, 0, 0, 0, 0, 0, 0, 0, 0, 0, 0]    800\n[0, 0, 0, 0, 0, 0, 1, 0, 0, 0, 0, 0, 0, 0, 0, 0, 0, 0, 0, 0, 0, 0, 0, 0, 0, 0, 0, 0, 0, 0]    800\n[0, 0, 0, 0, 0, 0, 0, 0, 0, 0, 0, 0, 0, 0, 0, 0, 1, 0, 0, 0, 0, 0, 0, 0, 0, 0, 0, 0, 0, 0]    800\n[0, 0, 0, 0, 0, 0, 0, 0, 0, 0, 0, 0, 0, 0, 0, 0, 0, 0, 0, 0, 0, 0, 0, 0, 0, 0, 0, 1, 0, 0]    800\n[0, 0, 0, 0, 0, 0, 0, 0, 0, 0, 1, 0, 0, 0, 0, 0, 0, 0, 0, 0, 0, 0, 0, 0, 0, 0, 0, 0, 0, 0]    800\n[0, 0, 0, 0, 0, 0, 0, 0, 0, 0, 0, 0, 0, 0, 0, 0, 0, 0, 0, 0, 0, 0, 0, 0, 1, 0, 0, 0, 0, 0]    800\n[0, 0, 1, 0, 0, 0, 0, 0, 0, 0, 0, 0, 0, 0, 0, 0, 0, 0, 0, 0, 0, 0, 0, 0, 0, 0, 0, 0, 0, 0]    800\n[0, 0, 0, 0, 0, 0, 0, 0, 0, 0, 0, 0, 0, 0, 0, 1, 0, 0, 0, 0, 0, 0, 0, 0, 0, 0, 0, 0, 0, 0]    797\nName: label, dtype: int64"
     },
     "execution_count": 99,
     "metadata": {},
     "output_type": "execute_result"
    }
   ],
   "source": [
    "train_ds['label'].value_counts()"
   ],
   "metadata": {
    "collapsed": false,
    "ExecuteTime": {
     "start_time": "2023-04-12T22:39:06.203269Z",
     "end_time": "2023-04-12T22:39:06.227195Z"
    }
   }
  },
  {
   "cell_type": "code",
   "execution_count": 100,
   "outputs": [
    {
     "data": {
      "text/plain": "[0, 0, 0, 0, 0, 0, 0, 0, 0, 1, 0, 0, 0, 0, 0, 0, 0, 0, 0, 0, 0, 0, 0, 0, 0, 0, 0, 0, 0, 0]    100\n[0, 0, 0, 0, 0, 0, 0, 0, 0, 0, 1, 0, 0, 0, 0, 0, 0, 0, 0, 0, 0, 0, 0, 0, 0, 0, 0, 0, 0, 0]    100\n[0, 0, 0, 0, 1, 0, 0, 0, 0, 0, 0, 0, 0, 0, 0, 0, 0, 0, 0, 0, 0, 0, 0, 0, 0, 0, 0, 0, 0, 0]    100\n[0, 0, 0, 0, 0, 0, 0, 0, 0, 0, 0, 0, 0, 1, 0, 0, 0, 0, 0, 0, 0, 0, 0, 0, 0, 0, 0, 0, 0, 0]    100\n[0, 0, 0, 0, 0, 0, 0, 0, 0, 0, 0, 0, 1, 0, 0, 0, 0, 0, 0, 0, 0, 0, 0, 0, 0, 0, 0, 0, 0, 0]    100\n[0, 0, 0, 0, 0, 0, 0, 1, 0, 0, 0, 0, 0, 0, 0, 0, 0, 0, 0, 0, 0, 0, 0, 0, 0, 0, 0, 0, 0, 0]    100\n[0, 0, 0, 0, 0, 0, 0, 0, 0, 0, 0, 1, 0, 0, 0, 0, 0, 0, 0, 0, 0, 0, 0, 0, 0, 0, 0, 0, 0, 0]    100\n[0, 0, 0, 0, 0, 0, 0, 0, 0, 0, 0, 0, 0, 0, 0, 0, 0, 0, 0, 0, 0, 0, 0, 0, 0, 0, 0, 0, 1, 0]    100\n[0, 0, 0, 0, 0, 0, 0, 0, 0, 0, 0, 0, 0, 0, 0, 0, 0, 0, 0, 0, 0, 1, 0, 0, 0, 0, 0, 0, 0, 0]    100\n[0, 0, 0, 0, 0, 0, 0, 0, 0, 0, 0, 0, 0, 0, 0, 0, 0, 0, 0, 0, 0, 0, 0, 0, 0, 0, 0, 1, 0, 0]    100\n[0, 0, 0, 1, 0, 0, 0, 0, 0, 0, 0, 0, 0, 0, 0, 0, 0, 0, 0, 0, 0, 0, 0, 0, 0, 0, 0, 0, 0, 0]    100\n[0, 0, 1, 0, 0, 0, 0, 0, 0, 0, 0, 0, 0, 0, 0, 0, 0, 0, 0, 0, 0, 0, 0, 0, 0, 0, 0, 0, 0, 0]    100\n[0, 0, 0, 0, 0, 0, 0, 0, 0, 0, 0, 0, 0, 0, 0, 0, 0, 0, 0, 0, 1, 0, 0, 0, 0, 0, 0, 0, 0, 0]    100\n[0, 0, 0, 0, 0, 0, 0, 0, 0, 0, 0, 0, 0, 0, 0, 0, 0, 1, 0, 0, 0, 0, 0, 0, 0, 0, 0, 0, 0, 0]    100\n[0, 0, 0, 0, 0, 0, 0, 0, 0, 0, 0, 0, 0, 0, 1, 0, 0, 0, 0, 0, 0, 0, 0, 0, 0, 0, 0, 0, 0, 0]    100\n[0, 0, 0, 0, 0, 0, 0, 0, 0, 0, 0, 0, 0, 0, 0, 0, 0, 0, 0, 0, 0, 0, 0, 0, 0, 0, 0, 0, 0, 1]    100\n[0, 1, 0, 0, 0, 0, 0, 0, 0, 0, 0, 0, 0, 0, 0, 0, 0, 0, 0, 0, 0, 0, 0, 0, 0, 0, 0, 0, 0, 0]    100\n[0, 0, 0, 0, 0, 0, 0, 0, 0, 0, 0, 0, 0, 0, 0, 0, 0, 0, 0, 0, 0, 0, 0, 0, 1, 0, 0, 0, 0, 0]    100\n[0, 0, 0, 0, 0, 0, 0, 0, 0, 0, 0, 0, 0, 0, 0, 0, 0, 0, 0, 1, 0, 0, 0, 0, 0, 0, 0, 0, 0, 0]    100\n[0, 0, 0, 0, 0, 0, 0, 0, 0, 0, 0, 0, 0, 0, 0, 0, 0, 0, 0, 0, 0, 0, 1, 0, 0, 0, 0, 0, 0, 0]    100\n[0, 0, 0, 0, 0, 0, 0, 0, 0, 0, 0, 0, 0, 0, 0, 0, 0, 0, 0, 0, 0, 0, 0, 0, 0, 0, 1, 0, 0, 0]    100\n[0, 0, 0, 0, 0, 0, 0, 0, 0, 0, 0, 0, 0, 0, 0, 1, 0, 0, 0, 0, 0, 0, 0, 0, 0, 0, 0, 0, 0, 0]    100\n[0, 0, 0, 0, 0, 0, 0, 0, 0, 0, 0, 0, 0, 0, 0, 0, 0, 0, 1, 0, 0, 0, 0, 0, 0, 0, 0, 0, 0, 0]    100\n[0, 0, 0, 0, 0, 0, 1, 0, 0, 0, 0, 0, 0, 0, 0, 0, 0, 0, 0, 0, 0, 0, 0, 0, 0, 0, 0, 0, 0, 0]    100\n[0, 0, 0, 0, 0, 1, 0, 0, 0, 0, 0, 0, 0, 0, 0, 0, 0, 0, 0, 0, 0, 0, 0, 0, 0, 0, 0, 0, 0, 0]    100\n[0, 0, 0, 0, 0, 0, 0, 0, 0, 0, 0, 0, 0, 0, 0, 0, 0, 0, 0, 0, 0, 0, 0, 0, 0, 1, 0, 0, 0, 0]    100\n[0, 0, 0, 0, 0, 0, 0, 0, 0, 0, 0, 0, 0, 0, 0, 0, 1, 0, 0, 0, 0, 0, 0, 0, 0, 0, 0, 0, 0, 0]    100\n[0, 0, 0, 0, 0, 0, 0, 0, 1, 0, 0, 0, 0, 0, 0, 0, 0, 0, 0, 0, 0, 0, 0, 0, 0, 0, 0, 0, 0, 0]    100\n[0, 0, 0, 0, 0, 0, 0, 0, 0, 0, 0, 0, 0, 0, 0, 0, 0, 0, 0, 0, 0, 0, 0, 1, 0, 0, 0, 0, 0, 0]    100\n[1, 0, 0, 0, 0, 0, 0, 0, 0, 0, 0, 0, 0, 0, 0, 0, 0, 0, 0, 0, 0, 0, 0, 0, 0, 0, 0, 0, 0, 0]    100\nName: label, dtype: int64"
     },
     "execution_count": 100,
     "metadata": {},
     "output_type": "execute_result"
    }
   ],
   "source": [
    "test_data['label'].value_counts()"
   ],
   "metadata": {
    "collapsed": false,
    "ExecuteTime": {
     "start_time": "2023-04-12T22:39:07.451279Z",
     "end_time": "2023-04-12T22:39:07.461431Z"
    }
   }
  },
  {
   "cell_type": "code",
   "execution_count": 101,
   "outputs": [
    {
     "data": {
      "text/plain": "[0, 0, 1, 0, 0, 0, 0, 0, 0, 0, 0, 0, 0, 0, 0, 0, 0, 0, 0, 0, 0, 0, 0, 0, 0, 0, 0, 0, 0, 0]    100\n[0, 0, 0, 0, 0, 0, 0, 0, 0, 0, 0, 0, 0, 0, 0, 0, 0, 0, 0, 1, 0, 0, 0, 0, 0, 0, 0, 0, 0, 0]    100\n[0, 0, 0, 0, 0, 0, 0, 0, 0, 0, 0, 0, 0, 0, 0, 0, 0, 0, 0, 0, 0, 0, 0, 0, 0, 1, 0, 0, 0, 0]    100\n[0, 0, 0, 0, 0, 0, 0, 0, 0, 0, 0, 0, 0, 0, 0, 0, 1, 0, 0, 0, 0, 0, 0, 0, 0, 0, 0, 0, 0, 0]    100\n[0, 0, 0, 0, 0, 0, 0, 0, 0, 0, 1, 0, 0, 0, 0, 0, 0, 0, 0, 0, 0, 0, 0, 0, 0, 0, 0, 0, 0, 0]    100\n[0, 0, 0, 0, 0, 0, 0, 0, 0, 0, 0, 0, 0, 0, 0, 0, 0, 0, 0, 0, 0, 0, 0, 0, 0, 0, 1, 0, 0, 0]    100\n[0, 0, 0, 0, 0, 0, 0, 0, 0, 0, 0, 0, 0, 0, 0, 0, 0, 0, 0, 0, 0, 0, 1, 0, 0, 0, 0, 0, 0, 0]    100\n[0, 0, 0, 0, 0, 0, 0, 0, 0, 0, 0, 0, 1, 0, 0, 0, 0, 0, 0, 0, 0, 0, 0, 0, 0, 0, 0, 0, 0, 0]    100\n[0, 1, 0, 0, 0, 0, 0, 0, 0, 0, 0, 0, 0, 0, 0, 0, 0, 0, 0, 0, 0, 0, 0, 0, 0, 0, 0, 0, 0, 0]    100\n[0, 0, 0, 0, 0, 0, 0, 0, 0, 0, 0, 0, 0, 0, 0, 0, 0, 0, 1, 0, 0, 0, 0, 0, 0, 0, 0, 0, 0, 0]    100\n[0, 0, 0, 0, 1, 0, 0, 0, 0, 0, 0, 0, 0, 0, 0, 0, 0, 0, 0, 0, 0, 0, 0, 0, 0, 0, 0, 0, 0, 0]    100\n[0, 0, 0, 0, 0, 0, 0, 0, 0, 0, 0, 0, 0, 1, 0, 0, 0, 0, 0, 0, 0, 0, 0, 0, 0, 0, 0, 0, 0, 0]    100\n[0, 0, 0, 0, 0, 0, 0, 0, 0, 1, 0, 0, 0, 0, 0, 0, 0, 0, 0, 0, 0, 0, 0, 0, 0, 0, 0, 0, 0, 0]    100\n[0, 0, 0, 0, 0, 0, 0, 0, 0, 0, 0, 1, 0, 0, 0, 0, 0, 0, 0, 0, 0, 0, 0, 0, 0, 0, 0, 0, 0, 0]    100\n[0, 0, 0, 0, 0, 0, 0, 0, 0, 0, 0, 0, 0, 0, 0, 1, 0, 0, 0, 0, 0, 0, 0, 0, 0, 0, 0, 0, 0, 0]    100\n[0, 0, 0, 0, 0, 0, 0, 0, 0, 0, 0, 0, 0, 0, 0, 0, 0, 1, 0, 0, 0, 0, 0, 0, 0, 0, 0, 0, 0, 0]    100\n[0, 0, 0, 0, 0, 0, 0, 0, 0, 0, 0, 0, 0, 0, 0, 0, 0, 0, 0, 0, 0, 0, 0, 0, 0, 0, 0, 1, 0, 0]    100\n[0, 0, 0, 0, 0, 0, 0, 1, 0, 0, 0, 0, 0, 0, 0, 0, 0, 0, 0, 0, 0, 0, 0, 0, 0, 0, 0, 0, 0, 0]    100\n[0, 0, 0, 0, 0, 0, 0, 0, 0, 0, 0, 0, 0, 0, 0, 0, 0, 0, 0, 0, 0, 0, 0, 0, 0, 0, 0, 0, 0, 1]    100\n[0, 0, 0, 0, 0, 1, 0, 0, 0, 0, 0, 0, 0, 0, 0, 0, 0, 0, 0, 0, 0, 0, 0, 0, 0, 0, 0, 0, 0, 0]    100\n[0, 0, 0, 0, 0, 0, 1, 0, 0, 0, 0, 0, 0, 0, 0, 0, 0, 0, 0, 0, 0, 0, 0, 0, 0, 0, 0, 0, 0, 0]    100\n[0, 0, 0, 0, 0, 0, 0, 0, 0, 0, 0, 0, 0, 0, 0, 0, 0, 0, 0, 0, 0, 0, 0, 0, 0, 0, 0, 0, 1, 0]    100\n[0, 0, 0, 0, 0, 0, 0, 0, 0, 0, 0, 0, 0, 0, 0, 0, 0, 0, 0, 0, 0, 0, 0, 0, 1, 0, 0, 0, 0, 0]    100\n[1, 0, 0, 0, 0, 0, 0, 0, 0, 0, 0, 0, 0, 0, 0, 0, 0, 0, 0, 0, 0, 0, 0, 0, 0, 0, 0, 0, 0, 0]    100\n[0, 0, 0, 0, 0, 0, 0, 0, 0, 0, 0, 0, 0, 0, 0, 0, 0, 0, 0, 0, 1, 0, 0, 0, 0, 0, 0, 0, 0, 0]    100\n[0, 0, 0, 0, 0, 0, 0, 0, 1, 0, 0, 0, 0, 0, 0, 0, 0, 0, 0, 0, 0, 0, 0, 0, 0, 0, 0, 0, 0, 0]    100\n[0, 0, 0, 0, 0, 0, 0, 0, 0, 0, 0, 0, 0, 0, 0, 0, 0, 0, 0, 0, 0, 1, 0, 0, 0, 0, 0, 0, 0, 0]    100\n[0, 0, 0, 0, 0, 0, 0, 0, 0, 0, 0, 0, 0, 0, 0, 0, 0, 0, 0, 0, 0, 0, 0, 1, 0, 0, 0, 0, 0, 0]    100\n[0, 0, 0, 0, 0, 0, 0, 0, 0, 0, 0, 0, 0, 0, 1, 0, 0, 0, 0, 0, 0, 0, 0, 0, 0, 0, 0, 0, 0, 0]    100\n[0, 0, 0, 1, 0, 0, 0, 0, 0, 0, 0, 0, 0, 0, 0, 0, 0, 0, 0, 0, 0, 0, 0, 0, 0, 0, 0, 0, 0, 0]    100\nName: label, dtype: int64"
     },
     "execution_count": 101,
     "metadata": {},
     "output_type": "execute_result"
    }
   ],
   "source": [
    "val_ds['label'].value_counts()"
   ],
   "metadata": {
    "collapsed": false,
    "ExecuteTime": {
     "start_time": "2023-04-12T22:39:08.368230Z",
     "end_time": "2023-04-12T22:39:08.382734Z"
    }
   }
  },
  {
   "cell_type": "code",
   "execution_count": 103,
   "outputs": [],
   "source": [
    "prefix = SAMPLE_FILE_NAME.split('.')[0]\n",
    "\n",
    "test_data.to_csv(f'{prefix}_test.csv', index=False)\n",
    "train_ds.to_csv(f'{prefix}_train.csv', index=False)\n",
    "val_ds.to_csv(f'{prefix}_val.csv', index=False)\n"
   ],
   "metadata": {
    "collapsed": false,
    "ExecuteTime": {
     "start_time": "2023-04-12T22:40:31.540903Z",
     "end_time": "2023-04-12T22:40:32.519559Z"
    }
   }
  },
  {
   "cell_type": "code",
   "execution_count": 19,
   "outputs": [
    {
     "data": {
      "text/plain": "      index       id                                               text  \\\n0         6     PG54  the marvelous land of oz being an account of t...   \n1        23    PG128  the arabian nights entertainments selected and...   \n2        41    PG244  a study in scarlet by conan doyle original tra...   \n3        43    PG280  transcribed from the chatto windus edition by ...   \n4        49    PG310  before adam by jack london these are our ances...   \n...     ...      ...                                                ...   \n1484   4233  PG56602  illustration katy victory frank hunter peril b...   \n1485   4236  PG56686  tom temple s career by horatio alger jr author...   \n1486   4239  PG56767  illustration yours truly g a henty those other...   \n1487   4245  PG56973  generously made available by the internet arch...   \n1488   4247  PG57481  produced from images generously made available...   \n\n                             author  \n0      Baum, L. Frank (Lyman Frank)  \n1                      Lang, Andrew  \n2               Doyle, Arthur Conan  \n3           Stevenson, Robert Louis  \n4                      London, Jack  \n...                             ...  \n1484            Alger, Horatio, Jr.  \n1485            Alger, Horatio, Jr.  \n1486   Henty, G. A. (George Alfred)  \n1487            Alger, Horatio, Jr.  \n1488  Wells, H. G. (Herbert George)  \n\n[1489 rows x 4 columns]",
      "text/html": "<div>\n<style scoped>\n    .dataframe tbody tr th:only-of-type {\n        vertical-align: middle;\n    }\n\n    .dataframe tbody tr th {\n        vertical-align: top;\n    }\n\n    .dataframe thead th {\n        text-align: right;\n    }\n</style>\n<table border=\"1\" class=\"dataframe\">\n  <thead>\n    <tr style=\"text-align: right;\">\n      <th></th>\n      <th>index</th>\n      <th>id</th>\n      <th>text</th>\n      <th>author</th>\n    </tr>\n  </thead>\n  <tbody>\n    <tr>\n      <th>0</th>\n      <td>6</td>\n      <td>PG54</td>\n      <td>the marvelous land of oz being an account of t...</td>\n      <td>Baum, L. Frank (Lyman Frank)</td>\n    </tr>\n    <tr>\n      <th>1</th>\n      <td>23</td>\n      <td>PG128</td>\n      <td>the arabian nights entertainments selected and...</td>\n      <td>Lang, Andrew</td>\n    </tr>\n    <tr>\n      <th>2</th>\n      <td>41</td>\n      <td>PG244</td>\n      <td>a study in scarlet by conan doyle original tra...</td>\n      <td>Doyle, Arthur Conan</td>\n    </tr>\n    <tr>\n      <th>3</th>\n      <td>43</td>\n      <td>PG280</td>\n      <td>transcribed from the chatto windus edition by ...</td>\n      <td>Stevenson, Robert Louis</td>\n    </tr>\n    <tr>\n      <th>4</th>\n      <td>49</td>\n      <td>PG310</td>\n      <td>before adam by jack london these are our ances...</td>\n      <td>London, Jack</td>\n    </tr>\n    <tr>\n      <th>...</th>\n      <td>...</td>\n      <td>...</td>\n      <td>...</td>\n      <td>...</td>\n    </tr>\n    <tr>\n      <th>1484</th>\n      <td>4233</td>\n      <td>PG56602</td>\n      <td>illustration katy victory frank hunter peril b...</td>\n      <td>Alger, Horatio, Jr.</td>\n    </tr>\n    <tr>\n      <th>1485</th>\n      <td>4236</td>\n      <td>PG56686</td>\n      <td>tom temple s career by horatio alger jr author...</td>\n      <td>Alger, Horatio, Jr.</td>\n    </tr>\n    <tr>\n      <th>1486</th>\n      <td>4239</td>\n      <td>PG56767</td>\n      <td>illustration yours truly g a henty those other...</td>\n      <td>Henty, G. A. (George Alfred)</td>\n    </tr>\n    <tr>\n      <th>1487</th>\n      <td>4245</td>\n      <td>PG56973</td>\n      <td>generously made available by the internet arch...</td>\n      <td>Alger, Horatio, Jr.</td>\n    </tr>\n    <tr>\n      <th>1488</th>\n      <td>4247</td>\n      <td>PG57481</td>\n      <td>produced from images generously made available...</td>\n      <td>Wells, H. G. (Herbert George)</td>\n    </tr>\n  </tbody>\n</table>\n<p>1489 rows × 4 columns</p>\n</div>"
     },
     "execution_count": 19,
     "metadata": {},
     "output_type": "execute_result"
    }
   ],
   "source": [
    "svm_test_df = pd.read_csv('../dataset/svm_data/test.csv')\n",
    "svm_train_df = pd.read_csv('../dataset/svm_data/train.csv')\n",
    "svm_val_df = pd.read_csv('../dataset/svm_data/val.csv')\n",
    "#svm_val_df['text_len']=svm_val_df['text'].apply(len)\n",
    "#svm_val_df.sort_values(by=['text_len','author'])\n",
    "#svm_data = pd.concat([svm_test_df, svm_train_df, svm_val_df], ignore_index=True)\n",
    "svm_data = pd.concat([svm_test_df,svm_val_df,svm_train_df], ignore_index=True)\n",
    "svm_data"
   ],
   "metadata": {
    "collapsed": false,
    "ExecuteTime": {
     "start_time": "2023-04-13T12:38:18.822470Z",
     "end_time": "2023-04-13T12:38:22.490165Z"
    }
   }
  },
  {
   "cell_type": "code",
   "execution_count": 20,
   "outputs": [
    {
     "data": {
      "text/plain": "                                          text_len\nauthor                                            \nHawthorne, Nathaniel                       1234178\nShakespeare, William                       1452778\nTwain, Mark                                1607657\nParker, Gilbert                            1688200\nBaum, L. Frank (Lyman Frank)               2111683\nHarte, Bret                                2165029\nAlger, Horatio, Jr.                        2469596\nLytton, Edward Bulwer Lytton, Baron        2648660\nMotley, John Lothrop                       2680903\nStratemeyer, Edward                        2787049\nDoyle, Arthur Conan                        2868758\nLang, Andrew                               2876892\nLondon, Jack                               2920030\nOptic, Oliver                              3025798\nBallantyne, R. M. (Robert Michael)         3072867\nWarner, Charles Dudley                     3242475\nStevenson, Robert Louis                    3335860\nMeade, L. T.                               3544253\nKingston, William Henry Giles              3633463\nWells, H. G. (Herbert George)              3635435\nOppenheim, E. Phillips (Edward Phillips)   3713023\nChurchill, Winston                         4143851\nMacDonald, George                          4217172\nBaring-Gould, S. (Sabine)                  4324713\nFenn, George Manville                      4736583\nMeredith, George                           4917690\nHenty, G. A. (George Alfred)               5096370\nOliphant, Mrs. (Margaret)                  5265986\nLever, Charles James                       5697039\nScott, Walter                              6388290",
      "text/html": "<div>\n<style scoped>\n    .dataframe tbody tr th:only-of-type {\n        vertical-align: middle;\n    }\n\n    .dataframe tbody tr th {\n        vertical-align: top;\n    }\n\n    .dataframe thead th {\n        text-align: right;\n    }\n</style>\n<table border=\"1\" class=\"dataframe\">\n  <thead>\n    <tr style=\"text-align: right;\">\n      <th></th>\n      <th>text_len</th>\n    </tr>\n    <tr>\n      <th>author</th>\n      <th></th>\n    </tr>\n  </thead>\n  <tbody>\n    <tr>\n      <th>Hawthorne, Nathaniel</th>\n      <td>1234178</td>\n    </tr>\n    <tr>\n      <th>Shakespeare, William</th>\n      <td>1452778</td>\n    </tr>\n    <tr>\n      <th>Twain, Mark</th>\n      <td>1607657</td>\n    </tr>\n    <tr>\n      <th>Parker, Gilbert</th>\n      <td>1688200</td>\n    </tr>\n    <tr>\n      <th>Baum, L. Frank (Lyman Frank)</th>\n      <td>2111683</td>\n    </tr>\n    <tr>\n      <th>Harte, Bret</th>\n      <td>2165029</td>\n    </tr>\n    <tr>\n      <th>Alger, Horatio, Jr.</th>\n      <td>2469596</td>\n    </tr>\n    <tr>\n      <th>Lytton, Edward Bulwer Lytton, Baron</th>\n      <td>2648660</td>\n    </tr>\n    <tr>\n      <th>Motley, John Lothrop</th>\n      <td>2680903</td>\n    </tr>\n    <tr>\n      <th>Stratemeyer, Edward</th>\n      <td>2787049</td>\n    </tr>\n    <tr>\n      <th>Doyle, Arthur Conan</th>\n      <td>2868758</td>\n    </tr>\n    <tr>\n      <th>Lang, Andrew</th>\n      <td>2876892</td>\n    </tr>\n    <tr>\n      <th>London, Jack</th>\n      <td>2920030</td>\n    </tr>\n    <tr>\n      <th>Optic, Oliver</th>\n      <td>3025798</td>\n    </tr>\n    <tr>\n      <th>Ballantyne, R. M. (Robert Michael)</th>\n      <td>3072867</td>\n    </tr>\n    <tr>\n      <th>Warner, Charles Dudley</th>\n      <td>3242475</td>\n    </tr>\n    <tr>\n      <th>Stevenson, Robert Louis</th>\n      <td>3335860</td>\n    </tr>\n    <tr>\n      <th>Meade, L. T.</th>\n      <td>3544253</td>\n    </tr>\n    <tr>\n      <th>Kingston, William Henry Giles</th>\n      <td>3633463</td>\n    </tr>\n    <tr>\n      <th>Wells, H. G. (Herbert George)</th>\n      <td>3635435</td>\n    </tr>\n    <tr>\n      <th>Oppenheim, E. Phillips (Edward Phillips)</th>\n      <td>3713023</td>\n    </tr>\n    <tr>\n      <th>Churchill, Winston</th>\n      <td>4143851</td>\n    </tr>\n    <tr>\n      <th>MacDonald, George</th>\n      <td>4217172</td>\n    </tr>\n    <tr>\n      <th>Baring-Gould, S. (Sabine)</th>\n      <td>4324713</td>\n    </tr>\n    <tr>\n      <th>Fenn, George Manville</th>\n      <td>4736583</td>\n    </tr>\n    <tr>\n      <th>Meredith, George</th>\n      <td>4917690</td>\n    </tr>\n    <tr>\n      <th>Henty, G. A. (George Alfred)</th>\n      <td>5096370</td>\n    </tr>\n    <tr>\n      <th>Oliphant, Mrs. (Margaret)</th>\n      <td>5265986</td>\n    </tr>\n    <tr>\n      <th>Lever, Charles James</th>\n      <td>5697039</td>\n    </tr>\n    <tr>\n      <th>Scott, Walter</th>\n      <td>6388290</td>\n    </tr>\n  </tbody>\n</table>\n</div>"
     },
     "execution_count": 20,
     "metadata": {},
     "output_type": "execute_result"
    }
   ],
   "source": [
    "def get_x(x):\n",
    "    return len(x.split())\n",
    "\n",
    "\n",
    "svm_data['text_len'] = svm_data['text'].apply(get_x)\n",
    "svm_data.groupby(by='author', group_keys=False).agg({'text_len': 'sum'}).sort_values(by='text_len')"
   ],
   "metadata": {
    "collapsed": false,
    "ExecuteTime": {
     "start_time": "2023-04-13T12:38:27.405121Z",
     "end_time": "2023-04-13T12:38:30.254583Z"
    }
   }
  },
  {
   "cell_type": "code",
   "execution_count": 21,
   "outputs": [
    {
     "data": {
      "text/plain": "      index       id                                               text  \\\n557    3100  PG24019  excelsior by bret harte presented by enoch mor...   \n1231   3342  PG28850  instructions this is a multi volume index file...   \n1227   3337  PG28803  transcriber note this is a multi volume index ...   \n181    1945   PG7548  quotes and images from harry lorrequer the con...   \n990    2290   PG9253  the doliver romance and other pieces tales and...   \n...     ...      ...                                                ...   \n392    3891  PG45368  the outline of history wells has also written ...   \n792    1247   PG4836  motley history of the netherlands pg edition t...   \n736     834   PG3136  the entire project gutenberg works of charles ...   \n850    1419   PG5400  the complete pg edition of the works of winsto...   \n106    1195   PG4500  the complete project gutenberg works of george...   \n\n                             author  text_len  \\\n557                     Harte, Bret       301   \n1231           Motley, John Lothrop       344   \n1227                    Twain, Mark       346   \n181            Lever, Charles James      1135   \n990            Hawthorne, Nathaniel      1173   \n...                             ...       ...   \n392   Wells, H. G. (Herbert George)    438706   \n792            Motley, John Lothrop    559927   \n736          Warner, Charles Dudley   1013999   \n850              Churchill, Winston   1653612   \n106                Meredith, George   2542494   \n\n                                                  label  \n557   [0, 0, 0, 0, 0, 0, 0, 1, 0, 0, 0, 0, 0, 0, 0, ...  \n1231  [0, 0, 0, 0, 0, 0, 0, 0, 0, 0, 0, 0, 0, 0, 0, ...  \n1227  [0, 0, 0, 0, 0, 0, 0, 0, 0, 0, 0, 0, 0, 0, 0, ...  \n181   [0, 0, 0, 0, 0, 0, 0, 0, 0, 0, 0, 0, 1, 0, 0, ...  \n990   [0, 0, 0, 0, 0, 0, 0, 0, 1, 0, 0, 0, 0, 0, 0, ...  \n...                                                 ...  \n392   [0, 0, 0, 0, 0, 0, 0, 0, 0, 0, 0, 0, 0, 0, 0, ...  \n792   [0, 0, 0, 0, 0, 0, 0, 0, 0, 0, 0, 0, 0, 0, 0, ...  \n736   [0, 0, 0, 0, 0, 0, 0, 0, 0, 0, 0, 0, 0, 0, 0, ...  \n850   [0, 0, 0, 0, 1, 0, 0, 0, 0, 0, 0, 0, 0, 0, 0, ...  \n106   [0, 0, 0, 0, 0, 0, 0, 0, 0, 0, 0, 0, 0, 0, 0, ...  \n\n[1489 rows x 6 columns]",
      "text/html": "<div>\n<style scoped>\n    .dataframe tbody tr th:only-of-type {\n        vertical-align: middle;\n    }\n\n    .dataframe tbody tr th {\n        vertical-align: top;\n    }\n\n    .dataframe thead th {\n        text-align: right;\n    }\n</style>\n<table border=\"1\" class=\"dataframe\">\n  <thead>\n    <tr style=\"text-align: right;\">\n      <th></th>\n      <th>index</th>\n      <th>id</th>\n      <th>text</th>\n      <th>author</th>\n      <th>text_len</th>\n      <th>label</th>\n    </tr>\n  </thead>\n  <tbody>\n    <tr>\n      <th>557</th>\n      <td>3100</td>\n      <td>PG24019</td>\n      <td>excelsior by bret harte presented by enoch mor...</td>\n      <td>Harte, Bret</td>\n      <td>301</td>\n      <td>[0, 0, 0, 0, 0, 0, 0, 1, 0, 0, 0, 0, 0, 0, 0, ...</td>\n    </tr>\n    <tr>\n      <th>1231</th>\n      <td>3342</td>\n      <td>PG28850</td>\n      <td>instructions this is a multi volume index file...</td>\n      <td>Motley, John Lothrop</td>\n      <td>344</td>\n      <td>[0, 0, 0, 0, 0, 0, 0, 0, 0, 0, 0, 0, 0, 0, 0, ...</td>\n    </tr>\n    <tr>\n      <th>1227</th>\n      <td>3337</td>\n      <td>PG28803</td>\n      <td>transcriber note this is a multi volume index ...</td>\n      <td>Twain, Mark</td>\n      <td>346</td>\n      <td>[0, 0, 0, 0, 0, 0, 0, 0, 0, 0, 0, 0, 0, 0, 0, ...</td>\n    </tr>\n    <tr>\n      <th>181</th>\n      <td>1945</td>\n      <td>PG7548</td>\n      <td>quotes and images from harry lorrequer the con...</td>\n      <td>Lever, Charles James</td>\n      <td>1135</td>\n      <td>[0, 0, 0, 0, 0, 0, 0, 0, 0, 0, 0, 0, 1, 0, 0, ...</td>\n    </tr>\n    <tr>\n      <th>990</th>\n      <td>2290</td>\n      <td>PG9253</td>\n      <td>the doliver romance and other pieces tales and...</td>\n      <td>Hawthorne, Nathaniel</td>\n      <td>1173</td>\n      <td>[0, 0, 0, 0, 0, 0, 0, 0, 1, 0, 0, 0, 0, 0, 0, ...</td>\n    </tr>\n    <tr>\n      <th>...</th>\n      <td>...</td>\n      <td>...</td>\n      <td>...</td>\n      <td>...</td>\n      <td>...</td>\n      <td>...</td>\n    </tr>\n    <tr>\n      <th>392</th>\n      <td>3891</td>\n      <td>PG45368</td>\n      <td>the outline of history wells has also written ...</td>\n      <td>Wells, H. G. (Herbert George)</td>\n      <td>438706</td>\n      <td>[0, 0, 0, 0, 0, 0, 0, 0, 0, 0, 0, 0, 0, 0, 0, ...</td>\n    </tr>\n    <tr>\n      <th>792</th>\n      <td>1247</td>\n      <td>PG4836</td>\n      <td>motley history of the netherlands pg edition t...</td>\n      <td>Motley, John Lothrop</td>\n      <td>559927</td>\n      <td>[0, 0, 0, 0, 0, 0, 0, 0, 0, 0, 0, 0, 0, 0, 0, ...</td>\n    </tr>\n    <tr>\n      <th>736</th>\n      <td>834</td>\n      <td>PG3136</td>\n      <td>the entire project gutenberg works of charles ...</td>\n      <td>Warner, Charles Dudley</td>\n      <td>1013999</td>\n      <td>[0, 0, 0, 0, 0, 0, 0, 0, 0, 0, 0, 0, 0, 0, 0, ...</td>\n    </tr>\n    <tr>\n      <th>850</th>\n      <td>1419</td>\n      <td>PG5400</td>\n      <td>the complete pg edition of the works of winsto...</td>\n      <td>Churchill, Winston</td>\n      <td>1653612</td>\n      <td>[0, 0, 0, 0, 1, 0, 0, 0, 0, 0, 0, 0, 0, 0, 0, ...</td>\n    </tr>\n    <tr>\n      <th>106</th>\n      <td>1195</td>\n      <td>PG4500</td>\n      <td>the complete project gutenberg works of george...</td>\n      <td>Meredith, George</td>\n      <td>2542494</td>\n      <td>[0, 0, 0, 0, 0, 0, 0, 0, 0, 0, 0, 0, 0, 0, 0, ...</td>\n    </tr>\n  </tbody>\n</table>\n<p>1489 rows × 6 columns</p>\n</div>"
     },
     "execution_count": 21,
     "metadata": {},
     "output_type": "execute_result"
    }
   ],
   "source": [
    "one_hot = pd.get_dummies(svm_data['author'])\n",
    "save_author_order(one_hot)\n",
    "# convert true/false to 1/0\n",
    "one_hot = one_hot.astype(int)\n",
    "svm_data['label'] = one_hot.apply(onehot_to_vertor, axis=1)\n",
    "svm_data.sort_values(by='text_len')"
   ],
   "metadata": {
    "collapsed": false,
    "ExecuteTime": {
     "start_time": "2023-04-13T12:38:32.022665Z",
     "end_time": "2023-04-13T12:38:32.125072Z"
    }
   }
  },
  {
   "cell_type": "code",
   "execution_count": 22,
   "outputs": [
    {
     "name": "stderr",
     "output_type": "stream",
     "text": [
      "1489it [00:04, 309.55it/s]\n"
     ]
    }
   ],
   "source": [
    "chunk_l = []\n",
    "for index, row in tqdm(svm_data.iterrows()):\n",
    "    doc = row['text'].split()\n",
    "    chunk_list = []\n",
    "    #sublist_length = 20\n",
    "    for i in range(0, len(doc), chunk_size):\n",
    "        sub_doc = ' '.join(doc[i: i + chunk_size])\n",
    "        new_row = {'label': row['label'], 'text': sub_doc, 'author': row['author']}\n",
    "        chunk_l.append(new_row)\n",
    "    # random_chunk = random.sample(chunk_list, sublist_length)\n",
    "    # for i in random_chunk:\n",
    "    #     sub_doc = ' '.join(doc[i: i + chunk_size])\n",
    "    #     new_row = {'label': row['label'], 'text': sub_doc, 'author': row['author']}\n",
    "    #     chunk_l.append(new_row)\n",
    "    #chunk_df = pd.concat([chunk_df,pd.DataFrame(new_row)],ignore_index=True)\n",
    "svm_data2 = pd.DataFrame(chunk_l)\n"
   ],
   "metadata": {
    "collapsed": false,
    "ExecuteTime": {
     "start_time": "2023-04-13T12:38:38.386901Z",
     "end_time": "2023-04-13T12:38:43.283920Z"
    }
   }
  },
  {
   "cell_type": "code",
   "execution_count": 23,
   "outputs": [
    {
     "data": {
      "text/plain": "author\nScott, Walter                               12505\nLever, Charles James                        11153\nOliphant, Mrs. (Margaret)                   10312\nHenty, G. A. (George Alfred)                 9981\nMeredith, George                             9630\nFenn, George Manville                        9277\nBaring-Gould, S. (Sabine)                    8474\nMacDonald, George                            8261\nChurchill, Winston                           8115\nOppenheim, E. Phillips (Edward Phillips)     7275\nWells, H. G. (Herbert George)                7124\nKingston, William Henry Giles                7122\nMeade, L. T.                                 6949\nStevenson, Robert Louis                      6540\nWarner, Charles Dudley                       6356\nBallantyne, R. M. (Robert Michael)           6025\nOptic, Oliver                                5934\nLondon, Jack                                 5727\nLang, Andrew                                 5643\nDoyle, Arthur Conan                          5627\nStratemeyer, Edward                          5467\nMotley, John Lothrop                         5259\nLytton, Edward Bulwer Lytton, Baron          5197\nAlger, Horatio, Jr.                          4850\nHarte, Bret                                  4256\nBaum, L. Frank (Lyman Frank)                 4150\nParker, Gilbert                              3323\nTwain, Mark                                  3161\nShakespeare, William                         2860\nHawthorne, Nathaniel                         2431\ndtype: int64"
     },
     "execution_count": 23,
     "metadata": {},
     "output_type": "execute_result"
    }
   ],
   "source": [
    "svm_data2.value_counts('author')\n",
    "#svm_data2.to_csv('svm_chopped_for_eval.csv')"
   ],
   "metadata": {
    "collapsed": false,
    "ExecuteTime": {
     "start_time": "2023-04-13T12:38:48.610567Z",
     "end_time": "2023-04-13T12:38:48.641755Z"
    }
   }
  },
  {
   "cell_type": "code",
   "execution_count": 24,
   "outputs": [
    {
     "data": {
      "text/plain": "                                                    label  \\\n193107  [1, 0, 0, 0, 0, 0, 0, 0, 0, 0, 0, 0, 0, 0, 0, ...   \n75100   [1, 0, 0, 0, 0, 0, 0, 0, 0, 0, 0, 0, 0, 0, 0, ...   \n61646   [1, 0, 0, 0, 0, 0, 0, 0, 0, 0, 0, 0, 0, 0, 0, ...   \n198900  [1, 0, 0, 0, 0, 0, 0, 0, 0, 0, 0, 0, 0, 0, 0, ...   \n74499   [1, 0, 0, 0, 0, 0, 0, 0, 0, 0, 0, 0, 0, 0, 0, ...   \n...                                                   ...   \n55498   [0, 0, 0, 0, 0, 0, 0, 0, 0, 0, 0, 0, 0, 0, 0, ...   \n63923   [0, 0, 0, 0, 0, 0, 0, 0, 0, 0, 0, 0, 0, 0, 0, ...   \n81106   [0, 0, 0, 0, 0, 0, 0, 0, 0, 0, 0, 0, 0, 0, 0, ...   \n63945   [0, 0, 0, 0, 0, 0, 0, 0, 0, 0, 0, 0, 0, 0, 0, ...   \n55128   [0, 0, 0, 0, 0, 0, 0, 0, 0, 0, 0, 0, 0, 0, 0, ...   \n\n                                                     text  \\\n193107  in his vest pocket as a matter of form but did...   \n75100   equally to the bullets of friends and foes tol...   \n61646   so cruelly you will not wonder that all this s...   \n198900  with them i do want to carry them around with ...   \n74499   me i pretty comfortable though i did more to g...   \n...                                                   ...   \n55498   could destroy it it was a return to a state of...   \n63923   to europe she was america to america she was t...   \n81106   would they fill a position which from the natu...   \n63945   hurt in the pitching up of the ship during the...   \n55128   retook naples from the greeks the goths protec...   \n\n                               author  \n193107            Alger, Horatio, Jr.  \n75100             Alger, Horatio, Jr.  \n61646             Alger, Horatio, Jr.  \n198900            Alger, Horatio, Jr.  \n74499             Alger, Horatio, Jr.  \n...                               ...  \n55498   Wells, H. G. (Herbert George)  \n63923   Wells, H. G. (Herbert George)  \n81106   Wells, H. G. (Herbert George)  \n63945   Wells, H. G. (Herbert George)  \n55128   Wells, H. G. (Herbert George)  \n\n[60000 rows x 3 columns]",
      "text/html": "<div>\n<style scoped>\n    .dataframe tbody tr th:only-of-type {\n        vertical-align: middle;\n    }\n\n    .dataframe tbody tr th {\n        vertical-align: top;\n    }\n\n    .dataframe thead th {\n        text-align: right;\n    }\n</style>\n<table border=\"1\" class=\"dataframe\">\n  <thead>\n    <tr style=\"text-align: right;\">\n      <th></th>\n      <th>label</th>\n      <th>text</th>\n      <th>author</th>\n    </tr>\n  </thead>\n  <tbody>\n    <tr>\n      <th>193107</th>\n      <td>[1, 0, 0, 0, 0, 0, 0, 0, 0, 0, 0, 0, 0, 0, 0, ...</td>\n      <td>in his vest pocket as a matter of form but did...</td>\n      <td>Alger, Horatio, Jr.</td>\n    </tr>\n    <tr>\n      <th>75100</th>\n      <td>[1, 0, 0, 0, 0, 0, 0, 0, 0, 0, 0, 0, 0, 0, 0, ...</td>\n      <td>equally to the bullets of friends and foes tol...</td>\n      <td>Alger, Horatio, Jr.</td>\n    </tr>\n    <tr>\n      <th>61646</th>\n      <td>[1, 0, 0, 0, 0, 0, 0, 0, 0, 0, 0, 0, 0, 0, 0, ...</td>\n      <td>so cruelly you will not wonder that all this s...</td>\n      <td>Alger, Horatio, Jr.</td>\n    </tr>\n    <tr>\n      <th>198900</th>\n      <td>[1, 0, 0, 0, 0, 0, 0, 0, 0, 0, 0, 0, 0, 0, 0, ...</td>\n      <td>with them i do want to carry them around with ...</td>\n      <td>Alger, Horatio, Jr.</td>\n    </tr>\n    <tr>\n      <th>74499</th>\n      <td>[1, 0, 0, 0, 0, 0, 0, 0, 0, 0, 0, 0, 0, 0, 0, ...</td>\n      <td>me i pretty comfortable though i did more to g...</td>\n      <td>Alger, Horatio, Jr.</td>\n    </tr>\n    <tr>\n      <th>...</th>\n      <td>...</td>\n      <td>...</td>\n      <td>...</td>\n    </tr>\n    <tr>\n      <th>55498</th>\n      <td>[0, 0, 0, 0, 0, 0, 0, 0, 0, 0, 0, 0, 0, 0, 0, ...</td>\n      <td>could destroy it it was a return to a state of...</td>\n      <td>Wells, H. G. (Herbert George)</td>\n    </tr>\n    <tr>\n      <th>63923</th>\n      <td>[0, 0, 0, 0, 0, 0, 0, 0, 0, 0, 0, 0, 0, 0, 0, ...</td>\n      <td>to europe she was america to america she was t...</td>\n      <td>Wells, H. G. (Herbert George)</td>\n    </tr>\n    <tr>\n      <th>81106</th>\n      <td>[0, 0, 0, 0, 0, 0, 0, 0, 0, 0, 0, 0, 0, 0, 0, ...</td>\n      <td>would they fill a position which from the natu...</td>\n      <td>Wells, H. G. (Herbert George)</td>\n    </tr>\n    <tr>\n      <th>63945</th>\n      <td>[0, 0, 0, 0, 0, 0, 0, 0, 0, 0, 0, 0, 0, 0, 0, ...</td>\n      <td>hurt in the pitching up of the ship during the...</td>\n      <td>Wells, H. G. (Herbert George)</td>\n    </tr>\n    <tr>\n      <th>55128</th>\n      <td>[0, 0, 0, 0, 0, 0, 0, 0, 0, 0, 0, 0, 0, 0, 0, ...</td>\n      <td>retook naples from the greeks the goths protec...</td>\n      <td>Wells, H. G. (Herbert George)</td>\n    </tr>\n  </tbody>\n</table>\n<p>60000 rows × 3 columns</p>\n</div>"
     },
     "execution_count": 24,
     "metadata": {},
     "output_type": "execute_result"
    }
   ],
   "source": [
    "svm_data3 = svm_data2.groupby('author').sample(n=2000, random_state=42)\n",
    "svm_data3"
   ],
   "metadata": {
    "collapsed": false,
    "ExecuteTime": {
     "start_time": "2023-04-13T12:38:50.326228Z",
     "end_time": "2023-04-13T12:38:50.375457Z"
    }
   }
  },
  {
   "cell_type": "code",
   "execution_count": 27,
   "outputs": [
    {
     "name": "stdout",
     "output_type": "stream",
     "text": [
      "Size of Test DataSet: 6000\n",
      "Size of Train DataSet: 48000\n",
      "Size of Validation DataSet: 6000\n",
      "Num of authors in test: 30\n",
      "Num of authors in tran: 30\n",
      "Num of authors in validation: 30\n"
     ]
    }
   ],
   "source": [
    "raw_train_data, test_data = train_test_split(svm_data3, test_size=0.1, shuffle=True, stratify=svm_data3['label'], random_state=42)\n",
    "train_ds, val_ds = train_test_split(raw_train_data, test_size=0.111111, shuffle=True,\n",
    "                                        stratify=raw_train_data['label'], random_state=42)\n",
    "\n",
    "print(\"Size of Test DataSet: \" + str(len(test_data)))\n",
    "print(\"Size of Train DataSet: \" + str(len(train_ds)))\n",
    "print(\"Size of Validation DataSet: \" + str(len(val_ds)))\n",
    "authors_in_test = test_data['label'].tolist()\n",
    "authors_in_test = [str(x) for x in authors_in_test]\n",
    "\n",
    "authors_in_train = train_ds['label'].tolist()\n",
    "authors_in_train = [str(x) for x in authors_in_train]\n",
    "\n",
    "authors_in_val = val_ds['label'].tolist()\n",
    "authors_in_val = [str(x) for x in authors_in_val]\n",
    "\n",
    "print(\"Num of authors in test: \" + str(len(set(authors_in_test))))\n",
    "print(\"Num of authors in tran: \" + str(len(set(authors_in_train))))\n",
    "print(\"Num of authors in validation: \" + str(len(set(authors_in_val))))\n",
    "\n",
    "\n",
    "test_data.to_csv(f'svm_2000_test.csv', index=False)\n",
    "train_ds.to_csv(f'svm_2000_train.csv', index=False)\n",
    "val_ds.to_csv(f'svm_2000_val.csv', index=False)\n"
   ],
   "metadata": {
    "collapsed": false,
    "ExecuteTime": {
     "start_time": "2023-04-13T12:39:51.607084Z",
     "end_time": "2023-04-13T12:39:54.391994Z"
    }
   }
  },
  {
   "cell_type": "code",
   "execution_count": null,
   "outputs": [],
   "source": [],
   "metadata": {
    "collapsed": false
   }
  }
 ],
 "metadata": {
  "kernelspec": {
   "display_name": "Python 3",
   "language": "python",
   "name": "python3"
  },
  "language_info": {
   "codemirror_mode": {
    "name": "ipython",
    "version": 3
   },
   "file_extension": ".py",
   "mimetype": "text/x-python",
   "name": "python",
   "nbconvert_exporter": "python",
   "pygments_lexer": "ipython3",
   "version": "3.11.0"
  },
  "orig_nbformat": 4
 },
 "nbformat": 4,
 "nbformat_minor": 2
}
